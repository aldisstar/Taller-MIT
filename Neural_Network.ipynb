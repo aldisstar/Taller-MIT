{
  "cells": [
    {
      "cell_type": "markdown",
      "metadata": {
        "id": "view-in-github",
        "colab_type": "text"
      },
      "source": [
        "<a href=\"https://colab.research.google.com/github/aldisstar/Taller-MIT/blob/main/Neural_Network.ipynb\" target=\"_parent\"><img src=\"https://colab.research.google.com/assets/colab-badge.svg\" alt=\"Open In Colab\"/></a>"
      ]
    },
    {
      "cell_type": "markdown",
      "metadata": {
        "id": "IGH_2R6-P1ff"
      },
      "source": [
        "In this exercise, we'll learn how to build various types of neural networks for regression and classification tasks\n",
        "\n",
        "Reference for PyTorch NN module: https://pytorch.org/docs/stable/nn.html"
      ]
    },
    {
      "cell_type": "markdown",
      "metadata": {
        "id": "Cu2TQe-eYX6C"
      },
      "source": [
        "# Build a Neural Network!\n",
        "\n",
        "\n"
      ]
    },
    {
      "cell_type": "code",
      "execution_count": null,
      "metadata": {
        "id": "1W5Z5e1TQDUi"
      },
      "outputs": [],
      "source": [
        "# ==============================================\n",
        "# 0. Module imports\n",
        "# ==============================================\n",
        "\n",
        "import torch\n",
        "from torch import nn, optim\n",
        "import torch.nn.functional as F\n",
        "from torch.utils.data import Dataset, DataLoader\n",
        "import torchvision\n",
        "from torchvision import datasets, transforms\n",
        "\n",
        "# data manipulation\n",
        "import pandas as pd\n",
        "import numpy as np\n",
        "import scipy.stats as st\n",
        "import scipy\n",
        "\n",
        "# plots\n",
        "%matplotlib inline\n",
        "import matplotlib\n",
        "import matplotlib.pyplot as plt\n",
        "import pylab as pl\n",
        "\n",
        "# classification algorithms\n",
        "from sklearn.linear_model import LogisticRegression\n",
        "from sklearn.ensemble import GradientBoostingClassifier\n",
        "from sklearn.preprocessing import StandardScaler\n",
        "\n",
        "# dimension reduction\n",
        "from sklearn.decomposition import PCA\n",
        "#from sklearn.datasets import load_boston\n",
        "\n",
        "# cross-validation\n",
        "from sklearn.model_selection import GridSearchCV\n",
        "from sklearn.model_selection import train_test_split\n",
        "from sklearn.model_selection import cross_val_predict\n",
        "from sklearn.model_selection import cross_val_score\n",
        "from sklearn.model_selection import KFold\n",
        "from sklearn import model_selection\n",
        "\n",
        "# parallel processing\n",
        "from joblib import Parallel, delayed\n",
        "import multiprocessing\n",
        "\n",
        "# model evaluation\n",
        "from sklearn.metrics import roc_auc_score\n",
        "from sklearn.metrics import accuracy_score\n",
        "from sklearn.metrics import precision_score\n",
        "from sklearn.metrics import recall_score\n",
        "from sklearn.metrics import confusion_matrix, classification_report\n",
        "\n",
        "import warnings\n",
        "warnings.filterwarnings(\"ignore\")\n",
        "\n",
        "device = \"cpu\""
      ]
    },
    {
      "cell_type": "markdown",
      "metadata": {
        "id": "vzgnLXI2ekT9"
      },
      "source": [
        "Some visualization code. Don't forget to run it!"
      ]
    },
    {
      "cell_type": "code",
      "execution_count": 1,
      "metadata": {
        "id": "AePREfpPkH2b",
        "cellView": "form"
      },
      "outputs": [],
      "source": [
        "#@title\n",
        "\n",
        "from graphviz import Digraph\n",
        "\n",
        "HAPPY_COLORS_PALETTE = [\"#01BEFE\", \"#FFDD00\", \"#FF7D00\", \"#FF006D\", \"#93D30C\", \"#8F00FF\"]\n",
        "def visualize(model):\n",
        "    hidden_layers = []\n",
        "    output_layer = 0\n",
        "    layers = [layer for layer in model.modules() if type(layer) == torch.nn.Linear]\n",
        "\n",
        "    # custom script to get all the shapes of a network's layers\n",
        "    sizes = list()\n",
        "    state_dict = net.state_dict()\n",
        "    for idx, key in enumerate(state_dict.keys()):\n",
        "      if key.endswith('weight'):\n",
        "        output_size, input_size = state_dict[key].shape\n",
        "        if idx == 0:\n",
        "          sizes.append(input_size)\n",
        "        sizes.append(output_size)\n",
        "\n",
        "    input_layer = sizes[0]\n",
        "    for layer in layers:\n",
        "        if layer == layers[0]:\n",
        "            hidden_layers.append(layer.out_features)\n",
        "\n",
        "        else:\n",
        "            if layer == layers[-1]:\n",
        "                output_layer = layer.out_features\n",
        "            else:\n",
        "                hidden_layers.append(layer.out_features)\n",
        "\n",
        "        last_layer_nodes = input_layer\n",
        "        nodes_up = input_layer\n",
        "\n",
        "    g = Digraph(\"g\", filename='visualization_tmp')\n",
        "    n = 0\n",
        "    g.graph_attr.update(splines=\"false\", nodesep=\"0.5\", ranksep=\"0\", rankdir='LR')\n",
        "    # Input Layer\n",
        "    with g.subgraph(name=\"cluster_input\") as c:\n",
        "          c.attr(color=\"white\")\n",
        "          for i in range(0, sizes[0]):\n",
        "              n += 1\n",
        "              c.node(str(n))\n",
        "              c.attr(labeljust=\"1\")\n",
        "              c.attr(label=\"Input Layer\", labelloc=\"bottom\")\n",
        "              c.attr(rank=\"same\")\n",
        "              c.node_attr.update(\n",
        "                  width=\"0.65\",\n",
        "                  style=\"filled\",\n",
        "                  shape=\"circle\",\n",
        "                  color=HAPPY_COLORS_PALETTE[3],\n",
        "                  fontcolor=HAPPY_COLORS_PALETTE[3],\n",
        "              )\n",
        "    for layer_idx in range(0, len(sizes) - 2):\n",
        "        with g.subgraph(name=\"cluster_\" + str(layer_idx + 1)) as c:\n",
        "            c.attr(color=\"white\")\n",
        "            c.attr(rank=\"same\")\n",
        "            label = f'Hidden Layer {layer_idx + 1}'\n",
        "            c.attr(labeljust=\"right\", labelloc=\"b\", label=label)\n",
        "            for j in range(0, hidden_layers[layer_idx]):\n",
        "                n += 1\n",
        "                c.node(\n",
        "                    str(n),\n",
        "                    width=\"0.65\",\n",
        "                    shape=\"circle\",\n",
        "                    style=\"filled\",\n",
        "                    color=HAPPY_COLORS_PALETTE[0],\n",
        "                    fontcolor=HAPPY_COLORS_PALETTE[0],\n",
        "                )\n",
        "                for h in range(nodes_up - last_layer_nodes + 1, nodes_up + 1):\n",
        "                    g.edge(str(h), str(n))\n",
        "            last_layer_nodes = hidden_layers[layer_idx]\n",
        "            nodes_up += hidden_layers[layer_idx]\n",
        "\n",
        "    with g.subgraph(name=\"cluster_output\") as c:\n",
        "        c.attr(color=\"white\")\n",
        "        c.attr(rank=\"same\")\n",
        "        c.attr(labeljust=\"1\")\n",
        "        for i in range(1, output_layer + 1):\n",
        "            n += 1\n",
        "            c.node(\n",
        "                str(n),\n",
        "                width=\"0.65\",\n",
        "                shape=\"circle\",\n",
        "                style=\"filled\",\n",
        "                color=HAPPY_COLORS_PALETTE[4],\n",
        "                fontcolor=HAPPY_COLORS_PALETTE[4],\n",
        "\n",
        "            )\n",
        "            for h in range(nodes_up - last_layer_nodes + 1, nodes_up + 1):\n",
        "                g.edge(str(h), str(n))\n",
        "        c.attr(label=\"Output Layer\", labelloc=\"bottom\")\n",
        "        c.node_attr.update(\n",
        "            color=\"#2ecc71\", style=\"filled\", fontcolor=\"#2ecc71\", shape=\"circle\"\n",
        "        )\n",
        "\n",
        "    g.attr(arrowShape=\"none\")\n",
        "    g.edge_attr.update(arrowhead=\"none\", color=\"#707070\", penwidth=\"2\")\n",
        "    g.view()\n",
        "    return g"
      ]
    },
    {
      "cell_type": "markdown",
      "metadata": {
        "id": "74r8XPCQT3Mg"
      },
      "source": [
        "# Section 1: NNs for regression"
      ]
    },
    {
      "cell_type": "markdown",
      "metadata": {
        "id": "sjUrE00qxsxm"
      },
      "source": [
        "## Boston housing dataset\n",
        "\n",
        "The **[Boston House Prices Regression dataset](https://www.machinecurve.com/index.php/2019/12/31/exploring-the-keras-datasets/#boston-housing-price-regression-dataset)** contains 506 observations that relate certain characteristics with the price of houses (in $1000s) in Boston in some period.\n",
        "\n",
        "Some observations about this data (from [this article](https://www.machinecurve.com/index.php/2019/12/31/exploring-the-keras-datasets/#boston-housing-price-regression-dataset)):\n",
        "\n",
        "The minimum house price is $5000, while the maximum house price is $50000. This may sound weird, but it’s not: house prices have risen over the decades, and the study that produced this data is from 1978 (Harrison & Rubinfeld, 1978). Actually, around 1978 prices of ≈$50.000 were quite the median value, so this dataset seems to contain relatively cheaper houses (or the Boston area was cheaper back then – I don’t know; Martin, 2017).\n",
        "\n",
        "The mean house price was $22.533.\n",
        "\n",
        "Variance in house prices is $84.587.\n",
        "\n",
        "These are variables available in the dataset:\n",
        "\n",
        "**CRIM** per capita crime rate by town\n",
        "\n",
        "**ZN** proportion of residential land zoned for lots over 25,000 sq.ft.\n",
        "\n",
        "**INDUS** proportion of non-retail business acres per town\n",
        "\n",
        "**CHAS** Charles River dummy variable (= 1 if tract bounds river; 0 otherwise)\n",
        "\n",
        "**NOX** nitric oxides concentration (parts per 10 million)\n",
        "\n",
        "**RM** average number of rooms per dwelling\n",
        "\n",
        "**AGE** proportion of owner-occupied units built prior to 1940\n",
        "\n",
        "**DIS** weighted distances to five Boston employment centres\n",
        "\n",
        "**RAD** index of accessibility to radial highways\n",
        "\n",
        "**TAX** full-value property-tax rate per $10,000\n",
        "\n",
        "**PTRATIO** pupil-teacher ratio by town\n",
        "\n",
        "**LSTAT** % lower status of the population\n",
        "\n",
        "**MEDV** Median value of owner-occupied homes in $1000’s\n",
        "\n",
        "Obviously, **MEDV** is the median value and hence the target variable.\n",
        "\n",
        "Note: the dataset used in this exercise was modified from the original after it was depreciated in scikit-learn for ethical reasons. We have removed the variable \"B\" which had information about racial differences by town. Please see more information from scikit learn here: https://scikit-learn.org/1.0/modules/generated/sklearn.datasets.load_boston.html. This dataset should be used to understand neural net functionality only."
      ]
    },
    {
      "cell_type": "markdown",
      "metadata": {
        "id": "XijQUwtR0jwp"
      },
      "source": [
        "### Load Boston dataset from Scikit-learn"
      ]
    },
    {
      "cell_type": "code",
      "execution_count": null,
      "metadata": {
        "colab": {
          "base_uri": "https://localhost:8080/",
          "height": 381
        },
        "id": "f_ptQE9M0jiQ",
        "outputId": "84a6d0bd-4414-45eb-9426-f3a83c21e746"
      },
      "outputs": [
        {
          "output_type": "display_data",
          "data": {
            "text/plain": [
              "      CRIM    ZN  INDUS  CHAS    NOX     RM    AGE     DIS  RAD  TAX  PTRATIO  \\\n",
              "0  0.00632  18.0   2.31     0  0.538  6.575   65.2  4.0900    1  296     15.3   \n",
              "1  0.02731   0.0   7.07     0  0.469  6.421   78.9  4.9671    2  242     17.8   \n",
              "2  0.02729   0.0   7.07     0  0.469  7.185   61.1  4.9671    2  242     17.8   \n",
              "3  0.03237   0.0   2.18     0  0.458  6.998   45.8  6.0622    3  222     18.7   \n",
              "4  0.06905   0.0   2.18     0  0.458  7.147   54.2  6.0622    3  222     18.7   \n",
              "5  0.02985   0.0   2.18     0  0.458  6.430   58.7  6.0622    3  222     18.7   \n",
              "6  0.08829  12.5   7.87     0  0.524  6.012   66.6  5.5605    5  311     15.2   \n",
              "7  0.14455  12.5   7.87     0  0.524  6.172   96.1  5.9505    5  311     15.2   \n",
              "8  0.21124  12.5   7.87     0  0.524  5.631  100.0  6.0821    5  311     15.2   \n",
              "9  0.17004  12.5   7.87     0  0.524  6.004   85.9  6.5921    5  311     15.2   \n",
              "\n",
              "   LSTAT  MEDV  \n",
              "0   4.98  24.0  \n",
              "1   9.14  21.6  \n",
              "2   4.03  34.7  \n",
              "3   2.94  33.4  \n",
              "4   5.33  36.2  \n",
              "5   5.21  28.7  \n",
              "6  12.43  22.9  \n",
              "7  19.15  27.1  \n",
              "8  29.93  16.5  \n",
              "9  17.10  18.9  "
            ],
            "text/html": [
              "\n",
              "  <div id=\"df-0e23480a-ead8-43cf-a34d-7571abaf6420\" class=\"colab-df-container\">\n",
              "    <div>\n",
              "<style scoped>\n",
              "    .dataframe tbody tr th:only-of-type {\n",
              "        vertical-align: middle;\n",
              "    }\n",
              "\n",
              "    .dataframe tbody tr th {\n",
              "        vertical-align: top;\n",
              "    }\n",
              "\n",
              "    .dataframe thead th {\n",
              "        text-align: right;\n",
              "    }\n",
              "</style>\n",
              "<table border=\"1\" class=\"dataframe\">\n",
              "  <thead>\n",
              "    <tr style=\"text-align: right;\">\n",
              "      <th></th>\n",
              "      <th>CRIM</th>\n",
              "      <th>ZN</th>\n",
              "      <th>INDUS</th>\n",
              "      <th>CHAS</th>\n",
              "      <th>NOX</th>\n",
              "      <th>RM</th>\n",
              "      <th>AGE</th>\n",
              "      <th>DIS</th>\n",
              "      <th>RAD</th>\n",
              "      <th>TAX</th>\n",
              "      <th>PTRATIO</th>\n",
              "      <th>LSTAT</th>\n",
              "      <th>MEDV</th>\n",
              "    </tr>\n",
              "  </thead>\n",
              "  <tbody>\n",
              "    <tr>\n",
              "      <th>0</th>\n",
              "      <td>0.00632</td>\n",
              "      <td>18.0</td>\n",
              "      <td>2.31</td>\n",
              "      <td>0</td>\n",
              "      <td>0.538</td>\n",
              "      <td>6.575</td>\n",
              "      <td>65.2</td>\n",
              "      <td>4.0900</td>\n",
              "      <td>1</td>\n",
              "      <td>296</td>\n",
              "      <td>15.3</td>\n",
              "      <td>4.98</td>\n",
              "      <td>24.0</td>\n",
              "    </tr>\n",
              "    <tr>\n",
              "      <th>1</th>\n",
              "      <td>0.02731</td>\n",
              "      <td>0.0</td>\n",
              "      <td>7.07</td>\n",
              "      <td>0</td>\n",
              "      <td>0.469</td>\n",
              "      <td>6.421</td>\n",
              "      <td>78.9</td>\n",
              "      <td>4.9671</td>\n",
              "      <td>2</td>\n",
              "      <td>242</td>\n",
              "      <td>17.8</td>\n",
              "      <td>9.14</td>\n",
              "      <td>21.6</td>\n",
              "    </tr>\n",
              "    <tr>\n",
              "      <th>2</th>\n",
              "      <td>0.02729</td>\n",
              "      <td>0.0</td>\n",
              "      <td>7.07</td>\n",
              "      <td>0</td>\n",
              "      <td>0.469</td>\n",
              "      <td>7.185</td>\n",
              "      <td>61.1</td>\n",
              "      <td>4.9671</td>\n",
              "      <td>2</td>\n",
              "      <td>242</td>\n",
              "      <td>17.8</td>\n",
              "      <td>4.03</td>\n",
              "      <td>34.7</td>\n",
              "    </tr>\n",
              "    <tr>\n",
              "      <th>3</th>\n",
              "      <td>0.03237</td>\n",
              "      <td>0.0</td>\n",
              "      <td>2.18</td>\n",
              "      <td>0</td>\n",
              "      <td>0.458</td>\n",
              "      <td>6.998</td>\n",
              "      <td>45.8</td>\n",
              "      <td>6.0622</td>\n",
              "      <td>3</td>\n",
              "      <td>222</td>\n",
              "      <td>18.7</td>\n",
              "      <td>2.94</td>\n",
              "      <td>33.4</td>\n",
              "    </tr>\n",
              "    <tr>\n",
              "      <th>4</th>\n",
              "      <td>0.06905</td>\n",
              "      <td>0.0</td>\n",
              "      <td>2.18</td>\n",
              "      <td>0</td>\n",
              "      <td>0.458</td>\n",
              "      <td>7.147</td>\n",
              "      <td>54.2</td>\n",
              "      <td>6.0622</td>\n",
              "      <td>3</td>\n",
              "      <td>222</td>\n",
              "      <td>18.7</td>\n",
              "      <td>5.33</td>\n",
              "      <td>36.2</td>\n",
              "    </tr>\n",
              "    <tr>\n",
              "      <th>5</th>\n",
              "      <td>0.02985</td>\n",
              "      <td>0.0</td>\n",
              "      <td>2.18</td>\n",
              "      <td>0</td>\n",
              "      <td>0.458</td>\n",
              "      <td>6.430</td>\n",
              "      <td>58.7</td>\n",
              "      <td>6.0622</td>\n",
              "      <td>3</td>\n",
              "      <td>222</td>\n",
              "      <td>18.7</td>\n",
              "      <td>5.21</td>\n",
              "      <td>28.7</td>\n",
              "    </tr>\n",
              "    <tr>\n",
              "      <th>6</th>\n",
              "      <td>0.08829</td>\n",
              "      <td>12.5</td>\n",
              "      <td>7.87</td>\n",
              "      <td>0</td>\n",
              "      <td>0.524</td>\n",
              "      <td>6.012</td>\n",
              "      <td>66.6</td>\n",
              "      <td>5.5605</td>\n",
              "      <td>5</td>\n",
              "      <td>311</td>\n",
              "      <td>15.2</td>\n",
              "      <td>12.43</td>\n",
              "      <td>22.9</td>\n",
              "    </tr>\n",
              "    <tr>\n",
              "      <th>7</th>\n",
              "      <td>0.14455</td>\n",
              "      <td>12.5</td>\n",
              "      <td>7.87</td>\n",
              "      <td>0</td>\n",
              "      <td>0.524</td>\n",
              "      <td>6.172</td>\n",
              "      <td>96.1</td>\n",
              "      <td>5.9505</td>\n",
              "      <td>5</td>\n",
              "      <td>311</td>\n",
              "      <td>15.2</td>\n",
              "      <td>19.15</td>\n",
              "      <td>27.1</td>\n",
              "    </tr>\n",
              "    <tr>\n",
              "      <th>8</th>\n",
              "      <td>0.21124</td>\n",
              "      <td>12.5</td>\n",
              "      <td>7.87</td>\n",
              "      <td>0</td>\n",
              "      <td>0.524</td>\n",
              "      <td>5.631</td>\n",
              "      <td>100.0</td>\n",
              "      <td>6.0821</td>\n",
              "      <td>5</td>\n",
              "      <td>311</td>\n",
              "      <td>15.2</td>\n",
              "      <td>29.93</td>\n",
              "      <td>16.5</td>\n",
              "    </tr>\n",
              "    <tr>\n",
              "      <th>9</th>\n",
              "      <td>0.17004</td>\n",
              "      <td>12.5</td>\n",
              "      <td>7.87</td>\n",
              "      <td>0</td>\n",
              "      <td>0.524</td>\n",
              "      <td>6.004</td>\n",
              "      <td>85.9</td>\n",
              "      <td>6.5921</td>\n",
              "      <td>5</td>\n",
              "      <td>311</td>\n",
              "      <td>15.2</td>\n",
              "      <td>17.10</td>\n",
              "      <td>18.9</td>\n",
              "    </tr>\n",
              "  </tbody>\n",
              "</table>\n",
              "</div>\n",
              "    <div class=\"colab-df-buttons\">\n",
              "\n",
              "  <div class=\"colab-df-container\">\n",
              "    <button class=\"colab-df-convert\" onclick=\"convertToInteractive('df-0e23480a-ead8-43cf-a34d-7571abaf6420')\"\n",
              "            title=\"Convert this dataframe to an interactive table.\"\n",
              "            style=\"display:none;\">\n",
              "\n",
              "  <svg xmlns=\"http://www.w3.org/2000/svg\" height=\"24px\" viewBox=\"0 -960 960 960\">\n",
              "    <path d=\"M120-120v-720h720v720H120Zm60-500h600v-160H180v160Zm220 220h160v-160H400v160Zm0 220h160v-160H400v160ZM180-400h160v-160H180v160Zm440 0h160v-160H620v160ZM180-180h160v-160H180v160Zm440 0h160v-160H620v160Z\"/>\n",
              "  </svg>\n",
              "    </button>\n",
              "\n",
              "  <style>\n",
              "    .colab-df-container {\n",
              "      display:flex;\n",
              "      gap: 12px;\n",
              "    }\n",
              "\n",
              "    .colab-df-convert {\n",
              "      background-color: #E8F0FE;\n",
              "      border: none;\n",
              "      border-radius: 50%;\n",
              "      cursor: pointer;\n",
              "      display: none;\n",
              "      fill: #1967D2;\n",
              "      height: 32px;\n",
              "      padding: 0 0 0 0;\n",
              "      width: 32px;\n",
              "    }\n",
              "\n",
              "    .colab-df-convert:hover {\n",
              "      background-color: #E2EBFA;\n",
              "      box-shadow: 0px 1px 2px rgba(60, 64, 67, 0.3), 0px 1px 3px 1px rgba(60, 64, 67, 0.15);\n",
              "      fill: #174EA6;\n",
              "    }\n",
              "\n",
              "    .colab-df-buttons div {\n",
              "      margin-bottom: 4px;\n",
              "    }\n",
              "\n",
              "    [theme=dark] .colab-df-convert {\n",
              "      background-color: #3B4455;\n",
              "      fill: #D2E3FC;\n",
              "    }\n",
              "\n",
              "    [theme=dark] .colab-df-convert:hover {\n",
              "      background-color: #434B5C;\n",
              "      box-shadow: 0px 1px 3px 1px rgba(0, 0, 0, 0.15);\n",
              "      filter: drop-shadow(0px 1px 2px rgba(0, 0, 0, 0.3));\n",
              "      fill: #FFFFFF;\n",
              "    }\n",
              "  </style>\n",
              "\n",
              "    <script>\n",
              "      const buttonEl =\n",
              "        document.querySelector('#df-0e23480a-ead8-43cf-a34d-7571abaf6420 button.colab-df-convert');\n",
              "      buttonEl.style.display =\n",
              "        google.colab.kernel.accessAllowed ? 'block' : 'none';\n",
              "\n",
              "      async function convertToInteractive(key) {\n",
              "        const element = document.querySelector('#df-0e23480a-ead8-43cf-a34d-7571abaf6420');\n",
              "        const dataTable =\n",
              "          await google.colab.kernel.invokeFunction('convertToInteractive',\n",
              "                                                    [key], {});\n",
              "        if (!dataTable) return;\n",
              "\n",
              "        const docLinkHtml = 'Like what you see? Visit the ' +\n",
              "          '<a target=\"_blank\" href=https://colab.research.google.com/notebooks/data_table.ipynb>data table notebook</a>'\n",
              "          + ' to learn more about interactive tables.';\n",
              "        element.innerHTML = '';\n",
              "        dataTable['output_type'] = 'display_data';\n",
              "        await google.colab.output.renderOutput(dataTable, element);\n",
              "        const docLink = document.createElement('div');\n",
              "        docLink.innerHTML = docLinkHtml;\n",
              "        element.appendChild(docLink);\n",
              "      }\n",
              "    </script>\n",
              "  </div>\n",
              "\n",
              "\n",
              "<div id=\"df-ff682267-dfae-40e1-832e-9ffc7a966789\">\n",
              "  <button class=\"colab-df-quickchart\" onclick=\"quickchart('df-ff682267-dfae-40e1-832e-9ffc7a966789')\"\n",
              "            title=\"Suggest charts\"\n",
              "            style=\"display:none;\">\n",
              "\n",
              "<svg xmlns=\"http://www.w3.org/2000/svg\" height=\"24px\"viewBox=\"0 0 24 24\"\n",
              "     width=\"24px\">\n",
              "    <g>\n",
              "        <path d=\"M19 3H5c-1.1 0-2 .9-2 2v14c0 1.1.9 2 2 2h14c1.1 0 2-.9 2-2V5c0-1.1-.9-2-2-2zM9 17H7v-7h2v7zm4 0h-2V7h2v10zm4 0h-2v-4h2v4z\"/>\n",
              "    </g>\n",
              "</svg>\n",
              "  </button>\n",
              "\n",
              "<style>\n",
              "  .colab-df-quickchart {\n",
              "      --bg-color: #E8F0FE;\n",
              "      --fill-color: #1967D2;\n",
              "      --hover-bg-color: #E2EBFA;\n",
              "      --hover-fill-color: #174EA6;\n",
              "      --disabled-fill-color: #AAA;\n",
              "      --disabled-bg-color: #DDD;\n",
              "  }\n",
              "\n",
              "  [theme=dark] .colab-df-quickchart {\n",
              "      --bg-color: #3B4455;\n",
              "      --fill-color: #D2E3FC;\n",
              "      --hover-bg-color: #434B5C;\n",
              "      --hover-fill-color: #FFFFFF;\n",
              "      --disabled-bg-color: #3B4455;\n",
              "      --disabled-fill-color: #666;\n",
              "  }\n",
              "\n",
              "  .colab-df-quickchart {\n",
              "    background-color: var(--bg-color);\n",
              "    border: none;\n",
              "    border-radius: 50%;\n",
              "    cursor: pointer;\n",
              "    display: none;\n",
              "    fill: var(--fill-color);\n",
              "    height: 32px;\n",
              "    padding: 0;\n",
              "    width: 32px;\n",
              "  }\n",
              "\n",
              "  .colab-df-quickchart:hover {\n",
              "    background-color: var(--hover-bg-color);\n",
              "    box-shadow: 0 1px 2px rgba(60, 64, 67, 0.3), 0 1px 3px 1px rgba(60, 64, 67, 0.15);\n",
              "    fill: var(--button-hover-fill-color);\n",
              "  }\n",
              "\n",
              "  .colab-df-quickchart-complete:disabled,\n",
              "  .colab-df-quickchart-complete:disabled:hover {\n",
              "    background-color: var(--disabled-bg-color);\n",
              "    fill: var(--disabled-fill-color);\n",
              "    box-shadow: none;\n",
              "  }\n",
              "\n",
              "  .colab-df-spinner {\n",
              "    border: 2px solid var(--fill-color);\n",
              "    border-color: transparent;\n",
              "    border-bottom-color: var(--fill-color);\n",
              "    animation:\n",
              "      spin 1s steps(1) infinite;\n",
              "  }\n",
              "\n",
              "  @keyframes spin {\n",
              "    0% {\n",
              "      border-color: transparent;\n",
              "      border-bottom-color: var(--fill-color);\n",
              "      border-left-color: var(--fill-color);\n",
              "    }\n",
              "    20% {\n",
              "      border-color: transparent;\n",
              "      border-left-color: var(--fill-color);\n",
              "      border-top-color: var(--fill-color);\n",
              "    }\n",
              "    30% {\n",
              "      border-color: transparent;\n",
              "      border-left-color: var(--fill-color);\n",
              "      border-top-color: var(--fill-color);\n",
              "      border-right-color: var(--fill-color);\n",
              "    }\n",
              "    40% {\n",
              "      border-color: transparent;\n",
              "      border-right-color: var(--fill-color);\n",
              "      border-top-color: var(--fill-color);\n",
              "    }\n",
              "    60% {\n",
              "      border-color: transparent;\n",
              "      border-right-color: var(--fill-color);\n",
              "    }\n",
              "    80% {\n",
              "      border-color: transparent;\n",
              "      border-right-color: var(--fill-color);\n",
              "      border-bottom-color: var(--fill-color);\n",
              "    }\n",
              "    90% {\n",
              "      border-color: transparent;\n",
              "      border-bottom-color: var(--fill-color);\n",
              "    }\n",
              "  }\n",
              "</style>\n",
              "\n",
              "  <script>\n",
              "    async function quickchart(key) {\n",
              "      const quickchartButtonEl =\n",
              "        document.querySelector('#' + key + ' button');\n",
              "      quickchartButtonEl.disabled = true;  // To prevent multiple clicks.\n",
              "      quickchartButtonEl.classList.add('colab-df-spinner');\n",
              "      try {\n",
              "        const charts = await google.colab.kernel.invokeFunction(\n",
              "            'suggestCharts', [key], {});\n",
              "      } catch (error) {\n",
              "        console.error('Error during call to suggestCharts:', error);\n",
              "      }\n",
              "      quickchartButtonEl.classList.remove('colab-df-spinner');\n",
              "      quickchartButtonEl.classList.add('colab-df-quickchart-complete');\n",
              "    }\n",
              "    (() => {\n",
              "      let quickchartButtonEl =\n",
              "        document.querySelector('#df-ff682267-dfae-40e1-832e-9ffc7a966789 button');\n",
              "      quickchartButtonEl.style.display =\n",
              "        google.colab.kernel.accessAllowed ? 'block' : 'none';\n",
              "    })();\n",
              "  </script>\n",
              "</div>\n",
              "\n",
              "    </div>\n",
              "  </div>\n"
            ]
          },
          "metadata": {}
        },
        {
          "output_type": "stream",
          "name": "stdout",
          "text": [
            "Number of features:  12\n"
          ]
        }
      ],
      "source": [
        "# Download the dataset\n",
        "BostonHousing = pd.read_csv('boston_house_prices.csv')\n",
        "display(BostonHousing.head(10))\n",
        "features = [\"CRIM\", \"ZN\", \"INDUS\", \"CHAS\", \"NOX\", \"RM\", \"AGE\", \"DIS\", \"RAD\", \"TAX\", \"PTRATIO\", \"LSTAT\"]\n",
        "label = [\"MEDV\"]\n",
        "BostonHousing = BostonHousing.filter(features + label)\n",
        "X, y = BostonHousing[features], BostonHousing[label]\n",
        "\n",
        "# No. of features for input (num_features)\n",
        "n_features = X.shape[1]\n",
        "print(\"Number of features: \", n_features)"
      ]
    },
    {
      "cell_type": "markdown",
      "metadata": {
        "id": "czH3u_fd4cc3"
      },
      "source": [
        "### Split into training & testing sets"
      ]
    },
    {
      "cell_type": "code",
      "execution_count": null,
      "metadata": {
        "id": "hSlQM9DR4gT_"
      },
      "outputs": [],
      "source": [
        "  X_train, X_test, y_train, y_test = train_test_split(X, y, test_size=0.33, random_state=42)"
      ]
    },
    {
      "cell_type": "markdown",
      "metadata": {
        "id": "MayM58vGmsN6"
      },
      "source": [
        "## Let's create some neural networks!"
      ]
    },
    {
      "cell_type": "markdown",
      "metadata": {
        "id": "4OwRm32GjGRT"
      },
      "source": [
        "### **Exercise 1:** Play around with the input parameters and practice visualizing some neural networks using the code below."
      ]
    },
    {
      "cell_type": "markdown",
      "metadata": {
        "id": "BGYEyc3NmkAx"
      },
      "source": [
        "### Our simple 3-layer Neural Network Class\n",
        "\n",
        "We define our neural network by subclassing nn.Module, and initialize the neural network layers in __init__. Every nn.Module subclass implements the operations on input data in the forward method."
      ]
    },
    {
      "cell_type": "code",
      "execution_count": null,
      "metadata": {
        "id": "WPFRJIVkZppT"
      },
      "outputs": [],
      "source": [
        "class Network(nn.Module):\n",
        "  def __init__(self, n_features, hidden_size=6, num_layers=2):\n",
        "    super().__init__()\n",
        "    self.layer0 = nn.Linear(n_features, hidden_size)\n",
        "    self.layer1 = nn.Linear(hidden_size, hidden_size)\n",
        "    self.layer2 = nn.Linear(hidden_size, 1)\n",
        "\n",
        "  def forward(self, input_data):\n",
        "    x = F.relu(self.layer0(input_data))\n",
        "    x = F.relu(self.layer1(x))\n",
        "    return torch.sigmoid(self.layer2(x))"
      ]
    },
    {
      "cell_type": "code",
      "execution_count": null,
      "metadata": {
        "colab": {
          "base_uri": "https://localhost:8080/",
          "height": 612
        },
        "id": "uyOyXRuzZupf",
        "outputId": "fd60bb1d-f181-470b-c217-43c847381d12"
      },
      "outputs": [
        {
          "output_type": "execute_result",
          "data": {
            "image/svg+xml": "<?xml version=\"1.0\" encoding=\"UTF-8\" standalone=\"no\"?>\n<!DOCTYPE svg PUBLIC \"-//W3C//DTD SVG 1.1//EN\"\n \"http://www.w3.org/Graphics/SVG/1.1/DTD/svg11.dtd\">\n<!-- Generated by graphviz version 2.43.0 (0)\n -->\n<!-- Title: g Pages: 1 -->\n<svg width=\"405pt\" height=\"443pt\"\n viewBox=\"0.00 0.00 405.00 443.00\" xmlns=\"http://www.w3.org/2000/svg\" xmlns:xlink=\"http://www.w3.org/1999/xlink\">\n<g id=\"graph0\" class=\"graph\" transform=\"scale(1 1) rotate(0) translate(4 439)\">\n<title>g</title>\n<polygon fill=\"white\" stroke=\"transparent\" points=\"-4,4 -4,-439 401,-439 401,4 -4,4\"/>\n<g id=\"clust1\" class=\"cluster\">\n<title>cluster_input</title>\n<polygon fill=\"none\" stroke=\"white\" points=\"0,-91 0,-344 80,-344 80,-91 0,-91\"/>\n<text text-anchor=\"middle\" x=\"40\" y=\"-98.8\" font-family=\"Times,serif\" font-size=\"14.00\">Input Layer</text>\n</g>\n<g id=\"clust2\" class=\"cluster\">\n<title>cluster_1</title>\n<polygon fill=\"none\" stroke=\"white\" points=\"88,-8 88,-427 190,-427 190,-8 88,-8\"/>\n<text text-anchor=\"middle\" x=\"139\" y=\"-15.8\" font-family=\"Times,serif\" font-size=\"14.00\">Hidden Layer 1</text>\n</g>\n<g id=\"clust3\" class=\"cluster\">\n<title>cluster_2</title>\n<polygon fill=\"none\" stroke=\"white\" points=\"198,-8 198,-427 300,-427 300,-8 198,-8\"/>\n<text text-anchor=\"middle\" x=\"249\" y=\"-15.8\" font-family=\"Times,serif\" font-size=\"14.00\">Hidden Layer 2</text>\n</g>\n<g id=\"clust4\" class=\"cluster\">\n<title>cluster_output</title>\n<polygon fill=\"none\" stroke=\"white\" points=\"308,-174 308,-261 397,-261 397,-174 308,-174\"/>\n<text text-anchor=\"middle\" x=\"352.5\" y=\"-181.8\" font-family=\"Times,serif\" font-size=\"14.00\">Output Layer</text>\n</g>\n<!-- 1 -->\n<g id=\"node1\" class=\"node\">\n<title>1</title>\n<ellipse fill=\"#ff006d\" stroke=\"#ff006d\" cx=\"39.5\" cy=\"-229\" rx=\"23.5\" ry=\"23.5\"/>\n<text text-anchor=\"middle\" x=\"39.5\" y=\"-225.3\" font-family=\"Times,serif\" font-size=\"14.00\" fill=\"#ff006d\">1</text>\n</g>\n<!-- 4 -->\n<g id=\"node4\" class=\"node\">\n<title>4</title>\n<ellipse fill=\"#01befe\" stroke=\"#01befe\" cx=\"138.5\" cy=\"-146\" rx=\"23.5\" ry=\"23.5\"/>\n<text text-anchor=\"middle\" x=\"138.5\" y=\"-142.3\" font-family=\"Times,serif\" font-size=\"14.00\" fill=\"#01befe\">4</text>\n</g>\n<!-- 1&#45;&gt;4 -->\n<g id=\"edge1\" class=\"edge\">\n<title>1&#45;&gt;4</title>\n<path fill=\"none\" stroke=\"#707070\" stroke-width=\"2\" d=\"M57.84,-214.16C75.39,-199.15 102.37,-176.06 119.98,-160.99\"/>\n</g>\n<!-- 5 -->\n<g id=\"node5\" class=\"node\">\n<title>5</title>\n<ellipse fill=\"#01befe\" stroke=\"#01befe\" cx=\"138.5\" cy=\"-63\" rx=\"23.5\" ry=\"23.5\"/>\n<text text-anchor=\"middle\" x=\"138.5\" y=\"-59.3\" font-family=\"Times,serif\" font-size=\"14.00\" fill=\"#01befe\">5</text>\n</g>\n<!-- 1&#45;&gt;5 -->\n<g id=\"edge4\" class=\"edge\">\n<title>1&#45;&gt;5</title>\n<path fill=\"none\" stroke=\"#707070\" stroke-width=\"2\" d=\"M52.2,-208.98C70.84,-177.07 107.09,-115.05 125.76,-83.09\"/>\n</g>\n<!-- 6 -->\n<g id=\"node6\" class=\"node\">\n<title>6</title>\n<ellipse fill=\"#01befe\" stroke=\"#01befe\" cx=\"138.5\" cy=\"-395\" rx=\"23.5\" ry=\"23.5\"/>\n<text text-anchor=\"middle\" x=\"138.5\" y=\"-391.3\" font-family=\"Times,serif\" font-size=\"14.00\" fill=\"#01befe\">6</text>\n</g>\n<!-- 1&#45;&gt;6 -->\n<g id=\"edge7\" class=\"edge\">\n<title>1&#45;&gt;6</title>\n<path fill=\"none\" stroke=\"#707070\" stroke-width=\"2\" d=\"M52.2,-249.02C70.84,-280.93 107.09,-342.95 125.76,-374.91\"/>\n</g>\n<!-- 7 -->\n<g id=\"node7\" class=\"node\">\n<title>7</title>\n<ellipse fill=\"#01befe\" stroke=\"#01befe\" cx=\"138.5\" cy=\"-312\" rx=\"23.5\" ry=\"23.5\"/>\n<text text-anchor=\"middle\" x=\"138.5\" y=\"-308.3\" font-family=\"Times,serif\" font-size=\"14.00\" fill=\"#01befe\">7</text>\n</g>\n<!-- 1&#45;&gt;7 -->\n<g id=\"edge10\" class=\"edge\">\n<title>1&#45;&gt;7</title>\n<path fill=\"none\" stroke=\"#707070\" stroke-width=\"2\" d=\"M57.84,-243.84C75.39,-258.85 102.37,-281.94 119.98,-297.01\"/>\n</g>\n<!-- 8 -->\n<g id=\"node8\" class=\"node\">\n<title>8</title>\n<ellipse fill=\"#01befe\" stroke=\"#01befe\" cx=\"138.5\" cy=\"-229\" rx=\"23.5\" ry=\"23.5\"/>\n<text text-anchor=\"middle\" x=\"138.5\" y=\"-225.3\" font-family=\"Times,serif\" font-size=\"14.00\" fill=\"#01befe\">8</text>\n</g>\n<!-- 1&#45;&gt;8 -->\n<g id=\"edge13\" class=\"edge\">\n<title>1&#45;&gt;8</title>\n<path fill=\"none\" stroke=\"#707070\" stroke-width=\"2\" d=\"M63.49,-229C78.95,-229 99.25,-229 114.68,-229\"/>\n</g>\n<!-- 2 -->\n<g id=\"node2\" class=\"node\">\n<title>2</title>\n<ellipse fill=\"#ff006d\" stroke=\"#ff006d\" cx=\"39.5\" cy=\"-146\" rx=\"23.5\" ry=\"23.5\"/>\n<text text-anchor=\"middle\" x=\"39.5\" y=\"-142.3\" font-family=\"Times,serif\" font-size=\"14.00\" fill=\"#ff006d\">2</text>\n</g>\n<!-- 2&#45;&gt;4 -->\n<g id=\"edge2\" class=\"edge\">\n<title>2&#45;&gt;4</title>\n<path fill=\"none\" stroke=\"#707070\" stroke-width=\"2\" d=\"M63.49,-146C78.95,-146 99.25,-146 114.68,-146\"/>\n</g>\n<!-- 2&#45;&gt;5 -->\n<g id=\"edge5\" class=\"edge\">\n<title>2&#45;&gt;5</title>\n<path fill=\"none\" stroke=\"#707070\" stroke-width=\"2\" d=\"M57.84,-131.16C75.39,-116.15 102.37,-93.06 119.98,-77.99\"/>\n</g>\n<!-- 2&#45;&gt;6 -->\n<g id=\"edge8\" class=\"edge\">\n<title>2&#45;&gt;6</title>\n<path fill=\"none\" stroke=\"#707070\" stroke-width=\"2\" d=\"M48.94,-167.66C67.28,-214.75 110.62,-326 129.01,-373.21\"/>\n</g>\n<!-- 2&#45;&gt;7 -->\n<g id=\"edge11\" class=\"edge\">\n<title>2&#45;&gt;7</title>\n<path fill=\"none\" stroke=\"#707070\" stroke-width=\"2\" d=\"M52.2,-166.02C70.84,-197.93 107.09,-259.95 125.76,-291.91\"/>\n</g>\n<!-- 2&#45;&gt;8 -->\n<g id=\"edge14\" class=\"edge\">\n<title>2&#45;&gt;8</title>\n<path fill=\"none\" stroke=\"#707070\" stroke-width=\"2\" d=\"M57.84,-160.84C75.39,-175.85 102.37,-198.94 119.98,-214.01\"/>\n</g>\n<!-- 3 -->\n<g id=\"node3\" class=\"node\">\n<title>3</title>\n<ellipse fill=\"#ff006d\" stroke=\"#ff006d\" cx=\"39.5\" cy=\"-312\" rx=\"23.5\" ry=\"23.5\"/>\n<text text-anchor=\"middle\" x=\"39.5\" y=\"-308.3\" font-family=\"Times,serif\" font-size=\"14.00\" fill=\"#ff006d\">3</text>\n</g>\n<!-- 3&#45;&gt;4 -->\n<g id=\"edge3\" class=\"edge\">\n<title>3&#45;&gt;4</title>\n<path fill=\"none\" stroke=\"#707070\" stroke-width=\"2\" d=\"M52.2,-291.98C70.84,-260.07 107.09,-198.05 125.76,-166.09\"/>\n</g>\n<!-- 3&#45;&gt;5 -->\n<g id=\"edge6\" class=\"edge\">\n<title>3&#45;&gt;5</title>\n<path fill=\"none\" stroke=\"#707070\" stroke-width=\"2\" d=\"M48.94,-290.34C67.28,-243.25 110.62,-132 129.01,-84.79\"/>\n</g>\n<!-- 3&#45;&gt;6 -->\n<g id=\"edge9\" class=\"edge\">\n<title>3&#45;&gt;6</title>\n<path fill=\"none\" stroke=\"#707070\" stroke-width=\"2\" d=\"M57.84,-326.84C75.39,-341.85 102.37,-364.94 119.98,-380.01\"/>\n</g>\n<!-- 3&#45;&gt;7 -->\n<g id=\"edge12\" class=\"edge\">\n<title>3&#45;&gt;7</title>\n<path fill=\"none\" stroke=\"#707070\" stroke-width=\"2\" d=\"M63.49,-312C78.95,-312 99.25,-312 114.68,-312\"/>\n</g>\n<!-- 3&#45;&gt;8 -->\n<g id=\"edge15\" class=\"edge\">\n<title>3&#45;&gt;8</title>\n<path fill=\"none\" stroke=\"#707070\" stroke-width=\"2\" d=\"M57.84,-297.16C75.39,-282.15 102.37,-259.06 119.98,-243.99\"/>\n</g>\n<!-- 9 -->\n<g id=\"node9\" class=\"node\">\n<title>9</title>\n<ellipse fill=\"#01befe\" stroke=\"#01befe\" cx=\"248.5\" cy=\"-146\" rx=\"23.5\" ry=\"23.5\"/>\n<text text-anchor=\"middle\" x=\"248.5\" y=\"-142.3\" font-family=\"Times,serif\" font-size=\"14.00\" fill=\"#01befe\">9</text>\n</g>\n<!-- 4&#45;&gt;9 -->\n<g id=\"edge16\" class=\"edge\">\n<title>4&#45;&gt;9</title>\n<path fill=\"none\" stroke=\"#707070\" stroke-width=\"2\" d=\"M162.14,-146C180.57,-146 206.47,-146 224.89,-146\"/>\n</g>\n<!-- 10 -->\n<g id=\"node10\" class=\"node\">\n<title>10</title>\n<ellipse fill=\"#01befe\" stroke=\"#01befe\" cx=\"248.5\" cy=\"-63\" rx=\"23.5\" ry=\"23.5\"/>\n<text text-anchor=\"middle\" x=\"248.5\" y=\"-59.3\" font-family=\"Times,serif\" font-size=\"14.00\" fill=\"#01befe\">10</text>\n</g>\n<!-- 4&#45;&gt;10 -->\n<g id=\"edge21\" class=\"edge\">\n<title>4&#45;&gt;10</title>\n<path fill=\"none\" stroke=\"#707070\" stroke-width=\"2\" d=\"M157.82,-131.92C177.8,-116.57 209.58,-92.14 229.45,-76.87\"/>\n</g>\n<!-- 11 -->\n<g id=\"node11\" class=\"node\">\n<title>11</title>\n<ellipse fill=\"#01befe\" stroke=\"#01befe\" cx=\"248.5\" cy=\"-395\" rx=\"23.5\" ry=\"23.5\"/>\n<text text-anchor=\"middle\" x=\"248.5\" y=\"-391.3\" font-family=\"Times,serif\" font-size=\"14.00\" fill=\"#01befe\">11</text>\n</g>\n<!-- 4&#45;&gt;11 -->\n<g id=\"edge26\" class=\"edge\">\n<title>4&#45;&gt;11</title>\n<path fill=\"none\" stroke=\"#707070\" stroke-width=\"2\" d=\"M148.71,-167.23C169.06,-214.16 217.69,-326.27 238.16,-373.47\"/>\n</g>\n<!-- 12 -->\n<g id=\"node12\" class=\"node\">\n<title>12</title>\n<ellipse fill=\"#01befe\" stroke=\"#01befe\" cx=\"248.5\" cy=\"-312\" rx=\"23.5\" ry=\"23.5\"/>\n<text text-anchor=\"middle\" x=\"248.5\" y=\"-308.3\" font-family=\"Times,serif\" font-size=\"14.00\" fill=\"#01befe\">12</text>\n</g>\n<!-- 4&#45;&gt;12 -->\n<g id=\"edge31\" class=\"edge\">\n<title>4&#45;&gt;12</title>\n<path fill=\"none\" stroke=\"#707070\" stroke-width=\"2\" d=\"M152.1,-165.37C172.91,-197.35 214.22,-260.85 234.98,-292.76\"/>\n</g>\n<!-- 13 -->\n<g id=\"node13\" class=\"node\">\n<title>13</title>\n<ellipse fill=\"#01befe\" stroke=\"#01befe\" cx=\"248.5\" cy=\"-229\" rx=\"23.5\" ry=\"23.5\"/>\n<text text-anchor=\"middle\" x=\"248.5\" y=\"-225.3\" font-family=\"Times,serif\" font-size=\"14.00\" fill=\"#01befe\">13</text>\n</g>\n<!-- 4&#45;&gt;13 -->\n<g id=\"edge36\" class=\"edge\">\n<title>4&#45;&gt;13</title>\n<path fill=\"none\" stroke=\"#707070\" stroke-width=\"2\" d=\"M157.82,-160.08C177.8,-175.43 209.58,-199.86 229.45,-215.13\"/>\n</g>\n<!-- 5&#45;&gt;9 -->\n<g id=\"edge17\" class=\"edge\">\n<title>5&#45;&gt;9</title>\n<path fill=\"none\" stroke=\"#707070\" stroke-width=\"2\" d=\"M157.82,-77.08C177.8,-92.43 209.58,-116.86 229.45,-132.13\"/>\n</g>\n<!-- 5&#45;&gt;10 -->\n<g id=\"edge22\" class=\"edge\">\n<title>5&#45;&gt;10</title>\n<path fill=\"none\" stroke=\"#707070\" stroke-width=\"2\" d=\"M162.14,-63C180.57,-63 206.47,-63 224.89,-63\"/>\n</g>\n<!-- 5&#45;&gt;11 -->\n<g id=\"edge27\" class=\"edge\">\n<title>5&#45;&gt;11</title>\n<path fill=\"none\" stroke=\"#707070\" stroke-width=\"2\" d=\"M146.67,-85.04C166.27,-145.29 220.58,-312.26 240.26,-372.75\"/>\n</g>\n<!-- 5&#45;&gt;12 -->\n<g id=\"edge32\" class=\"edge\">\n<title>5&#45;&gt;12</title>\n<path fill=\"none\" stroke=\"#707070\" stroke-width=\"2\" d=\"M148.71,-84.23C169.06,-131.16 217.69,-243.27 238.16,-290.47\"/>\n</g>\n<!-- 5&#45;&gt;13 -->\n<g id=\"edge37\" class=\"edge\">\n<title>5&#45;&gt;13</title>\n<path fill=\"none\" stroke=\"#707070\" stroke-width=\"2\" d=\"M152.1,-82.37C172.91,-114.35 214.22,-177.85 234.98,-209.76\"/>\n</g>\n<!-- 6&#45;&gt;9 -->\n<g id=\"edge18\" class=\"edge\">\n<title>6&#45;&gt;9</title>\n<path fill=\"none\" stroke=\"#707070\" stroke-width=\"2\" d=\"M148.71,-373.77C169.06,-326.84 217.69,-214.73 238.16,-167.53\"/>\n</g>\n<!-- 6&#45;&gt;10 -->\n<g id=\"edge23\" class=\"edge\">\n<title>6&#45;&gt;10</title>\n<path fill=\"none\" stroke=\"#707070\" stroke-width=\"2\" d=\"M146.67,-372.96C166.27,-312.71 220.58,-145.74 240.26,-85.25\"/>\n</g>\n<!-- 6&#45;&gt;11 -->\n<g id=\"edge28\" class=\"edge\">\n<title>6&#45;&gt;11</title>\n<path fill=\"none\" stroke=\"#707070\" stroke-width=\"2\" d=\"M162.14,-395C180.57,-395 206.47,-395 224.89,-395\"/>\n</g>\n<!-- 6&#45;&gt;12 -->\n<g id=\"edge33\" class=\"edge\">\n<title>6&#45;&gt;12</title>\n<path fill=\"none\" stroke=\"#707070\" stroke-width=\"2\" d=\"M157.82,-380.92C177.8,-365.57 209.58,-341.14 229.45,-325.87\"/>\n</g>\n<!-- 6&#45;&gt;13 -->\n<g id=\"edge38\" class=\"edge\">\n<title>6&#45;&gt;13</title>\n<path fill=\"none\" stroke=\"#707070\" stroke-width=\"2\" d=\"M152.1,-375.63C172.91,-343.65 214.22,-280.15 234.98,-248.24\"/>\n</g>\n<!-- 7&#45;&gt;9 -->\n<g id=\"edge19\" class=\"edge\">\n<title>7&#45;&gt;9</title>\n<path fill=\"none\" stroke=\"#707070\" stroke-width=\"2\" d=\"M152.1,-292.63C172.91,-260.65 214.22,-197.15 234.98,-165.24\"/>\n</g>\n<!-- 7&#45;&gt;10 -->\n<g id=\"edge24\" class=\"edge\">\n<title>7&#45;&gt;10</title>\n<path fill=\"none\" stroke=\"#707070\" stroke-width=\"2\" d=\"M148.71,-290.77C169.06,-243.84 217.69,-131.73 238.16,-84.53\"/>\n</g>\n<!-- 7&#45;&gt;11 -->\n<g id=\"edge29\" class=\"edge\">\n<title>7&#45;&gt;11</title>\n<path fill=\"none\" stroke=\"#707070\" stroke-width=\"2\" d=\"M157.82,-326.08C177.8,-341.43 209.58,-365.86 229.45,-381.13\"/>\n</g>\n<!-- 7&#45;&gt;12 -->\n<g id=\"edge34\" class=\"edge\">\n<title>7&#45;&gt;12</title>\n<path fill=\"none\" stroke=\"#707070\" stroke-width=\"2\" d=\"M162.14,-312C180.57,-312 206.47,-312 224.89,-312\"/>\n</g>\n<!-- 7&#45;&gt;13 -->\n<g id=\"edge39\" class=\"edge\">\n<title>7&#45;&gt;13</title>\n<path fill=\"none\" stroke=\"#707070\" stroke-width=\"2\" d=\"M157.82,-297.92C177.8,-282.57 209.58,-258.14 229.45,-242.87\"/>\n</g>\n<!-- 8&#45;&gt;9 -->\n<g id=\"edge20\" class=\"edge\">\n<title>8&#45;&gt;9</title>\n<path fill=\"none\" stroke=\"#707070\" stroke-width=\"2\" d=\"M157.82,-214.92C177.8,-199.57 209.58,-175.14 229.45,-159.87\"/>\n</g>\n<!-- 8&#45;&gt;10 -->\n<g id=\"edge25\" class=\"edge\">\n<title>8&#45;&gt;10</title>\n<path fill=\"none\" stroke=\"#707070\" stroke-width=\"2\" d=\"M152.1,-209.63C172.91,-177.65 214.22,-114.15 234.98,-82.24\"/>\n</g>\n<!-- 8&#45;&gt;11 -->\n<g id=\"edge30\" class=\"edge\">\n<title>8&#45;&gt;11</title>\n<path fill=\"none\" stroke=\"#707070\" stroke-width=\"2\" d=\"M152.1,-248.37C172.91,-280.35 214.22,-343.85 234.98,-375.76\"/>\n</g>\n<!-- 8&#45;&gt;12 -->\n<g id=\"edge35\" class=\"edge\">\n<title>8&#45;&gt;12</title>\n<path fill=\"none\" stroke=\"#707070\" stroke-width=\"2\" d=\"M157.82,-243.08C177.8,-258.43 209.58,-282.86 229.45,-298.13\"/>\n</g>\n<!-- 8&#45;&gt;13 -->\n<g id=\"edge40\" class=\"edge\">\n<title>8&#45;&gt;13</title>\n<path fill=\"none\" stroke=\"#707070\" stroke-width=\"2\" d=\"M162.14,-229C180.57,-229 206.47,-229 224.89,-229\"/>\n</g>\n<!-- 14 -->\n<g id=\"node14\" class=\"node\">\n<title>14</title>\n<ellipse fill=\"#93d30c\" stroke=\"#93d30c\" cx=\"352.5\" cy=\"-229\" rx=\"23.5\" ry=\"23.5\"/>\n<text text-anchor=\"middle\" x=\"352.5\" y=\"-225.3\" font-family=\"Times,serif\" font-size=\"14.00\" fill=\"#93d30c\">14</text>\n</g>\n<!-- 9&#45;&gt;14 -->\n<g id=\"edge41\" class=\"edge\">\n<title>9&#45;&gt;14</title>\n<path fill=\"none\" stroke=\"#707070\" stroke-width=\"2\" d=\"M267.27,-160.46C285.87,-175.6 314.94,-199.25 333.59,-214.43\"/>\n</g>\n<!-- 10&#45;&gt;14 -->\n<g id=\"edge42\" class=\"edge\">\n<title>10&#45;&gt;14</title>\n<path fill=\"none\" stroke=\"#707070\" stroke-width=\"2\" d=\"M261.6,-82.69C281.23,-114.64 319.79,-177.4 339.41,-209.33\"/>\n</g>\n<!-- 11&#45;&gt;14 -->\n<g id=\"edge43\" class=\"edge\">\n<title>11&#45;&gt;14</title>\n<path fill=\"none\" stroke=\"#707070\" stroke-width=\"2\" d=\"M261.6,-375.31C281.23,-343.36 319.79,-280.6 339.41,-248.67\"/>\n</g>\n<!-- 12&#45;&gt;14 -->\n<g id=\"edge44\" class=\"edge\">\n<title>12&#45;&gt;14</title>\n<path fill=\"none\" stroke=\"#707070\" stroke-width=\"2\" d=\"M267.27,-297.54C285.87,-282.4 314.94,-258.75 333.59,-243.57\"/>\n</g>\n<!-- 13&#45;&gt;14 -->\n<g id=\"edge45\" class=\"edge\">\n<title>13&#45;&gt;14</title>\n<path fill=\"none\" stroke=\"#707070\" stroke-width=\"2\" d=\"M272.14,-229C289.04,-229 312.04,-229 328.93,-229\"/>\n</g>\n</g>\n</svg>\n",
            "text/plain": [
              "<graphviz.graphs.Digraph at 0x7f217d0be590>"
            ]
          },
          "metadata": {},
          "execution_count": 57
        }
      ],
      "source": [
        "net = Network(n_features=3, hidden_size=5, num_layers=2)\n",
        "visualize(net)"
      ]
    },
    {
      "cell_type": "markdown",
      "metadata": {
        "id": "p8dciusli9II"
      },
      "source": [
        "## Section 1.1: Adding NN layers for prediction"
      ]
    },
    {
      "cell_type": "markdown",
      "metadata": {
        "id": "v1qYTn-YfNNx"
      },
      "source": [
        "[nn.Sequential](https://pytorch.org/docs/stable/generated/torch.nn.Sequential.html) is an ordered\n",
        "container of modules. The data is passed through all the modules in the same order as defined. You can use\n",
        "sequential containers to put together a quick network like ``seq_modules``."
      ]
    },
    {
      "cell_type": "code",
      "execution_count": null,
      "metadata": {
        "id": "n58irDmOa6kp"
      },
      "outputs": [],
      "source": [
        "class MLP(nn.Module):\n",
        "\n",
        "  # Multilayer Perceptron for regression.\n",
        "\n",
        "  def __init__(self):\n",
        "    super().__init__()\n",
        "    self.layers = nn.Sequential(\n",
        "\n",
        "      # Add linear input layer\n",
        "      nn.Linear(n_features, 64),\n",
        "      nn.ReLU(),\n",
        "\n",
        "      # Add one hidden layer with 64 neurons\n",
        "      nn.Linear(64,64),\n",
        "\n",
        "      # Add ReLU activation function\n",
        "      nn.ReLU(),\n",
        "\n",
        "      # Add linear output layer\n",
        "      nn.Linear(64, 1)\n",
        "    )\n",
        "\n",
        "  def forward(self, x):\n",
        "    # Forward pass\n",
        "    return self.layers(x)"
      ]
    },
    {
      "cell_type": "markdown",
      "metadata": {
        "id": "XUSp9TiDeuSx"
      },
      "source": [
        "We create an instance of ``NeuralNetwork``, and move it to the ``device``, and print\n",
        "its structure."
      ]
    },
    {
      "cell_type": "code",
      "execution_count": null,
      "metadata": {
        "colab": {
          "base_uri": "https://localhost:8080/"
        },
        "id": "08L5asG-exJs",
        "outputId": "a76d2136-ed8c-4608-9de8-9e2a5d2e6d0d"
      },
      "outputs": [
        {
          "output_type": "stream",
          "name": "stdout",
          "text": [
            "MLP(\n",
            "  (layers): Sequential(\n",
            "    (0): Linear(in_features=12, out_features=64, bias=True)\n",
            "    (1): ReLU()\n",
            "    (2): Linear(in_features=64, out_features=64, bias=True)\n",
            "    (3): ReLU()\n",
            "    (4): Linear(in_features=64, out_features=1, bias=True)\n",
            "  )\n",
            ")\n"
          ]
        }
      ],
      "source": [
        "model = MLP().to(device)\n",
        "print(model)"
      ]
    },
    {
      "cell_type": "markdown",
      "metadata": {
        "id": "S2OVfBaogEFP"
      },
      "source": [
        "## Hyperparameters\n",
        "\n",
        "Hyperparameters are adjustable parameters that let you control the model optimization process.\n",
        "Different hyperparameter values can impact model training and convergence rates\n",
        "([read more](https://pytorch.org/tutorials/beginner/hyperparameter_tuning_tutorial.html)_ about hyperparameter tuning)\n",
        "\n",
        "We define the following hyperparameters for training:\n",
        " - **Number of Epochs** - the number times to iterate over the dataset\n",
        " - **Batch Size** - the number of data samples propagated through the network before the parameters are updated\n",
        " - **Learning Rate** - how much to update models parameters at each batch/epoch. Smaller values yield slow learning speed, while large values may result in unpredictable behavior during training."
      ]
    },
    {
      "cell_type": "code",
      "execution_count": null,
      "metadata": {
        "id": "Fatjqon9gGRV"
      },
      "outputs": [],
      "source": [
        "learning_rate = 1e-3\n",
        "batch_size = 32\n",
        "epochs = 10"
      ]
    },
    {
      "cell_type": "markdown",
      "metadata": {
        "id": "JL7-PdqzgLFp"
      },
      "source": [
        "### Loss Function\n",
        "\n",
        "When presented with some training data, our untrained network is likely not to give the correct\n",
        "answer. **Loss function** measures the degree of dissimilarity of obtained result to the target value,\n",
        "and it is the loss function that we want to minimize during training. To calculate the loss we make a\n",
        "prediction using the inputs of our given data sample and compare it against the true data label value.\n",
        "\n",
        "Common loss functions include [nn.MSELoss](https://pytorch.org/docs/stable/generated/torch.nn.MSELoss.html#torch.nn.MSELoss) (Mean Square Error) for regression tasks, and\n",
        "[nn.NLLLoss](https://pytorch.org/docs/stable/generated/torch.nn.NLLLoss.html#torch.nn.NLLLoss) (Negative Log Likelihood) for classification.\n",
        "[nn.CrossEntropyLoss](https://pytorch.org/docs/stable/generated/torch.nn.CrossEntropyLoss.html#torch.nn.CrossEntropyLoss) combines ``nn.LogSoftmax`` and ``nn.NLLLoss``.\n",
        "\n",
        "We pass our model's output to loss function. This will compute the shot prediction error."
      ]
    },
    {
      "cell_type": "code",
      "execution_count": null,
      "metadata": {
        "id": "BG_0tba3gKqs"
      },
      "outputs": [],
      "source": [
        "# Initialize the loss function MSELoss()\n",
        "loss_function = nn.MSELoss()"
      ]
    },
    {
      "cell_type": "markdown",
      "metadata": {
        "id": "u3Q3Kac7gZcv"
      },
      "source": [
        "### Optimizer\n",
        "\n",
        "Optimization is the process of adjusting model parameters to reduce model error in each training step. **Optimization algorithms** define how this process is performed (in this example we use Stochastic Gradient Descent).\n",
        "All optimization logic is encapsulated in  the ``optimizer`` object. Here, we use the SGD optimizer; additionally, there are many [different optimizers](https://pytorch.org/docs/stable/optim.html)\n",
        "available in PyTorch such as ADAM and RMSProp, that work better for different kinds of models and data.\n",
        "\n",
        "We initialize the optimizer by registering the model's parameters that need to be trained, and passing in the learning rate hyperparameter."
      ]
    },
    {
      "cell_type": "code",
      "execution_count": null,
      "metadata": {
        "id": "ni_dAvPFgfeS"
      },
      "outputs": [],
      "source": [
        "optimizer = torch.optim.SGD(model.parameters(), lr=learning_rate)"
      ]
    },
    {
      "cell_type": "markdown",
      "metadata": {
        "id": "u0HhLwS_iu8P"
      },
      "source": [
        "## Datasets & DataLoaders"
      ]
    },
    {
      "cell_type": "markdown",
      "metadata": {
        "id": "Nk-WJSzRi6_w"
      },
      "source": [
        "Code for processing data samples can get messy and hard to maintain; we ideally want our dataset code\n",
        "to be decoupled from our model training code for better readability and modularity.\n",
        "PyTorch provides two data primitives: ``torch.utils.data.DataLoader`` and ``torch.utils.data.Dataset``\n",
        "that allow you to use pre-loaded datasets as well as your own data.\n",
        "``Dataset`` stores the samples and their corresponding labels, and ``DataLoader`` wraps an iterable around\n",
        "the ``Dataset`` to enable easy access to the samples.\n",
        "\n",
        "PyTorch domain libraries provide a number of pre-loaded datasets (such as FashionMNIST) that\n",
        "subclass ``torch.utils.data.Dataset`` and implement functions specific to the particular data.\n",
        "They can be used to prototype and benchmark your model. You can find them\n",
        "here: [Image Datasets](https://pytorch.org/vision/stable/datasets.html),\n",
        "[Text Datasets](https://pytorch.org/text/stable/datasets.html), and\n",
        "[Audio Datasets](https://pytorch.org/audio/stable/datasets.html)"
      ]
    },
    {
      "cell_type": "markdown",
      "metadata": {
        "id": "VVrlofAam5_Z"
      },
      "source": [
        "### Custom dataset class - to convert Pandas dataframes to PyTorch tensors for NN"
      ]
    },
    {
      "cell_type": "code",
      "execution_count": null,
      "metadata": {
        "id": "uVDXmDkSm3yi"
      },
      "outputs": [],
      "source": [
        "class BostonDataset(torch.utils.data.Dataset):\n",
        "  # Prepare the Boston dataset for regression\n",
        "\n",
        "  def __init__(self, X, y, scale_data=True):\n",
        "    if not torch.is_tensor(X) and not torch.is_tensor(y):\n",
        "\n",
        "      # TODO: Apply scaling to input features\n",
        "\n",
        "      if scale_data:\n",
        "        # Apply scaling to feature inputs\n",
        "        # Standardize features by removing the mean and scaling to unit variance\n",
        "        X = StandardScaler().fit_transform(X)\n",
        "\n",
        "      self.X = torch.from_numpy(X)\n",
        "      self.y = torch.from_numpy(y)\n",
        "\n",
        "  def __len__(self):\n",
        "      return len(self.X)\n",
        "\n",
        "  def __getitem__(self, i):\n",
        "      return self.X[i], self.y[i]"
      ]
    },
    {
      "cell_type": "code",
      "execution_count": null,
      "metadata": {
        "colab": {
          "base_uri": "https://localhost:8080/"
        },
        "id": "IHskl49k-Gcg",
        "outputId": "5e882b96-35dc-469f-d559-0ada7d7b1181"
      },
      "outputs": [
        {
          "output_type": "execute_result",
          "data": {
            "text/plain": [
              "<torch._C.Generator at 0x7f22423a52f0>"
            ]
          },
          "metadata": {},
          "execution_count": 64
        }
      ],
      "source": [
        "## If we want, we can set the random seed to get the same training results every time\n",
        "torch.manual_seed(0)"
      ]
    },
    {
      "cell_type": "code",
      "execution_count": null,
      "metadata": {
        "id": "RfvMKbNR2eIf"
      },
      "outputs": [],
      "source": [
        "# Prepare Boston datasets\n",
        "dataset_train = BostonDataset(X_train.values, y_train.values)\n",
        "trainloader = torch.utils.data.DataLoader(dataset_train, batch_size=batch_size, shuffle=True, num_workers=1)\n",
        "\n",
        "# Prepare test dataset\n",
        "dataset_test = BostonDataset(X_test.values, y_test.values)\n",
        "testloader = torch.utils.data.DataLoader(dataset_test, batch_size=batch_size, shuffle=True, num_workers=1)"
      ]
    },
    {
      "cell_type": "markdown",
      "metadata": {
        "id": "zLUXP28LcSu0"
      },
      "source": [
        "## Optimization Loop\n",
        "\n",
        "Once we set our hyperparameters, we can then train and optimize our model with an optimization loop. Each\n",
        "iteration of the optimization loop is called an **epoch**.\n",
        "\n",
        "Each epoch consists of two main parts:\n",
        " - **The Train Loop** - iterate over the training dataset and try to converge to optimal parameters.\n",
        " - **The Validation/Test Loop** - iterate over the test dataset to check if model performance is improving.\n",
        "\n",
        "Let's briefly familiarize ourselves with some of the concepts used in the training loop. Jump ahead to\n",
        "see the `full-impl-label` of the optimization loop."
      ]
    },
    {
      "cell_type": "markdown",
      "metadata": {
        "id": "1Uhdnw79g1dI"
      },
      "source": [
        "Inside the training loop, optimization happens in three steps:\n",
        " * Call ``optimizer.zero_grad()`` to reset the gradients of model parameters. Gradients by default add up; to prevent double-counting, we explicitly zero them at each iteration.\n",
        " * Backpropagate the prediction loss with a call to ``loss.backward()``. PyTorch deposits the gradients of the loss w.r.t. each parameter.\n",
        " * Once we have our gradients, we call ``optimizer.step()`` to adjust the parameters by the gradients collected in the backward pass."
      ]
    },
    {
      "cell_type": "markdown",
      "metadata": {
        "id": "DelT0LEL3RUR"
      },
      "source": [
        "## Section 1.2: Run the training loop"
      ]
    },
    {
      "cell_type": "code",
      "execution_count": null,
      "metadata": {
        "colab": {
          "base_uri": "https://localhost:8080/"
        },
        "id": "DjxxGkPj3QTW",
        "outputId": "c2296d50-2558-4ccc-8cab-0b160375f189"
      },
      "outputs": [
        {
          "output_type": "stream",
          "name": "stdout",
          "text": [
            "Starting epoch 1\n",
            "loss: 773.212769  [    0/  339]\n",
            "Starting epoch 2\n",
            "loss: 424.148315  [    0/  339]\n",
            "Starting epoch 3\n",
            "loss: 68.464951  [    0/  339]\n",
            "Starting epoch 4\n",
            "loss: 48.804573  [    0/  339]\n",
            "Starting epoch 5\n",
            "loss: 54.996292  [    0/  339]\n",
            "Starting epoch 6\n",
            "loss: 15.357870  [    0/  339]\n",
            "Starting epoch 7\n",
            "loss: 13.304148  [    0/  339]\n",
            "Starting epoch 8\n",
            "loss: 31.994642  [    0/  339]\n",
            "Starting epoch 9\n",
            "loss: 15.009954  [    0/  339]\n",
            "Starting epoch 10\n",
            "loss: 28.844593  [    0/  339]\n",
            "Training process has finished.\n"
          ]
        }
      ],
      "source": [
        "# Run the training loop\n",
        "for epoch in range(epochs): # 5 epochs at maximum\n",
        "\n",
        "  # Print epoch\n",
        "  print(f'Starting epoch {epoch+1}')\n",
        "\n",
        "  # Iterate over the DataLoader for training data\n",
        "  for batch, (inputs, targets) in enumerate(trainloader, 0):\n",
        "\n",
        "    num_batches = len(trainloader)\n",
        "    size = len(trainloader.dataset)\n",
        "\n",
        "    # Prepare inputs\n",
        "    inputs, targets = inputs.float(), targets.float()\n",
        "\n",
        "    # To account for GPU\n",
        "    inputs, targets = inputs.to(device), targets.to(device)\n",
        "\n",
        "    targets = targets.reshape((targets.shape[0], 1))\n",
        "\n",
        "    # Zero the gradients\n",
        "    optimizer.zero_grad()\n",
        "\n",
        "    # Perform forward pass\n",
        "    outputs = model(inputs)\n",
        "\n",
        "    # Compute loss\n",
        "    loss = loss_function(outputs, targets)\n",
        "\n",
        "    # Perform backward pass\n",
        "    loss.backward()\n",
        "\n",
        "    # Perform optimization\n",
        "    optimizer.step()\n",
        "\n",
        "    # Print statistics\n",
        "\n",
        "    if batch % 100 == 0:\n",
        "      loss, current = loss.item(), batch * len(X)\n",
        "      print(f\"loss: {loss:>7f}  [{current:>5d}/{size:>5d}]\")\n",
        "\n",
        "    # NOTE: .item() here moves the data from the GPU to CPU, since numpy only works with CPUs.\n",
        "\n",
        "# Process is complete.\n",
        "print('Training process has finished.')"
      ]
    },
    {
      "cell_type": "markdown",
      "metadata": {
        "id": "ICVA7KpZ35C-"
      },
      "source": [
        "### Testing loop"
      ]
    },
    {
      "cell_type": "code",
      "execution_count": null,
      "metadata": {
        "colab": {
          "base_uri": "https://localhost:8080/"
        },
        "id": "oXhWoEdD4DaI",
        "outputId": "14ecaa06-8274-411e-c801-33faa3972fdc"
      },
      "outputs": [
        {
          "output_type": "stream",
          "name": "stdout",
          "text": [
            "Avg loss: 17.421546 \n",
            "\n"
          ]
        }
      ],
      "source": [
        "size = len(testloader.dataset)\n",
        "num_batches = len(testloader)\n",
        "model.eval()\n",
        "test_loss = 0\n",
        "\n",
        "test_loss = 0\n",
        "\n",
        "with torch.no_grad():\n",
        "    for inputs, targets in testloader:\n",
        "\n",
        "      inputs, targets = inputs.float(), targets.float()\n",
        "\n",
        "      # To account for GPU\n",
        "      inputs, targets = inputs.to(device), targets.to(device)\n",
        "\n",
        "      targets = targets.reshape((targets.shape[0], 1))\n",
        "\n",
        "      # Get prediction\n",
        "      outputs = model(inputs)\n",
        "\n",
        "      # Compute loss\n",
        "      test_loss += loss_function(outputs, targets).item()\n",
        "\n",
        "test_loss /= num_batches\n",
        "print(f\"Avg loss: {test_loss:>8f} \\n\")"
      ]
    },
    {
      "cell_type": "code",
      "execution_count": null,
      "metadata": {
        "colab": {
          "base_uri": "https://localhost:8080/",
          "height": 448
        },
        "id": "3yRm-rbu2dy0",
        "outputId": "1289ec04-0537-4f44-a3c2-251c2cbb9ad7"
      },
      "outputs": [
        {
          "output_type": "execute_result",
          "data": {
            "text/plain": [
              "[<matplotlib.lines.Line2D at 0x7f217bd9c310>]"
            ]
          },
          "metadata": {},
          "execution_count": 68
        },
        {
          "output_type": "display_data",
          "data": {
            "text/plain": [
              "<Figure size 640x480 with 1 Axes>"
            ],
            "image/png": "[encoded data removed]"
          },
          "metadata": {}
        }
      ],
      "source": [
        "y_pred = []\n",
        "y_true = []\n",
        "net.train(False)\n",
        "for inputs, targets in testloader:\n",
        "  inputs, targets = inputs.float(), targets.float()\n",
        "\n",
        "  # To account for GPU\n",
        "  inputs, targets = inputs.to(device), targets.to(device)\n",
        "\n",
        "  targets = targets.reshape((targets.shape[0], 1))\n",
        "\n",
        "  outputs = model(inputs)\n",
        "  y_pred.extend(model(inputs).data.numpy())\n",
        "  y_true.extend(targets.numpy())\n",
        "plt.scatter(y_pred, y_true)\n",
        "plt.plot([0, 50], [0, 50], '--k')"
      ]
    },
    {
      "cell_type": "markdown",
      "metadata": {
        "id": "3aABmoeonN2t"
      },
      "source": [
        "# Section 2: CNNs: MNIST Hand-Written Digit Recognition\n",
        "\n",
        "In this section, we'll use CNNs for image classification tasks"
      ]
    },
    {
      "cell_type": "markdown",
      "metadata": {
        "id": "mD_SuqCnYi80"
      },
      "source": [
        "###First, let's use Pytorch to download MNIST data in a useful format and create a DataLoader."
      ]
    },
    {
      "cell_type": "code",
      "execution_count": null,
      "metadata": {
        "id": "Z1w0ADEGV34R"
      },
      "outputs": [],
      "source": [
        "data_loader = torch.utils.data.DataLoader(\n",
        "  torchvision.datasets.MNIST('sample_data/', train=True, download=True,\n",
        "                             transform=torchvision.transforms.Compose([\n",
        "                               torchvision.transforms.ToTensor(),\n",
        "                               torchvision.transforms.Normalize(\n",
        "                                 (0.1307,), (0.3081,))\n",
        "                             ])),\n",
        "  batch_size=1, shuffle=True)"
      ]
    },
    {
      "cell_type": "markdown",
      "metadata": {
        "id": "nrP_7w-ZYu1V"
      },
      "source": [
        "### **Exercise 2:** Let's look at some of the images! Run the cells below a few times to show randomly selected images"
      ]
    },
    {
      "cell_type": "code",
      "execution_count": null,
      "metadata": {
        "id": "hnS7DTv3Vw94"
      },
      "outputs": [],
      "source": [
        "from PIL import Image\n",
        "from io import BytesIO\n",
        "import IPython.display\n",
        "\n",
        "def show_random_image():\n",
        "  dataset = np.array(data_loader.dataset.data)\n",
        "  num_images = dataset.shape[0]\n",
        "  image_idx = np.random.randint(low=0, high=num_images)\n",
        "  pil_image = Image.fromarray(np.array(data_loader.dataset.data[image_idx]))\n",
        "  height, width = pil_image.size\n",
        "  pil_image = pil_image.resize((height * 10, width * 10))\n",
        "  f = BytesIO()\n",
        "  pil_image.save(f, 'png')\n",
        "  IPython.display.display(IPython.display.Image(data=f.getvalue()))\n"
      ]
    },
    {
      "cell_type": "code",
      "execution_count": null,
      "metadata": {
        "colab": {
          "base_uri": "https://localhost:8080/",
          "height": 1000
        },
        "id": "R6yMJTMdWVqX",
        "outputId": "3380226f-1c8b-405e-8f47-89cfa7bab041"
      },
      "outputs": [
        {
          "output_type": "stream",
          "name": "stdout",
          "text": [
            "Showing 5 random images:\n"
          ]
        },
        {
          "output_type": "display_data",
          "data": {
            "image/png": "[encoded data removed]",
            "text/plain": [
              "<IPython.core.display.Image object>"
            ]
          },
          "metadata": {}
        },
        {
          "output_type": "stream",
          "name": "stdout",
          "text": [
            "\n"
          ]
        },
        {
          "output_type": "display_data",
          "data": {
            "image/png": "[encoded data removed]",
            "text/plain": [
              "<IPython.core.display.Image object>"
            ]
          },
          "metadata": {}
        },
        {
          "output_type": "stream",
          "name": "stdout",
          "text": [
            "\n"
          ]
        },
        {
          "output_type": "display_data",
          "data": {
            "image/png": "[encoded data removed]",
            "text/plain": [
              "<IPython.core.display.Image object>"
            ]
          },
          "metadata": {}
        },
        {
          "output_type": "stream",
          "name": "stdout",
          "text": [
            "\n"
          ]
        },
        {
          "output_type": "display_data",
          "data": {
            "image/png": "[encoded data removed]",
            "text/plain": [
              "<IPython.core.display.Image object>"
            ]
          },
          "metadata": {}
        },
        {
          "output_type": "stream",
          "name": "stdout",
          "text": [
            "\n"
          ]
        },
        {
          "output_type": "display_data",
          "data": {
            "image/png": "[encoded data removed]",
            "text/plain": [
              "<IPython.core.display.Image object>"
            ]
          },
          "metadata": {}
        },
        {
          "output_type": "stream",
          "name": "stdout",
          "text": [
            "\n"
          ]
        }
      ],
      "source": [
        "num_images_to_show = 5\n",
        "print(f'Showing {num_images_to_show} random images:')\n",
        "for display_idx in range(num_images_to_show):\n",
        "  show_random_image()\n",
        "  print()"
      ]
    },
    {
      "cell_type": "markdown",
      "metadata": {
        "id": "-IrX-n1hYkJk"
      },
      "source": [
        "### Second, let's set some hyperparameters for training. We can play around with these more, later."
      ]
    },
    {
      "cell_type": "code",
      "execution_count": null,
      "metadata": {
        "id": "D1cbvfTQ_zip"
      },
      "outputs": [],
      "source": [
        "n_epochs = 3\n",
        "batch_size_train = 64\n",
        "batch_size_test = 1000\n",
        "learning_rate = 0.01\n",
        "momentum = 0.5\n",
        "log_interval = 10"
      ]
    },
    {
      "cell_type": "markdown",
      "metadata": {
        "id": "hq3p7KpZZRcI"
      },
      "source": [
        "#### Next, let's make some data loaders. We will use PyTorch's pre-built dataloaders so we don't have to build our own."
      ]
    },
    {
      "cell_type": "code",
      "execution_count": null,
      "metadata": {
        "id": "3eiwZGRwANTZ"
      },
      "outputs": [],
      "source": [
        "train_loader = torch.utils.data.DataLoader(\n",
        "  torchvision.datasets.MNIST('sample_data/', train=True, download=True,\n",
        "                             transform=torchvision.transforms.Compose([\n",
        "                               torchvision.transforms.ToTensor(),\n",
        "                               torchvision.transforms.Normalize(\n",
        "                                 (0.1307,), (0.3081,))\n",
        "                             ])),\n",
        "  batch_size=batch_size_train, shuffle=True)\n",
        "\n",
        "test_loader = torch.utils.data.DataLoader(\n",
        "  torchvision.datasets.MNIST('sample_data/', train=False, download=True,\n",
        "                             transform=torchvision.transforms.Compose([\n",
        "                               torchvision.transforms.ToTensor(),\n",
        "                               torchvision.transforms.Normalize(\n",
        "                                 (0.1307,), (0.3081,))\n",
        "                             ])),\n",
        "  batch_size=batch_size_test, shuffle=True)"
      ]
    },
    {
      "cell_type": "markdown",
      "metadata": {
        "id": "2ckJ-pWtZt9D"
      },
      "source": [
        "## Section 2.1 MNIST Classification with Fully Connected Networks!\n",
        "Let's try classifying hand-written digits with fully connected networks -- just like the ones you visualized up above.\n",
        "\n",
        "First, let's make our neural network."
      ]
    },
    {
      "cell_type": "code",
      "execution_count": null,
      "metadata": {
        "id": "OdLawN0E_zSZ"
      },
      "outputs": [],
      "source": [
        "class FullyConnectedNetwork(nn.Module):\n",
        "  def __init__(self, n_features=784, hidden_size=32):\n",
        "    super().__init__()\n",
        "    self.layer0 = nn.Linear(n_features, hidden_size)\n",
        "\n",
        "    # Add another hidden layer with 10 neurons\n",
        "    self.layer1 = nn.Linear(hidden_size, 10)\n",
        "\n",
        "  def forward(self, input_data):\n",
        "    # Fill in the code for the forward pass\n",
        "    # Apply ReLU activation after 1st input layer\n",
        "    x = F.relu(self.layer0(input_data))\n",
        "\n",
        "    # Apply 2nd layer\n",
        "    x = self.layer1(x)\n",
        "\n",
        "    # Apply log_softmax activation for last layer & then return outputs\n",
        "    return F.log_softmax(x)"
      ]
    },
    {
      "cell_type": "code",
      "execution_count": null,
      "metadata": {
        "colab": {
          "base_uri": "https://localhost:8080/"
        },
        "id": "C-IzBvtHbi0p",
        "outputId": "449ffc1b-c87f-4ab4-fb47-6b4fe90cd9ff"
      },
      "outputs": [
        {
          "output_type": "stream",
          "name": "stdout",
          "text": [
            "FullyConnectedNetwork(\n",
            "  (layer0): Linear(in_features=784, out_features=32, bias=True)\n",
            "  (layer1): Linear(in_features=32, out_features=10, bias=True)\n",
            ")\n"
          ]
        }
      ],
      "source": [
        "# Create an instance of the above NN\n",
        "fc_network = FullyConnectedNetwork()\n",
        "\n",
        "# Pass model to device (CPU or GPU)\n",
        "fc_network.to(device)\n",
        "\n",
        "# Print model architecture\n",
        "print(fc_network)"
      ]
    },
    {
      "cell_type": "code",
      "execution_count": null,
      "metadata": {
        "id": "MA5M3dKHfeuw"
      },
      "outputs": [],
      "source": [
        "# Our optimizer will use Stochastic Gradient Descent to train our network\n",
        "# Set optimizer to SGD with the above learning_rate and momentum hyperparameters\n",
        "# We'll be cover these parameters in more detail tomorrow\n",
        "fc_optimizer = optim.SGD(fc_network.parameters(), lr=learning_rate, momentum=momentum)"
      ]
    },
    {
      "cell_type": "markdown",
      "metadata": {
        "id": "nBEh4QHwAbQE"
      },
      "source": [
        "## Model Layers\n",
        "\n",
        "Let's break down the layers in the FashionMNIST model. To illustrate it, we\n",
        "will take a sample minibatch of 3 images of size 28x28 and see what happens to it as\n",
        "we pass it through the network."
      ]
    },
    {
      "cell_type": "code",
      "execution_count": null,
      "metadata": {
        "colab": {
          "base_uri": "https://localhost:8080/"
        },
        "id": "Tx0bKxSPAZ1M",
        "outputId": "00498922-36a9-423d-9539-a974c7bf1b61"
      },
      "outputs": [
        {
          "output_type": "stream",
          "name": "stdout",
          "text": [
            "torch.Size([3, 28, 28])\n"
          ]
        }
      ],
      "source": [
        "input_image = torch.rand(3,28,28)\n",
        "print(input_image.size())"
      ]
    },
    {
      "cell_type": "markdown",
      "metadata": {
        "id": "CyOpQ2WpAi-j"
      },
      "source": [
        "### nn.Flatten\n",
        "\n",
        "Since we're using a fully connected network for the 1st model,\n",
        "We initialize the [nn.Flatten](https://pytorch.org/docs/stable/generated/torch.nn.Flatten.html)\n",
        "layer to convert each 2D 28x28 image into a contiguous array of 784 pixel values (\n",
        "the minibatch dimension (at dim=0) is maintained)."
      ]
    },
    {
      "cell_type": "code",
      "execution_count": null,
      "metadata": {
        "colab": {
          "base_uri": "https://localhost:8080/"
        },
        "id": "f_NBoqK9AhRS",
        "outputId": "4682100b-e647-4f31-9e4d-212143dd133f"
      },
      "outputs": [
        {
          "output_type": "stream",
          "name": "stdout",
          "text": [
            "torch.Size([3, 784])\n"
          ]
        }
      ],
      "source": [
        "flatten = nn.Flatten()\n",
        "flat_image = flatten(input_image)\n",
        "print(flat_image.size())"
      ]
    },
    {
      "cell_type": "markdown",
      "metadata": {
        "id": "3-WCxEm0AwlQ"
      },
      "source": [
        "### nn.Linear\n",
        "The [linear layer](https://pytorch.org/docs/stable/generated/torch.nn.Linear.html)\n",
        "is a module that applies a linear transformation on the input using its stored weights and biases."
      ]
    },
    {
      "cell_type": "code",
      "execution_count": null,
      "metadata": {
        "colab": {
          "base_uri": "https://localhost:8080/"
        },
        "id": "1mAeiYVaAvhm",
        "outputId": "f088013b-c6f1-44e0-b366-4fec138812f4"
      },
      "outputs": [
        {
          "output_type": "stream",
          "name": "stdout",
          "text": [
            "torch.Size([3, 20])\n"
          ]
        }
      ],
      "source": [
        "layer1 = nn.Linear(in_features=28*28, out_features=20)\n",
        "hidden1 = layer1(flat_image)\n",
        "print(hidden1.size())"
      ]
    },
    {
      "cell_type": "markdown",
      "metadata": {
        "id": "UgyzvHXRA2Me"
      },
      "source": [
        "### nn.ReLU\n",
        "Non-linear activations are what create the complex mappings between the model's inputs and outputs.\n",
        "They are applied after linear transformations to introduce *nonlinearity*, helping neural networks\n",
        "learn a wide variety of phenomena.\n",
        "\n",
        "In this model, we use [nn.ReLU](https://pytorch.org/docs/stable/generated/torch.nn.ReLU.html) between our\n",
        "linear layers, but there's other activations to introduce non-linearity in your model."
      ]
    },
    {
      "cell_type": "code",
      "execution_count": null,
      "metadata": {
        "colab": {
          "base_uri": "https://localhost:8080/"
        },
        "id": "mrec4CdnA4wd",
        "outputId": "418a13e6-2695-4b17-e888-ff11643a346d"
      },
      "outputs": [
        {
          "output_type": "stream",
          "name": "stdout",
          "text": [
            "Before ReLU: tensor([[ 4.4176e-01, -8.1927e-04, -4.4663e-02,  2.9619e-01,  2.5046e-01,\n",
            "         -5.7961e-01,  4.0592e-01,  3.2938e-01, -6.2028e-01,  1.8992e-01,\n",
            "         -2.8489e-01, -5.0871e-02,  4.3112e-01, -2.0824e-01,  2.1958e-01,\n",
            "         -2.7955e-01, -9.3912e-02,  1.0144e-01,  2.2358e-01,  1.1241e-02],\n",
            "        [ 3.7187e-01,  3.5274e-01, -2.5956e-01,  2.4720e-01, -4.5632e-03,\n",
            "         -4.9264e-01,  3.9579e-01,  5.9836e-02, -3.8167e-01, -1.1238e-01,\n",
            "         -2.7552e-01, -5.0454e-01,  4.4484e-01, -4.0995e-01, -1.7151e-01,\n",
            "          1.2933e-01,  1.1447e-01, -4.6520e-02,  5.8720e-01, -9.0402e-02],\n",
            "        [ 3.2637e-01,  5.0160e-02, -3.2399e-01,  1.0417e-01,  4.1837e-01,\n",
            "         -5.4401e-01,  8.3621e-01, -1.0418e-02, -5.7780e-01, -1.3974e-01,\n",
            "         -3.0365e-01, -1.8801e-01,  5.3220e-01, -2.1159e-01, -4.8945e-02,\n",
            "          1.6585e-02, -2.4605e-04, -1.2065e-01,  2.5094e-01, -2.7647e-01]],\n",
            "       grad_fn=<AddmmBackward0>)\n",
            "\n",
            "\n",
            "After ReLU: tensor([[0.4418, 0.0000, 0.0000, 0.2962, 0.2505, 0.0000, 0.4059, 0.3294, 0.0000,\n",
            "         0.1899, 0.0000, 0.0000, 0.4311, 0.0000, 0.2196, 0.0000, 0.0000, 0.1014,\n",
            "         0.2236, 0.0112],\n",
            "        [0.3719, 0.3527, 0.0000, 0.2472, 0.0000, 0.0000, 0.3958, 0.0598, 0.0000,\n",
            "         0.0000, 0.0000, 0.0000, 0.4448, 0.0000, 0.0000, 0.1293, 0.1145, 0.0000,\n",
            "         0.5872, 0.0000],\n",
            "        [0.3264, 0.0502, 0.0000, 0.1042, 0.4184, 0.0000, 0.8362, 0.0000, 0.0000,\n",
            "         0.0000, 0.0000, 0.0000, 0.5322, 0.0000, 0.0000, 0.0166, 0.0000, 0.0000,\n",
            "         0.2509, 0.0000]], grad_fn=<ReluBackward0>)\n"
          ]
        }
      ],
      "source": [
        "print(f\"Before ReLU: {hidden1}\\n\\n\")\n",
        "hidden1 = nn.ReLU()(hidden1)\n",
        "print(f\"After ReLU: {hidden1}\")"
      ]
    },
    {
      "cell_type": "markdown",
      "metadata": {
        "id": "s4egd0VYA9Rq"
      },
      "source": [
        "### nn.Sequential\n",
        "[nn.Sequential](https://pytorch.org/docs/stable/generated/torch.nn.Sequential.html) is an ordered\n",
        "container of modules. The data is passed through all the modules in the same order as defined. You can use\n",
        "sequential containers to put together a quick network like ``seq_modules``."
      ]
    },
    {
      "cell_type": "code",
      "execution_count": null,
      "metadata": {
        "id": "8wk3VhMmBIDX"
      },
      "outputs": [],
      "source": [
        "seq_modules = nn.Sequential(\n",
        "    flatten,\n",
        "    layer1,\n",
        "    nn.ReLU(),\n",
        "    nn.Linear(20, 10)\n",
        ")\n",
        "input_image = torch.rand(3,28,28)\n",
        "logits = seq_modules(input_image)"
      ]
    },
    {
      "cell_type": "markdown",
      "metadata": {
        "id": "VU2Wbd4aBLrG"
      },
      "source": [
        "### nn.Softmax\n",
        "The last linear layer of the neural network returns `logits` - raw values in [-$\\infty, \\infty$] which are passed to the\n",
        "[nn.Softmax](https://pytorch.org/docs/stable/generated/torch.nn.Softmax.html) module. The logits are scaled to values\n",
        "[0, 1] representing the model's predicted probabilities for each class. ``dim`` parameter indicates the dimension along\n",
        "which the values must sum to 1."
      ]
    },
    {
      "cell_type": "code",
      "execution_count": null,
      "metadata": {
        "id": "YAFujE9CBPR1"
      },
      "outputs": [],
      "source": [
        "softmax = nn.Softmax(dim=1)\n",
        "pred_probab = softmax(logits)"
      ]
    },
    {
      "cell_type": "markdown",
      "metadata": {
        "id": "e91RJ-nBa4mQ"
      },
      "source": [
        "## Section 2.2 Now let's make some functions to help us train and evaluate"
      ]
    },
    {
      "cell_type": "code",
      "execution_count": null,
      "metadata": {
        "id": "b4wTNFHfbCEy"
      },
      "outputs": [],
      "source": [
        "# Note: network.train() puts the network into \"nondeterministic mode\".\n",
        "# This doesn't matter for the fully connected network, but will matter for the convolutional network\n",
        "def train(network, optimizer, epoch, flatten_data=True):\n",
        "  network.train()\n",
        "  loss_logs = list()\n",
        "\n",
        "  for batch_idx, (data, target) in enumerate(train_loader):\n",
        "    if flatten_data:\n",
        "      data = flatten(data)\n",
        "\n",
        "    num_batches = len(trainloader)\n",
        "    size = len(trainloader.dataset)\n",
        "\n",
        "    # To account for GPU\n",
        "    data, target = data.to(device), target.to(device)\n",
        "\n",
        "\n",
        "    # Zero the gradients\n",
        "    optimizer.zero_grad()\n",
        "\n",
        "    # Perform forward pass\n",
        "    output = network(data)\n",
        "\n",
        "    # Compute loss - Use the negative log likelihood loss function\n",
        "    loss = F.nll_loss(output, target)\n",
        "\n",
        "    # Perform backpropagation - gradient update\n",
        "    loss.backward()\n",
        "\n",
        "    # Perform optimization\n",
        "    optimizer.step()\n",
        "\n",
        "    # print an update\n",
        "    if batch_idx % log_interval == 0:\n",
        "      examples_shown = batch_idx * len(data)\n",
        "      total_examples = len(train_loader.dataset)\n",
        "      fraction_shown = round(examples_shown / total_examples * 100., 2)\n",
        "      rounded_loss = round(loss.item(), 4)\n",
        "      print(f'Train Epoch {epoch} Progress: {fraction_shown}%\\tLoss: {rounded_loss}')\n",
        "\n",
        "      examples_so_far = batch_idx*batch_size_train + epoch*len(train_loader.dataset)\n",
        "      loss_logs.append((examples_so_far, loss.item()))\n",
        "  return loss_logs"
      ]
    },
    {
      "cell_type": "markdown",
      "metadata": {
        "id": "W_3PflW_HOBs"
      },
      "source": [
        "  Observe how gradient buffers had to be manually set to zero using\n",
        "  ``optimizer.zero_grad()``. This is because gradients are accumulated due to back propagation."
      ]
    },
    {
      "cell_type": "markdown",
      "metadata": {
        "id": "Jcyxv9bqvj8_"
      },
      "source": [
        "### **Exercise 3**: Here we used the negative log-likelihood loss function. What are some [other loss functions](https://https://pytorch.org/docs/stable/nn.html#loss-functions) we could use for such multi-class classification?"
      ]
    },
    {
      "cell_type": "markdown",
      "metadata": {
        "id": "j7Pv2V1bv_8e"
      },
      "source": [
        "*SOLUTION*: Some possible answers: Cross entropy loss, Multi margin loss, multi label margin loss"
      ]
    },
    {
      "cell_type": "code",
      "execution_count": null,
      "metadata": {
        "id": "dCsZ4bMAdAJT"
      },
      "outputs": [],
      "source": [
        "def test(network,flatten_data=True):\n",
        "  network.eval()\n",
        "  test_loss = 0\n",
        "  correct = 0\n",
        "  with torch.no_grad():\n",
        "    for data, target in test_loader:\n",
        "      if flatten_data:\n",
        "        data = flatten(data)\n",
        "\n",
        "      # To account for GPU\n",
        "      data, target = data.to(device), target.to(device)\n",
        "\n",
        "      output = network(data)\n",
        "      test_loss += F.nll_loss(output, target, size_average=False).item()\n",
        "      pred = output.data.max(1, keepdim=True)[1]\n",
        "      correct += pred.eq(target.data.view_as(pred)).sum()\n",
        "  test_loss /= len(test_loader.dataset)\n",
        "  accuracy = round(100. * correct.item() / len(test_loader.dataset), 2)\n",
        "  print(f'\\nTest set: Avg loss {round(test_loss, 4)}, Accuracy {accuracy}%\\n')\n",
        "  return test_loss, accuracy"
      ]
    },
    {
      "cell_type": "markdown",
      "metadata": {
        "id": "QC701gDgdyYA"
      },
      "source": [
        "## Now we're ready to train! Run the cell below to train your fully connected network."
      ]
    },
    {
      "cell_type": "code",
      "execution_count": null,
      "metadata": {
        "colab": {
          "base_uri": "https://localhost:8080/"
        },
        "id": "wscu2VYSdxo0",
        "outputId": "bb7cac08-0e59-4080-a63e-e04669a04b18"
      },
      "outputs": [
        {
          "output_type": "stream",
          "name": "stdout",
          "text": [
            "\n",
            "Test set: Avg loss 2.348, Accuracy 8.02%\n",
            "\n",
            "Train Epoch 0 Progress: 0.0%\tLoss: 2.3537\n",
            "Train Epoch 0 Progress: 1.07%\tLoss: 2.1409\n",
            "Train Epoch 0 Progress: 2.13%\tLoss: 1.8337\n",
            "Train Epoch 0 Progress: 3.2%\tLoss: 1.5168\n",
            "Train Epoch 0 Progress: 4.27%\tLoss: 1.3242\n",
            "Train Epoch 0 Progress: 5.33%\tLoss: 1.1885\n",
            "Train Epoch 0 Progress: 6.4%\tLoss: 1.0954\n",
            "Train Epoch 0 Progress: 7.47%\tLoss: 0.8399\n",
            "Train Epoch 0 Progress: 8.53%\tLoss: 0.841\n",
            "Train Epoch 0 Progress: 9.6%\tLoss: 0.6054\n",
            "Train Epoch 0 Progress: 10.67%\tLoss: 0.7435\n",
            "Train Epoch 0 Progress: 11.73%\tLoss: 0.6648\n",
            "Train Epoch 0 Progress: 12.8%\tLoss: 0.4518\n",
            "Train Epoch 0 Progress: 13.87%\tLoss: 0.6083\n",
            "Train Epoch 0 Progress: 14.93%\tLoss: 0.5449\n",
            "Train Epoch 0 Progress: 16.0%\tLoss: 0.6261\n",
            "Train Epoch 0 Progress: 17.07%\tLoss: 0.6638\n",
            "Train Epoch 0 Progress: 18.13%\tLoss: 0.3303\n",
            "Train Epoch 0 Progress: 19.2%\tLoss: 0.4443\n",
            "Train Epoch 0 Progress: 20.27%\tLoss: 0.5587\n",
            "Train Epoch 0 Progress: 21.33%\tLoss: 0.523\n",
            "Train Epoch 0 Progress: 22.4%\tLoss: 0.3718\n",
            "Train Epoch 0 Progress: 23.47%\tLoss: 0.5163\n",
            "Train Epoch 0 Progress: 24.53%\tLoss: 0.5792\n",
            "Train Epoch 0 Progress: 25.6%\tLoss: 0.5855\n",
            "Train Epoch 0 Progress: 26.67%\tLoss: 0.4541\n",
            "Train Epoch 0 Progress: 27.73%\tLoss: 0.4677\n",
            "Train Epoch 0 Progress: 28.8%\tLoss: 0.2677\n",
            "Train Epoch 0 Progress: 29.87%\tLoss: 0.3748\n",
            "Train Epoch 0 Progress: 30.93%\tLoss: 0.4927\n",
            "Train Epoch 0 Progress: 32.0%\tLoss: 0.3535\n",
            "Train Epoch 0 Progress: 33.07%\tLoss: 0.3431\n",
            "Train Epoch 0 Progress: 34.13%\tLoss: 0.3883\n",
            "Train Epoch 0 Progress: 35.2%\tLoss: 0.4148\n",
            "Train Epoch 0 Progress: 36.27%\tLoss: 0.4439\n",
            "Train Epoch 0 Progress: 37.33%\tLoss: 0.3325\n",
            "Train Epoch 0 Progress: 38.4%\tLoss: 0.4834\n",
            "Train Epoch 0 Progress: 39.47%\tLoss: 0.3699\n",
            "Train Epoch 0 Progress: 40.53%\tLoss: 0.2743\n",
            "Train Epoch 0 Progress: 41.6%\tLoss: 0.3262\n",
            "Train Epoch 0 Progress: 42.67%\tLoss: 0.2281\n",
            "Train Epoch 0 Progress: 43.73%\tLoss: 0.3103\n",
            "Train Epoch 0 Progress: 44.8%\tLoss: 0.2682\n",
            "Train Epoch 0 Progress: 45.87%\tLoss: 0.2583\n",
            "Train Epoch 0 Progress: 46.93%\tLoss: 0.4927\n",
            "Train Epoch 0 Progress: 48.0%\tLoss: 0.2186\n",
            "Train Epoch 0 Progress: 49.07%\tLoss: 0.3517\n",
            "Train Epoch 0 Progress: 50.13%\tLoss: 0.3108\n",
            "Train Epoch 0 Progress: 51.2%\tLoss: 0.3542\n",
            "Train Epoch 0 Progress: 52.27%\tLoss: 0.376\n",
            "Train Epoch 0 Progress: 53.33%\tLoss: 0.2571\n",
            "Train Epoch 0 Progress: 54.4%\tLoss: 0.16\n",
            "Train Epoch 0 Progress: 55.47%\tLoss: 0.29\n",
            "Train Epoch 0 Progress: 56.53%\tLoss: 0.1879\n",
            "Train Epoch 0 Progress: 57.6%\tLoss: 0.4493\n",
            "Train Epoch 0 Progress: 58.67%\tLoss: 0.2942\n",
            "Train Epoch 0 Progress: 59.73%\tLoss: 0.2871\n",
            "Train Epoch 0 Progress: 60.8%\tLoss: 0.2696\n",
            "Train Epoch 0 Progress: 61.87%\tLoss: 0.2417\n",
            "Train Epoch 0 Progress: 62.93%\tLoss: 0.2699\n",
            "Train Epoch 0 Progress: 64.0%\tLoss: 0.2865\n",
            "Train Epoch 0 Progress: 65.07%\tLoss: 0.2941\n",
            "Train Epoch 0 Progress: 66.13%\tLoss: 0.25\n",
            "Train Epoch 0 Progress: 67.2%\tLoss: 0.4511\n",
            "Train Epoch 0 Progress: 68.27%\tLoss: 0.3274\n",
            "Train Epoch 0 Progress: 69.33%\tLoss: 0.2209\n",
            "Train Epoch 0 Progress: 70.4%\tLoss: 0.3904\n",
            "Train Epoch 0 Progress: 71.47%\tLoss: 0.3785\n",
            "Train Epoch 0 Progress: 72.53%\tLoss: 0.1722\n",
            "Train Epoch 0 Progress: 73.6%\tLoss: 0.4287\n",
            "Train Epoch 0 Progress: 74.67%\tLoss: 0.1896\n",
            "Train Epoch 0 Progress: 75.73%\tLoss: 0.3724\n",
            "Train Epoch 0 Progress: 76.8%\tLoss: 0.3067\n",
            "Train Epoch 0 Progress: 77.87%\tLoss: 0.2809\n",
            "Train Epoch 0 Progress: 78.93%\tLoss: 0.3233\n",
            "Train Epoch 0 Progress: 80.0%\tLoss: 0.1894\n",
            "Train Epoch 0 Progress: 81.07%\tLoss: 0.1875\n",
            "Train Epoch 0 Progress: 82.13%\tLoss: 0.3368\n",
            "Train Epoch 0 Progress: 83.2%\tLoss: 0.5307\n",
            "Train Epoch 0 Progress: 84.27%\tLoss: 0.2739\n",
            "Train Epoch 0 Progress: 85.33%\tLoss: 0.5918\n",
            "Train Epoch 0 Progress: 86.4%\tLoss: 0.13\n",
            "Train Epoch 0 Progress: 87.47%\tLoss: 0.3358\n",
            "Train Epoch 0 Progress: 88.53%\tLoss: 0.236\n",
            "Train Epoch 0 Progress: 89.6%\tLoss: 0.4879\n",
            "Train Epoch 0 Progress: 90.67%\tLoss: 0.1613\n",
            "Train Epoch 0 Progress: 91.73%\tLoss: 0.2765\n",
            "Train Epoch 0 Progress: 92.8%\tLoss: 0.2213\n",
            "Train Epoch 0 Progress: 93.87%\tLoss: 0.2341\n",
            "Train Epoch 0 Progress: 94.93%\tLoss: 0.3503\n",
            "Train Epoch 0 Progress: 96.0%\tLoss: 0.4003\n",
            "Train Epoch 0 Progress: 97.07%\tLoss: 0.3235\n",
            "Train Epoch 0 Progress: 98.13%\tLoss: 0.3342\n",
            "Train Epoch 0 Progress: 99.2%\tLoss: 0.3891\n",
            "\n",
            "Test set: Avg loss 0.2842, Accuracy 91.79%\n",
            "\n",
            "Train Epoch 1 Progress: 0.0%\tLoss: 0.2193\n",
            "Train Epoch 1 Progress: 1.07%\tLoss: 0.4533\n",
            "Train Epoch 1 Progress: 2.13%\tLoss: 0.1826\n",
            "Train Epoch 1 Progress: 3.2%\tLoss: 0.3607\n",
            "Train Epoch 1 Progress: 4.27%\tLoss: 0.1474\n",
            "Train Epoch 1 Progress: 5.33%\tLoss: 0.1385\n",
            "Train Epoch 1 Progress: 6.4%\tLoss: 0.1818\n",
            "Train Epoch 1 Progress: 7.47%\tLoss: 0.2037\n",
            "Train Epoch 1 Progress: 8.53%\tLoss: 0.3162\n",
            "Train Epoch 1 Progress: 9.6%\tLoss: 0.3175\n",
            "Train Epoch 1 Progress: 10.67%\tLoss: 0.1916\n",
            "Train Epoch 1 Progress: 11.73%\tLoss: 0.2745\n",
            "Train Epoch 1 Progress: 12.8%\tLoss: 0.2182\n",
            "Train Epoch 1 Progress: 13.87%\tLoss: 0.1536\n",
            "Train Epoch 1 Progress: 14.93%\tLoss: 0.1655\n",
            "Train Epoch 1 Progress: 16.0%\tLoss: 0.2781\n",
            "Train Epoch 1 Progress: 17.07%\tLoss: 0.2437\n",
            "Train Epoch 1 Progress: 18.13%\tLoss: 0.3015\n",
            "Train Epoch 1 Progress: 19.2%\tLoss: 0.3935\n",
            "Train Epoch 1 Progress: 20.27%\tLoss: 0.354\n",
            "Train Epoch 1 Progress: 21.33%\tLoss: 0.243\n",
            "Train Epoch 1 Progress: 22.4%\tLoss: 0.1759\n",
            "Train Epoch 1 Progress: 23.47%\tLoss: 0.2372\n",
            "Train Epoch 1 Progress: 24.53%\tLoss: 0.1183\n",
            "Train Epoch 1 Progress: 25.6%\tLoss: 0.3985\n",
            "Train Epoch 1 Progress: 26.67%\tLoss: 0.1745\n",
            "Train Epoch 1 Progress: 27.73%\tLoss: 0.4324\n",
            "Train Epoch 1 Progress: 28.8%\tLoss: 0.1469\n",
            "Train Epoch 1 Progress: 29.87%\tLoss: 0.2479\n",
            "Train Epoch 1 Progress: 30.93%\tLoss: 0.3275\n",
            "Train Epoch 1 Progress: 32.0%\tLoss: 0.3811\n",
            "Train Epoch 1 Progress: 33.07%\tLoss: 0.3467\n",
            "Train Epoch 1 Progress: 34.13%\tLoss: 0.2734\n",
            "Train Epoch 1 Progress: 35.2%\tLoss: 0.1642\n",
            "Train Epoch 1 Progress: 36.27%\tLoss: 0.2606\n",
            "Train Epoch 1 Progress: 37.33%\tLoss: 0.2521\n",
            "Train Epoch 1 Progress: 38.4%\tLoss: 0.3094\n",
            "Train Epoch 1 Progress: 39.47%\tLoss: 0.206\n",
            "Train Epoch 1 Progress: 40.53%\tLoss: 0.1719\n",
            "Train Epoch 1 Progress: 41.6%\tLoss: 0.2139\n",
            "Train Epoch 1 Progress: 42.67%\tLoss: 0.1748\n",
            "Train Epoch 1 Progress: 43.73%\tLoss: 0.3014\n",
            "Train Epoch 1 Progress: 44.8%\tLoss: 0.3225\n",
            "Train Epoch 1 Progress: 45.87%\tLoss: 0.3027\n",
            "Train Epoch 1 Progress: 46.93%\tLoss: 0.2901\n",
            "Train Epoch 1 Progress: 48.0%\tLoss: 0.1963\n",
            "Train Epoch 1 Progress: 49.07%\tLoss: 0.1834\n",
            "Train Epoch 1 Progress: 50.13%\tLoss: 0.3163\n",
            "Train Epoch 1 Progress: 51.2%\tLoss: 0.2036\n",
            "Train Epoch 1 Progress: 52.27%\tLoss: 0.3036\n",
            "Train Epoch 1 Progress: 53.33%\tLoss: 0.1332\n",
            "Train Epoch 1 Progress: 54.4%\tLoss: 0.2109\n",
            "Train Epoch 1 Progress: 55.47%\tLoss: 0.1683\n",
            "Train Epoch 1 Progress: 56.53%\tLoss: 0.4281\n",
            "Train Epoch 1 Progress: 57.6%\tLoss: 0.2673\n",
            "Train Epoch 1 Progress: 58.67%\tLoss: 0.337\n",
            "Train Epoch 1 Progress: 59.73%\tLoss: 0.2202\n",
            "Train Epoch 1 Progress: 60.8%\tLoss: 0.3956\n",
            "Train Epoch 1 Progress: 61.87%\tLoss: 0.2574\n",
            "Train Epoch 1 Progress: 62.93%\tLoss: 0.3659\n",
            "Train Epoch 1 Progress: 64.0%\tLoss: 0.1076\n",
            "Train Epoch 1 Progress: 65.07%\tLoss: 0.2588\n",
            "Train Epoch 1 Progress: 66.13%\tLoss: 0.3185\n",
            "Train Epoch 1 Progress: 67.2%\tLoss: 0.2482\n",
            "Train Epoch 1 Progress: 68.27%\tLoss: 0.1505\n",
            "Train Epoch 1 Progress: 69.33%\tLoss: 0.31\n",
            "Train Epoch 1 Progress: 70.4%\tLoss: 0.2507\n",
            "Train Epoch 1 Progress: 71.47%\tLoss: 0.2231\n",
            "Train Epoch 1 Progress: 72.53%\tLoss: 0.3605\n",
            "Train Epoch 1 Progress: 73.6%\tLoss: 0.1824\n",
            "Train Epoch 1 Progress: 74.67%\tLoss: 0.2001\n",
            "Train Epoch 1 Progress: 75.73%\tLoss: 0.2934\n",
            "Train Epoch 1 Progress: 76.8%\tLoss: 0.2348\n",
            "Train Epoch 1 Progress: 77.87%\tLoss: 0.3052\n",
            "Train Epoch 1 Progress: 78.93%\tLoss: 0.2807\n",
            "Train Epoch 1 Progress: 80.0%\tLoss: 0.2796\n",
            "Train Epoch 1 Progress: 81.07%\tLoss: 0.1652\n",
            "Train Epoch 1 Progress: 82.13%\tLoss: 0.3068\n",
            "Train Epoch 1 Progress: 83.2%\tLoss: 0.1105\n",
            "Train Epoch 1 Progress: 84.27%\tLoss: 0.1643\n",
            "Train Epoch 1 Progress: 85.33%\tLoss: 0.173\n",
            "Train Epoch 1 Progress: 86.4%\tLoss: 0.2126\n",
            "Train Epoch 1 Progress: 87.47%\tLoss: 0.2206\n",
            "Train Epoch 1 Progress: 88.53%\tLoss: 0.1664\n",
            "Train Epoch 1 Progress: 89.6%\tLoss: 0.1755\n",
            "Train Epoch 1 Progress: 90.67%\tLoss: 0.2906\n",
            "Train Epoch 1 Progress: 91.73%\tLoss: 0.1927\n",
            "Train Epoch 1 Progress: 92.8%\tLoss: 0.1874\n",
            "Train Epoch 1 Progress: 93.87%\tLoss: 0.4163\n",
            "Train Epoch 1 Progress: 94.93%\tLoss: 0.1377\n",
            "Train Epoch 1 Progress: 96.0%\tLoss: 0.3518\n",
            "Train Epoch 1 Progress: 97.07%\tLoss: 0.2895\n",
            "Train Epoch 1 Progress: 98.13%\tLoss: 0.2085\n",
            "Train Epoch 1 Progress: 99.2%\tLoss: 0.1842\n",
            "\n",
            "Test set: Avg loss 0.2312, Accuracy 93.61%\n",
            "\n",
            "Train Epoch 2 Progress: 0.0%\tLoss: 0.1494\n",
            "Train Epoch 2 Progress: 1.07%\tLoss: 0.3126\n",
            "Train Epoch 2 Progress: 2.13%\tLoss: 0.1446\n",
            "Train Epoch 2 Progress: 3.2%\tLoss: 0.2817\n",
            "Train Epoch 2 Progress: 4.27%\tLoss: 0.0876\n",
            "Train Epoch 2 Progress: 5.33%\tLoss: 0.2901\n",
            "Train Epoch 2 Progress: 6.4%\tLoss: 0.3326\n",
            "Train Epoch 2 Progress: 7.47%\tLoss: 0.3646\n",
            "Train Epoch 2 Progress: 8.53%\tLoss: 0.2152\n",
            "Train Epoch 2 Progress: 9.6%\tLoss: 0.4429\n",
            "Train Epoch 2 Progress: 10.67%\tLoss: 0.2406\n",
            "Train Epoch 2 Progress: 11.73%\tLoss: 0.3851\n",
            "Train Epoch 2 Progress: 12.8%\tLoss: 0.1037\n",
            "Train Epoch 2 Progress: 13.87%\tLoss: 0.1638\n",
            "Train Epoch 2 Progress: 14.93%\tLoss: 0.2059\n",
            "Train Epoch 2 Progress: 16.0%\tLoss: 0.2965\n",
            "Train Epoch 2 Progress: 17.07%\tLoss: 0.1504\n",
            "Train Epoch 2 Progress: 18.13%\tLoss: 0.2576\n",
            "Train Epoch 2 Progress: 19.2%\tLoss: 0.384\n",
            "Train Epoch 2 Progress: 20.27%\tLoss: 0.2115\n",
            "Train Epoch 2 Progress: 21.33%\tLoss: 0.2223\n",
            "Train Epoch 2 Progress: 22.4%\tLoss: 0.1266\n",
            "Train Epoch 2 Progress: 23.47%\tLoss: 0.237\n",
            "Train Epoch 2 Progress: 24.53%\tLoss: 0.2168\n",
            "Train Epoch 2 Progress: 25.6%\tLoss: 0.1562\n",
            "Train Epoch 2 Progress: 26.67%\tLoss: 0.1248\n",
            "Train Epoch 2 Progress: 27.73%\tLoss: 0.1073\n",
            "Train Epoch 2 Progress: 28.8%\tLoss: 0.2281\n",
            "Train Epoch 2 Progress: 29.87%\tLoss: 0.1065\n",
            "Train Epoch 2 Progress: 30.93%\tLoss: 0.1518\n",
            "Train Epoch 2 Progress: 32.0%\tLoss: 0.277\n",
            "Train Epoch 2 Progress: 33.07%\tLoss: 0.2302\n",
            "Train Epoch 2 Progress: 34.13%\tLoss: 0.3646\n",
            "Train Epoch 2 Progress: 35.2%\tLoss: 0.2353\n",
            "Train Epoch 2 Progress: 36.27%\tLoss: 0.2267\n",
            "Train Epoch 2 Progress: 37.33%\tLoss: 0.1311\n",
            "Train Epoch 2 Progress: 38.4%\tLoss: 0.1671\n",
            "Train Epoch 2 Progress: 39.47%\tLoss: 0.1867\n",
            "Train Epoch 2 Progress: 40.53%\tLoss: 0.1611\n",
            "Train Epoch 2 Progress: 41.6%\tLoss: 0.1213\n",
            "Train Epoch 2 Progress: 42.67%\tLoss: 0.1789\n",
            "Train Epoch 2 Progress: 43.73%\tLoss: 0.2373\n",
            "Train Epoch 2 Progress: 44.8%\tLoss: 0.2946\n",
            "Train Epoch 2 Progress: 45.87%\tLoss: 0.1618\n",
            "Train Epoch 2 Progress: 46.93%\tLoss: 0.2765\n",
            "Train Epoch 2 Progress: 48.0%\tLoss: 0.1177\n",
            "Train Epoch 2 Progress: 49.07%\tLoss: 0.1794\n",
            "Train Epoch 2 Progress: 50.13%\tLoss: 0.4002\n",
            "Train Epoch 2 Progress: 51.2%\tLoss: 0.104\n",
            "Train Epoch 2 Progress: 52.27%\tLoss: 0.106\n",
            "Train Epoch 2 Progress: 53.33%\tLoss: 0.2564\n",
            "Train Epoch 2 Progress: 54.4%\tLoss: 0.2895\n",
            "Train Epoch 2 Progress: 55.47%\tLoss: 0.2422\n",
            "Train Epoch 2 Progress: 56.53%\tLoss: 0.1617\n",
            "Train Epoch 2 Progress: 57.6%\tLoss: 0.1583\n",
            "Train Epoch 2 Progress: 58.67%\tLoss: 0.2972\n",
            "Train Epoch 2 Progress: 59.73%\tLoss: 0.2309\n",
            "Train Epoch 2 Progress: 60.8%\tLoss: 0.1361\n",
            "Train Epoch 2 Progress: 61.87%\tLoss: 0.2108\n",
            "Train Epoch 2 Progress: 62.93%\tLoss: 0.2371\n",
            "Train Epoch 2 Progress: 64.0%\tLoss: 0.1536\n",
            "Train Epoch 2 Progress: 65.07%\tLoss: 0.2921\n",
            "Train Epoch 2 Progress: 66.13%\tLoss: 0.1351\n",
            "Train Epoch 2 Progress: 67.2%\tLoss: 0.2599\n",
            "Train Epoch 2 Progress: 68.27%\tLoss: 0.12\n",
            "Train Epoch 2 Progress: 69.33%\tLoss: 0.1884\n",
            "Train Epoch 2 Progress: 70.4%\tLoss: 0.1208\n",
            "Train Epoch 2 Progress: 71.47%\tLoss: 0.2821\n",
            "Train Epoch 2 Progress: 72.53%\tLoss: 0.1448\n",
            "Train Epoch 2 Progress: 73.6%\tLoss: 0.1127\n",
            "Train Epoch 2 Progress: 74.67%\tLoss: 0.0916\n",
            "Train Epoch 2 Progress: 75.73%\tLoss: 0.3473\n",
            "Train Epoch 2 Progress: 76.8%\tLoss: 0.2063\n",
            "Train Epoch 2 Progress: 77.87%\tLoss: 0.1079\n",
            "Train Epoch 2 Progress: 78.93%\tLoss: 0.2196\n",
            "Train Epoch 2 Progress: 80.0%\tLoss: 0.1688\n",
            "Train Epoch 2 Progress: 81.07%\tLoss: 0.161\n",
            "Train Epoch 2 Progress: 82.13%\tLoss: 0.1849\n",
            "Train Epoch 2 Progress: 83.2%\tLoss: 0.1417\n",
            "Train Epoch 2 Progress: 84.27%\tLoss: 0.1684\n",
            "Train Epoch 2 Progress: 85.33%\tLoss: 0.2338\n",
            "Train Epoch 2 Progress: 86.4%\tLoss: 0.2446\n",
            "Train Epoch 2 Progress: 87.47%\tLoss: 0.2184\n",
            "Train Epoch 2 Progress: 88.53%\tLoss: 0.2477\n",
            "Train Epoch 2 Progress: 89.6%\tLoss: 0.2272\n",
            "Train Epoch 2 Progress: 90.67%\tLoss: 0.1423\n",
            "Train Epoch 2 Progress: 91.73%\tLoss: 0.2648\n",
            "Train Epoch 2 Progress: 92.8%\tLoss: 0.0919\n",
            "Train Epoch 2 Progress: 93.87%\tLoss: 0.0974\n",
            "Train Epoch 2 Progress: 94.93%\tLoss: 0.1394\n",
            "Train Epoch 2 Progress: 96.0%\tLoss: 0.1507\n",
            "Train Epoch 2 Progress: 97.07%\tLoss: 0.3253\n",
            "Train Epoch 2 Progress: 98.13%\tLoss: 0.166\n",
            "Train Epoch 2 Progress: 99.2%\tLoss: 0.2365\n",
            "\n",
            "Test set: Avg loss 0.1954, Accuracy 94.29%\n",
            "\n"
          ]
        }
      ],
      "source": [
        "test_accuracies, test_losses, train_losses = list(), list(), list()\n",
        "total_examples_seen = 0\n",
        "for epoch in range(n_epochs):\n",
        "  test_loss, test_accuracy = test(fc_network)\n",
        "  train_loss_logs = train(fc_network, fc_optimizer, epoch)\n",
        "  # logging\n",
        "  test_accuracies.append((epoch, test_accuracy))\n",
        "  test_losses.append((total_examples_seen, test_loss))\n",
        "  train_losses.extend((train_loss_logs))\n",
        "  total_examples_seen = train_loss_logs[-1][0]\n",
        "test_loss, test_accuracy = test(fc_network)\n",
        "test_accuracies.append((n_epochs, test_accuracy))\n",
        "test_losses.append((total_examples_seen, test_loss))"
      ]
    },
    {
      "cell_type": "markdown",
      "metadata": {
        "id": "v12xeRLbpPo9"
      },
      "source": [
        "## Let's visualize the results! 📈"
      ]
    },
    {
      "cell_type": "code",
      "execution_count": null,
      "metadata": {
        "id": "aD4oXHFpdtqv"
      },
      "outputs": [],
      "source": [
        "import matplotlib.pyplot as plt\n",
        "%matplotlib inline\n",
        "\n",
        "def plot_results(test_accuracies, test_losses, train_losses):\n",
        "  # plot training losses and test losses together\n",
        "  training_x_values = [x[0] for x in train_losses]\n",
        "  training_losses = [x[1] for x in train_losses]\n",
        "  plt.plot(training_x_values, training_losses)\n",
        "  test_x_values = [x[0]  for x in test_losses]\n",
        "  test_loss_values = [x[1] for x in test_losses]\n",
        "  plt.plot(test_x_values, test_loss_values, linestyle='--', marker='o', color='r')\n",
        "  # plt.scatter(test_x_values, test_loss_values, color='r')\n",
        "  plt.ylabel('Log loss')\n",
        "  plt.xlabel('Examples seen')\n",
        "  plt.show()\n",
        "\n",
        "  # Next, plot test accuracy over time\n",
        "  test_accuracy_x_values = [x[0] for x in test_accuracies]\n",
        "  test_accuracy_values = [x[1] for x in test_accuracies]\n",
        "  plt.plot(test_accuracy_x_values, test_accuracy_values, color='g', marker='o')\n",
        "  plt.ylabel('Test Accuracy')\n",
        "  plt.xlabel('Epochs')"
      ]
    },
    {
      "cell_type": "markdown",
      "metadata": {
        "id": "nQdcJMcQzrOb"
      },
      "source": [
        "### **Exercise 4:** Generate and inspect the accuracy and loss graphs. Are these what you would expect? If you continued training for longer, what would you expect? Try it!"
      ]
    },
    {
      "cell_type": "code",
      "execution_count": null,
      "metadata": {
        "colab": {
          "base_uri": "https://localhost:8080/",
          "height": 881
        },
        "id": "02dUjIlD5T1g",
        "outputId": "e8b94008-0b59-48a5-9939-3029a2c522df"
      },
      "outputs": [
        {
          "output_type": "display_data",
          "data": {
            "text/plain": [
              "<Figure size 640x480 with 1 Axes>"
            ],
            "image/png": "[encoded data removed]"
          },
          "metadata": {}
        },
        {
          "output_type": "display_data",
          "data": {
            "text/plain": [
              "<Figure size 640x480 with 1 Axes>"
            ],
            "image/png": "[encoded data removed]"
          },
          "metadata": {}
        }
      ],
      "source": [
        "plot_results(test_accuracies, test_losses, train_losses)"
      ]
    },
    {
      "cell_type": "markdown",
      "metadata": {
        "id": "KCCjaXw8jdQ8"
      },
      "source": [
        "*SOLUTION*: This should be about what you expect, and with more training you could expect slightly better performance over time but the performance will not reach 99% or 100%. This may also lead to overfitting since the model seems to already be a pretty good fit with low loss and high accuracy. Overfitting would result in lower training errors but poorer performance on the test set."
      ]
    },
    {
      "cell_type": "markdown",
      "metadata": {
        "id": "oa2QC_fUjb5s"
      },
      "source": [
        "### **Exercise 5:** If you were using a fully connected network to solve a real-world problem, would you use this neural architecture or would you change something? What would you change and why?"
      ]
    },
    {
      "cell_type": "markdown",
      "metadata": {
        "id": "s4irhyYykf2q"
      },
      "source": [
        "*SOLUTION*: Generally, this architecture with more training time and better hyperparameters would be the best solution, especially on mobile devices and low-resource computing settings because it performs very well, and is a very small architecture. However, if you have lots of compute, you could experiment with larger architectures that might get slightly better performance."
      ]
    },
    {
      "cell_type": "markdown",
      "metadata": {
        "id": "XGuL1p-OZkEG"
      },
      "source": [
        "## Section 2.3: Let's do it again with a Convolutional Network! There might be some layers you don't recognize, such as \"dropout\" and \"max pooling\". Don't worry about those for now!"
      ]
    },
    {
      "cell_type": "code",
      "execution_count": null,
      "metadata": {
        "id": "fEJeLt-oBX-M"
      },
      "outputs": [],
      "source": [
        "class ConvNet(nn.Module):\n",
        "    def __init__(self):\n",
        "        super().__init__()\n",
        "        # 1 input image channel, 10 output channels, 5x5 square convolution\n",
        "        self.conv1 = nn.Conv2d(1, 10, kernel_size=5)\n",
        "\n",
        "        # Add another convolutional layer with 20 output channels & 5x5 kernel\n",
        "        self.conv2 = nn.Conv2d(10, 20, kernel_size=5)\n",
        "\n",
        "        self.conv2_drop = nn.Dropout2d()\n",
        "\n",
        "        # Add linear layer with 320 inputs & 50 outputs\n",
        "        self.fc1 = nn.Linear(320, 50)\n",
        "\n",
        "        # Add linear layer with 50 inputs & 10 outputs\n",
        "        self.fc2 = nn.Linear(50, 10)\n",
        "\n",
        "    def forward(self, x):\n",
        "\n",
        "        x = F.relu(F.max_pool2d(self.conv1(x), 2))\n",
        "\n",
        "        # Apply the 2nd Conv layer followed by dropout\n",
        "        x = self.conv2_drop(self.conv2(x))\n",
        "\n",
        "        # Apply max pooling with size of the pooling region (kernel) = 2\n",
        "        x = F.max_pool2d(x, 2)\n",
        "\n",
        "        # Apply ReLU activation\n",
        "        x = F.relu(x)\n",
        "\n",
        "        x = x.view(-1, 320)\n",
        "\n",
        "        # TODO: Apply the 1st linear layer\n",
        "        x = F.relu(self.fc1(x))\n",
        "\n",
        "        x = F.dropout(x, training=self.training)\n",
        "\n",
        "        # Apply the last linear layer\n",
        "        x = self.fc2(x)\n",
        "\n",
        "        # Return categorical probability distribution (calculate log(softmax))\n",
        "        return F.log_softmax(x)"
      ]
    },
    {
      "cell_type": "markdown",
      "metadata": {
        "id": "zsU64gHZ5FlZ"
      },
      "source": [
        "Let's establish our hyperparameters again so we don't have to scroll all the way up"
      ]
    },
    {
      "cell_type": "code",
      "execution_count": null,
      "metadata": {
        "id": "-loYzqjE4jkI"
      },
      "outputs": [],
      "source": [
        "n_epochs = 3\n",
        "batch_size_train = 64\n",
        "batch_size_test = 1000\n",
        "learning_rate = 0.01\n",
        "momentum = 0.5\n",
        "log_interval = 10"
      ]
    },
    {
      "cell_type": "code",
      "execution_count": null,
      "metadata": {
        "id": "wp0JMg-eBaxq"
      },
      "outputs": [],
      "source": [
        "# Initialize network instance\n",
        "conv_network = ConvNet()\n",
        "\n",
        "# Pass to device (CPU or GPU)\n",
        "conv_network.to(device)\n",
        "\n",
        "# Use SGD optimizer with custom learning rate, momentum\n",
        "conv_optimizer = optim.SGD(conv_network.parameters(), lr=learning_rate, momentum=momentum)"
      ]
    },
    {
      "cell_type": "code",
      "execution_count": null,
      "metadata": {
        "colab": {
          "base_uri": "https://localhost:8080/"
        },
        "id": "-7ugn2h93yr4",
        "outputId": "5762f29b-0ade-4121-cecf-6b600fe7fb74"
      },
      "outputs": [
        {
          "output_type": "stream",
          "name": "stdout",
          "text": [
            "\n",
            "Test set: Avg loss 2.3023, Accuracy 9.6%\n",
            "\n",
            "Train Epoch 0 Progress: 0.0%\tLoss: 2.2812\n",
            "Train Epoch 0 Progress: 1.07%\tLoss: 2.2759\n",
            "Train Epoch 0 Progress: 2.13%\tLoss: 2.3073\n",
            "Train Epoch 0 Progress: 3.2%\tLoss: 2.2866\n",
            "Train Epoch 0 Progress: 4.27%\tLoss: 2.2571\n",
            "Train Epoch 0 Progress: 5.33%\tLoss: 2.2621\n",
            "Train Epoch 0 Progress: 6.4%\tLoss: 2.2899\n",
            "Train Epoch 0 Progress: 7.47%\tLoss: 2.1922\n",
            "Train Epoch 0 Progress: 8.53%\tLoss: 2.1272\n",
            "Train Epoch 0 Progress: 9.6%\tLoss: 2.1906\n",
            "Train Epoch 0 Progress: 10.67%\tLoss: 2.1054\n",
            "Train Epoch 0 Progress: 11.73%\tLoss: 1.9752\n",
            "Train Epoch 0 Progress: 12.8%\tLoss: 1.8455\n",
            "Train Epoch 0 Progress: 13.87%\tLoss: 1.6734\n",
            "Train Epoch 0 Progress: 14.93%\tLoss: 1.6812\n",
            "Train Epoch 0 Progress: 16.0%\tLoss: 1.6865\n",
            "Train Epoch 0 Progress: 17.07%\tLoss: 1.5038\n",
            "Train Epoch 0 Progress: 18.13%\tLoss: 1.4785\n",
            "Train Epoch 0 Progress: 19.2%\tLoss: 1.3037\n",
            "Train Epoch 0 Progress: 20.27%\tLoss: 1.3447\n",
            "Train Epoch 0 Progress: 21.33%\tLoss: 1.2811\n",
            "Train Epoch 0 Progress: 22.4%\tLoss: 0.9318\n",
            "Train Epoch 0 Progress: 23.47%\tLoss: 1.2098\n",
            "Train Epoch 0 Progress: 24.53%\tLoss: 1.2946\n",
            "Train Epoch 0 Progress: 25.6%\tLoss: 1.0287\n",
            "Train Epoch 0 Progress: 26.67%\tLoss: 0.9926\n",
            "Train Epoch 0 Progress: 27.73%\tLoss: 0.9109\n",
            "Train Epoch 0 Progress: 28.8%\tLoss: 0.985\n",
            "Train Epoch 0 Progress: 29.87%\tLoss: 0.8447\n",
            "Train Epoch 0 Progress: 30.93%\tLoss: 0.7614\n",
            "Train Epoch 0 Progress: 32.0%\tLoss: 0.9132\n",
            "Train Epoch 0 Progress: 33.07%\tLoss: 0.9643\n",
            "Train Epoch 0 Progress: 34.13%\tLoss: 0.7995\n",
            "Train Epoch 0 Progress: 35.2%\tLoss: 1.0826\n",
            "Train Epoch 0 Progress: 36.27%\tLoss: 0.9577\n",
            "Train Epoch 0 Progress: 37.33%\tLoss: 0.8265\n",
            "Train Epoch 0 Progress: 38.4%\tLoss: 0.9316\n",
            "Train Epoch 0 Progress: 39.47%\tLoss: 0.7112\n",
            "Train Epoch 0 Progress: 40.53%\tLoss: 0.5471\n",
            "Train Epoch 0 Progress: 41.6%\tLoss: 0.6531\n",
            "Train Epoch 0 Progress: 42.67%\tLoss: 0.8489\n",
            "Train Epoch 0 Progress: 43.73%\tLoss: 0.7696\n",
            "Train Epoch 0 Progress: 44.8%\tLoss: 0.744\n",
            "Train Epoch 0 Progress: 45.87%\tLoss: 0.7541\n",
            "Train Epoch 0 Progress: 46.93%\tLoss: 0.524\n",
            "Train Epoch 0 Progress: 48.0%\tLoss: 0.5636\n",
            "Train Epoch 0 Progress: 49.07%\tLoss: 0.7504\n",
            "Train Epoch 0 Progress: 50.13%\tLoss: 0.5391\n",
            "Train Epoch 0 Progress: 51.2%\tLoss: 0.7437\n",
            "Train Epoch 0 Progress: 52.27%\tLoss: 0.6012\n",
            "Train Epoch 0 Progress: 53.33%\tLoss: 0.7115\n",
            "Train Epoch 0 Progress: 54.4%\tLoss: 0.6765\n",
            "Train Epoch 0 Progress: 55.47%\tLoss: 0.6436\n",
            "Train Epoch 0 Progress: 56.53%\tLoss: 0.5119\n",
            "Train Epoch 0 Progress: 57.6%\tLoss: 0.6416\n",
            "Train Epoch 0 Progress: 58.67%\tLoss: 0.7117\n",
            "Train Epoch 0 Progress: 59.73%\tLoss: 0.5869\n",
            "Train Epoch 0 Progress: 60.8%\tLoss: 0.5339\n",
            "Train Epoch 0 Progress: 61.87%\tLoss: 0.9168\n",
            "Train Epoch 0 Progress: 62.93%\tLoss: 0.5519\n",
            "Train Epoch 0 Progress: 64.0%\tLoss: 0.5901\n",
            "Train Epoch 0 Progress: 65.07%\tLoss: 0.5255\n",
            "Train Epoch 0 Progress: 66.13%\tLoss: 0.4738\n",
            "Train Epoch 0 Progress: 67.2%\tLoss: 0.4912\n",
            "Train Epoch 0 Progress: 68.27%\tLoss: 0.5292\n",
            "Train Epoch 0 Progress: 69.33%\tLoss: 0.4654\n",
            "Train Epoch 0 Progress: 70.4%\tLoss: 0.5092\n",
            "Train Epoch 0 Progress: 71.47%\tLoss: 0.4907\n",
            "Train Epoch 0 Progress: 72.53%\tLoss: 0.4302\n",
            "Train Epoch 0 Progress: 73.6%\tLoss: 0.7538\n",
            "Train Epoch 0 Progress: 74.67%\tLoss: 0.5171\n",
            "Train Epoch 0 Progress: 75.73%\tLoss: 0.7877\n",
            "Train Epoch 0 Progress: 76.8%\tLoss: 0.4493\n",
            "Train Epoch 0 Progress: 77.87%\tLoss: 0.3405\n",
            "Train Epoch 0 Progress: 78.93%\tLoss: 0.4348\n",
            "Train Epoch 0 Progress: 80.0%\tLoss: 0.692\n",
            "Train Epoch 0 Progress: 81.07%\tLoss: 0.4066\n",
            "Train Epoch 0 Progress: 82.13%\tLoss: 0.3817\n",
            "Train Epoch 0 Progress: 83.2%\tLoss: 0.4298\n",
            "Train Epoch 0 Progress: 84.27%\tLoss: 0.8226\n",
            "Train Epoch 0 Progress: 85.33%\tLoss: 0.5486\n",
            "Train Epoch 0 Progress: 86.4%\tLoss: 0.4763\n",
            "Train Epoch 0 Progress: 87.47%\tLoss: 0.3741\n",
            "Train Epoch 0 Progress: 88.53%\tLoss: 0.6213\n",
            "Train Epoch 0 Progress: 89.6%\tLoss: 0.3455\n",
            "Train Epoch 0 Progress: 90.67%\tLoss: 0.5864\n",
            "Train Epoch 0 Progress: 91.73%\tLoss: 0.5129\n",
            "Train Epoch 0 Progress: 92.8%\tLoss: 0.7374\n",
            "Train Epoch 0 Progress: 93.87%\tLoss: 0.3475\n",
            "Train Epoch 0 Progress: 94.93%\tLoss: 0.7385\n",
            "Train Epoch 0 Progress: 96.0%\tLoss: 0.4985\n",
            "Train Epoch 0 Progress: 97.07%\tLoss: 0.6321\n",
            "Train Epoch 0 Progress: 98.13%\tLoss: 0.3829\n",
            "Train Epoch 0 Progress: 99.2%\tLoss: 0.4767\n",
            "\n",
            "Test set: Avg loss 0.1963, Accuracy 94.45%\n",
            "\n",
            "Train Epoch 1 Progress: 0.0%\tLoss: 0.6246\n",
            "Train Epoch 1 Progress: 1.07%\tLoss: 0.4282\n",
            "Train Epoch 1 Progress: 2.13%\tLoss: 0.3597\n",
            "Train Epoch 1 Progress: 3.2%\tLoss: 0.3619\n",
            "Train Epoch 1 Progress: 4.27%\tLoss: 0.396\n",
            "Train Epoch 1 Progress: 5.33%\tLoss: 0.2747\n",
            "Train Epoch 1 Progress: 6.4%\tLoss: 0.3173\n",
            "Train Epoch 1 Progress: 7.47%\tLoss: 0.4653\n",
            "Train Epoch 1 Progress: 8.53%\tLoss: 0.3436\n",
            "Train Epoch 1 Progress: 9.6%\tLoss: 0.5107\n",
            "Train Epoch 1 Progress: 10.67%\tLoss: 0.4207\n",
            "Train Epoch 1 Progress: 11.73%\tLoss: 0.4409\n",
            "Train Epoch 1 Progress: 12.8%\tLoss: 0.4498\n",
            "Train Epoch 1 Progress: 13.87%\tLoss: 0.3089\n",
            "Train Epoch 1 Progress: 14.93%\tLoss: 0.5113\n",
            "Train Epoch 1 Progress: 16.0%\tLoss: 0.4492\n",
            "Train Epoch 1 Progress: 17.07%\tLoss: 0.4417\n",
            "Train Epoch 1 Progress: 18.13%\tLoss: 0.4851\n",
            "Train Epoch 1 Progress: 19.2%\tLoss: 0.4248\n",
            "Train Epoch 1 Progress: 20.27%\tLoss: 0.4985\n",
            "Train Epoch 1 Progress: 21.33%\tLoss: 0.5062\n",
            "Train Epoch 1 Progress: 22.4%\tLoss: 0.4732\n",
            "Train Epoch 1 Progress: 23.47%\tLoss: 0.5051\n",
            "Train Epoch 1 Progress: 24.53%\tLoss: 0.4019\n",
            "Train Epoch 1 Progress: 25.6%\tLoss: 0.3\n",
            "Train Epoch 1 Progress: 26.67%\tLoss: 0.6849\n",
            "Train Epoch 1 Progress: 27.73%\tLoss: 0.3839\n",
            "Train Epoch 1 Progress: 28.8%\tLoss: 0.4081\n",
            "Train Epoch 1 Progress: 29.87%\tLoss: 0.3297\n",
            "Train Epoch 1 Progress: 30.93%\tLoss: 0.35\n",
            "Train Epoch 1 Progress: 32.0%\tLoss: 0.3584\n",
            "Train Epoch 1 Progress: 33.07%\tLoss: 0.4731\n",
            "Train Epoch 1 Progress: 34.13%\tLoss: 0.5235\n",
            "Train Epoch 1 Progress: 35.2%\tLoss: 0.7209\n",
            "Train Epoch 1 Progress: 36.27%\tLoss: 0.3612\n",
            "Train Epoch 1 Progress: 37.33%\tLoss: 0.3947\n",
            "Train Epoch 1 Progress: 38.4%\tLoss: 0.5452\n",
            "Train Epoch 1 Progress: 39.47%\tLoss: 0.4753\n",
            "Train Epoch 1 Progress: 40.53%\tLoss: 0.2725\n",
            "Train Epoch 1 Progress: 41.6%\tLoss: 0.3072\n",
            "Train Epoch 1 Progress: 42.67%\tLoss: 0.3747\n",
            "Train Epoch 1 Progress: 43.73%\tLoss: 0.4148\n",
            "Train Epoch 1 Progress: 44.8%\tLoss: 0.3536\n",
            "Train Epoch 1 Progress: 45.87%\tLoss: 0.2235\n",
            "Train Epoch 1 Progress: 46.93%\tLoss: 0.4428\n",
            "Train Epoch 1 Progress: 48.0%\tLoss: 0.4217\n",
            "Train Epoch 1 Progress: 49.07%\tLoss: 0.5562\n",
            "Train Epoch 1 Progress: 50.13%\tLoss: 0.4547\n",
            "Train Epoch 1 Progress: 51.2%\tLoss: 0.3282\n",
            "Train Epoch 1 Progress: 52.27%\tLoss: 0.3068\n",
            "Train Epoch 1 Progress: 53.33%\tLoss: 0.3234\n",
            "Train Epoch 1 Progress: 54.4%\tLoss: 0.2825\n",
            "Train Epoch 1 Progress: 55.47%\tLoss: 0.481\n",
            "Train Epoch 1 Progress: 56.53%\tLoss: 0.2872\n",
            "Train Epoch 1 Progress: 57.6%\tLoss: 0.3802\n",
            "Train Epoch 1 Progress: 58.67%\tLoss: 0.2428\n",
            "Train Epoch 1 Progress: 59.73%\tLoss: 0.4748\n",
            "Train Epoch 1 Progress: 60.8%\tLoss: 0.3199\n",
            "Train Epoch 1 Progress: 61.87%\tLoss: 0.3013\n",
            "Train Epoch 1 Progress: 62.93%\tLoss: 0.2186\n",
            "Train Epoch 1 Progress: 64.0%\tLoss: 0.4171\n",
            "Train Epoch 1 Progress: 65.07%\tLoss: 0.3837\n",
            "Train Epoch 1 Progress: 66.13%\tLoss: 0.4064\n",
            "Train Epoch 1 Progress: 67.2%\tLoss: 0.2656\n",
            "Train Epoch 1 Progress: 68.27%\tLoss: 0.3813\n",
            "Train Epoch 1 Progress: 69.33%\tLoss: 0.3621\n",
            "Train Epoch 1 Progress: 70.4%\tLoss: 0.545\n",
            "Train Epoch 1 Progress: 71.47%\tLoss: 0.4923\n",
            "Train Epoch 1 Progress: 72.53%\tLoss: 0.226\n",
            "Train Epoch 1 Progress: 73.6%\tLoss: 0.4061\n",
            "Train Epoch 1 Progress: 74.67%\tLoss: 0.2967\n",
            "Train Epoch 1 Progress: 75.73%\tLoss: 0.2767\n",
            "Train Epoch 1 Progress: 76.8%\tLoss: 0.4893\n",
            "Train Epoch 1 Progress: 77.87%\tLoss: 0.445\n",
            "Train Epoch 1 Progress: 78.93%\tLoss: 0.5277\n",
            "Train Epoch 1 Progress: 80.0%\tLoss: 0.2618\n",
            "Train Epoch 1 Progress: 81.07%\tLoss: 0.2889\n",
            "Train Epoch 1 Progress: 82.13%\tLoss: 0.1793\n",
            "Train Epoch 1 Progress: 83.2%\tLoss: 0.2609\n",
            "Train Epoch 1 Progress: 84.27%\tLoss: 0.314\n",
            "Train Epoch 1 Progress: 85.33%\tLoss: 0.4843\n",
            "Train Epoch 1 Progress: 86.4%\tLoss: 0.3705\n",
            "Train Epoch 1 Progress: 87.47%\tLoss: 0.4105\n",
            "Train Epoch 1 Progress: 88.53%\tLoss: 0.1511\n",
            "Train Epoch 1 Progress: 89.6%\tLoss: 0.335\n",
            "Train Epoch 1 Progress: 90.67%\tLoss: 0.2969\n",
            "Train Epoch 1 Progress: 91.73%\tLoss: 0.4848\n",
            "Train Epoch 1 Progress: 92.8%\tLoss: 0.4729\n",
            "Train Epoch 1 Progress: 93.87%\tLoss: 0.2538\n",
            "Train Epoch 1 Progress: 94.93%\tLoss: 0.1698\n",
            "Train Epoch 1 Progress: 96.0%\tLoss: 0.44\n",
            "Train Epoch 1 Progress: 97.07%\tLoss: 0.3414\n",
            "Train Epoch 1 Progress: 98.13%\tLoss: 0.4627\n",
            "Train Epoch 1 Progress: 99.2%\tLoss: 0.3769\n",
            "\n",
            "Test set: Avg loss 0.125, Accuracy 96.27%\n",
            "\n",
            "Train Epoch 2 Progress: 0.0%\tLoss: 0.2053\n",
            "Train Epoch 2 Progress: 1.07%\tLoss: 0.3613\n",
            "Train Epoch 2 Progress: 2.13%\tLoss: 0.254\n",
            "Train Epoch 2 Progress: 3.2%\tLoss: 0.4335\n",
            "Train Epoch 2 Progress: 4.27%\tLoss: 0.2863\n",
            "Train Epoch 2 Progress: 5.33%\tLoss: 0.2094\n",
            "Train Epoch 2 Progress: 6.4%\tLoss: 0.3341\n",
            "Train Epoch 2 Progress: 7.47%\tLoss: 0.2479\n",
            "Train Epoch 2 Progress: 8.53%\tLoss: 0.6638\n",
            "Train Epoch 2 Progress: 9.6%\tLoss: 0.4466\n",
            "Train Epoch 2 Progress: 10.67%\tLoss: 0.3988\n",
            "Train Epoch 2 Progress: 11.73%\tLoss: 0.3608\n",
            "Train Epoch 2 Progress: 12.8%\tLoss: 0.2688\n",
            "Train Epoch 2 Progress: 13.87%\tLoss: 0.3288\n",
            "Train Epoch 2 Progress: 14.93%\tLoss: 0.288\n",
            "Train Epoch 2 Progress: 16.0%\tLoss: 0.4843\n",
            "Train Epoch 2 Progress: 17.07%\tLoss: 0.2793\n",
            "Train Epoch 2 Progress: 18.13%\tLoss: 0.2643\n",
            "Train Epoch 2 Progress: 19.2%\tLoss: 0.1873\n",
            "Train Epoch 2 Progress: 20.27%\tLoss: 0.4186\n",
            "Train Epoch 2 Progress: 21.33%\tLoss: 0.5349\n",
            "Train Epoch 2 Progress: 22.4%\tLoss: 0.2668\n",
            "Train Epoch 2 Progress: 23.47%\tLoss: 0.4775\n",
            "Train Epoch 2 Progress: 24.53%\tLoss: 0.1893\n",
            "Train Epoch 2 Progress: 25.6%\tLoss: 0.2401\n",
            "Train Epoch 2 Progress: 26.67%\tLoss: 0.4353\n",
            "Train Epoch 2 Progress: 27.73%\tLoss: 0.2511\n",
            "Train Epoch 2 Progress: 28.8%\tLoss: 0.2271\n",
            "Train Epoch 2 Progress: 29.87%\tLoss: 0.3828\n",
            "Train Epoch 2 Progress: 30.93%\tLoss: 0.1916\n",
            "Train Epoch 2 Progress: 32.0%\tLoss: 0.2882\n",
            "Train Epoch 2 Progress: 33.07%\tLoss: 0.3285\n",
            "Train Epoch 2 Progress: 34.13%\tLoss: 0.4482\n",
            "Train Epoch 2 Progress: 35.2%\tLoss: 0.5872\n",
            "Train Epoch 2 Progress: 36.27%\tLoss: 0.3383\n",
            "Train Epoch 2 Progress: 37.33%\tLoss: 0.4464\n",
            "Train Epoch 2 Progress: 38.4%\tLoss: 0.204\n",
            "Train Epoch 2 Progress: 39.47%\tLoss: 0.162\n",
            "Train Epoch 2 Progress: 40.53%\tLoss: 0.4252\n",
            "Train Epoch 2 Progress: 41.6%\tLoss: 0.2175\n",
            "Train Epoch 2 Progress: 42.67%\tLoss: 0.2571\n",
            "Train Epoch 2 Progress: 43.73%\tLoss: 0.2688\n",
            "Train Epoch 2 Progress: 44.8%\tLoss: 0.1968\n",
            "Train Epoch 2 Progress: 45.87%\tLoss: 0.3941\n",
            "Train Epoch 2 Progress: 46.93%\tLoss: 0.2364\n",
            "Train Epoch 2 Progress: 48.0%\tLoss: 0.2455\n",
            "Train Epoch 2 Progress: 49.07%\tLoss: 0.3352\n",
            "Train Epoch 2 Progress: 50.13%\tLoss: 0.1169\n",
            "Train Epoch 2 Progress: 51.2%\tLoss: 0.1626\n",
            "Train Epoch 2 Progress: 52.27%\tLoss: 0.2222\n",
            "Train Epoch 2 Progress: 53.33%\tLoss: 0.2439\n",
            "Train Epoch 2 Progress: 54.4%\tLoss: 0.491\n",
            "Train Epoch 2 Progress: 55.47%\tLoss: 0.2619\n",
            "Train Epoch 2 Progress: 56.53%\tLoss: 0.4563\n",
            "Train Epoch 2 Progress: 57.6%\tLoss: 0.2104\n",
            "Train Epoch 2 Progress: 58.67%\tLoss: 0.2106\n",
            "Train Epoch 2 Progress: 59.73%\tLoss: 0.1315\n",
            "Train Epoch 2 Progress: 60.8%\tLoss: 0.3737\n",
            "Train Epoch 2 Progress: 61.87%\tLoss: 0.432\n",
            "Train Epoch 2 Progress: 62.93%\tLoss: 0.1904\n",
            "Train Epoch 2 Progress: 64.0%\tLoss: 0.1296\n",
            "Train Epoch 2 Progress: 65.07%\tLoss: 0.2658\n",
            "Train Epoch 2 Progress: 66.13%\tLoss: 0.2249\n",
            "Train Epoch 2 Progress: 67.2%\tLoss: 0.4947\n",
            "Train Epoch 2 Progress: 68.27%\tLoss: 0.2729\n",
            "Train Epoch 2 Progress: 69.33%\tLoss: 0.5272\n",
            "Train Epoch 2 Progress: 70.4%\tLoss: 0.3035\n",
            "Train Epoch 2 Progress: 71.47%\tLoss: 0.2998\n",
            "Train Epoch 2 Progress: 72.53%\tLoss: 0.1277\n",
            "Train Epoch 2 Progress: 73.6%\tLoss: 0.241\n",
            "Train Epoch 2 Progress: 74.67%\tLoss: 0.369\n",
            "Train Epoch 2 Progress: 75.73%\tLoss: 0.0915\n",
            "Train Epoch 2 Progress: 76.8%\tLoss: 0.3257\n",
            "Train Epoch 2 Progress: 77.87%\tLoss: 0.3496\n",
            "Train Epoch 2 Progress: 78.93%\tLoss: 0.1653\n",
            "Train Epoch 2 Progress: 80.0%\tLoss: 0.4118\n",
            "Train Epoch 2 Progress: 81.07%\tLoss: 0.2828\n",
            "Train Epoch 2 Progress: 82.13%\tLoss: 0.2634\n",
            "Train Epoch 2 Progress: 83.2%\tLoss: 0.3118\n",
            "Train Epoch 2 Progress: 84.27%\tLoss: 0.3929\n",
            "Train Epoch 2 Progress: 85.33%\tLoss: 0.2488\n",
            "Train Epoch 2 Progress: 86.4%\tLoss: 0.2147\n",
            "Train Epoch 2 Progress: 87.47%\tLoss: 0.3275\n",
            "Train Epoch 2 Progress: 88.53%\tLoss: 0.1896\n",
            "Train Epoch 2 Progress: 89.6%\tLoss: 0.4835\n",
            "Train Epoch 2 Progress: 90.67%\tLoss: 0.1906\n",
            "Train Epoch 2 Progress: 91.73%\tLoss: 0.1905\n",
            "Train Epoch 2 Progress: 92.8%\tLoss: 0.4283\n",
            "Train Epoch 2 Progress: 93.87%\tLoss: 0.3199\n",
            "Train Epoch 2 Progress: 94.93%\tLoss: 0.1668\n",
            "Train Epoch 2 Progress: 96.0%\tLoss: 0.2447\n",
            "Train Epoch 2 Progress: 97.07%\tLoss: 0.2881\n",
            "Train Epoch 2 Progress: 98.13%\tLoss: 0.2401\n",
            "Train Epoch 2 Progress: 99.2%\tLoss: 0.2424\n",
            "\n",
            "Test set: Avg loss 0.1954, Accuracy 94.29%\n",
            "\n"
          ]
        }
      ],
      "source": [
        "test_accuracies, test_losses, train_losses = list(), list(), list()\n",
        "total_examples_seen = 0\n",
        "for epoch in range(n_epochs):\n",
        "  test_loss, test_accuracy = test(conv_network, flatten_data=False)\n",
        "  train_loss_logs = train(conv_network, conv_optimizer, epoch, flatten_data=False)\n",
        "  # logging\n",
        "  test_accuracies.append((epoch, test_accuracy))\n",
        "  test_losses.append((total_examples_seen, test_loss))\n",
        "  train_losses.extend((train_loss_logs))\n",
        "  total_examples_seen = train_loss_logs[-1][0]\n",
        "test_loss, test_accuracy = test(fc_network)\n",
        "test_accuracies.append((n_epochs, test_accuracy))\n",
        "test_losses.append((total_examples_seen, test_loss))"
      ]
    },
    {
      "cell_type": "code",
      "execution_count": null,
      "metadata": {
        "colab": {
          "base_uri": "https://localhost:8080/",
          "height": 885
        },
        "id": "DGvy54Aw5Qet",
        "outputId": "4c9d794e-4a58-44c9-ad38-acce163c2609"
      },
      "outputs": [
        {
          "output_type": "display_data",
          "data": {
            "text/plain": [
              "<Figure size 640x480 with 1 Axes>"
            ],
            "image/png": "[encoded data removed]"
          },
          "metadata": {}
        },
        {
          "output_type": "display_data",
          "data": {
            "text/plain": [
              "<Figure size 640x480 with 1 Axes>"
            ],
            "image/png": "[encoded data removed]"
          },
          "metadata": {}
        }
      ],
      "source": [
        "# Visualize training and testing results\n",
        "plot_results(test_accuracies, test_losses, train_losses)"
      ]
    },
    {
      "cell_type": "markdown",
      "metadata": {
        "id": "K1SIPR8G5kJx"
      },
      "source": [
        "## **Exercise 5:** Compare the results of the convolutional network to the fully connected network. What do you notice? Which would you choose if you were solving a real-world problem, and why?"
      ]
    },
    {
      "cell_type": "markdown",
      "metadata": {
        "id": "3U0x77DrktGC"
      },
      "source": [
        "*SOLUTION*: The convolutional network is likely to perform trivially better. In a real-world situation, you would likely be able to get the same performance with a well-tuned fully connected network. If you spent a lot of time hyperparameter tuning, you could maybe get very slightly better performance from the convolutional network."
      ]
    },
    {
      "cell_type": "markdown",
      "metadata": {
        "id": "BURiIrs-6dz0"
      },
      "source": [
        "## **Exercise 6**: If we were solving a much harder classification problem, such as classifying Pneumonia Chest X-Ray images, how do you think that the convolutional network's performance would compare to the fully connected network's performance? Why?"
      ]
    },
    {
      "cell_type": "markdown",
      "metadata": {
        "id": "S5OdStnkkyDt"
      },
      "source": [
        "*SOLUTION*: You would expect the convolutional network to perform much better because it's able to extract features from patches of pixels more effectively and learn more abstract features better."
      ]
    },
    {
      "cell_type": "markdown",
      "metadata": {
        "id": "WUNZuFWvhkuo"
      },
      "source": [
        "Credits: credit to https://nextjournal.com/gkoehler/pytorch-mnist for providing inspiration for part of this tutorial"
      ]
    },
    {
      "cell_type": "markdown",
      "metadata": {
        "id": "lu9yjZpDTX0O"
      },
      "source": [
        "## Saving Models\n",
        "A common way to save a model is to serialize the internal state dictionary (containing the model parameters).\n",
        "\n"
      ]
    },
    {
      "cell_type": "code",
      "execution_count": null,
      "metadata": {
        "colab": {
          "base_uri": "https://localhost:8080/"
        },
        "id": "VPWUrSc3TX0O",
        "outputId": "327c27d5-f04a-4874-8fae-8a37deb80cf6"
      },
      "outputs": [
        {
          "output_type": "stream",
          "name": "stdout",
          "text": [
            "Saved PyTorch Model State to model.pth\n"
          ]
        }
      ],
      "source": [
        "torch.save(conv_network.state_dict(), \"model.pth\")\n",
        "print(\"Saved PyTorch Model State to model.pth\")"
      ]
    },
    {
      "cell_type": "markdown",
      "metadata": {
        "id": "CzkS8LwbTX0O"
      },
      "source": [
        "## Loading Models\n",
        "\n",
        "The process for loading a model includes re-creating the model structure and loading\n",
        "the state dictionary into it.\n",
        "\n"
      ]
    },
    {
      "cell_type": "code",
      "execution_count": null,
      "metadata": {
        "colab": {
          "base_uri": "https://localhost:8080/"
        },
        "id": "hKibjThpTX0P",
        "outputId": "3cbc81bb-d421-4e98-bb3a-85abb70ce499"
      },
      "outputs": [
        {
          "output_type": "execute_result",
          "data": {
            "text/plain": [
              "<All keys matched successfully>"
            ]
          },
          "metadata": {},
          "execution_count": 94
        }
      ],
      "source": [
        "model = ConvNet()\n",
        "model.load_state_dict(torch.load(\"model.pth\"))"
      ]
    },
    {
      "cell_type": "markdown",
      "metadata": {
        "id": "1QY_UxH_TX0P"
      },
      "source": [
        "This model can now be used to make predictions.\n",
        "\n"
      ]
    },
    {
      "cell_type": "code",
      "execution_count": null,
      "metadata": {
        "colab": {
          "base_uri": "https://localhost:8080/"
        },
        "id": "haXjMkCxTX0P",
        "outputId": "cba9fe5b-f9dc-4f8e-a0a1-c3291f4d4fee"
      },
      "outputs": [
        {
          "output_type": "stream",
          "name": "stdout",
          "text": [
            "Predicted: \"8\", Actual: \"8\"\n"
          ]
        }
      ],
      "source": [
        "# Download test data from open datasets.\n",
        "test_data = datasets.MNIST('sample_data/',\n",
        "    train=False,\n",
        "    download=True,\n",
        "    transform=transforms.ToTensor(),\n",
        ")\n",
        "\n",
        "classes = [1, 2, 3, 4, 5, 6, 7, 8, 9]\n",
        "\n",
        "model.eval()\n",
        "x, y = test_data[0][0], test_data[0][1]\n",
        "with torch.no_grad():\n",
        "    pred = model(x)\n",
        "    predicted, actual = classes[pred[0].argmax(0)], classes[y]\n",
        "    print(f'Predicted: \"{predicted}\", Actual: \"{actual}\"')"
      ]
    },
    {
      "cell_type": "markdown",
      "metadata": {
        "id": "n3zn-Ydx8CQi"
      },
      "source": [
        "# Section 3: RNN for MNIST Digit Image Classification"
      ]
    },
    {
      "cell_type": "markdown",
      "metadata": {
        "id": "eTJHs-S-8CQk"
      },
      "source": [
        "![alt txt](https://docs.google.com/drawings/d/e/2PACX-1vSiMstqkE9hTYmhPD3KMeFRNNKYA2NnrCayahBOEL1TalRqaWF7rH8a7O-nP9c-mKOdZRsWtmAGZfNN/pub?w=969&h=368)\n",
        "\n",
        "Let's try to build an image classifier using the MNIST dataset based on a recurrent neural network (RNN) instead of a CNN. The MNIST dataset consists of images that contain hand-written numbers from 1–10. Essentially, we want to build a classifier to predict the numbers displayed by a set of images. I know this sounds strange but you will be surprised by how well RNNs perform on this image classification task.\n",
        "\n",
        "RNNs are a family of networks that are suitable for learning representations of sequential data like text in natural language processing (NLP) or a stream of sensor data in instrumentation. While each MNIST data sample is not sequential in nature, it is not hard to imagine that **every image can be interpreted as a sequence of rows or columns of pixels (28 x 28). Thus, a model based on RNNs can process each MNIST image as a sequence of 28-element input vectors with timesteps equal to 28**.\n",
        "\n",
        "We will also be using the [RNN module](https://https://pytorch.org/docs/stable/nn.html#recurrent-layers) - We will only use **one layer** in the following computation graph, but you can experiment with the code later on by adding more layers."
      ]
    },
    {
      "cell_type": "markdown",
      "metadata": {
        "id": "4vnhd2vR8CQo"
      },
      "source": [
        "## Importing the dataset\n",
        "Before building the RNN-based computation graph, let's import the MNIST dataset, split it into test and train portions, do a few transformations, and further explore it. You will need the following PyTorch libraries and lines of code to download and import the MNIST dataset to Google Colab."
      ]
    },
    {
      "cell_type": "code",
      "execution_count": null,
      "metadata": {
        "id": "yrNdklIv8CQv"
      },
      "outputs": [],
      "source": [
        "BATCH_SIZE = 64\n",
        "\n",
        "# list all transformations\n",
        "transform = transforms.Compose(\n",
        "    [transforms.ToTensor()])\n",
        "\n",
        "# download and load training dataset\n",
        "trainset = datasets.MNIST(root='./data', train=True,\n",
        "                                        download=True, transform=transform)\n",
        "trainloader = torch.utils.data.DataLoader(trainset, batch_size=BATCH_SIZE,\n",
        "                                          shuffle=True, num_workers=2)\n",
        "\n",
        "# download and load testing dataset\n",
        "testset = datasets.MNIST(root='./data', train=False,\n",
        "                                       download=True, transform=transform)\n",
        "testloader = torch.utils.data.DataLoader(testset, batch_size=BATCH_SIZE,\n",
        "                                         shuffle=False, num_workers=2)"
      ]
    },
    {
      "cell_type": "markdown",
      "metadata": {
        "id": "Ixg3XnDM8CQy"
      },
      "source": [
        "The code above loads and prepares the dataset to be fed into the computation graph we will build later on. Take a few minutes to play around with the code and understand what is happening. Notice that we needed to provide a batch size. This is because `trainloader` and `testloader` are iterators which will make it easier when we are iterating on the dataset and training our RNN model with minibatches."
      ]
    },
    {
      "cell_type": "markdown",
      "metadata": {
        "id": "2f0fVaIV8CQ3"
      },
      "source": [
        "## Exploring the dataset\n",
        "Here is a few lines of code to explore the dataset. I won't cover much of what's going on here, but you can take some time and look at it by yourself."
      ]
    },
    {
      "cell_type": "code",
      "execution_count": null,
      "metadata": {
        "colab": {
          "base_uri": "https://localhost:8080/",
          "height": 435
        },
        "id": "TEKzVTOY8CQ4",
        "outputId": "deb819d6-a076-4b7c-e5a5-015e03f90721"
      },
      "outputs": [
        {
          "output_type": "display_data",
          "data": {
            "text/plain": [
              "<Figure size 640x480 with 1 Axes>"
            ],
            "image/png": "[encoded data removed]"
          },
          "metadata": {}
        }
      ],
      "source": [
        "# functions to show an image\n",
        "def imshow(img):\n",
        "    #img = img / 2 + 0.5     # unnormalize\n",
        "    npimg = img.numpy()\n",
        "    plt.imshow(np.transpose(npimg, (1, 2, 0)))\n",
        "\n",
        "# get some random training images\n",
        "dataiter = iter(trainloader)\n",
        "images, labels = next(dataiter)\n",
        "\n",
        "# show images\n",
        "imshow(torchvision.utils.make_grid(images))"
      ]
    },
    {
      "cell_type": "markdown",
      "metadata": {
        "id": "Y7NloDy08CQ9"
      },
      "source": [
        "## Model\n",
        "Let's construct the computation graph. Below are the parameters:"
      ]
    },
    {
      "cell_type": "code",
      "execution_count": null,
      "metadata": {
        "id": "dqjWHTo08CQ-"
      },
      "outputs": [],
      "source": [
        "# parameters\n",
        "N_STEPS = 28\n",
        "N_INPUTS = 28\n",
        "N_NEURONS = 150\n",
        "N_OUTPUTS = 10\n",
        "N_EPOCHS = 10"
      ]
    },
    {
      "cell_type": "markdown",
      "metadata": {
        "id": "gpFu75e88CRB"
      },
      "source": [
        "And finally, here is a figure of the RNN-based classification model we are building:\n",
        "\n",
        "![alt txt](https://docs.google.com/drawings/d/e/2PACX-1vQWhELhewvq_bHgqwf4vwDb5B9DN9-jAxeTF9Y73zr-OsW6OXC-ngxAfojivXyZEhjzLXceTZU2Ncz3/pub?w=550&h=600)"
      ]
    },
    {
      "cell_type": "markdown",
      "metadata": {
        "id": "8Yw8fFlp8CRJ"
      },
      "source": [
        "And here is the code for the model. The `ImageRNN` model below is doing the following:\n",
        "- The initialization function `__init__(...)` declares a few variables, and then a [basic RNN layer](https://pytorch.org/docs/stable/generated/torch.nn.RNN.html#torch.nn.RNN) `basic_rnn` followed by a fully-connected layer `self.FC`.\n",
        "- The `init_hidden` function initializes hidden weights with zero values.\n",
        "The `forward` function accepts an input of size `n_steps X batch_size X n_neurons`. Then the data flows through the RNN layer and then through the fully-connected layer.\n",
        "- The output are the log probabilities of the model."
      ]
    },
    {
      "cell_type": "code",
      "execution_count": null,
      "metadata": {
        "id": "14jNZxeg8CRD"
      },
      "outputs": [],
      "source": [
        "class ImageRNN(nn.Module):\n",
        "    def __init__(self, batch_size, n_steps, n_inputs, n_neurons, n_outputs):\n",
        "        super().__init__()\n",
        "\n",
        "        self.n_neurons = n_neurons # no. of neurons in each hidden layer\n",
        "        self.batch_size = batch_size\n",
        "        self.n_steps = n_steps # Sequence length\n",
        "        self.n_inputs = n_inputs\n",
        "        self.n_outputs = n_outputs\n",
        "\n",
        "        # Add RNN layer of size: n_inputs x n_neurons\n",
        "        self.basic_rnn = nn.RNN(self.n_inputs, self.n_neurons)\n",
        "\n",
        "        # Add hidden output layer after RNN\n",
        "        self.FC = nn.Linear(self.n_neurons, self.n_outputs)\n",
        "\n",
        "    def init_hidden(self,):\n",
        "        # Initialize & return a torch tensor of zeros\n",
        "        # with size (num_layers, batch_size, n_neurons)\n",
        "        return (torch.zeros(1, self.batch_size, self.n_neurons))\n",
        "\n",
        "    def forward(self, X):\n",
        "        # transforms X to dimensions: n_steps X batch_size X n_inputs\n",
        "        X = X.permute(1, 0, 2)\n",
        "\n",
        "        self.batch_size = X.size(1)\n",
        "\n",
        "        # Set initial hidden state (h_0)\n",
        "        self.hidden = self.init_hidden()\n",
        "\n",
        "        # Inputs to RNN = X (inputs), h_0\n",
        "\n",
        "        # Outputs of RNN\n",
        "        # rnn_out shape => (n_steps, batch_size, n_neurons) - final state/outputs from the last layer of the RNN\n",
        "        # self.hidden shape => (1, batch_size, n_neurons) - hidden state for each time step\n",
        "\n",
        "        # Compute outputs of RNN\n",
        "        rnn_out, self.hidden = self.basic_rnn(X, self.hidden)\n",
        "\n",
        "        # Compute final output by applying FC layer\n",
        "        out = self.FC(self.hidden)\n",
        "\n",
        "        return out.view(-1, self.n_outputs) # batch_size X n_output"
      ]
    },
    {
      "cell_type": "markdown",
      "metadata": {
        "id": "bJUCKm_U8CRK"
      },
      "source": [
        "## Testing the model with some samples\n",
        "A very good practice encouraged by PyTorch developers throughout their documentation, and which I really like and highly recommend, is to always test the model with a portion of the dataset before actual training. This is to ensure that you have the correct dimension specified and that the model is outputing the information you expect. Below I show an example of how to test your model:"
      ]
    },
    {
      "cell_type": "code",
      "execution_count": null,
      "metadata": {
        "colab": {
          "base_uri": "https://localhost:8080/"
        },
        "id": "P6W0jwK08CRM",
        "outputId": "397bd866-6d93-49b5-9863-dab72bf31a52"
      },
      "outputs": [
        {
          "output_type": "stream",
          "name": "stdout",
          "text": [
            "tensor([[ 0.1327,  0.0276, -0.0692, -0.0852, -0.1019, -0.0215, -0.0796,  0.0534,\n",
            "         -0.0118,  0.0582],\n",
            "        [ 0.1150,  0.0239, -0.0845, -0.0804, -0.1108, -0.0222, -0.0761,  0.0499,\n",
            "         -0.0195,  0.0513],\n",
            "        [ 0.1425,  0.0396, -0.0784, -0.0974, -0.0971, -0.0230, -0.0643,  0.0729,\n",
            "         -0.0161,  0.0618],\n",
            "        [ 0.1391,  0.0162, -0.0794, -0.1015, -0.0928, -0.0109, -0.0833,  0.0355,\n",
            "         -0.0008,  0.0484],\n",
            "        [ 0.1158,  0.0258, -0.0858, -0.0812, -0.1078, -0.0214, -0.0757,  0.0504,\n",
            "         -0.0229,  0.0476],\n",
            "        [ 0.1157,  0.0283, -0.0847, -0.0785, -0.1021, -0.0234, -0.0729,  0.0513,\n",
            "         -0.0257,  0.0510],\n",
            "        [ 0.1140,  0.0349, -0.0801, -0.0830, -0.1107, -0.0175, -0.0770,  0.0566,\n",
            "         -0.0097,  0.0454],\n",
            "        [ 0.1179,  0.0246, -0.0822, -0.0772, -0.1038, -0.0182, -0.0772,  0.0419,\n",
            "         -0.0176,  0.0478],\n",
            "        [ 0.1131,  0.0265, -0.0857, -0.0795, -0.1048, -0.0162, -0.0720,  0.0462,\n",
            "         -0.0212,  0.0570],\n",
            "        [ 0.1236,  0.0309, -0.0827, -0.0960, -0.1002, -0.0180, -0.0858,  0.0661,\n",
            "         -0.0161,  0.0553]], grad_fn=<SliceBackward0>)\n"
          ]
        }
      ],
      "source": [
        "dataiter = iter(trainloader)\n",
        "images, labels = next(dataiter)\n",
        "\n",
        "# Create instance of ImageRNN model\n",
        "model = ImageRNN(BATCH_SIZE, N_STEPS, N_INPUTS, N_NEURONS, N_OUTPUTS)\n",
        "\n",
        "logits = model(images.view(-1, 28,28))\n",
        "print(logits[0:10])"
      ]
    },
    {
      "cell_type": "markdown",
      "metadata": {
        "id": "BKDkckp98CRQ"
      },
      "source": [
        "## Training"
      ]
    },
    {
      "cell_type": "markdown",
      "metadata": {
        "id": "46Qke-c08CRR"
      },
      "source": [
        "Now let's look at the code for training the image classification model. But first, let's declare a few helper functions needed to train the model:"
      ]
    },
    {
      "cell_type": "markdown",
      "metadata": {
        "id": "uvCzj28o8CRX"
      },
      "source": [
        "Before training a model in PyTorch, you can programatically specify what device you want to use during training; the `torch.device(...)` function tells the program that we want to use the GPU if one is available, otherwise the CPU will be the default device.\n",
        "\n",
        "Then we create an instance of the model, `ImageRNN(...)``, with the proper parameters. The criterion represents the function we will use to compute the loss of the model. The `nn.CrossEntropyLoss()` function basically applies a log softmax followed by a negative log likelihood loss operation over the output of the model. To compute the loss, the function needs both the log probabilities and targets. We will see later in our code how to provide this to the criterion.\n",
        "\n",
        "For training, we also need an optimization algorithm which helps to update weights based on the current loss. This is achieved with the `optim.Adam` optimization function, which requires the model parameters and a learning rate. Alternatively, you can also use `optim.SGD` or any other optimization algorithm that's available.\n",
        "\n",
        "The `get_accuracy(...)` function simply computes the accuracy of the model given the log probabilities and target values. As an exercise, you can write code to test this function as we did with the model before.\n",
        "\n",
        "Let's put everything together and train our image classification model:"
      ]
    },
    {
      "cell_type": "code",
      "execution_count": null,
      "metadata": {
        "id": "BoDWoBuy8CRS"
      },
      "outputs": [],
      "source": [
        "# Create model instance\n",
        "model = ImageRNN(BATCH_SIZE, N_STEPS, N_INPUTS, N_NEURONS, N_OUTPUTS)\n",
        "\n",
        "# Pass to device (CPU or GPU)\n",
        "model.to(device)\n",
        "\n",
        "# Use CrossEntropyLoss function\n",
        "loss_function = nn.CrossEntropyLoss()\n",
        "\n",
        "# Set Adam optimizer with learning rate = 0.001\n",
        "optimizer = torch.optim.Adam(model.parameters(), lr=0.001)\n",
        "\n",
        "def get_accuracy(logit, target, batch_size):\n",
        "    ''' Obtain accuracy for training round '''\n",
        "    corrects = (torch.max(logit, 1)[1].view(target.size()).data == target.data).sum()\n",
        "    accuracy = 100.0 * corrects/batch_size\n",
        "    return accuracy.item()"
      ]
    },
    {
      "cell_type": "code",
      "execution_count": null,
      "metadata": {
        "colab": {
          "base_uri": "https://localhost:8080/"
        },
        "id": "LaAmGhZT8CRX",
        "outputId": "a1535119-4259-4c04-cd91-d06ca4984dcf"
      },
      "outputs": [
        {
          "output_type": "stream",
          "name": "stdout",
          "text": [
            "Epoch:  0 | Loss: 0.7710 | Train Accuracy: 74.81\n",
            "Epoch:  1 | Loss: 0.3247 | Train Accuracy: 90.64\n",
            "Epoch:  2 | Loss: 0.2282 | Train Accuracy: 93.48\n",
            "Epoch:  3 | Loss: 0.1880 | Train Accuracy: 94.74\n",
            "Epoch:  4 | Loss: 0.1641 | Train Accuracy: 95.34\n",
            "Epoch:  5 | Loss: 0.1569 | Train Accuracy: 95.61\n",
            "Epoch:  6 | Loss: 0.1378 | Train Accuracy: 96.08\n",
            "Epoch:  7 | Loss: 0.1264 | Train Accuracy: 96.43\n",
            "Epoch:  8 | Loss: 0.1239 | Train Accuracy: 96.54\n",
            "Epoch:  9 | Loss: 0.1200 | Train Accuracy: 96.62\n"
          ]
        }
      ],
      "source": [
        "for epoch in range(N_EPOCHS):  # loop over the dataset multiple times\n",
        "    train_running_loss = 0.0\n",
        "    train_acc = 0.0 # Training accuracy\n",
        "    model.train()\n",
        "\n",
        "    # TRAINING ROUND\n",
        "    for i, data in enumerate(trainloader):\n",
        "        # zero the parameter gradients\n",
        "        optimizer.zero_grad()\n",
        "\n",
        "        # reset hidden states to zero\n",
        "        model.hidden = model.init_hidden()\n",
        "\n",
        "        # get the inputs\n",
        "        inputs, labels = data\n",
        "        inputs = inputs.view(-1, 28,28)\n",
        "\n",
        "        # To account for CPU or GPU\n",
        "        inputs, labels = inputs.to(device), labels.to(device)\n",
        "\n",
        "        # Finish code for forward pass, backpropagation & optimization\n",
        "        outputs = model(inputs)\n",
        "\n",
        "        loss = loss_function(outputs, labels)\n",
        "        loss.backward()\n",
        "        optimizer.step()\n",
        "\n",
        "        train_running_loss += loss.detach().item()\n",
        "\n",
        "        # Increment training accuracy\n",
        "        train_acc += get_accuracy(outputs, labels, BATCH_SIZE)\n",
        "\n",
        "    model.eval()\n",
        "    print('Epoch:  %d | Loss: %.4f | Train Accuracy: %.2f'\n",
        "          %(epoch, train_running_loss / i, train_acc/i))"
      ]
    },
    {
      "cell_type": "markdown",
      "metadata": {
        "id": "BHQlgCydmekc"
      },
      "source": [
        "## Testing"
      ]
    },
    {
      "cell_type": "markdown",
      "metadata": {
        "id": "93-DMqi58CRf"
      },
      "source": [
        "We can also compute accuracy on the testing dataset to test how well the model performs on the image classification task. As you can see below, our RNN model is performing very well on the MNIST classification task.\n"
      ]
    },
    {
      "cell_type": "code",
      "execution_count": null,
      "metadata": {
        "colab": {
          "base_uri": "https://localhost:8080/"
        },
        "id": "BzeqYT4N8CRi",
        "outputId": "f17a38e8-6303-4cec-e033-768096268543"
      },
      "outputs": [
        {
          "output_type": "stream",
          "name": "stdout",
          "text": [
            "Test Accuracy: 97.18\n"
          ]
        }
      ],
      "source": [
        "test_acc = 0.0\n",
        "for i, data in enumerate(testloader, 0):\n",
        "    inputs, labels = data\n",
        "    inputs = inputs.view(-1, 28, 28)\n",
        "\n",
        "    # To account for GPU\n",
        "    inputs, labels = inputs.to(device), labels.to(device)\n",
        "\n",
        "    outputs = model(inputs)\n",
        "\n",
        "    test_acc += get_accuracy(outputs, labels, BATCH_SIZE)\n",
        "\n",
        "print('Test Accuracy: %.2f'%( test_acc/i))"
      ]
    },
    {
      "cell_type": "markdown",
      "metadata": {
        "id": "l9khrjXUlqpS"
      },
      "source": [
        "# Section 4: Extra challenge exercises (Optional)"
      ]
    },
    {
      "cell_type": "markdown",
      "metadata": {
        "id": "bucxtqwN5yFy"
      },
      "source": [
        "### **Challenge Exercise 1:** Change the fully connected neural network architecture. Increase the number of hidden units per layer to 100 and add 2 more hidden layers, then retrain. How does the training compare to the previous architecture?"
      ]
    },
    {
      "cell_type": "markdown",
      "metadata": {
        "id": "VhTEy1bLmhju"
      },
      "source": [
        "*SOLUTION:* In this case it trains slightly better than the default architecture. Solution code is below."
      ]
    },
    {
      "cell_type": "code",
      "execution_count": null,
      "metadata": {
        "id": "y68qKqYN7nZS"
      },
      "outputs": [],
      "source": [
        "\n",
        "class BiggerFullyConnectedNetwork(nn.Module):\n",
        "  def __init__(self, n_features=784, hidden_size=100):\n",
        "    super().__init__()\n",
        "    self.layer0 = nn.Linear(n_features, hidden_size)\n",
        "    self.layer1 = nn.Linear(hidden_size, hidden_size)\n",
        "    self.layer2 = nn.Linear(hidden_size, hidden_size)\n",
        "    self.layer3 = nn.Linear(hidden_size, 10)\n",
        "\n",
        "  def forward(self, input_data):\n",
        "    x = F.relu(self.layer0(input_data))\n",
        "    x = F.relu(self.layer1(x))\n",
        "    x = F.relu(self.layer2(x))\n",
        "    x = self.layer3(x)\n",
        "    return F.log_softmax(x)"
      ]
    },
    {
      "cell_type": "markdown",
      "metadata": {
        "id": "vf-KNtQEmrWr"
      },
      "source": [
        "\n",
        "\n",
        "##**Challenge Exercise 2:** With this larger architecture, try training for significantly more epochs--perhaps 30 or 40. What problems might this run into? What if you made the network even larger -- what problems could you encounter then?"
      ]
    },
    {
      "cell_type": "markdown",
      "metadata": {
        "id": "vnS-uJUGm4q7"
      },
      "source": [
        "*SOLUTION*: You would quickly expect overfitting problems."
      ]
    },
    {
      "cell_type": "markdown",
      "metadata": {
        "id": "__UJCKIRmxEc"
      },
      "source": [
        "\n",
        "##**Challenge Exercise 3:** Experiment with the fully connected and convolutional network architectures and hyperparameters. How high of a test accuracy can you achieve? Write down the highest test accuracy you're able to get and submit it to the Slack channel!"
      ]
    },
    {
      "cell_type": "markdown",
      "metadata": {
        "id": "ZMFP8mUInEPa"
      },
      "source": [
        "*Solution*: With just a few minutes of tuning, they should be able to get >97% accuracy. Let's see how well they can do this"
      ]
    }
  ],
  "metadata": {
    "colab": {
      "provenance": [],
      "include_colab_link": true
    },
    "gpuClass": "standard",
    "kernelspec": {
      "display_name": "Python 3",
      "name": "python3"
    }
  },
  "nbformat": 4,
  "nbformat_minor": 0
}