{
  "nbformat": 4,
  "nbformat_minor": 0,
  "metadata": {
    "colab": {
      "provenance": [],
      "collapsed_sections": [
        "godSYKAPQ1dz",
        "eGI_b6mnrZdh",
        "Z2yyegOONUes",
        "rprcgyojY1QA"
      ],
      "include_colab_link": true
    },
    "kernelspec": {
      "name": "python3",
      "display_name": "Python 3"
    },
    "language_info": {
      "name": "python"
    }
  },
  "cells": [
    {
      "cell_type": "markdown",
      "metadata": {
        "id": "view-in-github",
        "colab_type": "text"
      },
      "source": [
        "<a href=\"https://colab.research.google.com/github/aldisstar/Taller-MIT/blob/main/Classification_Methods_(Logistic_Regression%2C_Decision_Trees%2C_Random_Forest%2C_Gradient_boosting).ipynb\" target=\"_parent\"><img src=\"https://colab.research.google.com/assets/colab-badge.svg\" alt=\"Open In Colab\"/></a>"
      ]
    },
    {
      "cell_type": "markdown",
      "metadata": {
        "id": "iUJLSLlb8Yc3"
      },
      "source": [
        "##Classification Methods\n",
        "####Introduction\n",
        "\n",
        "In lecture, we talked about how to approach a building a model.\n",
        "1. Define Problem Objective\n",
        "2. Explore the Data\n",
        "3. Start With Simple Algorithms\n",
        "4. Try and Compare Different Algorithms\n",
        "\n",
        "\n",
        "We also discussed the following classification algorithms:\n",
        "\n",
        "\n",
        "1.   Logistic Regression\n",
        "2.   Decision Trees\n",
        "3.   Random Forest\n",
        "4.   Gradient Boosting\n",
        "\n",
        "\n",
        "In today's session, we will be continuing to use the Kobe dataset and will use the algorithms learned in class today to do so.\n",
        "\n",
        "\n"
      ]
    },
    {
      "cell_type": "markdown",
      "source": [
        "##Import Modules"
      ],
      "metadata": {
        "id": "tvHHKt9nHCon"
      }
    },
    {
      "cell_type": "code",
      "source": [
        "# ==============================================\n",
        "# 0. Module imports\n",
        "# ==============================================\n",
        "\n",
        "\n",
        "# data manipulation\n",
        "import pandas as pd\n",
        "import numpy as np\n",
        "import scipy.stats as st\n",
        "\n",
        "# plots\n",
        "%matplotlib inline\n",
        "import matplotlib\n",
        "import matplotlib.pyplot as plt\n",
        "import pylab as pl\n",
        "\n",
        "# classification algorithms\n",
        "from sklearn.linear_model import LogisticRegression\n",
        "from sklearn.linear_model import SGDClassifier\n",
        "from sklearn.ensemble import GradientBoostingClassifier\n",
        "from sklearn.ensemble import RandomForestClassifier\n",
        "from sklearn.ensemble import ExtraTreesClassifier\n",
        "\n",
        "# dimension reduction\n",
        "from sklearn.decomposition import PCA\n",
        "\n",
        "# cross-validation\n",
        "from sklearn.model_selection import GridSearchCV\n",
        "from sklearn.model_selection import train_test_split\n",
        "from sklearn.model_selection import cross_val_predict\n",
        "from sklearn.model_selection import cross_val_score\n",
        "from sklearn.model_selection import KFold\n",
        "from sklearn import model_selection\n",
        "\n",
        "# parallel processing\n",
        "from joblib import Parallel, delayed\n",
        "import multiprocessing\n",
        "\n",
        "# text mining\n",
        "import re\n",
        "from nltk import PorterStemmer\n",
        "from nltk.tokenize import word_tokenize\n",
        "from nltk.corpus import stopwords\n",
        "from sklearn.feature_extraction.text import TfidfVectorizer\n",
        "from sklearn.feature_extraction.text import CountVectorizer\n",
        "\n",
        "# model evaluation\n",
        "from sklearn.metrics import roc_auc_score\n",
        "\n",
        "import warnings\n",
        "warnings.filterwarnings(\"ignore\")"
      ],
      "metadata": {
        "id": "suqWiERGGmRt"
      },
      "execution_count": null,
      "outputs": []
    },
    {
      "cell_type": "markdown",
      "source": [
        "##Import Data"
      ],
      "metadata": {
        "id": "mWbmpBGpHFwR"
      }
    },
    {
      "cell_type": "code",
      "source": [
        "dataset = pd.read_csv('Kobe data.csv')"
      ],
      "metadata": {
        "id": "cT-WDinPmXYQ"
      },
      "execution_count": null,
      "outputs": []
    },
    {
      "cell_type": "markdown",
      "source": [
        "#Reviewing the Dataset\n",
        "\n",
        "Important Features:\n",
        "\n",
        "\n",
        "1. **action_type** - the type of shot that Kobe took (Jump shot, Driving Layup Shot, etc)\n",
        "2. **loc_x** - the x coordinate of the shot (side-to-side), where 0 is the middle of the court\n",
        "3. **loc_y** - The y coordinate of the shot (up & down the court), where 0 is the free throw line\n",
        "4. **shot_distance** - the shot's distance, in feet, from the basket\n",
        "5. **shot_zone_basic** - level area of the court the shot was taken from (top level)\n",
        "6. **shot_zone_area** - the area of the court the shot was taken from (lower level)\n",
        "7. **shot_type** - \"2PT Field Goal\" or \"3PT Field Goal\"\n",
        "8. **period** - the period of the game, including overtime\n",
        "9. **minutes_remaining** - the number of minutes remaining in the period, within the period\n",
        "10. **seconds_remaining** - the number of seconds, within the minutes, within the period, remaining in the period\n",
        "11. **playoffs** - binary variable indicating whether or not the game was a playoff game\n",
        "12. **season** - which season the game was played in\n",
        "13. **game_date**\n",
        "14. **matchup** - Los Angeles Lakers (LAL) @ or vs. Opponent Team. An \"@\" symbol indicates an away game, while \"vs.\" indicates a home game.\n",
        "15. **shot_made_flag** - our dependent variable, did Kobe make the shot (1 = he did)\n",
        "\n",
        "Note, this dataset does *not* give shots in chronological order. Be sure not to use future data to predict the present (hint)"
      ],
      "metadata": {
        "id": "YJZm9nOicPjV"
      }
    },
    {
      "cell_type": "code",
      "source": [
        "# ==============================================\n",
        "# 2. Data loading and explore\n",
        "# ==============================================\n",
        "\n",
        "# load the data as a pandas dataframe\n",
        "#Get CSV File from here: https://drive.google.com/file/d/1HTNFCuuwnqpzg5zxPXjIl6Z2pFZ8W7p1/view?usp=share_link\n",
        "KobeDataset = pd.read_csv('Kobe data.csv')\n",
        "print(\"Data dimensions:\" + str(KobeDataset.shape))\n",
        "\n",
        "# we will narrow our focus to only the 15 features listed above\n",
        "KobeDataset = KobeDataset.filter([\"action_type\", \"loc_x\", \"loc_y\",\"shot_distance\", \"shot_zone_basic\", \"shot_zone_area\", \"shot_type\",\n",
        "                                  \"period\", \"minutes_remaining\", \"seconds_remaining\", \"playoffs\", \"season\", \"game_date\",\"matchup\", \"shot_made_flag\"])\n",
        "\n",
        "#Clean Data\n",
        "FullLength = len(KobeDataset)\n",
        "KobeDataset = KobeDataset.loc[~pd.isnull(KobeDataset['shot_made_flag'])]\n",
        "print(\"Removed\", FullLength - len(KobeDataset), \"records with null shot_made flag\")\n",
        "\n",
        "print(\"Filtered Data dimensions:\" + str(KobeDataset.shape))\n",
        "KobeDataset = KobeDataset.loc[~pd.isnull(KobeDataset['shot_made_flag'])]\n",
        "KobeDataset = KobeDataset.loc[~pd.isnull(KobeDataset['shot_distance'])]\n",
        "\n",
        "\n",
        "display(KobeDataset.head(10))"
      ],
      "metadata": {
        "id": "fA0BQgA0KpdZ",
        "colab": {
          "base_uri": "https://localhost:8080/",
          "height": 610
        },
        "outputId": "a0f17c00-674d-4efe-c9d5-d6e28fbbf4d9"
      },
      "execution_count": null,
      "outputs": [
        {
          "output_type": "stream",
          "name": "stdout",
          "text": [
            "Data dimensions:(30697, 31)\n",
            "Removed 5000 records with null shot_made flag\n",
            "Filtered Data dimensions:(25697, 15)\n"
          ]
        },
        {
          "output_type": "display_data",
          "data": {
            "text/plain": [
              "          action_type  loc_x  loc_y  shot_distance        shot_zone_basic  \\\n",
              "1           Jump Shot   -157      0           15.0              Mid-Range   \n",
              "2           Jump Shot   -101    135           16.0              Mid-Range   \n",
              "3           Jump Shot    138    175           22.0              Mid-Range   \n",
              "4   Driving Dunk Shot      0      0            0.0        Restricted Area   \n",
              "5           Jump Shot   -145    -11           14.0              Mid-Range   \n",
              "6          Layup Shot      0      0            0.0        Restricted Area   \n",
              "8           Jump Shot    -65    108           12.0  In The Paint (Non-RA)   \n",
              "9   Running Jump Shot    -33    125           12.0  In The Paint (Non-RA)   \n",
              "10          Jump Shot    -94    238           25.0      Above the Break 3   \n",
              "11          Jump Shot    121    127           17.0              Mid-Range   \n",
              "\n",
              "           shot_zone_area       shot_type  period  minutes_remaining  \\\n",
              "1            Left Side(L)  2PT Field Goal       1                 10   \n",
              "2    Left Side Center(LC)  2PT Field Goal       1                  7   \n",
              "3   Right Side Center(RC)  2PT Field Goal       1                  6   \n",
              "4               Center(C)  2PT Field Goal       2                  6   \n",
              "5            Left Side(L)  2PT Field Goal       3                  9   \n",
              "6               Center(C)  2PT Field Goal       3                  8   \n",
              "8            Left Side(L)  2PT Field Goal       3                  6   \n",
              "9               Center(C)  2PT Field Goal       3                  3   \n",
              "10   Left Side Center(LC)  3PT Field Goal       3                  1   \n",
              "11  Right Side Center(RC)  2PT Field Goal       1                 11   \n",
              "\n",
              "    seconds_remaining  playoffs   season game_date      matchup  \\\n",
              "1                  22         0  2000-01  10/31/00    LAL @ POR   \n",
              "2                  45         0  2000-01  10/31/00    LAL @ POR   \n",
              "3                  52         0  2000-01  10/31/00    LAL @ POR   \n",
              "4                  19         0  2000-01  10/31/00    LAL @ POR   \n",
              "5                  32         0  2000-01  10/31/00    LAL @ POR   \n",
              "6                  52         0  2000-01  10/31/00    LAL @ POR   \n",
              "8                  12         0  2000-01  10/31/00    LAL @ POR   \n",
              "9                  36         0  2000-01  10/31/00    LAL @ POR   \n",
              "10                 56         0  2000-01  10/31/00    LAL @ POR   \n",
              "11                  0         0  2000-01   11/1/00  LAL vs. UTA   \n",
              "\n",
              "    shot_made_flag  \n",
              "1              0.0  \n",
              "2              1.0  \n",
              "3              0.0  \n",
              "4              1.0  \n",
              "5              0.0  \n",
              "6              1.0  \n",
              "8              1.0  \n",
              "9              0.0  \n",
              "10             0.0  \n",
              "11             1.0  "
            ],
            "text/html": [
              "\n",
              "  <div id=\"df-e42d7d07-1986-47f6-a4c2-840e2e77123a\" class=\"colab-df-container\">\n",
              "    <div>\n",
              "<style scoped>\n",
              "    .dataframe tbody tr th:only-of-type {\n",
              "        vertical-align: middle;\n",
              "    }\n",
              "\n",
              "    .dataframe tbody tr th {\n",
              "        vertical-align: top;\n",
              "    }\n",
              "\n",
              "    .dataframe thead th {\n",
              "        text-align: right;\n",
              "    }\n",
              "</style>\n",
              "<table border=\"1\" class=\"dataframe\">\n",
              "  <thead>\n",
              "    <tr style=\"text-align: right;\">\n",
              "      <th></th>\n",
              "      <th>action_type</th>\n",
              "      <th>loc_x</th>\n",
              "      <th>loc_y</th>\n",
              "      <th>shot_distance</th>\n",
              "      <th>shot_zone_basic</th>\n",
              "      <th>shot_zone_area</th>\n",
              "      <th>shot_type</th>\n",
              "      <th>period</th>\n",
              "      <th>minutes_remaining</th>\n",
              "      <th>seconds_remaining</th>\n",
              "      <th>playoffs</th>\n",
              "      <th>season</th>\n",
              "      <th>game_date</th>\n",
              "      <th>matchup</th>\n",
              "      <th>shot_made_flag</th>\n",
              "    </tr>\n",
              "  </thead>\n",
              "  <tbody>\n",
              "    <tr>\n",
              "      <th>1</th>\n",
              "      <td>Jump Shot</td>\n",
              "      <td>-157</td>\n",
              "      <td>0</td>\n",
              "      <td>15.0</td>\n",
              "      <td>Mid-Range</td>\n",
              "      <td>Left Side(L)</td>\n",
              "      <td>2PT Field Goal</td>\n",
              "      <td>1</td>\n",
              "      <td>10</td>\n",
              "      <td>22</td>\n",
              "      <td>0</td>\n",
              "      <td>2000-01</td>\n",
              "      <td>10/31/00</td>\n",
              "      <td>LAL @ POR</td>\n",
              "      <td>0.0</td>\n",
              "    </tr>\n",
              "    <tr>\n",
              "      <th>2</th>\n",
              "      <td>Jump Shot</td>\n",
              "      <td>-101</td>\n",
              "      <td>135</td>\n",
              "      <td>16.0</td>\n",
              "      <td>Mid-Range</td>\n",
              "      <td>Left Side Center(LC)</td>\n",
              "      <td>2PT Field Goal</td>\n",
              "      <td>1</td>\n",
              "      <td>7</td>\n",
              "      <td>45</td>\n",
              "      <td>0</td>\n",
              "      <td>2000-01</td>\n",
              "      <td>10/31/00</td>\n",
              "      <td>LAL @ POR</td>\n",
              "      <td>1.0</td>\n",
              "    </tr>\n",
              "    <tr>\n",
              "      <th>3</th>\n",
              "      <td>Jump Shot</td>\n",
              "      <td>138</td>\n",
              "      <td>175</td>\n",
              "      <td>22.0</td>\n",
              "      <td>Mid-Range</td>\n",
              "      <td>Right Side Center(RC)</td>\n",
              "      <td>2PT Field Goal</td>\n",
              "      <td>1</td>\n",
              "      <td>6</td>\n",
              "      <td>52</td>\n",
              "      <td>0</td>\n",
              "      <td>2000-01</td>\n",
              "      <td>10/31/00</td>\n",
              "      <td>LAL @ POR</td>\n",
              "      <td>0.0</td>\n",
              "    </tr>\n",
              "    <tr>\n",
              "      <th>4</th>\n",
              "      <td>Driving Dunk Shot</td>\n",
              "      <td>0</td>\n",
              "      <td>0</td>\n",
              "      <td>0.0</td>\n",
              "      <td>Restricted Area</td>\n",
              "      <td>Center(C)</td>\n",
              "      <td>2PT Field Goal</td>\n",
              "      <td>2</td>\n",
              "      <td>6</td>\n",
              "      <td>19</td>\n",
              "      <td>0</td>\n",
              "      <td>2000-01</td>\n",
              "      <td>10/31/00</td>\n",
              "      <td>LAL @ POR</td>\n",
              "      <td>1.0</td>\n",
              "    </tr>\n",
              "    <tr>\n",
              "      <th>5</th>\n",
              "      <td>Jump Shot</td>\n",
              "      <td>-145</td>\n",
              "      <td>-11</td>\n",
              "      <td>14.0</td>\n",
              "      <td>Mid-Range</td>\n",
              "      <td>Left Side(L)</td>\n",
              "      <td>2PT Field Goal</td>\n",
              "      <td>3</td>\n",
              "      <td>9</td>\n",
              "      <td>32</td>\n",
              "      <td>0</td>\n",
              "      <td>2000-01</td>\n",
              "      <td>10/31/00</td>\n",
              "      <td>LAL @ POR</td>\n",
              "      <td>0.0</td>\n",
              "    </tr>\n",
              "    <tr>\n",
              "      <th>6</th>\n",
              "      <td>Layup Shot</td>\n",
              "      <td>0</td>\n",
              "      <td>0</td>\n",
              "      <td>0.0</td>\n",
              "      <td>Restricted Area</td>\n",
              "      <td>Center(C)</td>\n",
              "      <td>2PT Field Goal</td>\n",
              "      <td>3</td>\n",
              "      <td>8</td>\n",
              "      <td>52</td>\n",
              "      <td>0</td>\n",
              "      <td>2000-01</td>\n",
              "      <td>10/31/00</td>\n",
              "      <td>LAL @ POR</td>\n",
              "      <td>1.0</td>\n",
              "    </tr>\n",
              "    <tr>\n",
              "      <th>8</th>\n",
              "      <td>Jump Shot</td>\n",
              "      <td>-65</td>\n",
              "      <td>108</td>\n",
              "      <td>12.0</td>\n",
              "      <td>In The Paint (Non-RA)</td>\n",
              "      <td>Left Side(L)</td>\n",
              "      <td>2PT Field Goal</td>\n",
              "      <td>3</td>\n",
              "      <td>6</td>\n",
              "      <td>12</td>\n",
              "      <td>0</td>\n",
              "      <td>2000-01</td>\n",
              "      <td>10/31/00</td>\n",
              "      <td>LAL @ POR</td>\n",
              "      <td>1.0</td>\n",
              "    </tr>\n",
              "    <tr>\n",
              "      <th>9</th>\n",
              "      <td>Running Jump Shot</td>\n",
              "      <td>-33</td>\n",
              "      <td>125</td>\n",
              "      <td>12.0</td>\n",
              "      <td>In The Paint (Non-RA)</td>\n",
              "      <td>Center(C)</td>\n",
              "      <td>2PT Field Goal</td>\n",
              "      <td>3</td>\n",
              "      <td>3</td>\n",
              "      <td>36</td>\n",
              "      <td>0</td>\n",
              "      <td>2000-01</td>\n",
              "      <td>10/31/00</td>\n",
              "      <td>LAL @ POR</td>\n",
              "      <td>0.0</td>\n",
              "    </tr>\n",
              "    <tr>\n",
              "      <th>10</th>\n",
              "      <td>Jump Shot</td>\n",
              "      <td>-94</td>\n",
              "      <td>238</td>\n",
              "      <td>25.0</td>\n",
              "      <td>Above the Break 3</td>\n",
              "      <td>Left Side Center(LC)</td>\n",
              "      <td>3PT Field Goal</td>\n",
              "      <td>3</td>\n",
              "      <td>1</td>\n",
              "      <td>56</td>\n",
              "      <td>0</td>\n",
              "      <td>2000-01</td>\n",
              "      <td>10/31/00</td>\n",
              "      <td>LAL @ POR</td>\n",
              "      <td>0.0</td>\n",
              "    </tr>\n",
              "    <tr>\n",
              "      <th>11</th>\n",
              "      <td>Jump Shot</td>\n",
              "      <td>121</td>\n",
              "      <td>127</td>\n",
              "      <td>17.0</td>\n",
              "      <td>Mid-Range</td>\n",
              "      <td>Right Side Center(RC)</td>\n",
              "      <td>2PT Field Goal</td>\n",
              "      <td>1</td>\n",
              "      <td>11</td>\n",
              "      <td>0</td>\n",
              "      <td>0</td>\n",
              "      <td>2000-01</td>\n",
              "      <td>11/1/00</td>\n",
              "      <td>LAL vs. UTA</td>\n",
              "      <td>1.0</td>\n",
              "    </tr>\n",
              "  </tbody>\n",
              "</table>\n",
              "</div>\n",
              "    <div class=\"colab-df-buttons\">\n",
              "\n",
              "  <div class=\"colab-df-container\">\n",
              "    <button class=\"colab-df-convert\" onclick=\"convertToInteractive('df-e42d7d07-1986-47f6-a4c2-840e2e77123a')\"\n",
              "            title=\"Convert this dataframe to an interactive table.\"\n",
              "            style=\"display:none;\">\n",
              "\n",
              "  <svg xmlns=\"http://www.w3.org/2000/svg\" height=\"24px\" viewBox=\"0 -960 960 960\">\n",
              "    <path d=\"M120-120v-720h720v720H120Zm60-500h600v-160H180v160Zm220 220h160v-160H400v160Zm0 220h160v-160H400v160ZM180-400h160v-160H180v160Zm440 0h160v-160H620v160ZM180-180h160v-160H180v160Zm440 0h160v-160H620v160Z\"/>\n",
              "  </svg>\n",
              "    </button>\n",
              "\n",
              "  <style>\n",
              "    .colab-df-container {\n",
              "      display:flex;\n",
              "      gap: 12px;\n",
              "    }\n",
              "\n",
              "    .colab-df-convert {\n",
              "      background-color: #E8F0FE;\n",
              "      border: none;\n",
              "      border-radius: 50%;\n",
              "      cursor: pointer;\n",
              "      display: none;\n",
              "      fill: #1967D2;\n",
              "      height: 32px;\n",
              "      padding: 0 0 0 0;\n",
              "      width: 32px;\n",
              "    }\n",
              "\n",
              "    .colab-df-convert:hover {\n",
              "      background-color: #E2EBFA;\n",
              "      box-shadow: 0px 1px 2px rgba(60, 64, 67, 0.3), 0px 1px 3px 1px rgba(60, 64, 67, 0.15);\n",
              "      fill: #174EA6;\n",
              "    }\n",
              "\n",
              "    .colab-df-buttons div {\n",
              "      margin-bottom: 4px;\n",
              "    }\n",
              "\n",
              "    [theme=dark] .colab-df-convert {\n",
              "      background-color: #3B4455;\n",
              "      fill: #D2E3FC;\n",
              "    }\n",
              "\n",
              "    [theme=dark] .colab-df-convert:hover {\n",
              "      background-color: #434B5C;\n",
              "      box-shadow: 0px 1px 3px 1px rgba(0, 0, 0, 0.15);\n",
              "      filter: drop-shadow(0px 1px 2px rgba(0, 0, 0, 0.3));\n",
              "      fill: #FFFFFF;\n",
              "    }\n",
              "  </style>\n",
              "\n",
              "    <script>\n",
              "      const buttonEl =\n",
              "        document.querySelector('#df-e42d7d07-1986-47f6-a4c2-840e2e77123a button.colab-df-convert');\n",
              "      buttonEl.style.display =\n",
              "        google.colab.kernel.accessAllowed ? 'block' : 'none';\n",
              "\n",
              "      async function convertToInteractive(key) {\n",
              "        const element = document.querySelector('#df-e42d7d07-1986-47f6-a4c2-840e2e77123a');\n",
              "        const dataTable =\n",
              "          await google.colab.kernel.invokeFunction('convertToInteractive',\n",
              "                                                    [key], {});\n",
              "        if (!dataTable) return;\n",
              "\n",
              "        const docLinkHtml = 'Like what you see? Visit the ' +\n",
              "          '<a target=\"_blank\" href=https://colab.research.google.com/notebooks/data_table.ipynb>data table notebook</a>'\n",
              "          + ' to learn more about interactive tables.';\n",
              "        element.innerHTML = '';\n",
              "        dataTable['output_type'] = 'display_data';\n",
              "        await google.colab.output.renderOutput(dataTable, element);\n",
              "        const docLink = document.createElement('div');\n",
              "        docLink.innerHTML = docLinkHtml;\n",
              "        element.appendChild(docLink);\n",
              "      }\n",
              "    </script>\n",
              "  </div>\n",
              "\n",
              "\n",
              "<div id=\"df-55d6768b-b6b3-4886-8e6c-d667aade11df\">\n",
              "  <button class=\"colab-df-quickchart\" onclick=\"quickchart('df-55d6768b-b6b3-4886-8e6c-d667aade11df')\"\n",
              "            title=\"Suggest charts\"\n",
              "            style=\"display:none;\">\n",
              "\n",
              "<svg xmlns=\"http://www.w3.org/2000/svg\" height=\"24px\"viewBox=\"0 0 24 24\"\n",
              "     width=\"24px\">\n",
              "    <g>\n",
              "        <path d=\"M19 3H5c-1.1 0-2 .9-2 2v14c0 1.1.9 2 2 2h14c1.1 0 2-.9 2-2V5c0-1.1-.9-2-2-2zM9 17H7v-7h2v7zm4 0h-2V7h2v10zm4 0h-2v-4h2v4z\"/>\n",
              "    </g>\n",
              "</svg>\n",
              "  </button>\n",
              "\n",
              "<style>\n",
              "  .colab-df-quickchart {\n",
              "      --bg-color: #E8F0FE;\n",
              "      --fill-color: #1967D2;\n",
              "      --hover-bg-color: #E2EBFA;\n",
              "      --hover-fill-color: #174EA6;\n",
              "      --disabled-fill-color: #AAA;\n",
              "      --disabled-bg-color: #DDD;\n",
              "  }\n",
              "\n",
              "  [theme=dark] .colab-df-quickchart {\n",
              "      --bg-color: #3B4455;\n",
              "      --fill-color: #D2E3FC;\n",
              "      --hover-bg-color: #434B5C;\n",
              "      --hover-fill-color: #FFFFFF;\n",
              "      --disabled-bg-color: #3B4455;\n",
              "      --disabled-fill-color: #666;\n",
              "  }\n",
              "\n",
              "  .colab-df-quickchart {\n",
              "    background-color: var(--bg-color);\n",
              "    border: none;\n",
              "    border-radius: 50%;\n",
              "    cursor: pointer;\n",
              "    display: none;\n",
              "    fill: var(--fill-color);\n",
              "    height: 32px;\n",
              "    padding: 0;\n",
              "    width: 32px;\n",
              "  }\n",
              "\n",
              "  .colab-df-quickchart:hover {\n",
              "    background-color: var(--hover-bg-color);\n",
              "    box-shadow: 0 1px 2px rgba(60, 64, 67, 0.3), 0 1px 3px 1px rgba(60, 64, 67, 0.15);\n",
              "    fill: var(--button-hover-fill-color);\n",
              "  }\n",
              "\n",
              "  .colab-df-quickchart-complete:disabled,\n",
              "  .colab-df-quickchart-complete:disabled:hover {\n",
              "    background-color: var(--disabled-bg-color);\n",
              "    fill: var(--disabled-fill-color);\n",
              "    box-shadow: none;\n",
              "  }\n",
              "\n",
              "  .colab-df-spinner {\n",
              "    border: 2px solid var(--fill-color);\n",
              "    border-color: transparent;\n",
              "    border-bottom-color: var(--fill-color);\n",
              "    animation:\n",
              "      spin 1s steps(1) infinite;\n",
              "  }\n",
              "\n",
              "  @keyframes spin {\n",
              "    0% {\n",
              "      border-color: transparent;\n",
              "      border-bottom-color: var(--fill-color);\n",
              "      border-left-color: var(--fill-color);\n",
              "    }\n",
              "    20% {\n",
              "      border-color: transparent;\n",
              "      border-left-color: var(--fill-color);\n",
              "      border-top-color: var(--fill-color);\n",
              "    }\n",
              "    30% {\n",
              "      border-color: transparent;\n",
              "      border-left-color: var(--fill-color);\n",
              "      border-top-color: var(--fill-color);\n",
              "      border-right-color: var(--fill-color);\n",
              "    }\n",
              "    40% {\n",
              "      border-color: transparent;\n",
              "      border-right-color: var(--fill-color);\n",
              "      border-top-color: var(--fill-color);\n",
              "    }\n",
              "    60% {\n",
              "      border-color: transparent;\n",
              "      border-right-color: var(--fill-color);\n",
              "    }\n",
              "    80% {\n",
              "      border-color: transparent;\n",
              "      border-right-color: var(--fill-color);\n",
              "      border-bottom-color: var(--fill-color);\n",
              "    }\n",
              "    90% {\n",
              "      border-color: transparent;\n",
              "      border-bottom-color: var(--fill-color);\n",
              "    }\n",
              "  }\n",
              "</style>\n",
              "\n",
              "  <script>\n",
              "    async function quickchart(key) {\n",
              "      const quickchartButtonEl =\n",
              "        document.querySelector('#' + key + ' button');\n",
              "      quickchartButtonEl.disabled = true;  // To prevent multiple clicks.\n",
              "      quickchartButtonEl.classList.add('colab-df-spinner');\n",
              "      try {\n",
              "        const charts = await google.colab.kernel.invokeFunction(\n",
              "            'suggestCharts', [key], {});\n",
              "      } catch (error) {\n",
              "        console.error('Error during call to suggestCharts:', error);\n",
              "      }\n",
              "      quickchartButtonEl.classList.remove('colab-df-spinner');\n",
              "      quickchartButtonEl.classList.add('colab-df-quickchart-complete');\n",
              "    }\n",
              "    (() => {\n",
              "      let quickchartButtonEl =\n",
              "        document.querySelector('#df-55d6768b-b6b3-4886-8e6c-d667aade11df button');\n",
              "      quickchartButtonEl.style.display =\n",
              "        google.colab.kernel.accessAllowed ? 'block' : 'none';\n",
              "    })();\n",
              "  </script>\n",
              "</div>\n",
              "\n",
              "    </div>\n",
              "  </div>\n"
            ]
          },
          "metadata": {}
        }
      ]
    },
    {
      "cell_type": "code",
      "source": [
        "# =============================\n",
        "# 1.1 Train-val-test split\n",
        "# =============================\n",
        "\n",
        "train, val = train_test_split(KobeDataset, test_size= 0.25, train_size= 0.75, random_state= 123)\n",
        "val, test = train_test_split(val, test_size= 0.25, train_size= 0.75, random_state= 123)\n"
      ],
      "metadata": {
        "id": "biAG42MxTdeO"
      },
      "execution_count": null,
      "outputs": []
    },
    {
      "cell_type": "markdown",
      "source": [
        "### Exercise \\#1 Decision Tree\n",
        "\n",
        "Let's build a simple decision tree!"
      ],
      "metadata": {
        "id": "tWipG1VYkReN"
      }
    },
    {
      "cell_type": "code",
      "source": [
        "# ==========================================\n",
        "# 1. Decision Trees/CART Model\n",
        "# ==========================================\n",
        "\n",
        "from sklearn import tree\n",
        "\n",
        "# use only numeric variables without any missing values\n",
        "feat = [\"minutes_remaining\",\"shot_distance\",\"loc_x\", \"loc_y\", \"seconds_remaining\"]\n",
        "label = \"shot_made_flag\"\n",
        "\n",
        "#Create a Decision Tree and fit on training data, then predict on validation data. Hint: function is tree.DecisionTreeClassifier()\n",
        "cart_default = tree.DecisionTreeClassifier(splitter = 'best', max_depth = 3).fit(train[feat],train[label])\n",
        "\n",
        "# predict\n",
        "cart_val = cart_default.predict_proba(val[feat])[:,1]\n",
        "\n",
        "print(\" -- -- -- \")\n",
        "\n",
        "# Let's check the performance by outputting the OSR^2 (Out of Sample R^2) score.\n",
        "print(\"CART performance: \" + str(np.round(roc_auc_score(val[label],cart_val), 5)))"
      ],
      "metadata": {
        "id": "iBkXm3LxkYau",
        "colab": {
          "base_uri": "https://localhost:8080/"
        },
        "outputId": "51b44fde-78c7-4ad6-ceb4-e1f45ecb9514"
      },
      "execution_count": null,
      "outputs": [
        {
          "output_type": "stream",
          "name": "stdout",
          "text": [
            " -- -- -- \n",
            "CART performance: 0.60314\n"
          ]
        }
      ]
    },
    {
      "cell_type": "code",
      "source": [
        "#Visualize your decision tree with this code:\n",
        "import matplotlib.pyplot as plt\n",
        "plt.figure(figsize=(15,10))\n",
        "tree.plot_tree(cart_default,impurity = True, feature_names=feat,filled=True)\n",
        "plt.show()"
      ],
      "metadata": {
        "id": "Zl4U1JsDn21O",
        "colab": {
          "base_uri": "https://localhost:8080/",
          "height": 807
        },
        "outputId": "1028d4cf-080c-463a-de7f-b15916d5ffda"
      },
      "execution_count": null,
      "outputs": [
        {
          "output_type": "display_data",
          "data": {
            "text/plain": [
              "<Figure size 1500x1000 with 1 Axes>"
            ],
            "image/png": "[encoded data removed]"
          },
          "metadata": {}
        }
      ]
    },
    {
      "cell_type": "markdown",
      "source": [
        "### Exercise \\#2 Baseline GBM Model\n",
        "\n",
        "For this, let's use only numeric features without any missing data to create our models.\n",
        "\n",
        "**Exercise 2**\n",
        "Build a Gradient Boosting Model with the given features, and fit on training set\n"
      ],
      "metadata": {
        "id": "Rb2O7azr4hzE"
      }
    },
    {
      "cell_type": "code",
      "source": [
        "# ==========================================\n",
        "# 2. GBM\n",
        "# ==========================================\n",
        "\n",
        "# use only numeric variables without any missing values\n",
        "feat = [\"minutes_remaining\", \"loc_x\", \"loc_y\",\"shot_distance\",\"seconds_remaining\"]\n",
        "label = \"shot_made_flag\"\n",
        "\n",
        "#Create Gradient Boosting model and fit on training data, then predict on validation data\n",
        "# simple gbm\n",
        "gbm1 = GradientBoostingClassifier()\n",
        "gbm1.fit(train[feat], train[label])\n",
        "\n",
        "# predict on validation data\n",
        "gbm1_val = pd.Series(gbm1.predict_proba(val[feat])[:,1])\n",
        "print(\" -- -- -- \")\n",
        "\n",
        "# auc score\n",
        "#Lets Check on its performance (gbm1_val = the values of the prediction on validation data, substitute with name used)\n",
        "print(\"Baseline GBM performance: \" + str(np.round(roc_auc_score(val[label], gbm1_val), 5)))"
      ],
      "metadata": {
        "id": "S5E0wcwH5fP6",
        "colab": {
          "base_uri": "https://localhost:8080/"
        },
        "outputId": "fae775b9-489d-4aa0-a8d1-d8ab5ed1a56e"
      },
      "execution_count": null,
      "outputs": [
        {
          "output_type": "stream",
          "name": "stdout",
          "text": [
            " -- -- -- \n",
            "Baseline GBM performance: 0.61181\n"
          ]
        }
      ]
    },
    {
      "cell_type": "markdown",
      "source": [
        "##Feature Engineering - Understanding variable importance\n",
        "\n",
        "Let's call back to yesterday to think through what variables might be important. Run the code block below."
      ],
      "metadata": {
        "id": "-Aeyp7u-OqNn"
      }
    },
    {
      "cell_type": "code",
      "source": [
        "KobeDataset.info()"
      ],
      "metadata": {
        "id": "UZ8Hc552iiq2",
        "colab": {
          "base_uri": "https://localhost:8080/"
        },
        "outputId": "788393fb-2992-401a-f8dd-bfa20abf48ae"
      },
      "execution_count": null,
      "outputs": [
        {
          "output_type": "stream",
          "name": "stdout",
          "text": [
            "<class 'pandas.core.frame.DataFrame'>\n",
            "Int64Index: 25696 entries, 1 to 30696\n",
            "Data columns (total 15 columns):\n",
            " #   Column             Non-Null Count  Dtype  \n",
            "---  ------             --------------  -----  \n",
            " 0   action_type        25696 non-null  object \n",
            " 1   loc_x              25696 non-null  int64  \n",
            " 2   loc_y              25696 non-null  int64  \n",
            " 3   shot_distance      25696 non-null  float64\n",
            " 4   shot_zone_basic    25696 non-null  object \n",
            " 5   shot_zone_area     25696 non-null  object \n",
            " 6   shot_type          25696 non-null  object \n",
            " 7   period             25696 non-null  int64  \n",
            " 8   minutes_remaining  25696 non-null  int64  \n",
            " 9   seconds_remaining  25696 non-null  int64  \n",
            " 10  playoffs           25696 non-null  int64  \n",
            " 11  season             25696 non-null  object \n",
            " 12  game_date          25696 non-null  object \n",
            " 13  matchup            25696 non-null  object \n",
            " 14  shot_made_flag     25696 non-null  float64\n",
            "dtypes: float64(2), int64(6), object(7)\n",
            "memory usage: 3.1+ MB\n"
          ]
        }
      ]
    },
    {
      "cell_type": "markdown",
      "source": [
        "###Exercise \\#3 Plot Feature Importance\n",
        "\n",
        "**Exercise 3**. Which features do we consider the most important in our classification?\n",
        "Which are the least important?\n",
        "\n",
        "**Hint:** It might be useful to use the feature_importances attribute\n",
        "\n",
        "Build a DataFrame with two columns. One with the name of the feature, and a second with the feature importance\n",
        "\n",
        "Note: \"Feature importance\" is a metric for how valuable an attribute is in creating the model. It's calculated based on how much a given feature reduces the \"impurity\" of the trees, as we discussed in class."
      ],
      "metadata": {
        "id": "M8LXowGA07Ux"
      }
    },
    {
      "cell_type": "code",
      "source": [
        "#Answer\n",
        "\n",
        "gbm_feat_imp = pd.DataFrame({\"feat\": feat, \"imp\": np.round(gbm1.feature_importances_,3)})\n",
        "gbm_feat_imp = gbm_feat_imp.sort_values(by= [\"imp\"], ascending= False)\n",
        "print(gbm_feat_imp)"
      ],
      "metadata": {
        "id": "1tps1OHkz1uP",
        "colab": {
          "base_uri": "https://localhost:8080/"
        },
        "outputId": "67e6765e-3ccb-469a-f694-4bb9fa36edbd"
      },
      "execution_count": null,
      "outputs": [
        {
          "output_type": "stream",
          "name": "stdout",
          "text": [
            "                feat    imp\n",
            "3      shot_distance  0.660\n",
            "1              loc_x  0.106\n",
            "4  seconds_remaining  0.092\n",
            "2              loc_y  0.088\n",
            "0  minutes_remaining  0.054\n"
          ]
        }
      ]
    },
    {
      "cell_type": "code",
      "source": [
        "#lets visualize this (optional)\n",
        "gbm_feat_imp = gbm_feat_imp.sort_values(by= [\"imp\"], ascending= True)\n",
        "pos = np.arange(gbm_feat_imp.shape[0]) + 0.5\n",
        "plt.figure(figsize=(12, 10))\n",
        "plt.subplot(1, 1, 1)\n",
        "plt.barh(pos, gbm_feat_imp.imp.values*100, align='center')\n",
        "plt.yticks(pos, gbm_feat_imp.feat.values)\n",
        "plt.xlabel(\"Importance\")\n",
        "plt.title(\"Variable Importance in Gradient Boosting\")\n",
        "plt.show()"
      ],
      "metadata": {
        "id": "3kTfsZAa1AmA",
        "colab": {
          "base_uri": "https://localhost:8080/",
          "height": 811
        },
        "outputId": "efa84490-43a1-497c-ab4f-25a2aa8bc699"
      },
      "execution_count": null,
      "outputs": [
        {
          "output_type": "display_data",
          "data": {
            "text/plain": [
              "<Figure size 1200x1000 with 1 Axes>"
            ],
            "image/png": "[encoded data removed]"
          },
          "metadata": {}
        }
      ]
    },
    {
      "cell_type": "markdown",
      "source": [
        "##Quick Recap\n",
        "\n",
        "2. We have discussed the following classification algorithms:\n",
        "    1. Logistic Regression\n",
        "    2. Random Forests\n",
        "    2. Boosted Models\n",
        "    3. Ensemble Learning\n",
        "\n",
        "3. We will also look at the following:\n",
        "    1. Extremely Randomized Trees (similar to Random Forest)\n",
        "    2. Stochastic Gradient Descent (SGD)\n"
      ],
      "metadata": {
        "id": "mReHetHd_tWV"
      }
    },
    {
      "cell_type": "markdown",
      "metadata": {
        "id": "JeiREE_E_zWs"
      },
      "source": [
        "##Random Forest and Extremely Randomized Trees\n",
        "\n",
        "Apart from RF, will also be using the ExtraTrees Algorithm, also known as Extremely Randomized Trees (ERT).\n",
        "\n",
        "ERT works very similarly to Random Forests, except that ERT randomizes splits (instead of finding optimal one like random forest), thereby adding randomization to the problem. Looking at results, both are very similar, however, ERT is computationally faster.\n"
      ]
    },
    {
      "cell_type": "markdown",
      "source": [
        "###Exercise \\#4 RF and ERT\n",
        "\n",
        "For **Exercise 4**, we will build a RF Model and an ERT Model."
      ],
      "metadata": {
        "id": "n16lpgj9b0iT"
      }
    },
    {
      "cell_type": "code",
      "metadata": {
        "id": "dwX0jGG9OvBB",
        "colab": {
          "base_uri": "https://localhost:8080/"
        },
        "outputId": "6b421612-b5b0-453f-cc16-72d5c6769624"
      },
      "source": [
        "\n",
        "#RF\n",
        "#Base Features\n",
        "rf1 = RandomForestClassifier()\n",
        "rf1.fit(train[feat], train[label])\n",
        "\n",
        "rf1_val = rf1.predict_proba(val[feat])[:,1]\n",
        "\n",
        "print(\"RF Performance (Base Feats): \" + str(np.round(roc_auc_score(val[label], rf1_val), 5)))\n",
        "\n",
        "#ERT\n",
        "#Base Features\n",
        "ert1 = ExtraTreesClassifier()\n",
        "ert1.fit(train[feat], train[label])\n",
        "\n",
        "# predict on validation data\n",
        "ert1_val = ert1.predict_proba(val[feat])[:,1]\n",
        "print(\"ERT performance (Base Feats): \" + str(np.round(roc_auc_score(val[label], ert1_val), 5)))\n"
      ],
      "execution_count": null,
      "outputs": [
        {
          "output_type": "stream",
          "name": "stdout",
          "text": [
            "RF Performance (Base Feats): 0.57517\n",
            "ERT performance (Base Feats): 0.57487\n"
          ]
        }
      ]
    },
    {
      "cell_type": "markdown",
      "source": [
        "*\n",
        "*\n",
        "*\n",
        "*\n",
        "###**STOP HERE**\n",
        "\n",
        "The following code contains some examples of follow-on techniques or more advanced algorithms that build on the above. This is for your reference only - no need to work through this material, we just wanted you to have some examples of this type of code in case it came in handy in the future!\n",
        "\n",
        "*\n",
        "*\n",
        "*\n",
        "*"
      ],
      "metadata": {
        "id": "_e1IPE40wwVw"
      }
    },
    {
      "cell_type": "markdown",
      "metadata": {
        "id": "godSYKAPQ1dz"
      },
      "source": [
        "##Ensemble Learning\n",
        "\n",
        "Now we move on to ensemble leraning, more specifically, stacking. (We have already seen Bagging (RF and ERT) and Boosting (GBM))\n",
        "\n",
        "Stacking tries to answer the following question: Given multiple machine learning models that can solve a problem with some accuracy, but in different ways, how do you choose which model to use?\n",
        "\n",
        "In **exercise 6** below, we will look at several ways of \"stacking\" these models."
      ]
    },
    {
      "cell_type": "markdown",
      "source": [
        "###Exercise \\#6 Ensemble Learning"
      ],
      "metadata": {
        "id": "YIo1XDWh946r"
      }
    },
    {
      "cell_type": "code",
      "metadata": {
        "id": "cB_GD3BhQ2kU",
        "colab": {
          "base_uri": "https://localhost:8080/"
        },
        "outputId": "5276f7d1-4605-43f1-ef99-c88a1a85d8cd"
      },
      "source": [
        "# =============================\n",
        "# 5. Ensemble Learning\n",
        "# =============================\n",
        "\n",
        "# =============================\n",
        "# 5.1 Ensemble Learning\n",
        "#     Simple Average\n",
        "# =============================\n",
        "\n",
        "#TODO create a simple average ensemble learning method using the results from ERT, RF and Logistic Regression.\n",
        "#We simply need to find the average of their predicted values (predicted probabilities)\n",
        "#Note: the 3 models used should have been trained on the same dataset (try using IDF-PCA), so make any necesary changes to the models.\n",
        "logReg3 = LogisticRegression().fit(train[feat], train[label])\n",
        "logReg3_val = logReg3.predict_proba(val[feat])[:,1]\n",
        "print(\"LogReg performance (Base Feats): \" + str(np.round(roc_auc_score(val[label], logReg3_val), 5)))\n",
        "\n",
        "# simple blend of logistic, ERT, and RF\n",
        "simple_avg_val = np.mean([logReg3_val, ert1_val, rf1_val], axis= 0)\n",
        "print(\"Simple Avg: \" + str(np.round(roc_auc_score(val[label], simple_avg_val), 5)))"
      ],
      "execution_count": null,
      "outputs": [
        {
          "output_type": "stream",
          "name": "stdout",
          "text": [
            "LogReg performance (Base Feats): 0.60761\n",
            "Simple Avg: 0.59009\n"
          ]
        }
      ]
    },
    {
      "cell_type": "code",
      "source": [
        "#Lets Add GBM to our simple average ensemble learning model.\n",
        "\n",
        "#TO DO: Create GBM Model using IDF-PCA Features and add it to our simple average model\n",
        "\n",
        "#Answer\n",
        "gbm3 = GradientBoostingClassifier()\n",
        "gbm3.fit(train[feat], train[label])\n",
        "\n",
        "gbm3_val = gbm3.predict_proba(val[feat])[:,1]\n",
        "\n",
        "print(\"GBM Performance IDF-PCA: \" + str(np.round(roc_auc_score(val[label], gbm3_val), 5)))\n",
        "\n",
        "#TO DO: Add to simple average ensemble learning\n",
        "#answer\n",
        "simple_avg_val = np.mean([logReg3_val, gbm3_val, ert1_val, rf1_val], axis= 0)\n",
        "print(\"Simple Avg (Logit, GMB, ERT, RF): \" + str(np.round(roc_auc_score(val[label], simple_avg_val), 5)))\n"
      ],
      "metadata": {
        "id": "zVd8LPol7BOm",
        "colab": {
          "base_uri": "https://localhost:8080/"
        },
        "outputId": "ff7448e1-1ca6-4d29-d9b8-0d11b8c15bac"
      },
      "execution_count": null,
      "outputs": [
        {
          "output_type": "stream",
          "name": "stdout",
          "text": [
            "GBM Performance IDF-PCA: 0.61184\n",
            "Simple Avg (Logit, GMB, ERT, RF): 0.59981\n"
          ]
        }
      ]
    },
    {
      "cell_type": "code",
      "source": [
        "# =============================\n",
        "# 5.2 Ensemble Learning\n",
        "#     Weighted Average\n",
        "# =============================\n",
        "\n",
        "#Sometimes, you might trust one model a bit more than the others, for this part, we will again\n",
        "#compute the average of the models, but this time, you should play around with the weights.\n",
        "\n",
        "#TODO: Lets add the weights ourselves, play around with different weight values and different combinations of models\n",
        "#Answer - Example (we get better performance)\n",
        "simple_avg_val = .2*logReg3_val + .8*gbm3_val\n",
        "print(\"Weighted Avg (Logit, GMB, ERT, RF): \" + str(np.round(roc_auc_score(val[label], simple_avg_val), 5)))"
      ],
      "metadata": {
        "id": "Fr5CiGOS98aX",
        "colab": {
          "base_uri": "https://localhost:8080/"
        },
        "outputId": "eb44beb2-8420-4a0f-b79e-6b540be46f1a"
      },
      "execution_count": null,
      "outputs": [
        {
          "output_type": "stream",
          "name": "stdout",
          "text": [
            "Weighted Avg (Logit, GMB, ERT, RF): 0.61133\n"
          ]
        }
      ]
    },
    {
      "cell_type": "markdown",
      "source": [
        "####Ensemble Learning - Meta Model\n",
        "\n",
        "In stacking, a single model is used to learn how to best combine the predictions from the contributing models. Before, the models used were simple and weighted average.\n",
        "\n",
        "In reality, the architecture of a stacking model involves level-0 models (the individual models we made), and a meta-model that combines the predictions of the base models, referred to as a level-1 model.\n",
        "\n",
        "Now, we will try using a Logistic Regression Model as our Level-1 Model"
      ],
      "metadata": {
        "id": "sBGFjGIqPur1"
      }
    },
    {
      "cell_type": "code",
      "source": [
        "# =============================\n",
        "# 5.3 Ensemble Learning\n",
        "#     Meta Model (w/ Logistic)\n",
        "# =============================\n",
        "\n",
        "#TO DO: combine the results from our base models and perform a logistic regression on them\n",
        "#ANSWER (answer should not have x1/SGD results I just added them)\n",
        "val_ens = pd.DataFrame({\"label\": val[label], \"gbm3\": gbm3_val,\n",
        "                        \"logReg3\": logReg3_val, \"rf2\": rf1_val,\n",
        "                       \"ert2\": ert1_val})\n",
        "\n",
        "logReg4_ens = LogisticRegression()\n",
        "ens_feat = [\"gbm3\", \"logReg3\", \"rf2\", \"ert2\"]\n",
        "\n",
        "logReg4_ens.fit(val_ens[ens_feat], val_ens[\"label\"])\n",
        "\n",
        "# predict on validation data\n",
        "logReg4_ens_val = logReg4_ens.predict_proba(val_ens[ens_feat])[:,1]\n",
        "\n",
        "#Lets Check on its performance (logReg1_val = the values of the prediction on validation data, substitute with name used)\n",
        "print(\"Logistic Ensemble performance: \" + str(np.round(roc_auc_score(val_ens[\"label\"], logReg4_ens_val), 5)))\n"
      ],
      "metadata": {
        "id": "EmJvqGDuKhwz",
        "colab": {
          "base_uri": "https://localhost:8080/"
        },
        "outputId": "b6ea9505-0c53-47fd-8995-a1345cfaa9a5"
      },
      "execution_count": null,
      "outputs": [
        {
          "output_type": "stream",
          "name": "stdout",
          "text": [
            "Logistic Ensemble performance: 0.61373\n"
          ]
        }
      ]
    },
    {
      "cell_type": "markdown",
      "metadata": {
        "id": "Dria5RQERXxk"
      },
      "source": [
        "##Stochastic Gradient Descent\n",
        "\n",
        "Now let's look at another way of performing some of the ML techniques learned today.\n",
        "\n",
        "Stochastic Gradient Descent (SGD) offers a simple yet very efficient approach to fitting linear classifiers (and regressors) under convex loss functions such as Logistic Regression.\n",
        "\n",
        "SGD is an optimization technique, not a ML technique. It simply offers a different, usually more efficient, *way* of solving the model.\n"
      ]
    },
    {
      "cell_type": "markdown",
      "source": [
        "###Exercise \\#6 SGD ***OPTIONAL***\n",
        "For **exercise 6**, we will recreate a logistic regression model using SGD. It might be useful to look at the [SGD parameters](https://scikit-learn.org/stable/modules/generated/sklearn.linear_model.SGDClassifier.html) more closely"
      ],
      "metadata": {
        "id": "13av8q8f9xyJ"
      }
    },
    {
      "cell_type": "code",
      "metadata": {
        "scrolled": false,
        "id": "BG5qmpjJkACL",
        "colab": {
          "base_uri": "https://localhost:8080/"
        },
        "outputId": "2ac9072a-8672-495e-f3ea-266241b4f5f1"
      },
      "source": [
        "# =============================\n",
        "# 4.10 SGD on entire dtm\n",
        "# =============================\n",
        "\n",
        "# train sgd\n",
        "sgd1 = SGDClassifier(loss = \"log\", penalty = \"l2\")\n",
        "sgd1.fit(train[feat], train[label])\n",
        "\n",
        "# predict on validation data\n",
        "sgd1_val = sgd1.predict_proba(val[feat])[:,1]\n",
        "print(\" -- -- -- \")\n",
        "\n",
        "# auc score\n",
        "print(\"SGD: \" + str(np.round(roc_auc_score(val[label], sgd1_val), 5)))"
      ],
      "execution_count": null,
      "outputs": [
        {
          "output_type": "stream",
          "name": "stdout",
          "text": [
            " -- -- -- \n",
            "SGD: 0.50672\n"
          ]
        }
      ]
    },
    {
      "cell_type": "markdown",
      "source": [
        "##Feature Engineering - Text Features\n",
        "\n",
        "Now lets finish our feature engineering lesson from yesterday by looking at the text features.\n",
        "\n",
        "Run the code block below."
      ],
      "metadata": {
        "id": "gWI7abv5_bwr"
      }
    },
    {
      "cell_type": "markdown",
      "source": [
        "# Dataset with Text\n",
        "\n",
        "We will be working with some data from Kaggle - a machine learning competition site with many datasets: https://www.kaggle.com/c/stumbleupon/data?select=train.tsv.\n",
        "\n",
        "The dataset here contains information about webpages and the labels are whether or not the site is evergreen. An evergreen site is one that is always relevant. A news article from 1998 would not be evergreen, but a chocolate chip cookie recipe would be. The labels were determined by human judgement."
      ],
      "metadata": {
        "id": "eGI_b6mnrZdh"
      }
    },
    {
      "cell_type": "code",
      "source": [
        "%%bash\n",
        "git clone https://github.com/caboonie/gsl-uruguay.git"
      ],
      "metadata": {
        "id": "BopjRJ1-q4r_",
        "colab": {
          "base_uri": "https://localhost:8080/"
        },
        "outputId": "766de557-b56d-4193-dfe8-f4d44117bdcc"
      },
      "execution_count": null,
      "outputs": [
        {
          "output_type": "stream",
          "name": "stderr",
          "text": [
            "Cloning into 'gsl-uruguay'...\n",
            "Updating files:   0% (10/5869)\rUpdating files:   0% (11/5869)\rUpdating files:   1% (59/5869)\rUpdating files:   2% (118/5869)\rUpdating files:   3% (177/5869)\rUpdating files:   4% (235/5869)\rUpdating files:   4% (277/5869)\rUpdating files:   5% (294/5869)\rUpdating files:   6% (353/5869)\rUpdating files:   7% (411/5869)\rUpdating files:   8% (470/5869)\rUpdating files:   9% (529/5869)\rUpdating files:  10% (587/5869)\rUpdating files:  11% (646/5869)\rUpdating files:  12% (705/5869)\rUpdating files:  12% (757/5869)\rUpdating files:  13% (763/5869)\rUpdating files:  14% (822/5869)\rUpdating files:  14% (871/5869)\rUpdating files:  15% (881/5869)\rUpdating files:  16% (940/5869)\rUpdating files:  17% (998/5869)\rUpdating files:  17% (1047/5869)\rUpdating files:  18% (1057/5869)\rUpdating files:  19% (1116/5869)\rUpdating files:  20% (1174/5869)\rUpdating files:  20% (1218/5869)\rUpdating files:  21% (1233/5869)\rUpdating files:  21% (1267/5869)\rUpdating files:  21% (1282/5869)\rUpdating files:  22% (1292/5869)\rUpdating files:  23% (1350/5869)\rUpdating files:  24% (1409/5869)\rUpdating files:  24% (1467/5869)\rUpdating files:  25% (1468/5869)\rUpdating files:  26% (1526/5869)\rUpdating files:  27% (1585/5869)\rUpdating files:  28% (1644/5869)\rUpdating files:  29% (1703/5869)\rUpdating files:  30% (1761/5869)\rUpdating files:  30% (1764/5869)\rUpdating files:  31% (1820/5869)\rUpdating files:  32% (1879/5869)\rUpdating files:  33% (1937/5869)\rUpdating files:  34% (1996/5869)\rUpdating files:  35% (2055/5869)\rUpdating files:  36% (2113/5869)\rUpdating files:  37% (2172/5869)\rUpdating files:  38% (2231/5869)\rUpdating files:  39% (2289/5869)\rUpdating files:  40% (2348/5869)\rUpdating files:  41% (2407/5869)\rUpdating files:  42% (2465/5869)\rUpdating files:  43% (2524/5869)\rUpdating files:  44% (2583/5869)\rUpdating files:  45% (2642/5869)\rUpdating files:  46% (2700/5869)\rUpdating files:  47% (2759/5869)\rUpdating files:  48% (2818/5869)\rUpdating files:  49% (2876/5869)\rUpdating files:  50% (2935/5869)\rUpdating files:  51% (2994/5869)\rUpdating files:  52% (3052/5869)\rUpdating files:  53% (3111/5869)\rUpdating files:  54% (3170/5869)\rUpdating files:  55% (3228/5869)\rUpdating files:  56% (3287/5869)\rUpdating files:  57% (3346/5869)\rUpdating files:  58% (3405/5869)\rUpdating files:  58% (3437/5869)\rUpdating files:  59% (3463/5869)\rUpdating files:  60% (3522/5869)\rUpdating files:  61% (3581/5869)\rUpdating files:  62% (3639/5869)\rUpdating files:  63% (3698/5869)\rUpdating files:  64% (3757/5869)\rUpdating files:  65% (3815/5869)\rUpdating files:  66% (3874/5869)\rUpdating files:  67% (3933/5869)\rUpdating files:  68% (3991/5869)\rUpdating files:  69% (4050/5869)\rUpdating files:  70% (4109/5869)\rUpdating files:  71% (4167/5869)\rUpdating files:  72% (4226/5869)\rUpdating files:  72% (4263/5869)\rUpdating files:  73% (4285/5869)\rUpdating files:  74% (4344/5869)\rUpdating files:  75% (4402/5869)\rUpdating files:  76% (4461/5869)\rUpdating files:  76% (4480/5869)\rUpdating files:  77% (4520/5869)\rUpdating files:  78% (4578/5869)\rUpdating files:  78% (4632/5869)\rUpdating files:  79% (4637/5869)\rUpdating files:  80% (4696/5869)\rUpdating files:  81% (4754/5869)\rUpdating files:  82% (4813/5869)\rUpdating files:  83% (4872/5869)\rUpdating files:  84% (4930/5869)\rUpdating files:  85% (4989/5869)\rUpdating files:  86% (5048/5869)\rUpdating files:  87% (5107/5869)\rUpdating files:  88% (5165/5869)\rUpdating files:  89% (5224/5869)\rUpdating files:  90% (5283/5869)\rUpdating files:  91% (5341/5869)\rUpdating files:  92% (5400/5869)\rUpdating files:  93% (5459/5869)\rUpdating files:  94% (5517/5869)\rUpdating files:  95% (5576/5869)\rUpdating files:  96% (5635/5869)\rUpdating files:  97% (5693/5869)\rUpdating files:  98% (5752/5869)\rUpdating files:  99% (5811/5869)\rUpdating files: 100% (5869/5869)\rUpdating files: 100% (5869/5869), done.\n"
          ]
        }
      ]
    },
    {
      "cell_type": "code",
      "source": [
        "dataset_text = pd.read_table(\"gsl-uruguay/content/w1d2/train.tsv\", sep= \"\\t\")\n",
        "\n",
        "dataset_text = dataset_text.replace(\"?\", np.nan)\n",
        "dataset_text[[\"alchemy_category_score\", \"is_news\", \"news_front_page\"]] = dataset_text[[\"alchemy_category_score\",\n",
        "                                                                         \"is_news\", \"news_front_page\"]].astype(float)\n",
        "\n",
        "# =============================\n",
        "# 1.1 Train-val-test split\n",
        "# =============================\n",
        "\n",
        "train_text, val_text = train_test_split(dataset_text, test_size= 0.8, train_size= 0.2, random_state= 234)\n",
        "val_text, test_text = train_test_split(val_text, test_size= 0.5, train_size= 0.5, random_state= 675)\n"
      ],
      "metadata": {
        "id": "a8C9erToq5hu"
      },
      "execution_count": null,
      "outputs": []
    },
    {
      "cell_type": "markdown",
      "source": [
        "Fill in missing values and categorical data\n",
        "\n",
        "Notice how categorical data is filled in here"
      ],
      "metadata": {
        "id": "K15arfV6vzTQ"
      }
    },
    {
      "cell_type": "code",
      "source": [
        "# =============================\n",
        "# 3.1.1 Variables with missing\n",
        "#     values\n",
        "# =============================\n",
        "\n",
        "\n",
        "train_text[\"alchemy_category_score\"] = train_text[\"alchemy_category_score\"].fillna(np.mean(train_text[\"alchemy_category_score\"]))\n",
        "val_text[\"alchemy_category_score\"] = val_text[\"alchemy_category_score\"].fillna(np.mean(val_text[\"alchemy_category_score\"]))\n",
        "test_text[\"alchemy_category_score\"] = test_text[\"alchemy_category_score\"].fillna(np.mean(test_text[\"alchemy_category_score\"]))\n",
        "\n",
        "train_text[\"is_news\"] = train_text[\"is_news\"].fillna(0)\n",
        "train_text[\"news_front_page\"] = train_text[\"news_front_page\"].fillna(2)\n",
        "\n",
        "# =============================\n",
        "# 3.1.2 Categorical variables\n",
        "# =============================\n",
        "\n",
        "# impute missing values as separate category\n",
        "train_text[\"alchemy_category\"] = train_text[\"alchemy_category\"].fillna(\"_M\")\n",
        "val_text[\"alchemy_category\"] = val_text[\"alchemy_category\"].fillna(\"_M\")\n",
        "test_text[\"alchemy_category\"] = test_text[\"alchemy_category\"].fillna(\"_M\")\n",
        "\n",
        "# dummy variables for all categories\n",
        "alch_train = pd.get_dummies(train_text[\"alchemy_category\"], prefix= \"al_cat\")\n",
        "alch_val = pd.get_dummies(val_text[\"alchemy_category\"], prefix= \"al_cat\")\n",
        "alch_test = pd.get_dummies(test_text[\"alchemy_category\"], prefix= \"al_cat\")\n",
        "train_text = train_text.join(alch_train)\n",
        "val_text = val_text.join(alch_val)\n",
        "test_text= test_text.join(alch_test)"
      ],
      "metadata": {
        "id": "AmB6w-nCvvIW"
      },
      "execution_count": null,
      "outputs": []
    },
    {
      "cell_type": "code",
      "source": [
        "# =============================\n",
        "# 3.1.3 Text features\n",
        "# =============================\n",
        "\n",
        "# TF - COUNT\n",
        "count_dtm = CountVectorizer(min_df= 10,  max_features= 10000, strip_accents= 'unicode',\n",
        "                            analyzer= \"word\", token_pattern= r\"\\w{1,}\", ngram_range=(1, 2),\n",
        "                            binary= True)\n",
        "count_dtm.fit(train_text[\"boilerplate\"])\n",
        "train_cnt_dtm = count_dtm.transform(train_text[\"boilerplate\"])\n",
        "val_cnt_dtm = count_dtm.transform(val_text[\"boilerplate\"])\n",
        "test_cnt_dtm = count_dtm.transform(test_text[\"boilerplate\"])\n",
        "\n",
        "# TFIDF\n",
        "idf_dtm = TfidfVectorizer(min_df= 10,  max_features= None, strip_accents= \"unicode\",\n",
        "                          analyzer= \"word\", token_pattern= r\"\\w{1,}\", ngram_range=(1, 2),\n",
        "                          use_idf= 1, smooth_idf= 1, sublinear_tf= 1)\n",
        "idf_dtm.fit(train_text[\"boilerplate\"])\n",
        "\n",
        "\n",
        "train_idf_dtm = idf_dtm.transform(train_text[\"boilerplate\"])\n",
        "val_idf_dtm = idf_dtm.transform(val_text[\"boilerplate\"])\n",
        "test_idf_dtm = idf_dtm.transform(test_text[\"boilerplate\"])\n",
        "\n",
        "#how large is the new dataset?\n",
        "print(\" --- \")\n",
        "print(train_idf_dtm.shape)\n",
        "print(\" --- \")"
      ],
      "metadata": {
        "id": "D8CvAVtd989t",
        "colab": {
          "base_uri": "https://localhost:8080/"
        },
        "outputId": "892a99d6-990f-4c88-8ef6-cc7e2779d862"
      },
      "execution_count": null,
      "outputs": [
        {
          "output_type": "stream",
          "name": "stdout",
          "text": [
            " --- \n",
            "(1479, 9890)\n",
            " --- \n"
          ]
        }
      ]
    },
    {
      "cell_type": "markdown",
      "source": [
        "##Dimension Reduction and PCA\n",
        "\n",
        "As seen above, the new dataset created from TFIDFVectorizer is very large and we might benefit from only using a smaller portion of the data. As such, we use Principal Component Analysis to reduce the dimensionality of the data.\n",
        "\n",
        "Note that while PCA was not covered in lecture today, it can be extremely useful and you should familiarize yourself with it.\n",
        "\n",
        "For now, run the code below.\n",
        "\n"
      ],
      "metadata": {
        "id": "Z2yyegOONUes"
      }
    },
    {
      "cell_type": "code",
      "source": [
        "# =============================\n",
        "# 4. Dimension reduction -- PCA\n",
        "# =============================\n",
        "\n",
        "# lets fit with 100 components\n",
        "rpca = PCA(n_components = 100, random_state = 8795, svd_solver = \"randomized\")\n",
        "rpca.fit(train_idf_dtm.toarray())\n",
        "\n",
        "# tranform dtm\n",
        "train_idf_dtm_pca = rpca.transform(train_idf_dtm.toarray())\n",
        "val_idf_dtm_pca = rpca.transform(val_idf_dtm.toarray())\n",
        "test_idf_dtm_pca = rpca.transform(test_idf_dtm.toarray())\n",
        "print(\" --- \")\n",
        "print(train_idf_dtm_pca.shape); print(val_idf_dtm_pca.shape); print(test_idf_dtm_pca.shape)\n",
        "print(\" --- \")"
      ],
      "metadata": {
        "id": "9UrbPDJ7OCVU",
        "colab": {
          "base_uri": "https://localhost:8080/"
        },
        "outputId": "24fed4e0-efaf-427a-a0aa-74c8e23e4efb"
      },
      "execution_count": null,
      "outputs": [
        {
          "output_type": "stream",
          "name": "stdout",
          "text": [
            " --- \n",
            "(1479, 100)\n",
            "(2958, 100)\n",
            "(2958, 100)\n",
            " --- \n"
          ]
        }
      ]
    },
    {
      "cell_type": "markdown",
      "source": [
        "###Exercise \\#3 PCA Optimization\n",
        "\n",
        "How do we know 100 components is the ideal number of components? We don't, so lets try to optimize for the number of components.\n",
        "\n",
        "In **Exercise 3**, we will create a function that tells us what the optimal number of components for our PCA is. We do this by running  classification model for every number of components we try, and looking at its performance. We can try out the function with the following # of components = \\[50, 100, 200\\]"
      ],
      "metadata": {
        "id": "qHB5pe2Rdc1-"
      }
    },
    {
      "cell_type": "code",
      "source": [
        "# =============================\n",
        "# 4.1 PCA Optimization\n",
        "# =============================\n",
        "#TO DO: Test your coding skills:\n",
        "#Create a function that tells us the optimal number of components for PCA based on model performance\n",
        "#It should take as input: a list specifying different number of components to test,\n",
        "#a training set, validation set, training_target, validation target, classification model and evaluation metric (roc_auc_score).\n",
        "\n",
        "#The function output is up to you, but it should tell us what is the optimal number of components to use.\n",
        "#Try it with the following list: [50, 100, 200] for # of components and find optimal number.\n",
        "\n",
        "#Answer (you can ignore the classify=True since we only use classification)\n",
        "def pca_optimization(n_comp, train, val, training_target, validation_target,\n",
        "                     model, evaluation, classify=True):\n",
        "\n",
        "    output = pd.DataFrame(columns=['n_comp', 'score'])\n",
        "\n",
        "    for r in range(0,len(n_comp)):\n",
        "        rpca = PCA(n_components = n_comp[r], random_state = 8756, svd_solver = \"randomized\")\n",
        "        rpca.fit(train.toarray())\n",
        "\n",
        "        # tranform dtm\n",
        "        train_pca = rpca.transform(train.toarray())\n",
        "        val_pca = rpca.transform(val.toarray())\n",
        "        print(\" --- \")\n",
        "        print('explained variance (first %d components): %.2f'%(n_comp[r], sum(rpca.explained_variance_ratio_)))\n",
        "\n",
        "        if classify:\n",
        "            model.fit(train_pca, training_target)\n",
        "            model_val = model.predict_proba(val_pca)[:,1]\n",
        "        else:\n",
        "            model.fit(train_pca, training_target)\n",
        "            model_val = model.predict(val_pca)\n",
        "        score = np.round(evaluation(validation_target, model_val), 5)\n",
        "        data= {\"id\": n_comp[r],\"score\": score}\n",
        "        output = output.append(pd.Series([n_comp[r], score], index=['n_comp','score']), ignore_index=True)\n",
        "\n",
        "    return output\n",
        "\n",
        "#we try running a logistic regression model with different amount of components from PCA {50, 100, 200}.\n",
        "model_lr_text = LogisticRegression(penalty = \"l2\", C = 1)\n",
        "pca_optimization(n_comp= [50, 100, 200], train= train_idf_dtm, val= val_idf_dtm,\n",
        "                 training_target= train_text[\"label\"], validation_target= val_text[\"label\"], model= model_lr_text,\n",
        "                 evaluation= roc_auc_score, classify= True)\n"
      ],
      "metadata": {
        "id": "t2-IsBAcOa-T",
        "colab": {
          "base_uri": "https://localhost:8080/"
        },
        "outputId": "92c940fd-f8af-4e0d-b25d-b8a473460cc7"
      },
      "execution_count": null,
      "outputs": [
        {
          "output_type": "stream",
          "name": "stdout",
          "text": [
            " --- \n",
            "explained variance (first 50 components): 0.18\n",
            " --- \n",
            "explained variance (first 100 components): 0.26\n",
            " --- \n",
            "explained variance (first 200 components): 0.37\n"
          ]
        },
        {
          "output_type": "execute_result",
          "data": {
            "text/plain": [
              "   n_comp    score\n",
              "0    50.0  0.86540\n",
              "1   100.0  0.86542\n",
              "2   200.0  0.86591"
            ],
            "text/html": [
              "\n",
              "  <div id=\"df-fccd2e07-849f-4e25-af7f-df0db9726e27\" class=\"colab-df-container\">\n",
              "    <div>\n",
              "<style scoped>\n",
              "    .dataframe tbody tr th:only-of-type {\n",
              "        vertical-align: middle;\n",
              "    }\n",
              "\n",
              "    .dataframe tbody tr th {\n",
              "        vertical-align: top;\n",
              "    }\n",
              "\n",
              "    .dataframe thead th {\n",
              "        text-align: right;\n",
              "    }\n",
              "</style>\n",
              "<table border=\"1\" class=\"dataframe\">\n",
              "  <thead>\n",
              "    <tr style=\"text-align: right;\">\n",
              "      <th></th>\n",
              "      <th>n_comp</th>\n",
              "      <th>score</th>\n",
              "    </tr>\n",
              "  </thead>\n",
              "  <tbody>\n",
              "    <tr>\n",
              "      <th>0</th>\n",
              "      <td>50.0</td>\n",
              "      <td>0.86540</td>\n",
              "    </tr>\n",
              "    <tr>\n",
              "      <th>1</th>\n",
              "      <td>100.0</td>\n",
              "      <td>0.86542</td>\n",
              "    </tr>\n",
              "    <tr>\n",
              "      <th>2</th>\n",
              "      <td>200.0</td>\n",
              "      <td>0.86591</td>\n",
              "    </tr>\n",
              "  </tbody>\n",
              "</table>\n",
              "</div>\n",
              "    <div class=\"colab-df-buttons\">\n",
              "\n",
              "  <div class=\"colab-df-container\">\n",
              "    <button class=\"colab-df-convert\" onclick=\"convertToInteractive('df-fccd2e07-849f-4e25-af7f-df0db9726e27')\"\n",
              "            title=\"Convert this dataframe to an interactive table.\"\n",
              "            style=\"display:none;\">\n",
              "\n",
              "  <svg xmlns=\"http://www.w3.org/2000/svg\" height=\"24px\" viewBox=\"0 -960 960 960\">\n",
              "    <path d=\"M120-120v-720h720v720H120Zm60-500h600v-160H180v160Zm220 220h160v-160H400v160Zm0 220h160v-160H400v160ZM180-400h160v-160H180v160Zm440 0h160v-160H620v160ZM180-180h160v-160H180v160Zm440 0h160v-160H620v160Z\"/>\n",
              "  </svg>\n",
              "    </button>\n",
              "\n",
              "  <style>\n",
              "    .colab-df-container {\n",
              "      display:flex;\n",
              "      gap: 12px;\n",
              "    }\n",
              "\n",
              "    .colab-df-convert {\n",
              "      background-color: #E8F0FE;\n",
              "      border: none;\n",
              "      border-radius: 50%;\n",
              "      cursor: pointer;\n",
              "      display: none;\n",
              "      fill: #1967D2;\n",
              "      height: 32px;\n",
              "      padding: 0 0 0 0;\n",
              "      width: 32px;\n",
              "    }\n",
              "\n",
              "    .colab-df-convert:hover {\n",
              "      background-color: #E2EBFA;\n",
              "      box-shadow: 0px 1px 2px rgba(60, 64, 67, 0.3), 0px 1px 3px 1px rgba(60, 64, 67, 0.15);\n",
              "      fill: #174EA6;\n",
              "    }\n",
              "\n",
              "    .colab-df-buttons div {\n",
              "      margin-bottom: 4px;\n",
              "    }\n",
              "\n",
              "    [theme=dark] .colab-df-convert {\n",
              "      background-color: #3B4455;\n",
              "      fill: #D2E3FC;\n",
              "    }\n",
              "\n",
              "    [theme=dark] .colab-df-convert:hover {\n",
              "      background-color: #434B5C;\n",
              "      box-shadow: 0px 1px 3px 1px rgba(0, 0, 0, 0.15);\n",
              "      filter: drop-shadow(0px 1px 2px rgba(0, 0, 0, 0.3));\n",
              "      fill: #FFFFFF;\n",
              "    }\n",
              "  </style>\n",
              "\n",
              "    <script>\n",
              "      const buttonEl =\n",
              "        document.querySelector('#df-fccd2e07-849f-4e25-af7f-df0db9726e27 button.colab-df-convert');\n",
              "      buttonEl.style.display =\n",
              "        google.colab.kernel.accessAllowed ? 'block' : 'none';\n",
              "\n",
              "      async function convertToInteractive(key) {\n",
              "        const element = document.querySelector('#df-fccd2e07-849f-4e25-af7f-df0db9726e27');\n",
              "        const dataTable =\n",
              "          await google.colab.kernel.invokeFunction('convertToInteractive',\n",
              "                                                    [key], {});\n",
              "        if (!dataTable) return;\n",
              "\n",
              "        const docLinkHtml = 'Like what you see? Visit the ' +\n",
              "          '<a target=\"_blank\" href=https://colab.research.google.com/notebooks/data_table.ipynb>data table notebook</a>'\n",
              "          + ' to learn more about interactive tables.';\n",
              "        element.innerHTML = '';\n",
              "        dataTable['output_type'] = 'display_data';\n",
              "        await google.colab.output.renderOutput(dataTable, element);\n",
              "        const docLink = document.createElement('div');\n",
              "        docLink.innerHTML = docLinkHtml;\n",
              "        element.appendChild(docLink);\n",
              "      }\n",
              "    </script>\n",
              "  </div>\n",
              "\n",
              "\n",
              "<div id=\"df-84f31dd7-6aa8-4903-a298-1af1c4598a90\">\n",
              "  <button class=\"colab-df-quickchart\" onclick=\"quickchart('df-84f31dd7-6aa8-4903-a298-1af1c4598a90')\"\n",
              "            title=\"Suggest charts\"\n",
              "            style=\"display:none;\">\n",
              "\n",
              "<svg xmlns=\"http://www.w3.org/2000/svg\" height=\"24px\"viewBox=\"0 0 24 24\"\n",
              "     width=\"24px\">\n",
              "    <g>\n",
              "        <path d=\"M19 3H5c-1.1 0-2 .9-2 2v14c0 1.1.9 2 2 2h14c1.1 0 2-.9 2-2V5c0-1.1-.9-2-2-2zM9 17H7v-7h2v7zm4 0h-2V7h2v10zm4 0h-2v-4h2v4z\"/>\n",
              "    </g>\n",
              "</svg>\n",
              "  </button>\n",
              "\n",
              "<style>\n",
              "  .colab-df-quickchart {\n",
              "      --bg-color: #E8F0FE;\n",
              "      --fill-color: #1967D2;\n",
              "      --hover-bg-color: #E2EBFA;\n",
              "      --hover-fill-color: #174EA6;\n",
              "      --disabled-fill-color: #AAA;\n",
              "      --disabled-bg-color: #DDD;\n",
              "  }\n",
              "\n",
              "  [theme=dark] .colab-df-quickchart {\n",
              "      --bg-color: #3B4455;\n",
              "      --fill-color: #D2E3FC;\n",
              "      --hover-bg-color: #434B5C;\n",
              "      --hover-fill-color: #FFFFFF;\n",
              "      --disabled-bg-color: #3B4455;\n",
              "      --disabled-fill-color: #666;\n",
              "  }\n",
              "\n",
              "  .colab-df-quickchart {\n",
              "    background-color: var(--bg-color);\n",
              "    border: none;\n",
              "    border-radius: 50%;\n",
              "    cursor: pointer;\n",
              "    display: none;\n",
              "    fill: var(--fill-color);\n",
              "    height: 32px;\n",
              "    padding: 0;\n",
              "    width: 32px;\n",
              "  }\n",
              "\n",
              "  .colab-df-quickchart:hover {\n",
              "    background-color: var(--hover-bg-color);\n",
              "    box-shadow: 0 1px 2px rgba(60, 64, 67, 0.3), 0 1px 3px 1px rgba(60, 64, 67, 0.15);\n",
              "    fill: var(--button-hover-fill-color);\n",
              "  }\n",
              "\n",
              "  .colab-df-quickchart-complete:disabled,\n",
              "  .colab-df-quickchart-complete:disabled:hover {\n",
              "    background-color: var(--disabled-bg-color);\n",
              "    fill: var(--disabled-fill-color);\n",
              "    box-shadow: none;\n",
              "  }\n",
              "\n",
              "  .colab-df-spinner {\n",
              "    border: 2px solid var(--fill-color);\n",
              "    border-color: transparent;\n",
              "    border-bottom-color: var(--fill-color);\n",
              "    animation:\n",
              "      spin 1s steps(1) infinite;\n",
              "  }\n",
              "\n",
              "  @keyframes spin {\n",
              "    0% {\n",
              "      border-color: transparent;\n",
              "      border-bottom-color: var(--fill-color);\n",
              "      border-left-color: var(--fill-color);\n",
              "    }\n",
              "    20% {\n",
              "      border-color: transparent;\n",
              "      border-left-color: var(--fill-color);\n",
              "      border-top-color: var(--fill-color);\n",
              "    }\n",
              "    30% {\n",
              "      border-color: transparent;\n",
              "      border-left-color: var(--fill-color);\n",
              "      border-top-color: var(--fill-color);\n",
              "      border-right-color: var(--fill-color);\n",
              "    }\n",
              "    40% {\n",
              "      border-color: transparent;\n",
              "      border-right-color: var(--fill-color);\n",
              "      border-top-color: var(--fill-color);\n",
              "    }\n",
              "    60% {\n",
              "      border-color: transparent;\n",
              "      border-right-color: var(--fill-color);\n",
              "    }\n",
              "    80% {\n",
              "      border-color: transparent;\n",
              "      border-right-color: var(--fill-color);\n",
              "      border-bottom-color: var(--fill-color);\n",
              "    }\n",
              "    90% {\n",
              "      border-color: transparent;\n",
              "      border-bottom-color: var(--fill-color);\n",
              "    }\n",
              "  }\n",
              "</style>\n",
              "\n",
              "  <script>\n",
              "    async function quickchart(key) {\n",
              "      const quickchartButtonEl =\n",
              "        document.querySelector('#' + key + ' button');\n",
              "      quickchartButtonEl.disabled = true;  // To prevent multiple clicks.\n",
              "      quickchartButtonEl.classList.add('colab-df-spinner');\n",
              "      try {\n",
              "        const charts = await google.colab.kernel.invokeFunction(\n",
              "            'suggestCharts', [key], {});\n",
              "      } catch (error) {\n",
              "        console.error('Error during call to suggestCharts:', error);\n",
              "      }\n",
              "      quickchartButtonEl.classList.remove('colab-df-spinner');\n",
              "      quickchartButtonEl.classList.add('colab-df-quickchart-complete');\n",
              "    }\n",
              "    (() => {\n",
              "      let quickchartButtonEl =\n",
              "        document.querySelector('#df-84f31dd7-6aa8-4903-a298-1af1c4598a90 button');\n",
              "      quickchartButtonEl.style.display =\n",
              "        google.colab.kernel.accessAllowed ? 'block' : 'none';\n",
              "    })();\n",
              "  </script>\n",
              "</div>\n",
              "\n",
              "    </div>\n",
              "  </div>\n"
            ]
          },
          "metadata": {},
          "execution_count": 30
        }
      ]
    },
    {
      "cell_type": "code",
      "source": [
        "##It seems like 100 components is the optimal after all!\n",
        "\n",
        "#Now lets join base features with tfidf-pca features\n",
        "#again the base features\n",
        "feat_text = [\"avglinksize\", \"commonlinkratio_1\", \"commonlinkratio_2\", \"commonlinkratio_3\", \"commonlinkratio_4\",\n",
        "        \"compression_ratio\", \"embed_ratio\", \"framebased\", \"frameTagRatio\", \"hasDomainLink\", \"html_ratio\",\n",
        "        \"image_ratio\", \"lengthyLinkDomain\", \"linkwordscore\", \"non_markup_alphanum_characters\", \"numberOfLinks\",\n",
        "        \"numwords_in_url\", \"parametrizedLinkRatio\",\"spelling_errors_ratio\", \"alchemy_category_score\",\n",
        "        \"al_cat__M\", \"al_cat_arts_entertainment\", \"al_cat_business\", \"al_cat_computer_internet\",\n",
        "        \"al_cat_culture_politics\", \"al_cat_gaming\", \"al_cat_health\", \"al_cat_law_crime\", \"al_cat_recreation\",\n",
        "        \"al_cat_religion\", \"al_cat_science_technology\", \"al_cat_sports\"]\n",
        "\n",
        "#TO DO: join the TFIDF-PCA features with the base features in a single dataframe for train, val and test\n",
        "#ANSWER\n",
        "train_text_combine = train_text[feat_text].join(pd.DataFrame(train_idf_dtm_pca, index= train_text.index))\n",
        "val_text_combine = val_text[feat_text].join(pd.DataFrame(val_idf_dtm_pca, index= val_text.index))\n",
        "test_text_combine = test_text[feat_text].join(pd.DataFrame(test_idf_dtm_pca, index= test_text.index))"
      ],
      "metadata": {
        "id": "EcTO-B1uRUn4"
      },
      "execution_count": null,
      "outputs": []
    },
    {
      "cell_type": "markdown",
      "source": [
        "First lets make them using the base features (train) and then lets add on the PCA omponents. Remember we already combined them in train_combine"
      ],
      "metadata": {
        "id": "AALn9QmWpn5r"
      }
    },
    {
      "cell_type": "code",
      "source": [
        "\n",
        "#ANSWER\n",
        "\n",
        "#LR\n",
        "logReg3 = LogisticRegression() #vary penalty = {'l2', 'none'} and C = {<<1, 1, >1, >>1}\n",
        "logReg3.fit(train_idf_dtm, train_text[\"label\"]) #also use train_idf_dtm_pca\n",
        "\n",
        "# predict on validation data\n",
        "logReg3_val = logReg3.predict_proba(val_idf_dtm)[:,1]\n",
        "print(\" -- -- -- \")\n",
        "\n",
        "# auc score\n",
        "print(\"Logistic performance: \" + str(np.round(roc_auc_score(val_text[\"label\"], logReg3_val), 5)))\n",
        "print(\" -- -- -- \")\n",
        "\n",
        "#GB\n",
        "gbm3 = GradientBoostingClassifier() #use different learning rates and n_stimators\n",
        "gbm3.fit(train_idf_dtm, train_text[\"label\"])\n",
        "\n",
        "gbm3_val = logReg3.predict_proba(val_idf_dtm)[:,1]\n",
        "\n",
        "#auc score:\n",
        "print(\"GB Logistic performance: \" + str(np.round(roc_auc_score(val_text[\"label\"], gbm3_val), 5)))\n",
        "print(\" -- -- -- \")\n",
        "\n",
        "#RF\n",
        "rf2 = RandomForestClassifier()\n",
        "rf2.fit(train_idf_dtm_pca, train_text[\"label\"])\n",
        "\n",
        "rf2_val = rf2.predict_proba(val_idf_dtm_pca)[:,1]\n",
        "\n",
        "print(\"RF Performance IDF-PCA: \" + str(np.round(roc_auc_score(val_text['label'], rf2_val), 5)))\n",
        "print(\" -- -- -- \")\n",
        "\n",
        "#ERT\n",
        "ert2 = ExtraTreesClassifier()\n",
        "ert2.fit(train_idf_dtm_pca, train_text['label'])\n",
        "\n",
        "ert2_val = ert2.predict_proba(val_idf_dtm_pca)[:,1]\n",
        "\n",
        "# auc score\n",
        "print(\"ERT performance IDF-PCA: \" + str(np.round(roc_auc_score(val_text[\"label\"], ert2_val), 5)))\n"
      ],
      "metadata": {
        "id": "RLCq2AEQpRCM",
        "colab": {
          "base_uri": "https://localhost:8080/"
        },
        "outputId": "22093392-ff96-4ff2-f5dc-4d295481f451"
      },
      "execution_count": null,
      "outputs": [
        {
          "output_type": "stream",
          "name": "stdout",
          "text": [
            " -- -- -- \n",
            "Logistic performance: 0.86507\n",
            " -- -- -- \n",
            "GB Logistic performance: 0.86507\n",
            " -- -- -- \n",
            "RF Performance IDF-PCA: 0.85438\n",
            " -- -- -- \n",
            "ERT performance IDF-PCA: 0.85436\n"
          ]
        }
      ]
    },
    {
      "cell_type": "code",
      "source": [
        "#Tcombine the results from our base models and perform a logistic regression on them\n",
        "val_ens = pd.DataFrame({\"label\": val_text[\"label\"], \"gbm3\": gbm3_val,\n",
        "                        \"logReg3\": logReg3_val, \"rf2\": rf2_val,\n",
        "                       \"ert2\": ert2_val})\n",
        "\n",
        "logReg4_ens = LogisticRegression()\n",
        "ens_feat = [\"gbm3\", \"logReg3\", \"rf2\", \"ert2\"]\n",
        "\n",
        "logReg4_ens.fit(val_ens[ens_feat], val_ens[\"label\"])\n",
        "\n",
        "# predict on validation data\n",
        "logReg4_ens_val = logReg4_ens.predict_proba(val_ens[ens_feat])[:,1]\n",
        "\n",
        "#Lets Check on its performance (logReg1_val = the values of the prediction on validation data, substitute with name used)\n",
        "print(\"Logistic Ensemble performance: \" + str(np.round(roc_auc_score(val_ens[\"label\"], logReg4_ens_val), 5)))\n"
      ],
      "metadata": {
        "id": "wUau8PevpdFZ",
        "colab": {
          "base_uri": "https://localhost:8080/"
        },
        "outputId": "5150b1f5-8ba0-4e8d-c5d5-b017d5345a0e"
      },
      "execution_count": null,
      "outputs": [
        {
          "output_type": "stream",
          "name": "stdout",
          "text": [
            "Logistic Ensemble performance: 0.8654\n"
          ]
        }
      ]
    }
  ]
}