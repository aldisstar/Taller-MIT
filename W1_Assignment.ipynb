{
  "cells": [
    {
      "cell_type": "markdown",
      "metadata": {
        "id": "view-in-github",
        "colab_type": "text"
      },
      "source": [
        "<a href=\"https://colab.research.google.com/github/aldisstar/Taller-MIT/blob/main/W1_Assignment.ipynb\" target=\"_parent\"><img src=\"https://colab.research.google.com/assets/colab-badge.svg\" alt=\"Open In Colab\"/></a>"
      ]
    },
    {
      "cell_type": "markdown",
      "source": [
        "# Week 1 Assignment"
      ],
      "metadata": {
        "id": "FPyE1hcZMLUQ"
      }
    },
    {
      "cell_type": "markdown",
      "source": [
        "## Feature Engineering"
      ],
      "metadata": {
        "id": "Blv-UZa_uM5A"
      }
    },
    {
      "cell_type": "markdown",
      "metadata": {
        "id": "8zkGQRLs__BI"
      },
      "source": [
        "### Step 1 Imports and Setup\n",
        "\n",
        "We will be working with some data from Kaggle - a machine learning competition site with many datasets: https://www.kaggle.com/c/stumbleupon/data?select=train.tsv.\n",
        "\n",
        "The dataset here contains information about webpages and the labels are whether or not the site is evergreen. Remember, an evergreen site is one that is always relevant. A news article from 1998 would not be evergreen, but a chocolate chip cookie recipe would be.  The labels were determined by human judgement."
      ]
    },
    {
      "cell_type": "code",
      "execution_count": null,
      "metadata": {
        "id": "VhWX8JG1_nwj"
      },
      "outputs": [],
      "source": [
        "# ==============================================\n",
        "# 0. Copy data\n",
        "# ==============================================\n",
        "\n",
        "# Remove any existing folder\n",
        "!rm -rf gsl-uruguay"
      ]
    },
    {
      "cell_type": "code",
      "execution_count": null,
      "metadata": {
        "id": "q4wwLxpZ3XkX",
        "colab": {
          "base_uri": "https://localhost:8080/"
        },
        "outputId": "9792b5fb-6a3f-4171-d0b1-91a1a4a34dc8"
      },
      "outputs": [
        {
          "output_type": "stream",
          "name": "stderr",
          "text": [
            "Cloning into 'gsl-uruguay'...\n",
            "Updating files:   0% (12/5869)\rUpdating files:   1% (59/5869)\rUpdating files:   2% (118/5869)\rUpdating files:   3% (177/5869)\rUpdating files:   4% (235/5869)\rUpdating files:   5% (294/5869)\rUpdating files:   6% (353/5869)\rUpdating files:   6% (356/5869)\rUpdating files:   7% (411/5869)\rUpdating files:   8% (470/5869)\rUpdating files:   9% (529/5869)\rUpdating files:  10% (587/5869)\rUpdating files:  11% (646/5869)\rUpdating files:  12% (705/5869)\rUpdating files:  13% (763/5869)\rUpdating files:  14% (822/5869)\rUpdating files:  15% (881/5869)\rUpdating files:  15% (915/5869)\rUpdating files:  15% (918/5869)\rUpdating files:  16% (940/5869)\rUpdating files:  17% (998/5869)\rUpdating files:  18% (1057/5869)\rUpdating files:  19% (1116/5869)\rUpdating files:  19% (1159/5869)\rUpdating files:  20% (1174/5869)\rUpdating files:  21% (1233/5869)\rUpdating files:  22% (1292/5869)\rUpdating files:  23% (1350/5869)\rUpdating files:  23% (1376/5869)\rUpdating files:  24% (1409/5869)\rUpdating files:  25% (1468/5869)\rUpdating files:  26% (1526/5869)\rUpdating files:  27% (1585/5869)\rUpdating files:  28% (1644/5869)\rUpdating files:  28% (1675/5869)\rUpdating files:  29% (1703/5869)\rUpdating files:  30% (1761/5869)\rUpdating files:  31% (1820/5869)\rUpdating files:  32% (1879/5869)\rUpdating files:  33% (1937/5869)\rUpdating files:  34% (1996/5869)\rUpdating files:  35% (2055/5869)\rUpdating files:  36% (2113/5869)\rUpdating files:  37% (2172/5869)\rUpdating files:  37% (2212/5869)\rUpdating files:  38% (2231/5869)\rUpdating files:  38% (2234/5869)\rUpdating files:  39% (2289/5869)\rUpdating files:  40% (2348/5869)\rUpdating files:  41% (2407/5869)\rUpdating files:  42% (2465/5869)\rUpdating files:  43% (2524/5869)\rUpdating files:  44% (2583/5869)\rUpdating files:  45% (2642/5869)\rUpdating files:  46% (2700/5869)\rUpdating files:  47% (2759/5869)\rUpdating files:  48% (2818/5869)\rUpdating files:  49% (2876/5869)\rUpdating files:  50% (2935/5869)\rUpdating files:  51% (2994/5869)\rUpdating files:  52% (3052/5869)\rUpdating files:  53% (3111/5869)\rUpdating files:  54% (3170/5869)\rUpdating files:  55% (3228/5869)\rUpdating files:  56% (3287/5869)\rUpdating files:  57% (3346/5869)\rUpdating files:  58% (3405/5869)\rUpdating files:  59% (3463/5869)\rUpdating files:  59% (3503/5869)\rUpdating files:  60% (3522/5869)\rUpdating files:  61% (3581/5869)\rUpdating files:  62% (3639/5869)\rUpdating files:  63% (3698/5869)\rUpdating files:  64% (3757/5869)\rUpdating files:  65% (3815/5869)\rUpdating files:  66% (3874/5869)\rUpdating files:  67% (3933/5869)\rUpdating files:  68% (3991/5869)\rUpdating files:  69% (4050/5869)\rUpdating files:  70% (4109/5869)\rUpdating files:  71% (4167/5869)\rUpdating files:  72% (4226/5869)\rUpdating files:  73% (4285/5869)\rUpdating files:  74% (4344/5869)\rUpdating files:  75% (4402/5869)\rUpdating files:  75% (4408/5869)\rUpdating files:  76% (4461/5869)\rUpdating files:  77% (4520/5869)\rUpdating files:  78% (4578/5869)\rUpdating files:  78% (4587/5869)\rUpdating files:  79% (4637/5869)\rUpdating files:  80% (4696/5869)\rUpdating files:  81% (4754/5869)\rUpdating files:  82% (4813/5869)\rUpdating files:  83% (4872/5869)\rUpdating files:  84% (4930/5869)\rUpdating files:  85% (4989/5869)\rUpdating files:  85% (5027/5869)\rUpdating files:  86% (5048/5869)\rUpdating files:  87% (5107/5869)\rUpdating files:  88% (5165/5869)\rUpdating files:  89% (5224/5869)\rUpdating files:  90% (5283/5869)\rUpdating files:  91% (5341/5869)\rUpdating files:  92% (5400/5869)\rUpdating files:  92% (5436/5869)\rUpdating files:  93% (5459/5869)\rUpdating files:  94% (5517/5869)\rUpdating files:  95% (5576/5869)\rUpdating files:  96% (5635/5869)\rUpdating files:  97% (5693/5869)\rUpdating files:  98% (5752/5869)\rUpdating files:  99% (5811/5869)\rUpdating files: 100% (5869/5869)\rUpdating files: 100% (5869/5869), done.\n"
          ]
        }
      ],
      "source": [
        "# Copy over data from github\n",
        "%%bash\n",
        "git clone https://github.com/caboonie/gsl-uruguay.git"
      ]
    },
    {
      "cell_type": "code",
      "execution_count": null,
      "metadata": {
        "id": "gnwZfVHp8sCg"
      },
      "outputs": [],
      "source": [
        "# ==============================================\n",
        "# 1. Module imports\n",
        "# ==============================================\n",
        "\n",
        "# data manipulation\n",
        "import pandas as pd\n",
        "import numpy as np\n",
        "import scipy.stats as st\n",
        "\n",
        "# plots\n",
        "%matplotlib inline\n",
        "import matplotlib\n",
        "import matplotlib.pyplot as plt\n",
        "import pylab as pl\n",
        "\n",
        "# scaling\n",
        "from sklearn.preprocessing import StandardScaler\n",
        "\n",
        "# classification algorithms\n",
        "from sklearn.linear_model import LinearRegression\n",
        "from sklearn.linear_model import LogisticRegression\n",
        "from sklearn.linear_model import SGDClassifier\n",
        "from sklearn.ensemble import GradientBoostingClassifier\n",
        "from sklearn.ensemble import RandomForestClassifier\n",
        "from sklearn.ensemble import ExtraTreesClassifier\n",
        "\n",
        "\n",
        "# dimension reduction\n",
        "from sklearn.decomposition import PCA\n",
        "\n",
        "# cross-validation\n",
        "from sklearn.model_selection import train_test_split\n",
        "\n",
        "# model evaluation\n",
        "from sklearn.metrics import roc_auc_score\n",
        "\n",
        "# text mining\n",
        "import re\n",
        "from nltk import PorterStemmer\n",
        "from nltk.tokenize import word_tokenize\n",
        "from nltk.corpus import stopwords\n",
        "from sklearn.feature_extraction.text import TfidfVectorizer\n",
        "from sklearn.feature_extraction.text import CountVectorizer\n",
        "\n",
        "# model evaluation\n",
        "from sklearn.metrics import roc_auc_score\n",
        "from sklearn.metrics import accuracy_score\n",
        "from sklearn.metrics import precision_score\n",
        "from sklearn.metrics import recall_score\n",
        "from sklearn.metrics import f1_score\n",
        "from sklearn.metrics import roc_curve\n",
        "\n",
        "# cross-validation\n",
        "from sklearn.model_selection import GridSearchCV\n",
        "from sklearn.model_selection import train_test_split\n",
        "from sklearn.model_selection import cross_val_predict\n",
        "from sklearn.model_selection import cross_val_score\n",
        "from sklearn.model_selection import KFold\n",
        "from sklearn import model_selection\n",
        "\n",
        "# data manipulation\n",
        "import pandas as pd\n",
        "import numpy as np\n",
        "import scipy.stats as st\n",
        "import scipy\n",
        "\n",
        "\n",
        "import warnings\n",
        "warnings.filterwarnings(\"ignore\")"
      ]
    },
    {
      "cell_type": "markdown",
      "metadata": {
        "id": "THrl0F9sF8vJ"
      },
      "source": [
        "### Step 2 Explore the dataset\n",
        "\n",
        "Each row of the table is a datapoint and each column represents a feature. We can check the shape of the data to see how many datapoints and features we have. Note, there are a lot of features in this dataset, but we will mostly focus on these ones:\n",
        "1. **alchemy_category_score** - the score of how likely the alchemy category is correct, from 0 to 1.\n",
        "2. **alchemy_category** - type of page, such as \"health\", \"sports\", etc.\n",
        "3. **linkwordscore** - Percentage of words on the page that are in links\n",
        "4. **news_front_page** - 0 or 1 representing whether this webpage is front-page news\n",
        "5. **boilerplate** - the html text of the webpage\n",
        "6. **spelling_errors_ratio** - Percentage of words that are mispelled.\n",
        "7. **numberOfLinks** - number of links in the page\n",
        "8. **numwords_in_url** - number of words in the url link\n",
        "\n",
        "You can see descriptions of each feature here: https://www.kaggle.com/c/stumbleupon/data?select=train.tsv\n"
      ]
    },
    {
      "cell_type": "code",
      "execution_count": null,
      "metadata": {
        "id": "2tnw6KTEA2Of",
        "colab": {
          "base_uri": "https://localhost:8080/",
          "height": 553
        },
        "outputId": "f76731f3-56ff-405c-afc7-20819a504aa6"
      },
      "outputs": [
        {
          "output_type": "stream",
          "name": "stdout",
          "text": [
            "Data dimensions:(7395, 27)\n"
          ]
        },
        {
          "output_type": "display_data",
          "data": {
            "text/plain": [
              "  alchemy_category_score    alchemy_category  linkwordscore news_front_page  \\\n",
              "0               0.789131            business             24               0   \n",
              "1               0.574147          recreation             40               0   \n",
              "2               0.996526              health             55               0   \n",
              "3               0.801248              health             24               0   \n",
              "4               0.719157              sports             14               0   \n",
              "5                      ?                   ?             12               ?   \n",
              "6                0.22111  arts_entertainment             21               0   \n",
              "7                      ?                   ?              5               ?   \n",
              "8                      ?                   ?             17               0   \n",
              "9                      ?                   ?             14               ?   \n",
              "\n",
              "                                         boilerplate  spelling_errors_ratio  \\\n",
              "0  {\"title\":\"IBM Sees Holographic Calls Air Breat...               0.079130   \n",
              "1  {\"title\":\"The Fully Electronic Futuristic Star...               0.125448   \n",
              "2  {\"title\":\"Fruits that Fight the Flu fruits tha...               0.057613   \n",
              "3  {\"title\":\"10 Foolproof Tips for Better Sleep \"...               0.100858   \n",
              "4  {\"title\":\"The 50 Coolest Jerseys You Didn t Kn...               0.082569   \n",
              "5  {\"url\":\"conveniencemedical genital herpes home...               0.087356   \n",
              "6  {\"title\":\"fashion lane American Wild Child \",\"...               0.064327   \n",
              "7  {\"url\":\"insidershealth article racing for reco...               0.148551   \n",
              "8  {\"title\":\"Valet The Handbook 31 Days 31 days\",...               0.125000   \n",
              "9  {\"url\":\"howsweeteats 2010 03 24 cookies and cr...               0.094412   \n",
              "\n",
              "   numberOfLinks  numwords_in_url  label  \n",
              "0            170                8      0  \n",
              "1            187                9      1  \n",
              "2            258               11      1  \n",
              "3            120                5      1  \n",
              "4            162               10      0  \n",
              "5             55                3      0  \n",
              "6             93                3      1  \n",
              "7            132                4      0  \n",
              "8            194                7      1  \n",
              "9            326                4      1  "
            ],
            "text/html": [
              "\n",
              "  <div id=\"df-661661bd-fc5c-40f9-b824-3227fd39c5d5\" class=\"colab-df-container\">\n",
              "    <div>\n",
              "<style scoped>\n",
              "    .dataframe tbody tr th:only-of-type {\n",
              "        vertical-align: middle;\n",
              "    }\n",
              "\n",
              "    .dataframe tbody tr th {\n",
              "        vertical-align: top;\n",
              "    }\n",
              "\n",
              "    .dataframe thead th {\n",
              "        text-align: right;\n",
              "    }\n",
              "</style>\n",
              "<table border=\"1\" class=\"dataframe\">\n",
              "  <thead>\n",
              "    <tr style=\"text-align: right;\">\n",
              "      <th></th>\n",
              "      <th>alchemy_category_score</th>\n",
              "      <th>alchemy_category</th>\n",
              "      <th>linkwordscore</th>\n",
              "      <th>news_front_page</th>\n",
              "      <th>boilerplate</th>\n",
              "      <th>spelling_errors_ratio</th>\n",
              "      <th>numberOfLinks</th>\n",
              "      <th>numwords_in_url</th>\n",
              "      <th>label</th>\n",
              "    </tr>\n",
              "  </thead>\n",
              "  <tbody>\n",
              "    <tr>\n",
              "      <th>0</th>\n",
              "      <td>0.789131</td>\n",
              "      <td>business</td>\n",
              "      <td>24</td>\n",
              "      <td>0</td>\n",
              "      <td>{\"title\":\"IBM Sees Holographic Calls Air Breat...</td>\n",
              "      <td>0.079130</td>\n",
              "      <td>170</td>\n",
              "      <td>8</td>\n",
              "      <td>0</td>\n",
              "    </tr>\n",
              "    <tr>\n",
              "      <th>1</th>\n",
              "      <td>0.574147</td>\n",
              "      <td>recreation</td>\n",
              "      <td>40</td>\n",
              "      <td>0</td>\n",
              "      <td>{\"title\":\"The Fully Electronic Futuristic Star...</td>\n",
              "      <td>0.125448</td>\n",
              "      <td>187</td>\n",
              "      <td>9</td>\n",
              "      <td>1</td>\n",
              "    </tr>\n",
              "    <tr>\n",
              "      <th>2</th>\n",
              "      <td>0.996526</td>\n",
              "      <td>health</td>\n",
              "      <td>55</td>\n",
              "      <td>0</td>\n",
              "      <td>{\"title\":\"Fruits that Fight the Flu fruits tha...</td>\n",
              "      <td>0.057613</td>\n",
              "      <td>258</td>\n",
              "      <td>11</td>\n",
              "      <td>1</td>\n",
              "    </tr>\n",
              "    <tr>\n",
              "      <th>3</th>\n",
              "      <td>0.801248</td>\n",
              "      <td>health</td>\n",
              "      <td>24</td>\n",
              "      <td>0</td>\n",
              "      <td>{\"title\":\"10 Foolproof Tips for Better Sleep \"...</td>\n",
              "      <td>0.100858</td>\n",
              "      <td>120</td>\n",
              "      <td>5</td>\n",
              "      <td>1</td>\n",
              "    </tr>\n",
              "    <tr>\n",
              "      <th>4</th>\n",
              "      <td>0.719157</td>\n",
              "      <td>sports</td>\n",
              "      <td>14</td>\n",
              "      <td>0</td>\n",
              "      <td>{\"title\":\"The 50 Coolest Jerseys You Didn t Kn...</td>\n",
              "      <td>0.082569</td>\n",
              "      <td>162</td>\n",
              "      <td>10</td>\n",
              "      <td>0</td>\n",
              "    </tr>\n",
              "    <tr>\n",
              "      <th>5</th>\n",
              "      <td>?</td>\n",
              "      <td>?</td>\n",
              "      <td>12</td>\n",
              "      <td>?</td>\n",
              "      <td>{\"url\":\"conveniencemedical genital herpes home...</td>\n",
              "      <td>0.087356</td>\n",
              "      <td>55</td>\n",
              "      <td>3</td>\n",
              "      <td>0</td>\n",
              "    </tr>\n",
              "    <tr>\n",
              "      <th>6</th>\n",
              "      <td>0.22111</td>\n",
              "      <td>arts_entertainment</td>\n",
              "      <td>21</td>\n",
              "      <td>0</td>\n",
              "      <td>{\"title\":\"fashion lane American Wild Child \",\"...</td>\n",
              "      <td>0.064327</td>\n",
              "      <td>93</td>\n",
              "      <td>3</td>\n",
              "      <td>1</td>\n",
              "    </tr>\n",
              "    <tr>\n",
              "      <th>7</th>\n",
              "      <td>?</td>\n",
              "      <td>?</td>\n",
              "      <td>5</td>\n",
              "      <td>?</td>\n",
              "      <td>{\"url\":\"insidershealth article racing for reco...</td>\n",
              "      <td>0.148551</td>\n",
              "      <td>132</td>\n",
              "      <td>4</td>\n",
              "      <td>0</td>\n",
              "    </tr>\n",
              "    <tr>\n",
              "      <th>8</th>\n",
              "      <td>?</td>\n",
              "      <td>?</td>\n",
              "      <td>17</td>\n",
              "      <td>0</td>\n",
              "      <td>{\"title\":\"Valet The Handbook 31 Days 31 days\",...</td>\n",
              "      <td>0.125000</td>\n",
              "      <td>194</td>\n",
              "      <td>7</td>\n",
              "      <td>1</td>\n",
              "    </tr>\n",
              "    <tr>\n",
              "      <th>9</th>\n",
              "      <td>?</td>\n",
              "      <td>?</td>\n",
              "      <td>14</td>\n",
              "      <td>?</td>\n",
              "      <td>{\"url\":\"howsweeteats 2010 03 24 cookies and cr...</td>\n",
              "      <td>0.094412</td>\n",
              "      <td>326</td>\n",
              "      <td>4</td>\n",
              "      <td>1</td>\n",
              "    </tr>\n",
              "  </tbody>\n",
              "</table>\n",
              "</div>\n",
              "    <div class=\"colab-df-buttons\">\n",
              "\n",
              "  <div class=\"colab-df-container\">\n",
              "    <button class=\"colab-df-convert\" onclick=\"convertToInteractive('df-661661bd-fc5c-40f9-b824-3227fd39c5d5')\"\n",
              "            title=\"Convert this dataframe to an interactive table.\"\n",
              "            style=\"display:none;\">\n",
              "\n",
              "  <svg xmlns=\"http://www.w3.org/2000/svg\" height=\"24px\" viewBox=\"0 -960 960 960\">\n",
              "    <path d=\"M120-120v-720h720v720H120Zm60-500h600v-160H180v160Zm220 220h160v-160H400v160Zm0 220h160v-160H400v160ZM180-400h160v-160H180v160Zm440 0h160v-160H620v160ZM180-180h160v-160H180v160Zm440 0h160v-160H620v160Z\"/>\n",
              "  </svg>\n",
              "    </button>\n",
              "\n",
              "  <style>\n",
              "    .colab-df-container {\n",
              "      display:flex;\n",
              "      gap: 12px;\n",
              "    }\n",
              "\n",
              "    .colab-df-convert {\n",
              "      background-color: #E8F0FE;\n",
              "      border: none;\n",
              "      border-radius: 50%;\n",
              "      cursor: pointer;\n",
              "      display: none;\n",
              "      fill: #1967D2;\n",
              "      height: 32px;\n",
              "      padding: 0 0 0 0;\n",
              "      width: 32px;\n",
              "    }\n",
              "\n",
              "    .colab-df-convert:hover {\n",
              "      background-color: #E2EBFA;\n",
              "      box-shadow: 0px 1px 2px rgba(60, 64, 67, 0.3), 0px 1px 3px 1px rgba(60, 64, 67, 0.15);\n",
              "      fill: #174EA6;\n",
              "    }\n",
              "\n",
              "    .colab-df-buttons div {\n",
              "      margin-bottom: 4px;\n",
              "    }\n",
              "\n",
              "    [theme=dark] .colab-df-convert {\n",
              "      background-color: #3B4455;\n",
              "      fill: #D2E3FC;\n",
              "    }\n",
              "\n",
              "    [theme=dark] .colab-df-convert:hover {\n",
              "      background-color: #434B5C;\n",
              "      box-shadow: 0px 1px 3px 1px rgba(0, 0, 0, 0.15);\n",
              "      filter: drop-shadow(0px 1px 2px rgba(0, 0, 0, 0.3));\n",
              "      fill: #FFFFFF;\n",
              "    }\n",
              "  </style>\n",
              "\n",
              "    <script>\n",
              "      const buttonEl =\n",
              "        document.querySelector('#df-661661bd-fc5c-40f9-b824-3227fd39c5d5 button.colab-df-convert');\n",
              "      buttonEl.style.display =\n",
              "        google.colab.kernel.accessAllowed ? 'block' : 'none';\n",
              "\n",
              "      async function convertToInteractive(key) {\n",
              "        const element = document.querySelector('#df-661661bd-fc5c-40f9-b824-3227fd39c5d5');\n",
              "        const dataTable =\n",
              "          await google.colab.kernel.invokeFunction('convertToInteractive',\n",
              "                                                    [key], {});\n",
              "        if (!dataTable) return;\n",
              "\n",
              "        const docLinkHtml = 'Like what you see? Visit the ' +\n",
              "          '<a target=\"_blank\" href=https://colab.research.google.com/notebooks/data_table.ipynb>data table notebook</a>'\n",
              "          + ' to learn more about interactive tables.';\n",
              "        element.innerHTML = '';\n",
              "        dataTable['output_type'] = 'display_data';\n",
              "        await google.colab.output.renderOutput(dataTable, element);\n",
              "        const docLink = document.createElement('div');\n",
              "        docLink.innerHTML = docLinkHtml;\n",
              "        element.appendChild(docLink);\n",
              "      }\n",
              "    </script>\n",
              "  </div>\n",
              "\n",
              "\n",
              "<div id=\"df-e6ecc900-a901-4ceb-8fae-a67e2989544b\">\n",
              "  <button class=\"colab-df-quickchart\" onclick=\"quickchart('df-e6ecc900-a901-4ceb-8fae-a67e2989544b')\"\n",
              "            title=\"Suggest charts\"\n",
              "            style=\"display:none;\">\n",
              "\n",
              "<svg xmlns=\"http://www.w3.org/2000/svg\" height=\"24px\"viewBox=\"0 0 24 24\"\n",
              "     width=\"24px\">\n",
              "    <g>\n",
              "        <path d=\"M19 3H5c-1.1 0-2 .9-2 2v14c0 1.1.9 2 2 2h14c1.1 0 2-.9 2-2V5c0-1.1-.9-2-2-2zM9 17H7v-7h2v7zm4 0h-2V7h2v10zm4 0h-2v-4h2v4z\"/>\n",
              "    </g>\n",
              "</svg>\n",
              "  </button>\n",
              "\n",
              "<style>\n",
              "  .colab-df-quickchart {\n",
              "      --bg-color: #E8F0FE;\n",
              "      --fill-color: #1967D2;\n",
              "      --hover-bg-color: #E2EBFA;\n",
              "      --hover-fill-color: #174EA6;\n",
              "      --disabled-fill-color: #AAA;\n",
              "      --disabled-bg-color: #DDD;\n",
              "  }\n",
              "\n",
              "  [theme=dark] .colab-df-quickchart {\n",
              "      --bg-color: #3B4455;\n",
              "      --fill-color: #D2E3FC;\n",
              "      --hover-bg-color: #434B5C;\n",
              "      --hover-fill-color: #FFFFFF;\n",
              "      --disabled-bg-color: #3B4455;\n",
              "      --disabled-fill-color: #666;\n",
              "  }\n",
              "\n",
              "  .colab-df-quickchart {\n",
              "    background-color: var(--bg-color);\n",
              "    border: none;\n",
              "    border-radius: 50%;\n",
              "    cursor: pointer;\n",
              "    display: none;\n",
              "    fill: var(--fill-color);\n",
              "    height: 32px;\n",
              "    padding: 0;\n",
              "    width: 32px;\n",
              "  }\n",
              "\n",
              "  .colab-df-quickchart:hover {\n",
              "    background-color: var(--hover-bg-color);\n",
              "    box-shadow: 0 1px 2px rgba(60, 64, 67, 0.3), 0 1px 3px 1px rgba(60, 64, 67, 0.15);\n",
              "    fill: var(--button-hover-fill-color);\n",
              "  }\n",
              "\n",
              "  .colab-df-quickchart-complete:disabled,\n",
              "  .colab-df-quickchart-complete:disabled:hover {\n",
              "    background-color: var(--disabled-bg-color);\n",
              "    fill: var(--disabled-fill-color);\n",
              "    box-shadow: none;\n",
              "  }\n",
              "\n",
              "  .colab-df-spinner {\n",
              "    border: 2px solid var(--fill-color);\n",
              "    border-color: transparent;\n",
              "    border-bottom-color: var(--fill-color);\n",
              "    animation:\n",
              "      spin 1s steps(1) infinite;\n",
              "  }\n",
              "\n",
              "  @keyframes spin {\n",
              "    0% {\n",
              "      border-color: transparent;\n",
              "      border-bottom-color: var(--fill-color);\n",
              "      border-left-color: var(--fill-color);\n",
              "    }\n",
              "    20% {\n",
              "      border-color: transparent;\n",
              "      border-left-color: var(--fill-color);\n",
              "      border-top-color: var(--fill-color);\n",
              "    }\n",
              "    30% {\n",
              "      border-color: transparent;\n",
              "      border-left-color: var(--fill-color);\n",
              "      border-top-color: var(--fill-color);\n",
              "      border-right-color: var(--fill-color);\n",
              "    }\n",
              "    40% {\n",
              "      border-color: transparent;\n",
              "      border-right-color: var(--fill-color);\n",
              "      border-top-color: var(--fill-color);\n",
              "    }\n",
              "    60% {\n",
              "      border-color: transparent;\n",
              "      border-right-color: var(--fill-color);\n",
              "    }\n",
              "    80% {\n",
              "      border-color: transparent;\n",
              "      border-right-color: var(--fill-color);\n",
              "      border-bottom-color: var(--fill-color);\n",
              "    }\n",
              "    90% {\n",
              "      border-color: transparent;\n",
              "      border-bottom-color: var(--fill-color);\n",
              "    }\n",
              "  }\n",
              "</style>\n",
              "\n",
              "  <script>\n",
              "    async function quickchart(key) {\n",
              "      const quickchartButtonEl =\n",
              "        document.querySelector('#' + key + ' button');\n",
              "      quickchartButtonEl.disabled = true;  // To prevent multiple clicks.\n",
              "      quickchartButtonEl.classList.add('colab-df-spinner');\n",
              "      try {\n",
              "        const charts = await google.colab.kernel.invokeFunction(\n",
              "            'suggestCharts', [key], {});\n",
              "      } catch (error) {\n",
              "        console.error('Error during call to suggestCharts:', error);\n",
              "      }\n",
              "      quickchartButtonEl.classList.remove('colab-df-spinner');\n",
              "      quickchartButtonEl.classList.add('colab-df-quickchart-complete');\n",
              "    }\n",
              "    (() => {\n",
              "      let quickchartButtonEl =\n",
              "        document.querySelector('#df-e6ecc900-a901-4ceb-8fae-a67e2989544b button');\n",
              "      quickchartButtonEl.style.display =\n",
              "        google.colab.kernel.accessAllowed ? 'block' : 'none';\n",
              "    })();\n",
              "  </script>\n",
              "</div>\n",
              "\n",
              "    </div>\n",
              "  </div>\n"
            ]
          },
          "metadata": {}
        }
      ],
      "source": [
        "# ==============================================\n",
        "# 2. Data loading and explore\n",
        "# ==============================================\n",
        "\n",
        "# load the data as a pandas dataframe\n",
        "dataset = pd.read_table(\"gsl-uruguay/content/w1d2/train.tsv\", sep= \"\\t\")\n",
        "print(\"Data dimensions:\" + str(dataset.shape))\n",
        "# we will narrow our focus to only the 9 features listed above\n",
        "dataset = dataset.filter([\"alchemy_category_score\", \"alchemy_category\", \"linkwordscore\", \"news_front_page\", \"boilerplate\",\n",
        "                          \"spelling_errors_ratio\", \"numberOfLinks\", \"numwords_in_url\", \"label\"])\n",
        "# display the first 10 lines\n",
        "display(dataset.head(10))"
      ]
    },
    {
      "cell_type": "markdown",
      "metadata": {
        "id": "bKv1Cbt9N-J5"
      },
      "source": [
        "#### **Exercise 1**\n",
        "Complete all formatting and type casting. We will need to:\n",
        "* Format missing values in the dataset\n",
        "* Convert `news_front_page` and `alchemy_category_score` from objects to floats\n",
        "\n",
        "Confirm that data types are correct for each feature.\n",
        "\n",
        "*Hint: missing data is not the same as null data*"
      ]
    },
    {
      "cell_type": "code",
      "source": [
        "# Replace \"?\" with NaN\n",
        "dataset.replace(\"?\", np.nan, inplace=True)\n",
        "\n",
        "# Convert 'news_front_page' and 'alchemy_category_score' to floats\n",
        "dataset['news_front_page'] = dataset['news_front_page'].astype(float)\n",
        "dataset['alchemy_category_score'] = dataset['alchemy_category_score'].astype(float)\n",
        "\n",
        "# Confirm data types\n",
        "print(dataset.dtypes)\n",
        "\n",
        "# Display the first 10 lines\n",
        "print(dataset.head(10))"
      ],
      "metadata": {
        "id": "pexFnmIFnivS",
        "colab": {
          "base_uri": "https://localhost:8080/"
        },
        "outputId": "3f9c7f92-85f2-4355-dd75-e8c8f798a70a"
      },
      "execution_count": null,
      "outputs": [
        {
          "output_type": "stream",
          "name": "stdout",
          "text": [
            "alchemy_category_score    float64\n",
            "alchemy_category           object\n",
            "linkwordscore               int64\n",
            "news_front_page           float64\n",
            "boilerplate                object\n",
            "spelling_errors_ratio     float64\n",
            "numberOfLinks               int64\n",
            "numwords_in_url             int64\n",
            "label                       int64\n",
            "dtype: object\n",
            "   alchemy_category_score    alchemy_category  linkwordscore  news_front_page  \\\n",
            "0                0.789131            business             24              0.0   \n",
            "1                0.574147          recreation             40              0.0   \n",
            "2                0.996526              health             55              0.0   \n",
            "3                0.801248              health             24              0.0   \n",
            "4                0.719157              sports             14              0.0   \n",
            "5                     NaN                 NaN             12              NaN   \n",
            "6                0.221110  arts_entertainment             21              0.0   \n",
            "7                     NaN                 NaN              5              NaN   \n",
            "8                     NaN                 NaN             17              0.0   \n",
            "9                     NaN                 NaN             14              NaN   \n",
            "\n",
            "                                         boilerplate  spelling_errors_ratio  \\\n",
            "0  {\"title\":\"IBM Sees Holographic Calls Air Breat...               0.079130   \n",
            "1  {\"title\":\"The Fully Electronic Futuristic Star...               0.125448   \n",
            "2  {\"title\":\"Fruits that Fight the Flu fruits tha...               0.057613   \n",
            "3  {\"title\":\"10 Foolproof Tips for Better Sleep \"...               0.100858   \n",
            "4  {\"title\":\"The 50 Coolest Jerseys You Didn t Kn...               0.082569   \n",
            "5  {\"url\":\"conveniencemedical genital herpes home...               0.087356   \n",
            "6  {\"title\":\"fashion lane American Wild Child \",\"...               0.064327   \n",
            "7  {\"url\":\"insidershealth article racing for reco...               0.148551   \n",
            "8  {\"title\":\"Valet The Handbook 31 Days 31 days\",...               0.125000   \n",
            "9  {\"url\":\"howsweeteats 2010 03 24 cookies and cr...               0.094412   \n",
            "\n",
            "   numberOfLinks  numwords_in_url  label  \n",
            "0            170                8      0  \n",
            "1            187                9      1  \n",
            "2            258               11      1  \n",
            "3            120                5      1  \n",
            "4            162               10      0  \n",
            "5             55                3      0  \n",
            "6             93                3      1  \n",
            "7            132                4      0  \n",
            "8            194                7      1  \n",
            "9            326                4      1  \n"
          ]
        }
      ]
    },
    {
      "cell_type": "code",
      "source": [
        "# Convert the 'is_news' feature to float type\n",
        "dataset[[\"news_front_page\"]] = dataset[[\"news_front_page\"]].astype(float)\n",
        "\n",
        "# Convert 'alchemy_categoty_score' to float type\n",
        "dataset[\"alchemy_category_score\"] = dataset[\"alchemy_category_score\"].astype(float)\n",
        "\n",
        "# Show the data type of each variable to confirm that all features are in the proper data format\n",
        "dataset.dtypes"
      ],
      "metadata": {
        "id": "3FobTfFXnmNU",
        "colab": {
          "base_uri": "https://localhost:8080/"
        },
        "outputId": "a058a823-5b6b-486c-8fc5-b8af604f9f5c"
      },
      "execution_count": null,
      "outputs": [
        {
          "output_type": "execute_result",
          "data": {
            "text/plain": [
              "alchemy_category_score    float64\n",
              "alchemy_category           object\n",
              "linkwordscore               int64\n",
              "news_front_page           float64\n",
              "boilerplate                object\n",
              "spelling_errors_ratio     float64\n",
              "numberOfLinks               int64\n",
              "numwords_in_url             int64\n",
              "label                       int64\n",
              "dtype: object"
            ]
          },
          "metadata": {},
          "execution_count": 6
        }
      ]
    },
    {
      "cell_type": "markdown",
      "metadata": {
        "id": "RUaX4fNmS_PM"
      },
      "source": [
        "### Step 3 - Visualizing Data\n",
        "\n",
        "Next, we will explore some aspects of the data using pandas methods.\n",
        "\n",
        "We can analyze the number of each label for different values of each feature. For example, the frequency table below will tell us how many True and False labels there are for each category of alchemy_category.\n",
        "\n",
        "We can also plot the same information."
      ]
    },
    {
      "cell_type": "markdown",
      "source": [
        "#### **Exercise 2**\n",
        "Using crosstab tables & plots like we did in class, form a hypothesis of which variables you think will be most important to our prediction."
      ],
      "metadata": {
        "id": "SDktIiQ7jEnZ"
      }
    },
    {
      "cell_type": "code",
      "source": [
        "dataset['alchemy_category_score'].head()"
      ],
      "metadata": {
        "id": "re8l1xDdj5p9",
        "colab": {
          "base_uri": "https://localhost:8080/"
        },
        "outputId": "de005a59-1080-4658-824a-ceb2b9c510ee"
      },
      "execution_count": null,
      "outputs": [
        {
          "output_type": "execute_result",
          "data": {
            "text/plain": [
              "0    0.789131\n",
              "1    0.574147\n",
              "2    0.996526\n",
              "3    0.801248\n",
              "4    0.719157\n",
              "Name: alchemy_category_score, dtype: float64"
            ]
          },
          "metadata": {},
          "execution_count": 8
        }
      ]
    },
    {
      "cell_type": "code",
      "execution_count": null,
      "metadata": {
        "id": "FGeGj8E_il93",
        "colab": {
          "base_uri": "https://localhost:8080/",
          "height": 589
        },
        "outputId": "033e662d-04a6-4a3d-81b6-3565664747a2"
      },
      "outputs": [
        {
          "output_type": "execute_result",
          "data": {
            "text/plain": [
              "<Axes: xlabel='alchemy_category'>"
            ]
          },
          "metadata": {},
          "execution_count": 9
        },
        {
          "output_type": "display_data",
          "data": {
            "text/plain": [
              "<Figure size 640x480 with 1 Axes>"
            ],
            "image/png": "[encoded data removed]"
          },
          "metadata": {}
        }
      ],
      "source": [
        "# ==============================================\n",
        "# 3. Understanding variables\n",
        "# ==============================================\n",
        "\n",
        "# =============================\n",
        "# 3.1 alchemy_category\n",
        "# =============================\n",
        "\n",
        "# Frequency table for how many datapoints have a specific category and label\n",
        "pd.crosstab(dataset[\"alchemy_category\"], dataset[\"label\"])\n",
        "\n",
        "# a plot of the table above\n",
        "pd.crosstab(dataset.alchemy_category, dataset.label).plot(kind=\"bar\")"
      ]
    },
    {
      "cell_type": "code",
      "source": [
        "# For numerical variables, we can bin the amounts and check frequency of labels within each bin\n",
        "pd.crosstab(pd.cut(dataset[\"alchemy_category_score\"], bins = 5), dataset.label).plot(kind = \"bar\")"
      ],
      "metadata": {
        "id": "CG9_VW9ZjP8n",
        "colab": {
          "base_uri": "https://localhost:8080/",
          "height": 560
        },
        "outputId": "c06a4ac6-d91e-4fca-d0db-aa3784a3c507"
      },
      "execution_count": null,
      "outputs": [
        {
          "output_type": "execute_result",
          "data": {
            "text/plain": [
              "<Axes: xlabel='alchemy_category_score'>"
            ]
          },
          "metadata": {},
          "execution_count": 10
        },
        {
          "output_type": "display_data",
          "data": {
            "text/plain": [
              "<Figure size 640x480 with 1 Axes>"
            ],
            "image/png": "[encoded data removed]"
          },
          "metadata": {}
        }
      ]
    },
    {
      "cell_type": "code",
      "source": [
        "# TODO: use this space to create any additional data visualizations\n",
        "# For numerical variables, we can bin the amounts and check frequency of labels within each bin\n",
        "pd.crosstab(pd.cut(dataset[\"linkwordscore\"], bins = 5), dataset.label).plot(kind = \"bar\")"
      ],
      "metadata": {
        "id": "4l6FDfrXIztl",
        "colab": {
          "base_uri": "https://localhost:8080/",
          "height": 542
        },
        "outputId": "5acbeeb2-1d0a-4fc0-c5e7-a5ead7955633"
      },
      "execution_count": null,
      "outputs": [
        {
          "output_type": "execute_result",
          "data": {
            "text/plain": [
              "<Axes: xlabel='linkwordscore'>"
            ]
          },
          "metadata": {},
          "execution_count": 11
        },
        {
          "output_type": "display_data",
          "data": {
            "text/plain": [
              "<Figure size 640x480 with 1 Axes>"
            ],
            "image/png": "[encoded data removed]"
          },
          "metadata": {}
        }
      ]
    },
    {
      "cell_type": "markdown",
      "source": [
        "**Which variables do you expect to be most important for predicting whether or not a site is evergreen?**\n",
        "\n",
        "Determining the importance of variables for predicting whether a site is evergreen can be done through feature importance analysis, correlation analysis. However, without conducting specific analyses, if I have to say for intuition: alchemy_category_score. This score indicates the likelihood of the alchemy category being correct"
      ],
      "metadata": {
        "id": "_t_vcjAcIiAL"
      }
    },
    {
      "cell_type": "markdown",
      "metadata": {
        "id": "VfWFxSCGEGVQ"
      },
      "source": [
        "### Step 6 - Missing Values\n",
        "\n",
        "Use what we learned in class to replace missing values in the dataset. Ensure features are the correct data type first to prevent errors."
      ]
    },
    {
      "cell_type": "code",
      "execution_count": null,
      "metadata": {
        "id": "JSpbE-Oqpik_",
        "colab": {
          "base_uri": "https://localhost:8080/"
        },
        "outputId": "9e59a8cf-b6ec-41f2-d618-a704bbb9b0c9"
      },
      "outputs": [
        {
          "output_type": "stream",
          "name": "stdout",
          "text": [
            "alchemy_category_score    2342\n",
            "alchemy_category          2342\n",
            "linkwordscore                0\n",
            "news_front_page           1248\n",
            "boilerplate                  0\n",
            "spelling_errors_ratio        0\n",
            "numberOfLinks                0\n",
            "numwords_in_url              0\n",
            "label                        0\n",
            "dtype: int64\n"
          ]
        }
      ],
      "source": [
        "# ==========================================\n",
        "# 6. Feature engineering\n",
        "# ==========================================\n",
        "print(np.sum(dataset.isnull()))"
      ]
    },
    {
      "cell_type": "code",
      "source": [
        "# This code block checks to make sure that you have converted the feature to numerical type\n",
        "if dataset[\"alchemy_category_score\"].dtype != np.float64:\n",
        "  print(\"Make sure to convert alchemy_category_score to a float first! Right now it is\", dataset[\"alchemy_category_score\"].dtype)\n",
        "\n",
        "# replace missing values with the average of that feature\n",
        "dataset[\"alchemy_category_score\"] = dataset[\"alchemy_category_score\"].fillna(np.mean(dataset[\"alchemy_category_score\"]))"
      ],
      "metadata": {
        "id": "pAChIxrDqo_p"
      },
      "execution_count": null,
      "outputs": []
    },
    {
      "cell_type": "markdown",
      "source": [
        "#### **Exercise 3**\n",
        "\n",
        "Replace the missing values with the mode, or most common value for the news_front_page feature. If you're unsure of how to fill in missing data with a value, look at the example where we replaced missing values with the mean using fillna.\n",
        "\n",
        "*Hint: scipy.stats has a function for finding the mode of a list*"
      ],
      "metadata": {
        "id": "aJ0xy0AMj1b4"
      }
    },
    {
      "cell_type": "code",
      "source": [
        "# TODO - replace the missing values in \"news_front_page\" in the dataframe with the mode\n",
        "import statistics as st\n",
        "\n",
        "mode_value = st.mode(dataset[\"news_front_page\"])\n",
        "dataset[\"news_front_page\"].fillna(mode_value, inplace=True)\n",
        "\n",
        "# Confirm that missing values have been replaced\n",
        "print(dataset['news_front_page'].isnull().sum())\n",
        "\n"
      ],
      "metadata": {
        "id": "Y2UquJCavVCL",
        "colab": {
          "base_uri": "https://localhost:8080/"
        },
        "outputId": "c9ff0d87-d09c-43f4-99e9-ff098b14349f"
      },
      "execution_count": null,
      "outputs": [
        {
          "output_type": "stream",
          "name": "stdout",
          "text": [
            "0\n"
          ]
        }
      ]
    },
    {
      "cell_type": "markdown",
      "metadata": {
        "id": "K5roRTpkb72I"
      },
      "source": [
        "### Step 7 - Categorical Data\n",
        "\n",
        "Representing categorical data is typical done by making **one-hot features**. Create a one-hot representation for each categorical feature in the dataset as required, and as reasonable."
      ]
    },
    {
      "cell_type": "code",
      "source": [
        "# First let's examing the alchemy_category again.\n",
        "print(dataset[\"alchemy_category\"].value_counts())"
      ],
      "metadata": {
        "id": "52M9H_n9wuSb",
        "colab": {
          "base_uri": "https://localhost:8080/"
        },
        "outputId": "e7b62304-1ccc-4798-d2ea-33f85640a37c"
      },
      "execution_count": null,
      "outputs": [
        {
          "output_type": "stream",
          "name": "stdout",
          "text": [
            "recreation            1229\n",
            "arts_entertainment     941\n",
            "business               880\n",
            "health                 506\n",
            "sports                 380\n",
            "culture_politics       343\n",
            "computer_internet      296\n",
            "science_technology     289\n",
            "gaming                  76\n",
            "religion                72\n",
            "law_crime               31\n",
            "unknown                  6\n",
            "weather                  4\n",
            "Name: alchemy_category, dtype: int64\n"
          ]
        }
      ]
    },
    {
      "cell_type": "code",
      "source": [
        "# As we can see here, there are some missing values in this feature:\n",
        "print(np.sum(dataset[\"alchemy_category\"].isnull()))"
      ],
      "metadata": {
        "id": "tUvlPD7nxAOB",
        "colab": {
          "base_uri": "https://localhost:8080/"
        },
        "outputId": "ff82b9c9-cbf5-4f42-b517-01a477f5b152"
      },
      "execution_count": null,
      "outputs": [
        {
          "output_type": "stream",
          "name": "stdout",
          "text": [
            "2342\n"
          ]
        }
      ]
    },
    {
      "cell_type": "code",
      "source": [
        "# We'll replace them with the filler category, \"_M\" to represent missing\n",
        "dataset[\"alchemy_category\"] = dataset[\"alchemy_category\"].fillna(\"_M\")"
      ],
      "metadata": {
        "id": "fke4HpFPxDso"
      },
      "execution_count": null,
      "outputs": []
    },
    {
      "cell_type": "code",
      "source": [
        "# We'll now create a one-hot column for each category\n",
        "alch_dataset = pd.get_dummies(dataset[\"alchemy_category\"], prefix= \"category\")\n",
        "alch_dataset.head(5)"
      ],
      "metadata": {
        "id": "bIhsG_hnxD4j",
        "colab": {
          "base_uri": "https://localhost:8080/",
          "height": 226
        },
        "outputId": "4ef24f78-54b9-42f8-d503-b775cf660e3c"
      },
      "execution_count": null,
      "outputs": [
        {
          "output_type": "execute_result",
          "data": {
            "text/plain": [
              "   category__M  category_arts_entertainment  category_business  \\\n",
              "0            0                            0                  1   \n",
              "1            0                            0                  0   \n",
              "2            0                            0                  0   \n",
              "3            0                            0                  0   \n",
              "4            0                            0                  0   \n",
              "\n",
              "   category_computer_internet  category_culture_politics  category_gaming  \\\n",
              "0                           0                          0                0   \n",
              "1                           0                          0                0   \n",
              "2                           0                          0                0   \n",
              "3                           0                          0                0   \n",
              "4                           0                          0                0   \n",
              "\n",
              "   category_health  category_law_crime  category_recreation  \\\n",
              "0                0                   0                    0   \n",
              "1                0                   0                    1   \n",
              "2                1                   0                    0   \n",
              "3                1                   0                    0   \n",
              "4                0                   0                    0   \n",
              "\n",
              "   category_religion  category_science_technology  category_sports  \\\n",
              "0                  0                            0                0   \n",
              "1                  0                            0                0   \n",
              "2                  0                            0                0   \n",
              "3                  0                            0                0   \n",
              "4                  0                            0                1   \n",
              "\n",
              "   category_unknown  category_weather  \n",
              "0                 0                 0  \n",
              "1                 0                 0  \n",
              "2                 0                 0  \n",
              "3                 0                 0  \n",
              "4                 0                 0  "
            ],
            "text/html": [
              "\n",
              "  <div id=\"df-fd6a2f1f-6c5e-47bf-b0b2-dd264a141ad8\" class=\"colab-df-container\">\n",
              "    <div>\n",
              "<style scoped>\n",
              "    .dataframe tbody tr th:only-of-type {\n",
              "        vertical-align: middle;\n",
              "    }\n",
              "\n",
              "    .dataframe tbody tr th {\n",
              "        vertical-align: top;\n",
              "    }\n",
              "\n",
              "    .dataframe thead th {\n",
              "        text-align: right;\n",
              "    }\n",
              "</style>\n",
              "<table border=\"1\" class=\"dataframe\">\n",
              "  <thead>\n",
              "    <tr style=\"text-align: right;\">\n",
              "      <th></th>\n",
              "      <th>category__M</th>\n",
              "      <th>category_arts_entertainment</th>\n",
              "      <th>category_business</th>\n",
              "      <th>category_computer_internet</th>\n",
              "      <th>category_culture_politics</th>\n",
              "      <th>category_gaming</th>\n",
              "      <th>category_health</th>\n",
              "      <th>category_law_crime</th>\n",
              "      <th>category_recreation</th>\n",
              "      <th>category_religion</th>\n",
              "      <th>category_science_technology</th>\n",
              "      <th>category_sports</th>\n",
              "      <th>category_unknown</th>\n",
              "      <th>category_weather</th>\n",
              "    </tr>\n",
              "  </thead>\n",
              "  <tbody>\n",
              "    <tr>\n",
              "      <th>0</th>\n",
              "      <td>0</td>\n",
              "      <td>0</td>\n",
              "      <td>1</td>\n",
              "      <td>0</td>\n",
              "      <td>0</td>\n",
              "      <td>0</td>\n",
              "      <td>0</td>\n",
              "      <td>0</td>\n",
              "      <td>0</td>\n",
              "      <td>0</td>\n",
              "      <td>0</td>\n",
              "      <td>0</td>\n",
              "      <td>0</td>\n",
              "      <td>0</td>\n",
              "    </tr>\n",
              "    <tr>\n",
              "      <th>1</th>\n",
              "      <td>0</td>\n",
              "      <td>0</td>\n",
              "      <td>0</td>\n",
              "      <td>0</td>\n",
              "      <td>0</td>\n",
              "      <td>0</td>\n",
              "      <td>0</td>\n",
              "      <td>0</td>\n",
              "      <td>1</td>\n",
              "      <td>0</td>\n",
              "      <td>0</td>\n",
              "      <td>0</td>\n",
              "      <td>0</td>\n",
              "      <td>0</td>\n",
              "    </tr>\n",
              "    <tr>\n",
              "      <th>2</th>\n",
              "      <td>0</td>\n",
              "      <td>0</td>\n",
              "      <td>0</td>\n",
              "      <td>0</td>\n",
              "      <td>0</td>\n",
              "      <td>0</td>\n",
              "      <td>1</td>\n",
              "      <td>0</td>\n",
              "      <td>0</td>\n",
              "      <td>0</td>\n",
              "      <td>0</td>\n",
              "      <td>0</td>\n",
              "      <td>0</td>\n",
              "      <td>0</td>\n",
              "    </tr>\n",
              "    <tr>\n",
              "      <th>3</th>\n",
              "      <td>0</td>\n",
              "      <td>0</td>\n",
              "      <td>0</td>\n",
              "      <td>0</td>\n",
              "      <td>0</td>\n",
              "      <td>0</td>\n",
              "      <td>1</td>\n",
              "      <td>0</td>\n",
              "      <td>0</td>\n",
              "      <td>0</td>\n",
              "      <td>0</td>\n",
              "      <td>0</td>\n",
              "      <td>0</td>\n",
              "      <td>0</td>\n",
              "    </tr>\n",
              "    <tr>\n",
              "      <th>4</th>\n",
              "      <td>0</td>\n",
              "      <td>0</td>\n",
              "      <td>0</td>\n",
              "      <td>0</td>\n",
              "      <td>0</td>\n",
              "      <td>0</td>\n",
              "      <td>0</td>\n",
              "      <td>0</td>\n",
              "      <td>0</td>\n",
              "      <td>0</td>\n",
              "      <td>0</td>\n",
              "      <td>1</td>\n",
              "      <td>0</td>\n",
              "      <td>0</td>\n",
              "    </tr>\n",
              "  </tbody>\n",
              "</table>\n",
              "</div>\n",
              "    <div class=\"colab-df-buttons\">\n",
              "\n",
              "  <div class=\"colab-df-container\">\n",
              "    <button class=\"colab-df-convert\" onclick=\"convertToInteractive('df-fd6a2f1f-6c5e-47bf-b0b2-dd264a141ad8')\"\n",
              "            title=\"Convert this dataframe to an interactive table.\"\n",
              "            style=\"display:none;\">\n",
              "\n",
              "  <svg xmlns=\"http://www.w3.org/2000/svg\" height=\"24px\" viewBox=\"0 -960 960 960\">\n",
              "    <path d=\"M120-120v-720h720v720H120Zm60-500h600v-160H180v160Zm220 220h160v-160H400v160Zm0 220h160v-160H400v160ZM180-400h160v-160H180v160Zm440 0h160v-160H620v160ZM180-180h160v-160H180v160Zm440 0h160v-160H620v160Z\"/>\n",
              "  </svg>\n",
              "    </button>\n",
              "\n",
              "  <style>\n",
              "    .colab-df-container {\n",
              "      display:flex;\n",
              "      gap: 12px;\n",
              "    }\n",
              "\n",
              "    .colab-df-convert {\n",
              "      background-color: #E8F0FE;\n",
              "      border: none;\n",
              "      border-radius: 50%;\n",
              "      cursor: pointer;\n",
              "      display: none;\n",
              "      fill: #1967D2;\n",
              "      height: 32px;\n",
              "      padding: 0 0 0 0;\n",
              "      width: 32px;\n",
              "    }\n",
              "\n",
              "    .colab-df-convert:hover {\n",
              "      background-color: #E2EBFA;\n",
              "      box-shadow: 0px 1px 2px rgba(60, 64, 67, 0.3), 0px 1px 3px 1px rgba(60, 64, 67, 0.15);\n",
              "      fill: #174EA6;\n",
              "    }\n",
              "\n",
              "    .colab-df-buttons div {\n",
              "      margin-bottom: 4px;\n",
              "    }\n",
              "\n",
              "    [theme=dark] .colab-df-convert {\n",
              "      background-color: #3B4455;\n",
              "      fill: #D2E3FC;\n",
              "    }\n",
              "\n",
              "    [theme=dark] .colab-df-convert:hover {\n",
              "      background-color: #434B5C;\n",
              "      box-shadow: 0px 1px 3px 1px rgba(0, 0, 0, 0.15);\n",
              "      filter: drop-shadow(0px 1px 2px rgba(0, 0, 0, 0.3));\n",
              "      fill: #FFFFFF;\n",
              "    }\n",
              "  </style>\n",
              "\n",
              "    <script>\n",
              "      const buttonEl =\n",
              "        document.querySelector('#df-fd6a2f1f-6c5e-47bf-b0b2-dd264a141ad8 button.colab-df-convert');\n",
              "      buttonEl.style.display =\n",
              "        google.colab.kernel.accessAllowed ? 'block' : 'none';\n",
              "\n",
              "      async function convertToInteractive(key) {\n",
              "        const element = document.querySelector('#df-fd6a2f1f-6c5e-47bf-b0b2-dd264a141ad8');\n",
              "        const dataTable =\n",
              "          await google.colab.kernel.invokeFunction('convertToInteractive',\n",
              "                                                    [key], {});\n",
              "        if (!dataTable) return;\n",
              "\n",
              "        const docLinkHtml = 'Like what you see? Visit the ' +\n",
              "          '<a target=\"_blank\" href=https://colab.research.google.com/notebooks/data_table.ipynb>data table notebook</a>'\n",
              "          + ' to learn more about interactive tables.';\n",
              "        element.innerHTML = '';\n",
              "        dataTable['output_type'] = 'display_data';\n",
              "        await google.colab.output.renderOutput(dataTable, element);\n",
              "        const docLink = document.createElement('div');\n",
              "        docLink.innerHTML = docLinkHtml;\n",
              "        element.appendChild(docLink);\n",
              "      }\n",
              "    </script>\n",
              "  </div>\n",
              "\n",
              "\n",
              "<div id=\"df-24a202cc-2b2f-4766-8365-aa9856d73f07\">\n",
              "  <button class=\"colab-df-quickchart\" onclick=\"quickchart('df-24a202cc-2b2f-4766-8365-aa9856d73f07')\"\n",
              "            title=\"Suggest charts\"\n",
              "            style=\"display:none;\">\n",
              "\n",
              "<svg xmlns=\"http://www.w3.org/2000/svg\" height=\"24px\"viewBox=\"0 0 24 24\"\n",
              "     width=\"24px\">\n",
              "    <g>\n",
              "        <path d=\"M19 3H5c-1.1 0-2 .9-2 2v14c0 1.1.9 2 2 2h14c1.1 0 2-.9 2-2V5c0-1.1-.9-2-2-2zM9 17H7v-7h2v7zm4 0h-2V7h2v10zm4 0h-2v-4h2v4z\"/>\n",
              "    </g>\n",
              "</svg>\n",
              "  </button>\n",
              "\n",
              "<style>\n",
              "  .colab-df-quickchart {\n",
              "      --bg-color: #E8F0FE;\n",
              "      --fill-color: #1967D2;\n",
              "      --hover-bg-color: #E2EBFA;\n",
              "      --hover-fill-color: #174EA6;\n",
              "      --disabled-fill-color: #AAA;\n",
              "      --disabled-bg-color: #DDD;\n",
              "  }\n",
              "\n",
              "  [theme=dark] .colab-df-quickchart {\n",
              "      --bg-color: #3B4455;\n",
              "      --fill-color: #D2E3FC;\n",
              "      --hover-bg-color: #434B5C;\n",
              "      --hover-fill-color: #FFFFFF;\n",
              "      --disabled-bg-color: #3B4455;\n",
              "      --disabled-fill-color: #666;\n",
              "  }\n",
              "\n",
              "  .colab-df-quickchart {\n",
              "    background-color: var(--bg-color);\n",
              "    border: none;\n",
              "    border-radius: 50%;\n",
              "    cursor: pointer;\n",
              "    display: none;\n",
              "    fill: var(--fill-color);\n",
              "    height: 32px;\n",
              "    padding: 0;\n",
              "    width: 32px;\n",
              "  }\n",
              "\n",
              "  .colab-df-quickchart:hover {\n",
              "    background-color: var(--hover-bg-color);\n",
              "    box-shadow: 0 1px 2px rgba(60, 64, 67, 0.3), 0 1px 3px 1px rgba(60, 64, 67, 0.15);\n",
              "    fill: var(--button-hover-fill-color);\n",
              "  }\n",
              "\n",
              "  .colab-df-quickchart-complete:disabled,\n",
              "  .colab-df-quickchart-complete:disabled:hover {\n",
              "    background-color: var(--disabled-bg-color);\n",
              "    fill: var(--disabled-fill-color);\n",
              "    box-shadow: none;\n",
              "  }\n",
              "\n",
              "  .colab-df-spinner {\n",
              "    border: 2px solid var(--fill-color);\n",
              "    border-color: transparent;\n",
              "    border-bottom-color: var(--fill-color);\n",
              "    animation:\n",
              "      spin 1s steps(1) infinite;\n",
              "  }\n",
              "\n",
              "  @keyframes spin {\n",
              "    0% {\n",
              "      border-color: transparent;\n",
              "      border-bottom-color: var(--fill-color);\n",
              "      border-left-color: var(--fill-color);\n",
              "    }\n",
              "    20% {\n",
              "      border-color: transparent;\n",
              "      border-left-color: var(--fill-color);\n",
              "      border-top-color: var(--fill-color);\n",
              "    }\n",
              "    30% {\n",
              "      border-color: transparent;\n",
              "      border-left-color: var(--fill-color);\n",
              "      border-top-color: var(--fill-color);\n",
              "      border-right-color: var(--fill-color);\n",
              "    }\n",
              "    40% {\n",
              "      border-color: transparent;\n",
              "      border-right-color: var(--fill-color);\n",
              "      border-top-color: var(--fill-color);\n",
              "    }\n",
              "    60% {\n",
              "      border-color: transparent;\n",
              "      border-right-color: var(--fill-color);\n",
              "    }\n",
              "    80% {\n",
              "      border-color: transparent;\n",
              "      border-right-color: var(--fill-color);\n",
              "      border-bottom-color: var(--fill-color);\n",
              "    }\n",
              "    90% {\n",
              "      border-color: transparent;\n",
              "      border-bottom-color: var(--fill-color);\n",
              "    }\n",
              "  }\n",
              "</style>\n",
              "\n",
              "  <script>\n",
              "    async function quickchart(key) {\n",
              "      const quickchartButtonEl =\n",
              "        document.querySelector('#' + key + ' button');\n",
              "      quickchartButtonEl.disabled = true;  // To prevent multiple clicks.\n",
              "      quickchartButtonEl.classList.add('colab-df-spinner');\n",
              "      try {\n",
              "        const charts = await google.colab.kernel.invokeFunction(\n",
              "            'suggestCharts', [key], {});\n",
              "      } catch (error) {\n",
              "        console.error('Error during call to suggestCharts:', error);\n",
              "      }\n",
              "      quickchartButtonEl.classList.remove('colab-df-spinner');\n",
              "      quickchartButtonEl.classList.add('colab-df-quickchart-complete');\n",
              "    }\n",
              "    (() => {\n",
              "      let quickchartButtonEl =\n",
              "        document.querySelector('#df-24a202cc-2b2f-4766-8365-aa9856d73f07 button');\n",
              "      quickchartButtonEl.style.display =\n",
              "        google.colab.kernel.accessAllowed ? 'block' : 'none';\n",
              "    })();\n",
              "  </script>\n",
              "</div>\n",
              "\n",
              "    </div>\n",
              "  </div>\n"
            ]
          },
          "metadata": {},
          "execution_count": 20
        }
      ]
    },
    {
      "cell_type": "code",
      "source": [
        "# Merge the one-hot features with the original dataset\n",
        "dataset = dataset.join(alch_dataset)\n",
        "dataset.shape"
      ],
      "metadata": {
        "id": "rs-S6oRSxQkf",
        "colab": {
          "base_uri": "https://localhost:8080/"
        },
        "outputId": "8841e597-48eb-4275-f182-b1cca8b457ed"
      },
      "execution_count": null,
      "outputs": [
        {
          "output_type": "execute_result",
          "data": {
            "text/plain": [
              "(7395, 23)"
            ]
          },
          "metadata": {},
          "execution_count": 21
        }
      ]
    },
    {
      "cell_type": "markdown",
      "metadata": {
        "id": "tFUXj6JkhMgd"
      },
      "source": [
        "### Step 8 - Text Processing\n",
        "Features like \"boilerplate\" are arbitrary text.\n",
        "\n",
        "To turn text into a numerical encoding, we will first try a method similar to one-hot encoding. We will find the 100 most common words in the training set for the \"boilerplate\" feature. Then we make a new feature column for each of those words whose value represents whether or not that word is in the \"boilerplate\" for that datapoint."
      ]
    },
    {
      "cell_type": "code",
      "execution_count": null,
      "metadata": {
        "id": "L4_C-H8MlVEj",
        "colab": {
          "base_uri": "https://localhost:8080/",
          "height": 92
        },
        "outputId": "967c059e-0265-49d7-859a-770b16efd7d0"
      },
      "outputs": [
        {
          "output_type": "execute_result",
          "data": {
            "text/plain": [
              "CountVectorizer(binary=True, max_features=100, min_df=10, ngram_range=(1, 2),\n",
              "                strip_accents='unicode', token_pattern='\\\\w{1,}')"
            ],
            "text/html": [
              "<style>#sk-container-id-1 {color: black;background-color: white;}#sk-container-id-1 pre{padding: 0;}#sk-container-id-1 div.sk-toggleable {background-color: white;}#sk-container-id-1 label.sk-toggleable__label {cursor: pointer;display: block;width: 100%;margin-bottom: 0;padding: 0.3em;box-sizing: border-box;text-align: center;}#sk-container-id-1 label.sk-toggleable__label-arrow:before {content: \"▸\";float: left;margin-right: 0.25em;color: #696969;}#sk-container-id-1 label.sk-toggleable__label-arrow:hover:before {color: black;}#sk-container-id-1 div.sk-estimator:hover label.sk-toggleable__label-arrow:before {color: black;}#sk-container-id-1 div.sk-toggleable__content {max-height: 0;max-width: 0;overflow: hidden;text-align: left;background-color: #f0f8ff;}#sk-container-id-1 div.sk-toggleable__content pre {margin: 0.2em;color: black;border-radius: 0.25em;background-color: #f0f8ff;}#sk-container-id-1 input.sk-toggleable__control:checked~div.sk-toggleable__content {max-height: 200px;max-width: 100%;overflow: auto;}#sk-container-id-1 input.sk-toggleable__control:checked~label.sk-toggleable__label-arrow:before {content: \"▾\";}#sk-container-id-1 div.sk-estimator input.sk-toggleable__control:checked~label.sk-toggleable__label {background-color: #d4ebff;}#sk-container-id-1 div.sk-label input.sk-toggleable__control:checked~label.sk-toggleable__label {background-color: #d4ebff;}#sk-container-id-1 input.sk-hidden--visually {border: 0;clip: rect(1px 1px 1px 1px);clip: rect(1px, 1px, 1px, 1px);height: 1px;margin: -1px;overflow: hidden;padding: 0;position: absolute;width: 1px;}#sk-container-id-1 div.sk-estimator {font-family: monospace;background-color: #f0f8ff;border: 1px dotted black;border-radius: 0.25em;box-sizing: border-box;margin-bottom: 0.5em;}#sk-container-id-1 div.sk-estimator:hover {background-color: #d4ebff;}#sk-container-id-1 div.sk-parallel-item::after {content: \"\";width: 100%;border-bottom: 1px solid gray;flex-grow: 1;}#sk-container-id-1 div.sk-label:hover label.sk-toggleable__label {background-color: #d4ebff;}#sk-container-id-1 div.sk-serial::before {content: \"\";position: absolute;border-left: 1px solid gray;box-sizing: border-box;top: 0;bottom: 0;left: 50%;z-index: 0;}#sk-container-id-1 div.sk-serial {display: flex;flex-direction: column;align-items: center;background-color: white;padding-right: 0.2em;padding-left: 0.2em;position: relative;}#sk-container-id-1 div.sk-item {position: relative;z-index: 1;}#sk-container-id-1 div.sk-parallel {display: flex;align-items: stretch;justify-content: center;background-color: white;position: relative;}#sk-container-id-1 div.sk-item::before, #sk-container-id-1 div.sk-parallel-item::before {content: \"\";position: absolute;border-left: 1px solid gray;box-sizing: border-box;top: 0;bottom: 0;left: 50%;z-index: -1;}#sk-container-id-1 div.sk-parallel-item {display: flex;flex-direction: column;z-index: 1;position: relative;background-color: white;}#sk-container-id-1 div.sk-parallel-item:first-child::after {align-self: flex-end;width: 50%;}#sk-container-id-1 div.sk-parallel-item:last-child::after {align-self: flex-start;width: 50%;}#sk-container-id-1 div.sk-parallel-item:only-child::after {width: 0;}#sk-container-id-1 div.sk-dashed-wrapped {border: 1px dashed gray;margin: 0 0.4em 0.5em 0.4em;box-sizing: border-box;padding-bottom: 0.4em;background-color: white;}#sk-container-id-1 div.sk-label label {font-family: monospace;font-weight: bold;display: inline-block;line-height: 1.2em;}#sk-container-id-1 div.sk-label-container {text-align: center;}#sk-container-id-1 div.sk-container {/* jupyter's `normalize.less` sets `[hidden] { display: none; }` but bootstrap.min.css set `[hidden] { display: none !important; }` so we also need the `!important` here to be able to override the default hidden behavior on the sphinx rendered scikit-learn.org. See: https://github.com/scikit-learn/scikit-learn/issues/21755 */display: inline-block !important;position: relative;}#sk-container-id-1 div.sk-text-repr-fallback {display: none;}</style><div id=\"sk-container-id-1\" class=\"sk-top-container\"><div class=\"sk-text-repr-fallback\"><pre>CountVectorizer(binary=True, max_features=100, min_df=10, ngram_range=(1, 2),\n",
              "                strip_accents=&#x27;unicode&#x27;, token_pattern=&#x27;\\\\w{1,}&#x27;)</pre><b>In a Jupyter environment, please rerun this cell to show the HTML representation or trust the notebook. <br />On GitHub, the HTML representation is unable to render, please try loading this page with nbviewer.org.</b></div><div class=\"sk-container\" hidden><div class=\"sk-item\"><div class=\"sk-estimator sk-toggleable\"><input class=\"sk-toggleable__control sk-hidden--visually\" id=\"sk-estimator-id-1\" type=\"checkbox\" checked><label for=\"sk-estimator-id-1\" class=\"sk-toggleable__label sk-toggleable__label-arrow\">CountVectorizer</label><div class=\"sk-toggleable__content\"><pre>CountVectorizer(binary=True, max_features=100, min_df=10, ngram_range=(1, 2),\n",
              "                strip_accents=&#x27;unicode&#x27;, token_pattern=&#x27;\\\\w{1,}&#x27;)</pre></div></div></div></div></div>"
            ]
          },
          "metadata": {},
          "execution_count": 22
        }
      ],
      "source": [
        "# Simple text mining -- 1 if the word is in each document, else 0\n",
        "string_vectorizer = CountVectorizer(min_df= 10,  max_features= 100, strip_accents= 'unicode',\n",
        "                            analyzer= \"word\", token_pattern= r\"\\w{1,}\", ngram_range=(1, 2),\n",
        "                            binary= True)\n",
        "train, test = train_test_split(dataset, test_size= 0.1, train_size= 0.9, random_state= 233)\n",
        "string_vectorizer.fit(train[\"boilerplate\"])"
      ]
    },
    {
      "cell_type": "markdown",
      "metadata": {
        "id": "Z2qCgQxMmDoo"
      },
      "source": [
        "Let's see what these 100 most common words are:"
      ]
    },
    {
      "cell_type": "code",
      "execution_count": null,
      "metadata": {
        "id": "npHjHGa0l-TZ",
        "colab": {
          "base_uri": "https://localhost:8080/"
        },
        "outputId": "be451f1a-6460-4c98-f10e-fe4e6286de28"
      },
      "outputs": [
        {
          "output_type": "execute_result",
          "data": {
            "text/plain": [
              "{'title': 79,\n",
              " 'over': 62,\n",
              " '2': 2,\n",
              " 'of': 54,\n",
              " 's': 64,\n",
              " 'body': 16,\n",
              " 'and': 11,\n",
              " '4': 4,\n",
              " 'the': 70,\n",
              " 'is': 40,\n",
              " 'more': 48,\n",
              " 'than': 68,\n",
              " 'a': 6,\n",
              " 'in': 36,\n",
              " 'at': 14,\n",
              " '3': 3,\n",
              " 'most': 49,\n",
              " 'it': 42,\n",
              " 'an': 10,\n",
              " 'for': 24,\n",
              " 'or': 59,\n",
              " 'to': 80,\n",
              " 'that': 69,\n",
              " 'be': 15,\n",
              " '1': 0,\n",
              " '5': 5,\n",
              " 'are': 12,\n",
              " 'but': 17,\n",
              " 'they': 76,\n",
              " 'when': 90,\n",
              " 'you': 97,\n",
              " 'get': 28,\n",
              " 'your': 99,\n",
              " 'there': 74,\n",
              " 'no': 52,\n",
              " 'into': 39,\n",
              " 'as': 13,\n",
              " 'i': 33,\n",
              " 'from': 26,\n",
              " 'with': 94,\n",
              " 'like': 45,\n",
              " 'which': 91,\n",
              " 'on': 56,\n",
              " 'how': 32,\n",
              " 'if': 34,\n",
              " 'we': 87,\n",
              " 'has': 29,\n",
              " 'one': 58,\n",
              " 'so': 65,\n",
              " 'here': 31,\n",
              " 'can': 19,\n",
              " 'not': 53,\n",
              " 'this': 77,\n",
              " 'will': 93,\n",
              " 'new': 51,\n",
              " 'have': 30,\n",
              " 'them': 72,\n",
              " 'also': 9,\n",
              " 'out': 61,\n",
              " 't': 67,\n",
              " 'then': 73,\n",
              " 'url': 84,\n",
              " 'in the': 38,\n",
              " 'for the': 25,\n",
              " 'with a': 95,\n",
              " 'if you': 35,\n",
              " 'it s': 43,\n",
              " 'on the': 57,\n",
              " 'with the': 96,\n",
              " 'you can': 98,\n",
              " 'is a': 41,\n",
              " 'recipe': 63,\n",
              " 'by': 18,\n",
              " 'make': 46,\n",
              " 'these': 75,\n",
              " 'until': 82,\n",
              " 'just': 44,\n",
              " 'do': 20,\n",
              " 'about': 7,\n",
              " 'their': 71,\n",
              " 'from the': 27,\n",
              " 'in a': 37,\n",
              " 'of the': 55,\n",
              " 'to the': 81,\n",
              " 'what': 89,\n",
              " 'who': 92,\n",
              " 'was': 86,\n",
              " 'all': 8,\n",
              " 'minutes': 47,\n",
              " 'some': 66,\n",
              " 'up': 83,\n",
              " 'well': 88,\n",
              " 'even': 23,\n",
              " 'use': 85,\n",
              " '10': 1,\n",
              " 'other': 60,\n",
              " 'time': 78,\n",
              " 'my': 50,\n",
              " 'don': 21,\n",
              " 'don t': 22}"
            ]
          },
          "metadata": {},
          "execution_count": 23
        }
      ],
      "source": [
        "string_vectorizer.vocabulary_"
      ]
    },
    {
      "cell_type": "code",
      "execution_count": null,
      "metadata": {
        "id": "AyqAULmimkXx"
      },
      "outputs": [],
      "source": [
        "train_bow = string_vectorizer.transform(train[\"boilerplate\"])\n",
        "test_bow = string_vectorizer.transform(test[\"boilerplate\"])"
      ]
    },
    {
      "cell_type": "markdown",
      "metadata": {
        "id": "N24trNe0ldWx"
      },
      "source": [
        "Let's see what's in this new dataset by turning it into a pandas dataframe."
      ]
    },
    {
      "cell_type": "markdown",
      "source": [
        "#### **Exercise 4**\n",
        "\n",
        "Is the word \"your\" in datapoint 0? (use code provided)\n",
        "\n",
        "*Hint: look at the vocabulary dictionary to see which column represents \"your\".*"
      ],
      "metadata": {
        "id": "5sX0RwX6lXSb"
      }
    },
    {
      "cell_type": "code",
      "execution_count": null,
      "metadata": {
        "id": "G1zAKbM2lgMW",
        "colab": {
          "base_uri": "https://localhost:8080/",
          "height": 78
        },
        "outputId": "d7e5af02-9a61-4979-8618-52297e08ccf1"
      },
      "outputs": [
        {
          "output_type": "execute_result",
          "data": {
            "text/plain": [
              "Empty DataFrame\n",
              "Columns: [0, 1, 2, 3, 4, 5, 6, 7, 8, 9, 10, 11, 12, 13, 14, 15, 16, 17, 18, 19, 20, 21, 22, 23, 24, 25, 26, 27, 28, 29, 30, 31, 32, 33, 34, 35, 36, 37, 38, 39, 40, 41, 42, 43, 44, 45, 46, 47, 48, 49, 50, 51, 52, 53, 54, 55, 56, 57, 58, 59, 60, 61, 62, 63, 64, 65, 66, 67, 68, 69, 70, 71, 72, 73, 74, 75, 76, 77, 78, 79, 80, 81, 82, 83, 84, 85, 86, 87, 88, 89, 90, 91, 92, 93, 94, 95, 96, 97, 98, 99]\n",
              "Index: []\n",
              "\n",
              "[0 rows x 100 columns]"
            ],
            "text/html": [
              "\n",
              "  <div id=\"df-3449f409-aef5-4cf0-b390-ec3932eaeb26\" class=\"colab-df-container\">\n",
              "    <div>\n",
              "<style scoped>\n",
              "    .dataframe tbody tr th:only-of-type {\n",
              "        vertical-align: middle;\n",
              "    }\n",
              "\n",
              "    .dataframe tbody tr th {\n",
              "        vertical-align: top;\n",
              "    }\n",
              "\n",
              "    .dataframe thead th {\n",
              "        text-align: right;\n",
              "    }\n",
              "</style>\n",
              "<table border=\"1\" class=\"dataframe\">\n",
              "  <thead>\n",
              "    <tr style=\"text-align: right;\">\n",
              "      <th></th>\n",
              "      <th>0</th>\n",
              "      <th>1</th>\n",
              "      <th>2</th>\n",
              "      <th>3</th>\n",
              "      <th>4</th>\n",
              "      <th>5</th>\n",
              "      <th>6</th>\n",
              "      <th>7</th>\n",
              "      <th>8</th>\n",
              "      <th>9</th>\n",
              "      <th>...</th>\n",
              "      <th>90</th>\n",
              "      <th>91</th>\n",
              "      <th>92</th>\n",
              "      <th>93</th>\n",
              "      <th>94</th>\n",
              "      <th>95</th>\n",
              "      <th>96</th>\n",
              "      <th>97</th>\n",
              "      <th>98</th>\n",
              "      <th>99</th>\n",
              "    </tr>\n",
              "  </thead>\n",
              "  <tbody>\n",
              "  </tbody>\n",
              "</table>\n",
              "<p>0 rows × 100 columns</p>\n",
              "</div>\n",
              "    <div class=\"colab-df-buttons\">\n",
              "\n",
              "  <div class=\"colab-df-container\">\n",
              "    <button class=\"colab-df-convert\" onclick=\"convertToInteractive('df-3449f409-aef5-4cf0-b390-ec3932eaeb26')\"\n",
              "            title=\"Convert this dataframe to an interactive table.\"\n",
              "            style=\"display:none;\">\n",
              "\n",
              "  <svg xmlns=\"http://www.w3.org/2000/svg\" height=\"24px\" viewBox=\"0 -960 960 960\">\n",
              "    <path d=\"M120-120v-720h720v720H120Zm60-500h600v-160H180v160Zm220 220h160v-160H400v160Zm0 220h160v-160H400v160ZM180-400h160v-160H180v160Zm440 0h160v-160H620v160ZM180-180h160v-160H180v160Zm440 0h160v-160H620v160Z\"/>\n",
              "  </svg>\n",
              "    </button>\n",
              "\n",
              "  <style>\n",
              "    .colab-df-container {\n",
              "      display:flex;\n",
              "      gap: 12px;\n",
              "    }\n",
              "\n",
              "    .colab-df-convert {\n",
              "      background-color: #E8F0FE;\n",
              "      border: none;\n",
              "      border-radius: 50%;\n",
              "      cursor: pointer;\n",
              "      display: none;\n",
              "      fill: #1967D2;\n",
              "      height: 32px;\n",
              "      padding: 0 0 0 0;\n",
              "      width: 32px;\n",
              "    }\n",
              "\n",
              "    .colab-df-convert:hover {\n",
              "      background-color: #E2EBFA;\n",
              "      box-shadow: 0px 1px 2px rgba(60, 64, 67, 0.3), 0px 1px 3px 1px rgba(60, 64, 67, 0.15);\n",
              "      fill: #174EA6;\n",
              "    }\n",
              "\n",
              "    .colab-df-buttons div {\n",
              "      margin-bottom: 4px;\n",
              "    }\n",
              "\n",
              "    [theme=dark] .colab-df-convert {\n",
              "      background-color: #3B4455;\n",
              "      fill: #D2E3FC;\n",
              "    }\n",
              "\n",
              "    [theme=dark] .colab-df-convert:hover {\n",
              "      background-color: #434B5C;\n",
              "      box-shadow: 0px 1px 3px 1px rgba(0, 0, 0, 0.15);\n",
              "      filter: drop-shadow(0px 1px 2px rgba(0, 0, 0, 0.3));\n",
              "      fill: #FFFFFF;\n",
              "    }\n",
              "  </style>\n",
              "\n",
              "    <script>\n",
              "      const buttonEl =\n",
              "        document.querySelector('#df-3449f409-aef5-4cf0-b390-ec3932eaeb26 button.colab-df-convert');\n",
              "      buttonEl.style.display =\n",
              "        google.colab.kernel.accessAllowed ? 'block' : 'none';\n",
              "\n",
              "      async function convertToInteractive(key) {\n",
              "        const element = document.querySelector('#df-3449f409-aef5-4cf0-b390-ec3932eaeb26');\n",
              "        const dataTable =\n",
              "          await google.colab.kernel.invokeFunction('convertToInteractive',\n",
              "                                                    [key], {});\n",
              "        if (!dataTable) return;\n",
              "\n",
              "        const docLinkHtml = 'Like what you see? Visit the ' +\n",
              "          '<a target=\"_blank\" href=https://colab.research.google.com/notebooks/data_table.ipynb>data table notebook</a>'\n",
              "          + ' to learn more about interactive tables.';\n",
              "        element.innerHTML = '';\n",
              "        dataTable['output_type'] = 'display_data';\n",
              "        await google.colab.output.renderOutput(dataTable, element);\n",
              "        const docLink = document.createElement('div');\n",
              "        docLink.innerHTML = docLinkHtml;\n",
              "        element.appendChild(docLink);\n",
              "      }\n",
              "    </script>\n",
              "  </div>\n",
              "\n",
              "\n",
              "    </div>\n",
              "  </div>\n"
            ]
          },
          "metadata": {},
          "execution_count": 25
        }
      ],
      "source": [
        "train_bow_df = pd.DataFrame(train_bow.todense())\n",
        "test_bow_df = pd.DataFrame(test_bow.todense())\n",
        "train_bow_df.head(0)"
      ]
    },
    {
      "cell_type": "code",
      "source": [
        "# Check if the word \"your\" is in datapoint 0\n",
        "word_index = string_vectorizer.vocabulary_.get(\"your\", -1)\n",
        "if word_index != -1:\n",
        "    is_word_in_datapoint_0 = train_bow_df.iloc[0, word_index] == 1\n",
        "    print(\"Is the word 'your' in datapoint 0?\", is_word_in_datapoint_0)\n",
        "else:\n",
        "    print(\"The word 'your' is not present in the vocabulary.\")\n"
      ],
      "metadata": {
        "colab": {
          "base_uri": "https://localhost:8080/"
        },
        "id": "rHoBLWRcuORQ",
        "outputId": "2e8a4e93-83f8-4a17-9a0e-a72ac334f6d4"
      },
      "execution_count": null,
      "outputs": [
        {
          "output_type": "stream",
          "name": "stdout",
          "text": [
            "Is the word 'your' in datapoint 0? True\n"
          ]
        }
      ]
    },
    {
      "cell_type": "markdown",
      "metadata": {
        "id": "CETVjbOYlifu"
      },
      "source": [
        "Note that this new dataset only contains the frequency counts for those 100 words. But we'd also like it to have the other features we've been using too. So we will join together a dataset with all those features."
      ]
    },
    {
      "cell_type": "code",
      "execution_count": null,
      "metadata": {
        "id": "qsRRHP8Tlkfe",
        "colab": {
          "base_uri": "https://localhost:8080/"
        },
        "outputId": "dc01cafa-12d5-49bb-aa76-412c3d724271"
      },
      "outputs": [
        {
          "output_type": "stream",
          "name": "stdout",
          "text": [
            "<class 'pandas.core.frame.DataFrame'>\n",
            "Int64Index: 6655 entries, 5654 to 7143\n",
            "Columns: 108 entries, alchemy_category_score to 99\n",
            "dtypes: float64(103), int64(3), object(2)\n",
            "memory usage: 5.8+ MB\n"
          ]
        }
      ],
      "source": [
        "feat = [\"alchemy_category_score\", \"alchemy_category\", \"linkwordscore\", \"news_front_page\", \"boilerplate\",\n",
        "                          \"spelling_errors_ratio\", \"numberOfLinks\", \"numwords_in_url\"]\n",
        "\n",
        "\n",
        "# string_vectors = string_vectorizer.transform(dataset[\"boilerplate\"])\n",
        "# dataset_word_vectors = pd.DataFrame(string_vectors.todense())\n",
        "\n",
        "dataset_bow_and_feat_train = train[feat].join(pd.DataFrame(train_bow_df, index= train.index))\n",
        "dataset_bow_and_feat_test = test[feat].join(pd.DataFrame(test_bow_df, index= train.index))\n",
        "dataset_bow_and_feat_train.info()"
      ]
    },
    {
      "cell_type": "code",
      "execution_count": null,
      "metadata": {
        "id": "XRl4a5LPlmZv",
        "colab": {
          "base_uri": "https://localhost:8080/"
        },
        "outputId": "e49bf492-ba76-4df1-824f-5ae16d27ed61"
      },
      "outputs": [
        {
          "output_type": "stream",
          "name": "stdout",
          "text": [
            "features: Index(['alchemy_category_score',       'alchemy_category',\n",
            "                'linkwordscore',        'news_front_page',\n",
            "                  'boilerplate',  'spelling_errors_ratio',\n",
            "                'numberOfLinks',        'numwords_in_url',\n",
            "                              0,                        1,\n",
            "       ...\n",
            "                             90,                       91,\n",
            "                             92,                       93,\n",
            "                             94,                       95,\n",
            "                             96,                       97,\n",
            "                             98,                       99],\n",
            "      dtype='object', length=108)\n"
          ]
        }
      ],
      "source": [
        "# we also need to add on the \"labels\" column\n",
        "dataset_word_feat_label = dataset_bow_and_feat_train.join(dataset[\"label\"])\n",
        "dataset_word_feat_test_label = dataset_bow_and_feat_test.join(dataset[\"label\"])\n",
        "\n",
        "# # instead of writing out all of the features again in a list, we can use the column names as our feat list.\n",
        "# # we exclude the label column though.\n",
        "print(\"features:\", dataset_word_feat_label.columns[:-1])"
      ]
    },
    {
      "cell_type": "markdown",
      "metadata": {
        "id": "3rAeyzf2lsgq"
      },
      "source": [
        "Finally we will run our Linear Regression model!"
      ]
    },
    {
      "cell_type": "code",
      "execution_count": null,
      "metadata": {
        "id": "-vGGFzBBlwdU",
        "colab": {
          "base_uri": "https://localhost:8080/"
        },
        "outputId": "f3a6f243-5023-4ab3-ee5d-9b3032da2d69"
      },
      "outputs": [
        {
          "output_type": "stream",
          "name": "stdout",
          "text": [
            "Logistic performance: 0.62353\n"
          ]
        }
      ],
      "source": [
        "# conduct a test of your model results with these new features\n",
        "feat = [\"alchemy_category_score\", \"linkwordscore\", \"news_front_page\",\n",
        "                          \"spelling_errors_ratio\", \"numberOfLinks\", \"numwords_in_url\"]\n",
        "# print(dataset_word_feat_label[feat])\n",
        "bow_log_reg_model = LogisticRegression()\n",
        "bow_log_reg_model.fit(dataset_bow_and_feat_train[feat], dataset_word_feat_label[\"label\"])\n",
        "\n",
        "# predict on validation data\n",
        "bow_log_reg_model_val = pd.Series(bow_log_reg_model.predict_proba(dataset_bow_and_feat_test[feat])[:,1])\n",
        "\n",
        "# auc score\n",
        "print(\"Logistic performance: \" + str(np.round(roc_auc_score(dataset_word_feat_test_label[\"label\"], bow_log_reg_model_val.values), 5)))\n"
      ]
    },
    {
      "cell_type": "markdown",
      "metadata": {
        "id": "ccZkKyAJmcwv"
      },
      "source": [
        "#### Inverse Document Frequency\n",
        "Notice that these words are not particularly useful since we don't expect the number of \"1\" in a document to be indicative of whether it is evergreen. Many documents have a lot of \"1\" in their text.\n",
        "\n",
        "Therefore, we will try a method that prioritizes words that are uncommon. Then we still count how many times that word appears for each datapoint. This is known as term frequency, inverse document frequency. We'll do this with 1000 words."
      ]
    },
    {
      "cell_type": "code",
      "execution_count": null,
      "metadata": {
        "id": "e-o22t9wpdG5",
        "colab": {
          "base_uri": "https://localhost:8080/",
          "height": 109
        },
        "outputId": "c74c1b3c-0ca6-488c-a525-6b615e9847b8"
      },
      "outputs": [
        {
          "output_type": "execute_result",
          "data": {
            "text/plain": [
              "TfidfVectorizer(max_features=1000, min_df=10, ngram_range=(1, 2), smooth_idf=1,\n",
              "                strip_accents='unicode', sublinear_tf=1,\n",
              "                token_pattern='\\\\w{1,}', use_idf=1)"
            ],
            "text/html": [
              "<style>#sk-container-id-2 {color: black;background-color: white;}#sk-container-id-2 pre{padding: 0;}#sk-container-id-2 div.sk-toggleable {background-color: white;}#sk-container-id-2 label.sk-toggleable__label {cursor: pointer;display: block;width: 100%;margin-bottom: 0;padding: 0.3em;box-sizing: border-box;text-align: center;}#sk-container-id-2 label.sk-toggleable__label-arrow:before {content: \"▸\";float: left;margin-right: 0.25em;color: #696969;}#sk-container-id-2 label.sk-toggleable__label-arrow:hover:before {color: black;}#sk-container-id-2 div.sk-estimator:hover label.sk-toggleable__label-arrow:before {color: black;}#sk-container-id-2 div.sk-toggleable__content {max-height: 0;max-width: 0;overflow: hidden;text-align: left;background-color: #f0f8ff;}#sk-container-id-2 div.sk-toggleable__content pre {margin: 0.2em;color: black;border-radius: 0.25em;background-color: #f0f8ff;}#sk-container-id-2 input.sk-toggleable__control:checked~div.sk-toggleable__content {max-height: 200px;max-width: 100%;overflow: auto;}#sk-container-id-2 input.sk-toggleable__control:checked~label.sk-toggleable__label-arrow:before {content: \"▾\";}#sk-container-id-2 div.sk-estimator input.sk-toggleable__control:checked~label.sk-toggleable__label {background-color: #d4ebff;}#sk-container-id-2 div.sk-label input.sk-toggleable__control:checked~label.sk-toggleable__label {background-color: #d4ebff;}#sk-container-id-2 input.sk-hidden--visually {border: 0;clip: rect(1px 1px 1px 1px);clip: rect(1px, 1px, 1px, 1px);height: 1px;margin: -1px;overflow: hidden;padding: 0;position: absolute;width: 1px;}#sk-container-id-2 div.sk-estimator {font-family: monospace;background-color: #f0f8ff;border: 1px dotted black;border-radius: 0.25em;box-sizing: border-box;margin-bottom: 0.5em;}#sk-container-id-2 div.sk-estimator:hover {background-color: #d4ebff;}#sk-container-id-2 div.sk-parallel-item::after {content: \"\";width: 100%;border-bottom: 1px solid gray;flex-grow: 1;}#sk-container-id-2 div.sk-label:hover label.sk-toggleable__label {background-color: #d4ebff;}#sk-container-id-2 div.sk-serial::before {content: \"\";position: absolute;border-left: 1px solid gray;box-sizing: border-box;top: 0;bottom: 0;left: 50%;z-index: 0;}#sk-container-id-2 div.sk-serial {display: flex;flex-direction: column;align-items: center;background-color: white;padding-right: 0.2em;padding-left: 0.2em;position: relative;}#sk-container-id-2 div.sk-item {position: relative;z-index: 1;}#sk-container-id-2 div.sk-parallel {display: flex;align-items: stretch;justify-content: center;background-color: white;position: relative;}#sk-container-id-2 div.sk-item::before, #sk-container-id-2 div.sk-parallel-item::before {content: \"\";position: absolute;border-left: 1px solid gray;box-sizing: border-box;top: 0;bottom: 0;left: 50%;z-index: -1;}#sk-container-id-2 div.sk-parallel-item {display: flex;flex-direction: column;z-index: 1;position: relative;background-color: white;}#sk-container-id-2 div.sk-parallel-item:first-child::after {align-self: flex-end;width: 50%;}#sk-container-id-2 div.sk-parallel-item:last-child::after {align-self: flex-start;width: 50%;}#sk-container-id-2 div.sk-parallel-item:only-child::after {width: 0;}#sk-container-id-2 div.sk-dashed-wrapped {border: 1px dashed gray;margin: 0 0.4em 0.5em 0.4em;box-sizing: border-box;padding-bottom: 0.4em;background-color: white;}#sk-container-id-2 div.sk-label label {font-family: monospace;font-weight: bold;display: inline-block;line-height: 1.2em;}#sk-container-id-2 div.sk-label-container {text-align: center;}#sk-container-id-2 div.sk-container {/* jupyter's `normalize.less` sets `[hidden] { display: none; }` but bootstrap.min.css set `[hidden] { display: none !important; }` so we also need the `!important` here to be able to override the default hidden behavior on the sphinx rendered scikit-learn.org. See: https://github.com/scikit-learn/scikit-learn/issues/21755 */display: inline-block !important;position: relative;}#sk-container-id-2 div.sk-text-repr-fallback {display: none;}</style><div id=\"sk-container-id-2\" class=\"sk-top-container\"><div class=\"sk-text-repr-fallback\"><pre>TfidfVectorizer(max_features=1000, min_df=10, ngram_range=(1, 2), smooth_idf=1,\n",
              "                strip_accents=&#x27;unicode&#x27;, sublinear_tf=1,\n",
              "                token_pattern=&#x27;\\\\w{1,}&#x27;, use_idf=1)</pre><b>In a Jupyter environment, please rerun this cell to show the HTML representation or trust the notebook. <br />On GitHub, the HTML representation is unable to render, please try loading this page with nbviewer.org.</b></div><div class=\"sk-container\" hidden><div class=\"sk-item\"><div class=\"sk-estimator sk-toggleable\"><input class=\"sk-toggleable__control sk-hidden--visually\" id=\"sk-estimator-id-2\" type=\"checkbox\" checked><label for=\"sk-estimator-id-2\" class=\"sk-toggleable__label sk-toggleable__label-arrow\">TfidfVectorizer</label><div class=\"sk-toggleable__content\"><pre>TfidfVectorizer(max_features=1000, min_df=10, ngram_range=(1, 2), smooth_idf=1,\n",
              "                strip_accents=&#x27;unicode&#x27;, sublinear_tf=1,\n",
              "                token_pattern=&#x27;\\\\w{1,}&#x27;, use_idf=1)</pre></div></div></div></div></div>"
            ]
          },
          "metadata": {},
          "execution_count": 31
        }
      ],
      "source": [
        "idf_dtm = TfidfVectorizer(min_df= 10,  max_features= 1000, strip_accents= \"unicode\",\n",
        "                          analyzer= \"word\", token_pattern= r\"\\w{1,}\", ngram_range=(1, 2),\n",
        "                          use_idf= 1, smooth_idf= 1, sublinear_tf= 1)\n",
        "train, test = train_test_split(dataset, test_size= 0.1, train_size= 0.9, random_state= 233)\n",
        "idf_dtm.fit(train[\"boilerplate\"])"
      ]
    },
    {
      "cell_type": "code",
      "execution_count": null,
      "metadata": {
        "id": "btPEPAObpkc7",
        "colab": {
          "base_uri": "https://localhost:8080/"
        },
        "outputId": "3b864f1e-b0fd-4f0c-8cf2-01e64130f2c0"
      },
      "outputs": [
        {
          "output_type": "execute_result",
          "data": {
            "text/plain": [
              "(7395, 1000)"
            ]
          },
          "metadata": {},
          "execution_count": 32
        }
      ],
      "source": [
        "dataset_idf_dtm = idf_dtm.transform(dataset[\"boilerplate\"])\n",
        "dataset_idf_dtm.shape"
      ]
    },
    {
      "cell_type": "code",
      "execution_count": null,
      "metadata": {
        "id": "9WW8MX_npqV3"
      },
      "outputs": [],
      "source": [
        "dataset_idf = pd.DataFrame(dataset_idf_dtm.todense())\n",
        "dataset_idf = dataset_idf.join(dataset[\"label\"])"
      ]
    },
    {
      "cell_type": "markdown",
      "metadata": {
        "id": "q-UXDUI0UNbq"
      },
      "source": [
        "Let's see what words are now used in the vocabulary! What types of words are common in this vocabulary and what kinds of sites might they relate to?"
      ]
    },
    {
      "cell_type": "code",
      "execution_count": null,
      "metadata": {
        "id": "vkxt-VnOr2WL",
        "colab": {
          "base_uri": "https://localhost:8080/"
        },
        "outputId": "ed6fbf7c-e7fb-441f-e347-2953e3002fa5"
      },
      "outputs": [
        {
          "output_type": "execute_result",
          "data": {
            "text/plain": [
              "{'title': 862,\n",
              " 'over': 623,\n",
              " '2': 22,\n",
              " 'of': 581,\n",
              " 'world': 973,\n",
              " 's': 708,\n",
              " 'body': 160,\n",
              " 'three': 855,\n",
              " 'and': 95,\n",
              " '4': 44,\n",
              " '000': 2,\n",
              " 'calories': 185,\n",
              " 'the': 817,\n",
              " 'is': 459,\n",
              " 'times': 860,\n",
              " 'more': 552,\n",
              " 'than': 808,\n",
              " 'a': 53,\n",
              " 'long': 510,\n",
              " 'in': 444,\n",
              " 'at': 123,\n",
              " '3': 40,\n",
              " 'most': 555,\n",
              " 'delicious': 257,\n",
              " 'candy': 192,\n",
              " 'each': 287,\n",
              " 'five': 328,\n",
              " 'inch': 450,\n",
              " 'it': 467,\n",
              " 'makes': 527,\n",
              " 'an': 94,\n",
              " 'amazing': 90,\n",
              " 'for': 336,\n",
              " 'now': 578,\n",
              " 'or': 611,\n",
              " 'later': 488,\n",
              " 'to': 863,\n",
              " 'its': 474,\n",
              " 'year': 977,\n",
              " 'life': 497,\n",
              " 'available': 127,\n",
              " 'flavor': 330,\n",
              " 'please': 657,\n",
              " 'note': 576,\n",
              " 'that': 810,\n",
              " 'food': 333,\n",
              " 'be': 140,\n",
              " '1': 5,\n",
              " '5': 47,\n",
              " 'thick': 845,\n",
              " 'weight': 938,\n",
              " 'are': 110,\n",
              " 'but': 173,\n",
              " 'they': 842,\n",
              " 're': 684,\n",
              " 'small': 749,\n",
              " 'when': 945,\n",
              " 'you': 982,\n",
              " 'really': 689,\n",
              " 'need': 563,\n",
              " 'get': 363,\n",
              " 'your': 996,\n",
              " 'there': 837,\n",
              " 'no': 573,\n",
              " 'into': 456,\n",
              " 'as': 117,\n",
              " 'i': 424,\n",
              " 'm': 520,\n",
              " 'sure': 788,\n",
              " 'll': 509,\n",
              " 'remember': 696,\n",
              " 'from': 349,\n",
              " 'with': 962,\n",
              " '0': 0,\n",
              " 'down': 280,\n",
              " 've': 914,\n",
              " 'got': 374,\n",
              " 'yourself': 999,\n",
              " 'regular': 694,\n",
              " 'two': 894,\n",
              " 'eat': 290,\n",
              " 'hands': 384,\n",
              " 'people': 639,\n",
              " 'like': 500,\n",
              " 'which': 951,\n",
              " 'on': 597,\n",
              " 'how': 417,\n",
              " 'if': 439,\n",
              " 'we': 935,\n",
              " 'keep': 480,\n",
              " 'mind': 544,\n",
              " 'has': 387,\n",
              " 'one': 603,\n",
              " 'so': 751,\n",
              " 'perfect': 643,\n",
              " 'guide': 379,\n",
              " 'large': 486,\n",
              " 'little': 506,\n",
              " 'face': 311,\n",
              " 'important': 443,\n",
              " 'know': 484,\n",
              " 'head': 396,\n",
              " 'same': 716,\n",
              " 'cake': 183,\n",
              " 'may': 532,\n",
              " 'actually': 70,\n",
              " 'quite': 682,\n",
              " 'here': 404,\n",
              " 'ingredients': 453,\n",
              " 'chocolate': 205,\n",
              " 'good': 372,\n",
              " 'can': 188,\n",
              " 'create': 241,\n",
              " 'party': 634,\n",
              " 'not': 575,\n",
              " 'going': 369,\n",
              " 'this': 849,\n",
              " 'very': 918,\n",
              " 'disease': 267,\n",
              " 'only': 608,\n",
              " 'any': 105,\n",
              " 'dessert': 259,\n",
              " 'simply': 740,\n",
              " 'enjoy': 298,\n",
              " 'below': 151,\n",
              " 'information': 452,\n",
              " 'fact': 312,\n",
              " 'healthy': 398,\n",
              " 'per': 641,\n",
              " 'size': 743,\n",
              " 'fat': 318,\n",
              " 'sugar': 784,\n",
              " 'natural': 562,\n",
              " 'red': 692,\n",
              " 'c': 182,\n",
              " 'apple': 108,\n",
              " '40': 46,\n",
              " 'green': 376,\n",
              " 'cut': 248,\n",
              " 'half': 382,\n",
              " 'will': 959,\n",
              " 'form': 341,\n",
              " 'new': 567,\n",
              " 'would': 974,\n",
              " 'real': 688,\n",
              " 'yes': 979,\n",
              " '100': 12,\n",
              " 'made': 521,\n",
              " 'have': 390,\n",
              " 'full': 355,\n",
              " 'them': 835,\n",
              " 'ready': 687,\n",
              " 'also': 87,\n",
              " 'stick': 772,\n",
              " 'last': 487,\n",
              " 'out': 618,\n",
              " 'heat': 400,\n",
              " 'isn': 465,\n",
              " 't': 792,\n",
              " 'enough': 299,\n",
              " 'check': 199,\n",
              " 'our': 617,\n",
              " 'several': 729,\n",
              " 'free': 344,\n",
              " 'source': 760,\n",
              " 'inside': 454,\n",
              " 'plastic': 655,\n",
              " 'bag': 132,\n",
              " 'white': 955,\n",
              " 'then': 836,\n",
              " 'put': 680,\n",
              " 'another': 104,\n",
              " 'box': 166,\n",
              " 'house': 416,\n",
              " 'big': 155,\n",
              " 'video': 920,\n",
              " '27': 39,\n",
              " 'url': 906,\n",
              " 'the world': 833,\n",
              " 'is the': 463,\n",
              " 'the most': 822,\n",
              " 'and a': 96,\n",
              " 'in the': 447,\n",
              " 'they re': 844,\n",
              " 'when you': 948,\n",
              " 'need to': 564,\n",
              " 'to get': 869,\n",
              " 'there is': 839,\n",
              " 'for the': 338,\n",
              " 'it is': 469,\n",
              " 'to be': 865,\n",
              " 'i m': 431,\n",
              " 'you ll': 988,\n",
              " 'of a': 582,\n",
              " 'with a': 963,\n",
              " 'and you': 103,\n",
              " 'you ve': 993,\n",
              " 'there are': 838,\n",
              " 'with your': 965,\n",
              " '1 2': 7,\n",
              " 'like a': 501,\n",
              " 'on your': 601,\n",
              " 'you re': 991,\n",
              " 'if you': 440,\n",
              " 'that the': 815,\n",
              " 'has a': 388,\n",
              " 'there s': 840,\n",
              " 'as a': 118,\n",
              " 'it s': 470,\n",
              " 'on the': 599,\n",
              " 'the same': 829,\n",
              " 'on a': 598,\n",
              " 'but it': 175,\n",
              " 'are the': 112,\n",
              " 'with the': 964,\n",
              " 'you can': 984,\n",
              " 'a small': 62,\n",
              " 'we re': 936,\n",
              " 'going to': 370,\n",
              " 'is not': 461,\n",
              " 'for you': 339,\n",
              " 'from a': 350,\n",
              " 'is a': 460,\n",
              " 'would be': 975,\n",
              " 'have a': 391,\n",
              " 'out of': 619,\n",
              " 'isn t': 466,\n",
              " 'it to': 471,\n",
              " 'to your': 878,\n",
              " 'out the': 620,\n",
              " 'cool': 233,\n",
              " 'cookies': 231,\n",
              " 'recipe': 690,\n",
              " 'com': 216,\n",
              " 'light': 498,\n",
              " 'easy': 288,\n",
              " 'lemon': 494,\n",
              " 'mix': 548,\n",
              " 'left': 493,\n",
              " 'center': 197,\n",
              " 'might': 542,\n",
              " 'soft': 754,\n",
              " 'peanut': 637,\n",
              " 'butter': 177,\n",
              " 'by': 180,\n",
              " 'april': 109,\n",
              " '2009': 30,\n",
              " 'always': 88,\n",
              " 'make': 522,\n",
              " 'these': 841,\n",
              " 'oz': 626,\n",
              " 'cream': 238,\n",
              " 'cheese': 200,\n",
              " 'eggs': 293,\n",
              " 'preheat': 671,\n",
              " 'oven': 621,\n",
              " 'place': 654,\n",
              " 'bowl': 165,\n",
              " 'beat': 143,\n",
              " 'mixer': 549,\n",
              " 'low': 518,\n",
              " 'speed': 762,\n",
              " 'medium': 539,\n",
              " 'until': 901,\n",
              " 'mixture': 550,\n",
              " 'away': 128,\n",
              " 'side': 737,\n",
              " 'dough': 279,\n",
              " 'baking': 135,\n",
              " 'ball': 136,\n",
              " 'bake': 133,\n",
              " '7': 50,\n",
              " '8': 51,\n",
              " 'just': 479,\n",
              " 'set': 728,\n",
              " 'do': 269,\n",
              " 'sheet': 732,\n",
              " 'remove': 697,\n",
              " 'completely': 224,\n",
              " 'about': 65,\n",
              " 'daily': 250,\n",
              " 'peanut butter': 638,\n",
              " 'this recipe': 851,\n",
              " 'to make': 874,\n",
              " 'easy to': 289,\n",
              " 'cream cheese': 239,\n",
              " 'oven to': 622,\n",
              " 'or until': 613,\n",
              " 'do not': 270,\n",
              " 'technology': 805,\n",
              " 'own': 625,\n",
              " 'pictures': 649,\n",
              " 'take': 796,\n",
              " 'go': 368,\n",
              " 'first': 326,\n",
              " 'called': 184,\n",
              " 'best': 152,\n",
              " 'image': 441,\n",
              " 'without': 966,\n",
              " 'story': 777,\n",
              " 'high': 406,\n",
              " 'number': 579,\n",
              " 'day': 253,\n",
              " 'combined': 218,\n",
              " 'around': 113,\n",
              " 'point': 660,\n",
              " 'stop': 775,\n",
              " 'used': 910,\n",
              " 'game': 360,\n",
              " 'company': 223,\n",
              " 'version': 917,\n",
              " 'said': 712,\n",
              " 'after': 74,\n",
              " 'their': 834,\n",
              " 'were': 942,\n",
              " 'using': 911,\n",
              " 'special': 761,\n",
              " 'between': 154,\n",
              " 'images': 442,\n",
              " 'something': 758,\n",
              " 'back': 129,\n",
              " 'he': 395,\n",
              " 'added': 73,\n",
              " 'could': 235,\n",
              " 'follow': 332,\n",
              " 'live': 507,\n",
              " 'photos': 647,\n",
              " 'the first': 821,\n",
              " 'by the': 181,\n",
              " 'the best': 818,\n",
              " 'from the': 351,\n",
              " 'in a': 445,\n",
              " 'or a': 612,\n",
              " 'of the': 585,\n",
              " 'can be': 189,\n",
              " 'around the': 114,\n",
              " 'to the': 876,\n",
              " 'about the': 66,\n",
              " 'will be': 960,\n",
              " 'what': 943,\n",
              " 'news': 569,\n",
              " 'does': 272,\n",
              " 'share': 730,\n",
              " 'too': 883,\n",
              " 'tell': 806,\n",
              " 'someone': 757,\n",
              " 'kind': 482,\n",
              " 'looking': 513,\n",
              " 'men': 541,\n",
              " 'who': 956,\n",
              " 'almost': 84,\n",
              " 'both': 163,\n",
              " 'his': 408,\n",
              " 'find': 324,\n",
              " 'him': 407,\n",
              " 'before': 149,\n",
              " 'off': 589,\n",
              " 'night': 572,\n",
              " 'family': 314,\n",
              " 'home': 410,\n",
              " 'fall': 313,\n",
              " 'show': 735,\n",
              " 'been': 148,\n",
              " 'comes': 220,\n",
              " 'was': 928,\n",
              " 'living': 508,\n",
              " 'while': 953,\n",
              " 'every': 303,\n",
              " 'turn': 892,\n",
              " 'think': 848,\n",
              " 'that you': 816,\n",
              " 'to have': 871,\n",
              " 'into the': 458,\n",
              " 'at the': 126,\n",
              " 'be a': 141,\n",
              " 'have been': 392,\n",
              " 'and the': 101,\n",
              " 'to keep': 873,\n",
              " 'do you': 271,\n",
              " 'week': 937,\n",
              " 'design': 258,\n",
              " 'love': 517,\n",
              " 'all': 80,\n",
              " 'making': 528,\n",
              " 'us': 907,\n",
              " 'pour': 668,\n",
              " '2012': 33,\n",
              " '08': 3,\n",
              " 'html': 420,\n",
              " 'all the': 82,\n",
              " 'strawberry': 778,\n",
              " 'french': 345,\n",
              " 'teaspoon': 803,\n",
              " 'tablespoons': 795,\n",
              " 'cups': 247,\n",
              " 'egg': 292,\n",
              " 'add': 71,\n",
              " 'minutes': 546,\n",
              " 'sandwich': 717,\n",
              " 'some': 755,\n",
              " 'top': 885,\n",
              " 'honey': 412,\n",
              " 'try': 889,\n",
              " 'recipes': 691,\n",
              " 'make the': 526,\n",
              " 'and more': 99,\n",
              " 'you to': 992,\n",
              " 'since': 741,\n",
              " 'up': 903,\n",
              " 'style': 781,\n",
              " 'smooth': 750,\n",
              " 'air': 79,\n",
              " 'well': 939,\n",
              " 'step': 771,\n",
              " 'health': 397,\n",
              " 'black': 157,\n",
              " 'women': 967,\n",
              " 'less': 495,\n",
              " '2011': 32,\n",
              " '09': 4,\n",
              " 'up to': 905,\n",
              " 'to do': 866,\n",
              " 'even': 301,\n",
              " 'better': 153,\n",
              " 'because': 145,\n",
              " 'use': 908,\n",
              " '22': 35,\n",
              " '10': 10,\n",
              " 'room': 706,\n",
              " 'stir': 774,\n",
              " 'spoon': 763,\n",
              " 'help': 402,\n",
              " 'together': 880,\n",
              " 'roll': 705,\n",
              " 'paper': 631,\n",
              " 'cookie': 230,\n",
              " 'few': 322,\n",
              " 'melted': 540,\n",
              " 'dip': 266,\n",
              " 'extra': 307,\n",
              " 'aside': 122,\n",
              " 'dry': 284,\n",
              " 'see': 725,\n",
              " 'picture': 648,\n",
              " 'course': 236,\n",
              " 'lot': 515,\n",
              " 'had': 380,\n",
              " 'found': 342,\n",
              " 'let': 496,\n",
              " 'other': 615,\n",
              " 'again': 75,\n",
              " 'especially': 300,\n",
              " 'second': 724,\n",
              " 'still': 773,\n",
              " 'press': 672,\n",
              " 'color': 215,\n",
              " '2006': 27,\n",
              " 'rest': 699,\n",
              " 'link': 504,\n",
              " 'online': 607,\n",
              " 'yet': 980,\n",
              " 'tips': 861,\n",
              " 'a little': 59,\n",
              " 'a large': 58,\n",
              " 'to help': 872,\n",
              " 'for a': 337,\n",
              " 'a few': 55,\n",
              " 'and then': 102,\n",
              " 'use a': 909,\n",
              " 'of course': 583,\n",
              " 'a lot': 60,\n",
              " 'i had': 428,\n",
              " 'the other': 825,\n",
              " 'the top': 831,\n",
              " 'top of': 886,\n",
              " 'of your': 588,\n",
              " 'i used': 433,\n",
              " 'i can': 426,\n",
              " 'can t': 190,\n",
              " 'here s': 405,\n",
              " 's a': 709,\n",
              " 'amount': 92,\n",
              " 'tsp': 891,\n",
              " 'cinnamon': 207,\n",
              " 'plus': 658,\n",
              " 'powder': 669,\n",
              " 'soda': 753,\n",
              " 'chicken': 202,\n",
              " 'bread': 168,\n",
              " 'beef': 147,\n",
              " 'water': 931,\n",
              " 'salt': 714,\n",
              " 'vegetable': 915,\n",
              " 'oil': 593,\n",
              " 'juice': 477,\n",
              " 'vinegar': 922,\n",
              " 'milk': 543,\n",
              " 'chips': 204,\n",
              " 'soup': 759,\n",
              " 'golden': 371,\n",
              " 'corn': 234,\n",
              " 'heavy': 401,\n",
              " 'frozen': 353,\n",
              " 'whole': 957,\n",
              " 'flour': 331,\n",
              " 'purpose': 679,\n",
              " 'garlic': 362,\n",
              " 'reduce': 693,\n",
              " 'chopped': 206,\n",
              " 'fresh': 346,\n",
              " 'ground': 378,\n",
              " 'dried': 282,\n",
              " 'onion': 605,\n",
              " 'hot': 413,\n",
              " 'sauce': 718,\n",
              " 'pepper': 640,\n",
              " 'tomato': 881,\n",
              " 'wine': 961,\n",
              " 'extract': 308,\n",
              " 'rice': 701,\n",
              " 'brown': 172,\n",
              " 'onions': 606,\n",
              " 'orange': 614,\n",
              " 'fruit': 354,\n",
              " 'boil': 161,\n",
              " 'cook': 228,\n",
              " '20': 26,\n",
              " 'cooking': 232,\n",
              " '1 4': 8,\n",
              " '1 1': 6,\n",
              " '3 4': 41,\n",
              " 'her': 403,\n",
              " 'man': 529,\n",
              " 'she': 731,\n",
              " 'thought': 854,\n",
              " 'read': 685,\n",
              " 'e': 286,\n",
              " 'season': 723,\n",
              " 'become': 146,\n",
              " 'fashion': 316,\n",
              " 'takes': 797,\n",
              " 'says': 720,\n",
              " 'cover': 237,\n",
              " '17': 19,\n",
              " 'drink': 283,\n",
              " 'page': 628,\n",
              " 'photo': 646,\n",
              " 'content': 225,\n",
              " 'oh': 592,\n",
              " 'years': 978,\n",
              " 'ago': 78,\n",
              " 'started': 768,\n",
              " 'wanted': 926,\n",
              " 'meat': 537,\n",
              " 'many': 530,\n",
              " 'must': 558,\n",
              " 'bacon': 130,\n",
              " 'where': 949,\n",
              " 'march': 531,\n",
              " 'through': 856,\n",
              " 'kitchen': 483,\n",
              " 'having': 394,\n",
              " 'list': 505,\n",
              " 'york': 981,\n",
              " 'd': 249,\n",
              " 'right': 703,\n",
              " 'part': 632,\n",
              " 'time': 858,\n",
              " 'school': 721,\n",
              " 'against': 76,\n",
              " 'bit': 156,\n",
              " 'vegetables': 916,\n",
              " 'along': 85,\n",
              " 'true': 888,\n",
              " 'dish': 268,\n",
              " 'potatoes': 667,\n",
              " 'cooked': 229,\n",
              " 'way': 932,\n",
              " 'p': 627,\n",
              " '14': 16,\n",
              " 'buy': 179,\n",
              " 'city': 208,\n",
              " 'fried': 347,\n",
              " 'skin': 744,\n",
              " 'never': 566,\n",
              " 'creamy': 240,\n",
              " 'rich': 702,\n",
              " 'far': 315,\n",
              " 'grilled': 377,\n",
              " 'taste': 799,\n",
              " 'much': 557,\n",
              " 'fun': 356,\n",
              " 'why': 958,\n",
              " 'slice': 746,\n",
              " 'work': 970,\n",
              " 'to eat': 867,\n",
              " 'some of': 756,\n",
              " 'this is': 850,\n",
              " 'through the': 857,\n",
              " 'was a': 929,\n",
              " 'new york': 568,\n",
              " 'one of': 604,\n",
              " 'of these': 586,\n",
              " 'a bit': 54,\n",
              " 'are a': 111,\n",
              " 'but the': 176,\n",
              " 'way to': 933,\n",
              " 'to a': 864,\n",
              " 'to go': 870,\n",
              " 'off the': 590,\n",
              " 'make it': 524,\n",
              " 'that it': 813,\n",
              " 'that s': 814,\n",
              " 'butter and': 178,\n",
              " 'as well': 120,\n",
              " 'more than': 553,\n",
              " 'article': 116,\n",
              " 'should': 733,\n",
              " 'breakfast': 170,\n",
              " 'posted': 664,\n",
              " 'means': 536,\n",
              " 'non': 574,\n",
              " 'came': 186,\n",
              " 'my': 559,\n",
              " 'didn': 261,\n",
              " 'learn': 490,\n",
              " 'anything': 106,\n",
              " 'nothing': 577,\n",
              " 'me': 534,\n",
              " 'onto': 609,\n",
              " 'say': 719,\n",
              " 'end': 296,\n",
              " 'today': 879,\n",
              " 'ever': 302,\n",
              " 'start': 767,\n",
              " 'taking': 798,\n",
              " 'sweet': 789,\n",
              " 'layer': 489,\n",
              " 'bottom': 164,\n",
              " 'teaspoons': 804,\n",
              " 'combine': 217,\n",
              " 'cup': 243,\n",
              " 'pan': 630,\n",
              " 'under': 899,\n",
              " 'did': 260,\n",
              " 'lightly': 499,\n",
              " 'either': 294,\n",
              " 'stuff': 780,\n",
              " 'everything': 305,\n",
              " 'beautiful': 144,\n",
              " '350': 43,\n",
              " '25': 38,\n",
              " 'nice': 571,\n",
              " 'simple': 739,\n",
              " 'don': 276,\n",
              " 'give': 367,\n",
              " '30': 42,\n",
              " 'want': 924,\n",
              " 'sprinkle': 766,\n",
              " 'crust': 242,\n",
              " 'won': 968,\n",
              " 'type': 895,\n",
              " 'serving': 727,\n",
              " 'look': 512,\n",
              " 'store': 776,\n",
              " 'warm': 927,\n",
              " 'feel': 321,\n",
              " '12': 14,\n",
              " 'u00bd': 897,\n",
              " 'degrees': 256,\n",
              " 'different': 264,\n",
              " 'remaining': 695,\n",
              " 'baked': 134,\n",
              " '19': 21,\n",
              " '2007': 28,\n",
              " 'the recipe': 828,\n",
              " 'that i': 811,\n",
              " 'didn t': 262,\n",
              " 'i was': 435,\n",
              " 'and i': 97,\n",
              " 'i ve': 434,\n",
              " 'amount of': 93,\n",
              " 'your own': 998,\n",
              " 'time to': 859,\n",
              " 'salt and': 715,\n",
              " 'cup of': 244,\n",
              " '1 cup': 9,\n",
              " 'minutes or': 547,\n",
              " 'but i': 174,\n",
              " 'you know': 987,\n",
              " '2 cups': 24,\n",
              " 'don t': 277,\n",
              " 'a good': 56,\n",
              " 'you want': 994,\n",
              " 'has been': 389,\n",
              " 'what you': 944,\n",
              " 'you have': 986,\n",
              " 'have to': 393,\n",
              " 'you need': 990,\n",
              " 'won t': 969,\n",
              " 'it will': 473,\n",
              " 'make sure': 525,\n",
              " 'as you': 121,\n",
              " 'sugar and': 785,\n",
              " 'co': 211,\n",
              " 'uk': 898,\n",
              " 'line': 503,\n",
              " 'already': 86,\n",
              " 'idea': 438,\n",
              " 'trying': 890,\n",
              " 'videos': 921,\n",
              " 'should be': 734,\n",
              " 'that is': 812,\n",
              " 'i love': 430,\n",
              " 'i have': 429,\n",
              " '9': 52,\n",
              " 'sports': 764,\n",
              " 'play': 656,\n",
              " 'those': 852,\n",
              " 'everyone': 304,\n",
              " 'care': 194,\n",
              " 'personal': 645,\n",
              " 'f': 310,\n",
              " 'else': 295,\n",
              " 'favorite': 319,\n",
              " 'open': 610,\n",
              " 'bad': 131,\n",
              " 'until the': 902,\n",
              " 'when the': 947,\n",
              " 'you don': 985,\n",
              " 'july': 478,\n",
              " 'least': 491,\n",
              " 'american': 91,\n",
              " 'continue': 226,\n",
              " 'reading': 686,\n",
              " 'control': 227,\n",
              " 'state': 769,\n",
              " 'according': 68,\n",
              " '24': 37,\n",
              " 'human': 423,\n",
              " 'based': 138,\n",
              " 'run': 707,\n",
              " 'blood': 159,\n",
              " 'being': 150,\n",
              " 'done': 278,\n",
              " 'come': 219,\n",
              " 'others': 616,\n",
              " 'spread': 765,\n",
              " 'including': 451,\n",
              " 'however': 419,\n",
              " 'power': 670,\n",
              " 'next': 570,\n",
              " 'at least': 125,\n",
              " 'according to': 69,\n",
              " 'they are': 843,\n",
              " 'lot of': 516,\n",
              " 'at a': 124,\n",
              " 'as the': 119,\n",
              " 'up the': 904,\n",
              " 'great': 375,\n",
              " 'days': 254,\n",
              " 'once': 602,\n",
              " 'probably': 674,\n",
              " 'history': 409,\n",
              " 'games': 361,\n",
              " 'able': 63,\n",
              " '2010': 31,\n",
              " 'team': 802,\n",
              " 'known': 485,\n",
              " 'took': 884,\n",
              " '2008': 29,\n",
              " '6': 49,\n",
              " 'ice': 436,\n",
              " '15': 17,\n",
              " 'january': 475,\n",
              " '13': 15,\n",
              " 'things': 847,\n",
              " 'during': 285,\n",
              " 'super': 787,\n",
              " '16': 18,\n",
              " 'went': 941,\n",
              " 'instead': 455,\n",
              " '11': 13,\n",
              " 'football': 335,\n",
              " 'though': 853,\n",
              " 'name': 561,\n",
              " 'ways': 934,\n",
              " '18': 20,\n",
              " 'old': 594,\n",
              " '21': 34,\n",
              " '23': 36,\n",
              " 'needed': 565,\n",
              " 'working': 971,\n",
              " 'february': 320,\n",
              " 'over the': 624,\n",
              " 'it was': 472,\n",
              " 'a great': 57,\n",
              " 'and it': 98,\n",
              " 'well as': 940,\n",
              " 'is that': 462,\n",
              " 'able to': 64,\n",
              " 'into a': 457,\n",
              " 'all of': 81,\n",
              " 'the time': 830,\n",
              " 'most of': 556,\n",
              " 'the new': 823,\n",
              " 'part of': 633,\n",
              " 'of this': 587,\n",
              " 'the next': 824,\n",
              " 'a new': 61,\n",
              " 'whether': 950,\n",
              " 'click': 210,\n",
              " 'four': 343,\n",
              " 'to see': 875,\n",
              " 'you will': 995,\n",
              " 'swimsuit': 790,\n",
              " 'si': 736,\n",
              " 'friends': 348,\n",
              " 'u': 896,\n",
              " 'and other': 100,\n",
              " 'http': 421,\n",
              " 'jpg': 476,\n",
              " 'doesn': 273,\n",
              " 'cold': 214,\n",
              " 'cheesecake': 201,\n",
              " 'vanilla': 913,\n",
              " 'bars': 137,\n",
              " 'serve': 726,\n",
              " 'doesn t': 274,\n",
              " 'you may': 989,\n",
              " 'may be': 533,\n",
              " 'in this': 448,\n",
              " 'fine': 325,\n",
              " 'cupcake': 245,\n",
              " 'batter': 139,\n",
              " 'whisk': 954,\n",
              " 'slightly': 748,\n",
              " 'clean': 209,\n",
              " 'sides': 738,\n",
              " 'g': 359,\n",
              " 'protein': 677,\n",
              " 'temperature': 807,\n",
              " '2 cup': 23,\n",
              " '4 cup': 45,\n",
              " 'ice cream': 437,\n",
              " 'homemade': 411,\n",
              " 'am': 89,\n",
              " 'pretty': 673,\n",
              " 'hour': 414,\n",
              " 'allow': 83,\n",
              " 'eating': 291,\n",
              " 'comments': 222,\n",
              " 'i am': 425,\n",
              " 'which is': 952,\n",
              " '2 tablespoons': 25,\n",
              " 'add the': 72,\n",
              " 'how to': 418,\n",
              " 'art': 115,\n",
              " 'blog': 158,\n",
              " 'case': 195,\n",
              " 'fish': 327,\n",
              " 'pm': 659,\n",
              " 'hard': 386,\n",
              " 'hand': 383,\n",
              " 'longer': 511,\n",
              " 'minute': 545,\n",
              " 'twitter': 893,\n",
              " 'eye': 309,\n",
              " 'dinner': 265,\n",
              " 'tablespoon': 794,\n",
              " 'pot': 665,\n",
              " 'so i': 752,\n",
              " 'to find': 868,\n",
              " 'i think': 432,\n",
              " 'the pan': 827,\n",
              " 'the oven': 826,\n",
              " 'www': 976,\n",
              " 'funny': 357,\n",
              " 'pumpkin': 678,\n",
              " 'pie': 650,\n",
              " 'comment': 221,\n",
              " 'thing': 846,\n",
              " 'piece': 651,\n",
              " 'bring': 171,\n",
              " 'pastry': 636,\n",
              " 'usually': 912,\n",
              " 'possible': 662,\n",
              " 'doing': 275,\n",
              " 'is to': 464,\n",
              " 'the dough': 820,\n",
              " 'you are': 983,\n",
              " 'the way': 832,\n",
              " 'children': 203,\n",
              " 'slices': 747,\n",
              " 'olive': 595,\n",
              " 'olive oil': 596,\n",
              " 'site': 742,\n",
              " 'gets': 364,\n",
              " 'via': 919,\n",
              " 'future': 358,\n",
              " 'thanks': 809,\n",
              " 'products': 676,\n",
              " 'sleep': 745,\n",
              " 'research': 698,\n",
              " 'hours': 415,\n",
              " 'post': 663,\n",
              " 'book': 162,\n",
              " 'pain': 629,\n",
              " 'n': 560,\n",
              " 'diet': 263,\n",
              " 'nutrition': 580,\n",
              " 'person': 644,\n",
              " 'cause': 196,\n",
              " 'foods': 334,\n",
              " 'such': 782,\n",
              " 'above': 67,\n",
              " 'results': 700,\n",
              " 'your body': 997,\n",
              " 'want to': 925,\n",
              " 'such as': 783,\n",
              " 's the': 711,\n",
              " 'data': 252,\n",
              " 'works': 972,\n",
              " 'university': 900,\n",
              " 'fast': 317,\n",
              " 'medical': 538,\n",
              " 'system': 791,\n",
              " 'energy': 297,\n",
              " 'popular': 661,\n",
              " 'filling': 323,\n",
              " 'potato': 666,\n",
              " 'meal': 535,\n",
              " 'salad': 713,\n",
              " 'summer': 786,\n",
              " 'lower': 519,\n",
              " 'pieces': 652,\n",
              " '50': 48,\n",
              " 'watch': 930,\n",
              " 'when i': 946,\n",
              " 'of my': 584,\n",
              " '10 minutes': 11,\n",
              " 'in my': 446,\n",
              " 'heart': 399,\n",
              " 'study': 779,\n",
              " 'i don': 427,\n",
              " 'in your': 449,\n",
              " 'looks': 514,\n",
              " 'http www': 422,\n",
              " 'morning': 554,\n",
              " 'to use': 877,\n",
              " 'it in': 468,\n",
              " 'like to': 502,\n",
              " 'make a': 523,\n",
              " 'quick': 681,\n",
              " 'cupcakes': 246,\n",
              " 'kids': 481,\n",
              " 'pasta': 635,\n",
              " 'process': 675,\n",
              " 'the bottom': 819,\n",
              " 'caramel': 193,\n",
              " 'coffee': 213,\n",
              " 'dark': 251,\n",
              " 'on top': 600,\n",
              " 'campaign': 187,\n",
              " 's not': 710,\n",
              " 'risk': 704,\n",
              " 'percent': 642,\n",
              " 'age': 77,\n",
              " 'cancer': 191,\n",
              " 'brain': 167,\n",
              " 'exercise': 306,\n",
              " 'often': 591,\n",
              " 't have': 793,\n",
              " 'pizza': 653,\n",
              " 'tomatoes': 882,\n",
              " 'tea': 801,\n",
              " 'getting': 365,\n",
              " 'change': 198,\n",
              " 'leave': 492,\n",
              " 'break': 169,\n",
              " 'hair': 381,\n",
              " 'for your': 340,\n",
              " 'track': 887,\n",
              " 'vitamin': 923,\n",
              " 'dress': 281,\n",
              " 'raw': 683,\n",
              " 'search': 722,\n",
              " 'de': 255,\n",
              " 'beans': 142,\n",
              " 'happy': 385,\n",
              " 'tbsp': 800,\n",
              " 'girl': 366,\n",
              " 'flashvars': 329,\n",
              " 'static': 770,\n",
              " 'app': 107,\n",
              " '00': 1,\n",
              " 'money': 551,\n",
              " 'frosting': 352,\n",
              " 'google': 373,\n",
              " 'coconut': 212}"
            ]
          },
          "metadata": {},
          "execution_count": 50
        }
      ],
      "source": [
        "idf_dtm.vocabulary_"
      ]
    },
    {
      "cell_type": "markdown",
      "source": [
        "### Step 9 - Feature Engineering (Optional)\n",
        "\n",
        "Come up with other features to add, in order to improve the performance of your model!"
      ],
      "metadata": {
        "id": "05uqGLD4BjIO"
      }
    },
    {
      "cell_type": "code",
      "source": [
        "# ToDo: Feature Engineering"
      ],
      "metadata": {
        "id": "ekR0ojN7B3mr"
      },
      "execution_count": null,
      "outputs": []
    },
    {
      "cell_type": "markdown",
      "metadata": {
        "id": "rrdW9rkbhSnj"
      },
      "source": [
        "### Step 10 - Scaling (standardization)\n",
        "\n",
        "Standardize your features!"
      ]
    },
    {
      "cell_type": "code",
      "source": [
        "# TODO: Standardization!\n",
        "# Refer to code from Week 1 Day 2 class notebook!\n",
        "from sklearn.preprocessing import StandardScaler\n",
        "\n",
        "# Reset the index for a clean join\n",
        "dataset = dataset.reset_index(drop=True)\n",
        "\n",
        "# Define your feature list (replace 'feat' with your actual feature list)\n",
        "feat_list = [\"alchemy_category_score\", \"linkwordscore\", \"news_front_page\",\n",
        "             \"spelling_errors_ratio\", \"numberOfLinks\", \"numwords_in_url\"]\n",
        "\n",
        "# Construct the scaler\n",
        "std_scaler = StandardScaler()\n",
        "\n",
        "# Scale the features\n",
        "dataset_scaled_features = std_scaler.fit_transform(dataset[feat_list])\n",
        "\n",
        "# Create a DataFrame with the scaled features\n",
        "dataset_scaled = pd.DataFrame(dataset_scaled_features, columns=feat_list)\n",
        "\n",
        "# Join the scaled features with the dependent variable\n",
        "dataset_scaled = pd.concat([dataset_scaled, dataset[\"label\"]], axis=1)\n",
        "\n",
        "# Display the first few rows of the scaled dataset\n",
        "print(dataset_scaled.head())\n",
        "\n"
      ],
      "metadata": {
        "id": "gdjpDugfBz9t",
        "colab": {
          "base_uri": "https://localhost:8080/"
        },
        "outputId": "b2b0332c-9ecb-4841-ba93-a294968977ec"
      },
      "execution_count": null,
      "outputs": [
        {
          "output_type": "stream",
          "name": "stdout",
          "text": [
            "   alchemy_category_score  linkwordscore  news_front_page  \\\n",
            "0                1.056023      -0.298017        -0.203476   \n",
            "1               -0.165894       0.486615        -0.203476   \n",
            "2                2.234806       1.222208        -0.203476   \n",
            "3                1.124893      -0.298017        -0.203476   \n",
            "4                0.658308      -0.788412        -0.203476   \n",
            "\n",
            "   spelling_errors_ratio  numberOfLinks  numwords_in_url  label  \n",
            "0              -0.278840      -0.048784         0.940134      0  \n",
            "1               0.305801       0.045947         1.249454      1  \n",
            "2              -0.550424       0.441592         1.868095      1  \n",
            "3              -0.004575      -0.327407         0.012172      1  \n",
            "4              -0.235429      -0.093364         1.558775      0  \n"
          ]
        }
      ]
    },
    {
      "cell_type": "markdown",
      "source": [
        "## Modeling!"
      ],
      "metadata": {
        "id": "q00bqYTNzZV2"
      }
    },
    {
      "cell_type": "markdown",
      "source": [
        "### Step 11 - Model Train-Test-Split"
      ],
      "metadata": {
        "id": "I6qXxlouuvRe"
      }
    },
    {
      "cell_type": "markdown",
      "source": [
        "First, we need to split our data set into separate train, validation, and test data sets. We can use a built in method from the sklearn library, `train_test_split` to accomplish this."
      ],
      "metadata": {
        "id": "drJhDEthzkIs"
      }
    },
    {
      "cell_type": "code",
      "source": [
        "# =============================\n",
        "# 1.1 Train-val-test split\n",
        "# =============================\n",
        "\n",
        "# First we will split our dataset into a training and validation set\n",
        "train, val = train_test_split(dataset, test_size= 0.5, train_size= 0.5, random_state= 234)\n",
        "# Then we split our validation dataset into a validation and test data set\n",
        "val, test = train_test_split(val, test_size= 0.5, train_size= 0.5, random_state= 675)\n",
        "\n",
        "# Now we do the same for our idf text feature dataset\n",
        "train_idf_dtm_pca, val_idf_dtm_pca = train_test_split(dataset_idf, test_size= 0.5, train_size= 0.5, random_state= 234)\n",
        "val_idf_dtm_pca, test_idf_dtm_pca = train_test_split(val_idf_dtm_pca, test_size= 0.5, train_size= 0.5, random_state= 675)"
      ],
      "metadata": {
        "id": "Sy3_BZe2EE-J"
      },
      "execution_count": null,
      "outputs": []
    },
    {
      "cell_type": "markdown",
      "source": [
        "### Step 12 - Classification/Regression"
      ],
      "metadata": {
        "id": "lspX3e0nRxAm"
      }
    },
    {
      "cell_type": "markdown",
      "source": [
        "Now that we have our train, validation, and test sets, we can start modeling! We'll test out a few different types of models and compare their performance."
      ],
      "metadata": {
        "id": "upfvvxtv0cpt"
      }
    },
    {
      "cell_type": "markdown",
      "source": [
        "#### **Exercise 5**\n",
        "\n",
        "Fit the following types of models, make predictions on the test data set and evaluate their performance using AUC as a metric:\n",
        "\n",
        "\n",
        "1.   Logistic regression\n",
        "2.   Gradient boosting cliassifier\n",
        "3.   Random forest classifier using the none-text features\n",
        "4.   Random forest classifier using the idf text features\n",
        "\n"
      ],
      "metadata": {
        "id": "j8v8pwuy1743"
      }
    },
    {
      "cell_type": "code",
      "source": [
        "# =====================================\n",
        "# Baseline Model: Logistic Regression\n",
        "# =====================================\n",
        "logReg = LogisticRegression()\n",
        "logReg.fit(train[feat_list], train[\"label\"])\n",
        "logReg_test = logReg.predict_proba(test[feat_list])[:, 1]\n",
        "\n",
        "# Show the AUC score for the baseline logistic regression model\n",
        "print(\"Baseline logistic performance: \" + str(np.round(roc_auc_score(test[\"label\"], logReg_test), 5)))\n"
      ],
      "metadata": {
        "id": "ehlLVIBK39hE",
        "colab": {
          "base_uri": "https://localhost:8080/"
        },
        "outputId": "0218d20e-97dc-4137-f339-dfc1cacbc4fd"
      },
      "execution_count": null,
      "outputs": [
        {
          "output_type": "stream",
          "name": "stdout",
          "text": [
            "Baseline logistic performance: 0.64315\n"
          ]
        }
      ]
    },
    {
      "cell_type": "code",
      "source": [
        "# =================\n",
        "# GBM Classifier\n",
        "# =================\n",
        "\n",
        "gbm1 = GradientBoostingClassifier()\n",
        "# TODO: fit GB Model\n",
        "gbm1.fit(train[feat_list], train[\"label\"])\n",
        "\n",
        "gbm1_val = gbm1.predict_proba(val[feat_list])[:, 1]\n",
        "\n",
        "# Show the AUC score for the GBM\n",
        "print(\"Baselin GBM performance: \" + str(np.round(roc_auc_score(val[\"label\"], gbm1_val), 5)))"
      ],
      "metadata": {
        "id": "v2V3xPhAPDKc",
        "colab": {
          "base_uri": "https://localhost:8080/"
        },
        "outputId": "f83d1dd6-b8d8-44f3-d488-af9b145d3855"
      },
      "execution_count": null,
      "outputs": [
        {
          "output_type": "stream",
          "name": "stdout",
          "text": [
            "Baselin GBM performance: 0.68307\n"
          ]
        }
      ]
    },
    {
      "cell_type": "code",
      "source": [
        "# ==============================\n",
        "# Random Forest - Base Features\n",
        "# ==============================\n",
        "\n",
        "# For the first RF model, we will train it using the base features\n",
        "rf1 = RandomForestClassifier()\n",
        "# TODO: fit Random Forest Model using base features\n",
        "rf1.fit(train[feat_list], train[\"label\"])\n",
        "\n",
        "rf1_val = rf1.predict_proba(val[feat_list])[:, 1]\n",
        "\n",
        "# Show the AUC score for the first RF model\n",
        "print(\"RF Performance (Base Feats): \" + str(np.round(roc_auc_score(val[\"label\"], rf1_val), 5)))"
      ],
      "metadata": {
        "id": "Fd0QaeznEpSG",
        "colab": {
          "base_uri": "https://localhost:8080/"
        },
        "outputId": "096bd84e-4398-4e20-d994-6d135db57acb"
      },
      "execution_count": null,
      "outputs": [
        {
          "output_type": "stream",
          "name": "stdout",
          "text": [
            "RF Performance (Base Feats): 0.66649\n"
          ]
        }
      ]
    },
    {
      "cell_type": "code",
      "source": [
        "# ==============================\n",
        "# Random Forest - IDF Features\n",
        "# ==============================\n",
        "\n",
        "# Now we will create another random forest using idf text features\n",
        "rf2 = RandomForestClassifier()\n",
        "rf2.fit(train_idf_dtm_pca.drop(\"label\", axis=1), train_idf_dtm_pca[\"label\"])\n",
        "\n",
        "rf2_val = rf2.predict_proba(val_idf_dtm_pca.drop(\"label\", axis=1))[:, 1]\n",
        "\n",
        "# Show the AUC score for the second RF model\n",
        "print(\"RF Performance IDF-PCA: \" + str(np.round(roc_auc_score(val[\"label\"], rf2_val), 5)))"
      ],
      "metadata": {
        "id": "Hc7HNbOSh4Va",
        "colab": {
          "base_uri": "https://localhost:8080/"
        },
        "outputId": "5afdf6dc-b189-4c17-f2b1-8b6ef62c11ce"
      },
      "execution_count": null,
      "outputs": [
        {
          "output_type": "stream",
          "name": "stdout",
          "text": [
            "RF Performance IDF-PCA: 0.85418\n"
          ]
        }
      ]
    },
    {
      "cell_type": "markdown",
      "source": [
        "## Model Validation"
      ],
      "metadata": {
        "id": "E4F2jF2VuXAU"
      }
    },
    {
      "cell_type": "markdown",
      "source": [
        "### Step 13 - Validation Prep\n",
        "\n",
        "**Run this cell before proceeding.** It will make sure you are correctly set up for the validation exercises."
      ],
      "metadata": {
        "id": "kjpjti3yPv_B"
      }
    },
    {
      "cell_type": "code",
      "source": [
        "# RUN THIS CELL BEFORE PROCEEDING\n",
        "\n",
        "dataset = pd.read_table(\"gsl-uruguay/content/w1d2/train.tsv\", sep= \"\\t\")\n",
        "\n",
        "dataset = dataset.replace(\"?\", np.nan)\n",
        "dataset[[\"alchemy_category_score\", \"is_news\", \"news_front_page\"]] = dataset[[\"alchemy_category_score\",\n",
        "                                                                         \"is_news\", \"news_front_page\"]].astype(float)\n",
        "\n",
        "# ==========================================\n",
        "# 1.1 Train-val-test split\n",
        "# This is very important for generalizability\n",
        "# ==========================================\n",
        "\n",
        "train, val = train_test_split(dataset, test_size= 0.5, train_size= 0.5, random_state= 234)\n",
        "val, test = train_test_split(val, test_size= 0.5, train_size= 0.5, random_state= 675)\n",
        "\n",
        "       # use numeric variables with missing values imputed\n",
        "feat = [\"avglinksize\", \"commonlinkratio_1\", \"commonlinkratio_2\", \"commonlinkratio_3\", \"commonlinkratio_4\",\n",
        "        \"compression_ratio\", \"embed_ratio\", \"framebased\", \"frameTagRatio\", \"hasDomainLink\", \"html_ratio\",\n",
        "        \"image_ratio\", \"lengthyLinkDomain\", \"linkwordscore\", \"non_markup_alphanum_characters\", \"numberOfLinks\",\n",
        "        \"numwords_in_url\", \"parametrizedLinkRatio\",\"spelling_errors_ratio\", \"alchemy_category_score\",\n",
        "        \"al_cat__M\", \"al_cat_arts_entertainment\", \"al_cat_business\", \"al_cat_computer_internet\",\n",
        "        \"al_cat_culture_politics\", \"al_cat_gaming\", \"al_cat_health\", \"al_cat_law_crime\", \"al_cat_recreation\",\n",
        "        \"al_cat_religion\", \"al_cat_science_technology\", \"al_cat_sports\"]\n",
        "\n",
        "# ==============================================\n",
        "# Prep for modeling\n",
        "# ==============================================\n",
        "\n",
        "## FROM DAY BEFORE YESTERDAY\n",
        "#\n",
        "# =============================\n",
        "# 2.1 Feature Engineering\n",
        "# =============================\n",
        "\n",
        "# =============================\n",
        "# 2.1.1 Variables with missing\n",
        "#     values\n",
        "# =============================\n",
        "\n",
        "train[\"alchemy_category_score\"] = train[\"alchemy_category_score\"].fillna(np.mean(train[\"alchemy_category_score\"]))\n",
        "val[\"alchemy_category_score\"] = val[\"alchemy_category_score\"].fillna(np.mean(train[\"alchemy_category_score\"]))\n",
        "test[\"alchemy_category_score\"] = test[\"alchemy_category_score\"].fillna(np.mean(train[\"alchemy_category_score\"]))\n",
        "train[\"is_news\"] = train[\"is_news\"].fillna(0)\n",
        "train[\"news_front_page\"] = train[\"news_front_page\"].fillna(2)\n",
        "\n",
        "# =============================\n",
        "# 2.1.2 Categorical variables\n",
        "# =============================\n",
        "\n",
        "# impute missing values as separate category\n",
        "train[\"alchemy_category\"] = train[\"alchemy_category\"].fillna(\"_M\")\n",
        "val[\"alchemy_category\"] = val[\"alchemy_category\"].fillna(\"_M\")\n",
        "test[\"alchemy_category\"] = test[\"alchemy_category\"].fillna(\"_M\")\n",
        "\n",
        "# dummy variables for all categories\n",
        "alch_train = pd.get_dummies(train[\"alchemy_category\"], prefix= \"al_cat\")\n",
        "alch_val = pd.get_dummies(val[\"alchemy_category\"], prefix= \"al_cat\")\n",
        "alch_test = pd.get_dummies(test[\"alchemy_category\"], prefix= \"al_cat\")\n",
        "train = train.join(alch_train)\n",
        "val = val.join(alch_val)\n",
        "test= test.join(alch_test)\n",
        "\n",
        "## FROM YESTERDAY\n",
        "#\n",
        "#=============================\n",
        "# 2.2 Text features\n",
        "# =============================\n",
        "\n",
        "# Preform TFIDF vectorization\n",
        "idf_dtm = TfidfVectorizer(min_df= 10,  max_features= None, strip_accents= \"unicode\",\n",
        "                          analyzer= \"word\", token_pattern= r\"\\w{1,}\", ngram_range=(1, 2),\n",
        "                          use_idf= 1, smooth_idf= 1, sublinear_tf= 1)\n",
        "idf_dtm.fit(train[\"boilerplate\"])\n",
        "\n",
        "train_idf_dtm = idf_dtm.transform(train[\"boilerplate\"])\n",
        "val_idf_dtm = idf_dtm.transform(val[\"boilerplate\"])\n",
        "test_idf_dtm = idf_dtm.transform(test[\"boilerplate\"])\n",
        "\n",
        "# ==================================\n",
        "# 2.2.1 Dimension reduction -- PCA\n",
        "# ==================================\n",
        "\n",
        "# Let's fit our model with 100 components\n",
        "rpca = PCA(n_components = 100, random_state = 8795, svd_solver = \"randomized\")\n",
        "rpca.fit(train_idf_dtm.toarray())\n",
        "\n",
        "# Now we transform our dataset\n",
        "train_idf_dtm_pca = rpca.transform(train_idf_dtm.toarray())\n",
        "val_idf_dtm_pca = rpca.transform(val_idf_dtm.toarray())\n",
        "test_idf_dtm_pca = rpca.transform(test_idf_dtm.toarray())\n",
        "print(\" --- \")\n",
        "print(train_idf_dtm_pca.shape); print(val_idf_dtm_pca.shape); print(test_idf_dtm_pca.shape)\n",
        "print(\" --- \")\n",
        "\n",
        "# Join the TFIDF-PCA features with the base features in a single dataframe for train, val and test\n",
        "train_feat_combine = train[feat].join(pd.DataFrame(train_idf_dtm_pca, index= train.index))\n",
        "val_feat_combine = val[feat].join(pd.DataFrame(val_idf_dtm_pca, index= val.index))\n",
        "test_feat_combine = test[feat].join(pd.DataFrame(test_idf_dtm_pca, index= test.index))"
      ],
      "metadata": {
        "id": "VAavrvc838rT",
        "colab": {
          "base_uri": "https://localhost:8080/"
        },
        "outputId": "5ac44891-db11-4399-ae2b-907b40f0cb93"
      },
      "execution_count": null,
      "outputs": [
        {
          "output_type": "stream",
          "name": "stdout",
          "text": [
            " --- \n",
            "(3697, 100)\n",
            "(1849, 100)\n",
            "(1849, 100)\n",
            " --- \n"
          ]
        }
      ]
    },
    {
      "cell_type": "markdown",
      "source": [
        "### Step 14 - Accuracy, Precision, and Recall\n",
        "\n",
        "NOw we will create a function that calculates various performance metrics for the Gradient Boosting Classifier, including Accuracy, Precision and Recall for the  with tf-idf as well as combined features. This function also generates generate F1 score and AUROC, which are provided for you.\n",
        "\n",
        "***(OPTIONAL)*** Do the same for the other models that we explored: Random Forest, Ensemble Learning etc. Assess which models are better for which metric and what that means for them in terms of their False Positive vs False Negative rate."
      ],
      "metadata": {
        "id": "rHCCYV_XM0_j"
      }
    },
    {
      "cell_type": "markdown",
      "source": [
        "#### **Exercise 6**\n",
        "\n",
        "Complete the `gbm_metrics` function below. You will need to use predefined functions from the sklearn library to calculate accuracy, precision, and recall scores. Note that these have already been imported for you in Step 1 of this notebook."
      ],
      "metadata": {
        "id": "FCHnitVdC_iL"
      }
    },
    {
      "cell_type": "code",
      "source": [
        "def gbm_metrics(train_feats, val_feats, train, val):\n",
        "    \"\"\"\n",
        "    Calculate accuracy, precision, recall, F1 score, and AUC for a Gradient Boosting Model.\n",
        "\n",
        "    Parameters:\n",
        "    - train_feats: Features for training (DataFrame or sparse matrix)\n",
        "    - val_feats: Features for validation (DataFrame or sparse matrix)\n",
        "    - train: Training dataset with labels\n",
        "    - val: Validation dataset with labels\n",
        "\n",
        "    Returns:\n",
        "    - List of metrics: [accuracy, precision, recall, f1, auc]\n",
        "    \"\"\"\n",
        "    # Convert features to DataFrames if they are sparse matrices\n",
        "    if isinstance(train_feats, csr_matrix):\n",
        "        train_feats = pd.DataFrame(train_feats.toarray())\n",
        "    if isinstance(val_feats, csr_matrix):\n",
        "        val_feats = pd.DataFrame(val_feats.toarray())\n",
        "\n",
        "    gbm = GradientBoostingClassifier()\n",
        "    gbm.fit(train_feats, train[\"label\"])\n",
        "\n",
        "    gbm_predictions = pd.Series(gbm.predict(val_feats), name='Predicted Class')\n",
        "    gbm_pred_proba = pd.Series(gbm.predict_proba(val_feats)[:, 1])\n",
        "\n",
        "    gbm_truelabel = pd.Series(val[\"label\"].values, name='True Class')\n",
        "\n",
        "    acc = accuracy_score(gbm_truelabel, gbm_predictions)\n",
        "    prec = precision_score(gbm_truelabel, gbm_predictions)\n",
        "    recall = recall_score(gbm_truelabel, gbm_predictions)\n",
        "    f1 = f1_score(gbm_truelabel, gbm_predictions)\n",
        "    auc = roc_auc_score(gbm_truelabel, gbm_pred_proba)\n",
        "\n",
        "    return [acc, prec, recall, f1, auc]\n"
      ],
      "metadata": {
        "id": "qkhvulNWN8dA"
      },
      "execution_count": null,
      "outputs": []
    },
    {
      "cell_type": "code",
      "source": [
        "print('GBM combined feats: \\nAcc: %.3f, Prec: %.3f, Recall: %.3f, F1: %.3f, AUC: %.3f'%(metrics_gbm_combinedfeats[0],\n",
        "                                                                                        metrics_gbm_combinedfeats[1],\n",
        "                                                                                        metrics_gbm_combinedfeats[2],\n",
        "                                                                                        metrics_gbm_combinedfeats[3],\n",
        "                                                                                        metrics_gbm_combinedfeats[4]))\n",
        "\n",
        "print('GBM tf-idf feats: \\nAcc: %.3f, Prec: %.3f, Recall: %.3f, F1: %.3f, AUC: %.3f'%(metrics_gbm_idfdtmfeats[0],\n",
        "                                                                                        metrics_gbm_idfdtmfeats[1],\n",
        "                                                                                        metrics_gbm_idfdtmfeats[2],\n",
        "                                                                                        metrics_gbm_idfdtmfeats[3],\n",
        "                                                                                        metrics_gbm_idfdtmfeats[4]))"
      ],
      "metadata": {
        "id": "8egaSel-P9av",
        "colab": {
          "base_uri": "https://localhost:8080/"
        },
        "outputId": "a41dc720-5039-492a-b541-e9e5f96cd185"
      },
      "execution_count": null,
      "outputs": [
        {
          "output_type": "stream",
          "name": "stdout",
          "text": [
            "GBM combined feats: \n",
            "Acc: 0.804, Prec: 0.821, Recall: 0.782, F1: 0.801, AUC: 0.869\n",
            "GBM tf-idf feats: \n",
            "Acc: 0.787, Prec: 0.850, Recall: 0.700, F1: 0.768, AUC: 0.851\n"
          ]
        }
      ]
    },
    {
      "cell_type": "markdown",
      "source": [
        "The rest of the models are very similar to the above and the model development learned on Day 3. Practice creating similar function for other types of models to develop your understanding of the metrics calculations.\n",
        "\n",
        "Finally, compare the different metric numbers for each of the models. Make sure when you compare the models you are comparing the different metrics in terms of False Positives vs False Negatives.\n",
        "\n",
        "***Which of the metrics is a better represention of FP vs FN? Also what do you think about AUC?***\n",
        "\n",
        "The Precision is a good representation of False Positives.\n",
        "The Recall is a good representation of False Negatives.\n",
        "The AUC provides an overall measure of model performance.\n",
        "Choosing between models based on these metrics: If the cost of false positives is high, we might prioritize precision; if the cost of false negatives is high, we might prioritize recall. AUC is useful for an overall assessment of model performance."
      ],
      "metadata": {
        "id": "W2vXjFNF_y_O"
      }
    },
    {
      "cell_type": "markdown",
      "source": [
        "### Step 15 - AUROC Curve\n",
        "\n",
        "Look into the AUROC curve, related to but different from the AUROC score introduced yesterday. Plot the AUROC curve for Logistic Regression model with tf-idf features. You may do the same for other features and other models, as listed in Exercise 1. For faster generation, you may want to define a function for the same."
      ],
      "metadata": {
        "id": "d1X32tN2NEpZ"
      }
    },
    {
      "cell_type": "code",
      "source": [
        "# auc_plotting creates a ROC plot for a provided model given the following inputs:\n",
        "#   * model = a model's class constructor (i.e. LinearRegression())\n",
        "#   * model_name = your string name for the type of model you are testing\n",
        "#   * train_feats = a dataframe containing all of the features to be used in training\n",
        "#   * val_feats = a dataframe containing all of the features to be used in validation\n",
        "#   * train = a dataframe contaning the basic features we used for training data, before adding in IDF/PCA features\n",
        "#   * val = a dataframe contaning the basic features we used for validation data, before adding in IDF/PCA features\n",
        "\n",
        "def auc_plotting(model, model_name, train_feats, val_feats, train, val):\n",
        "  model.fit(train_feats, train[\"label\"]) # fit logistic regression\n",
        "\n",
        "  model_score = pd.Series(model.predict_proba(val_feats)[:,1], name = 'Predicted Scores') # make predictions with the model: 0 or 1\n",
        "  model_truelabel = pd.Series(val[\"label\"].values, name='True Class') # convert true label to series with a name\n",
        "  fp_rate, tp_rate, threshold = roc_curve(model_truelabel, model_score)\n",
        "\n",
        "  print('AUROC score for Logistic Regression: ', roc_auc_score(model_truelabel, model_score)) # show the AUC score for the model\n",
        "\n",
        "  # plot the ROC curve\n",
        "  plt.subplots(1, figsize=(5,5))\n",
        "  plt.title('Receiver Operating Characteristic - %s'%model_name)\n",
        "  plt.plot(fp_rate, tp_rate)\n",
        "  plt.plot([0, 1], ls=\"--\")\n",
        "  plt.plot([0, 0], [1, 0] , c=\".7\"), plt.plot([1, 1] , c=\".7\")\n",
        "  plt.ylabel('True Positive Rate')\n",
        "  plt.xlabel('False Positive Rate')\n",
        "  plt.show()"
      ],
      "metadata": {
        "id": "Ax_RPujvPelB"
      },
      "execution_count": null,
      "outputs": []
    },
    {
      "cell_type": "markdown",
      "source": [
        "#### **Exercise 7**\n",
        "\n",
        "Use the `auc_plotting` function defined above to plot the ROC curve for:\n",
        "\n",
        "\n",
        "*   A logistic regression model\n",
        "*   A gradient boosting classifier\n",
        "*   A random forest\n",
        "\n",
        "Use the `train_feat_combine` and `val_feat_combine` data sets for this exercise.\n",
        "\n"
      ],
      "metadata": {
        "id": "kuyWYl9OA4MN"
      }
    },
    {
      "cell_type": "code",
      "source": [
        "# TODO: use the auc_plotting function defined above to plot an auc_roc curve for a Logistic Regression Model\n",
        "# TODO: use the auc_plotting function defined above to plot an auc_roc curve for a Gradient Boosting Classifier\n",
        "# TODO: use the auc_plotting function defined above to plot an auc_roc curve for a Random Forest Classifier\n",
        "\n",
        "# Create instances of the models\n",
        "logreg_model = LogisticRegression()\n",
        "gbm_model = GradientBoostingClassifier()\n",
        "rf_model = RandomForestClassifier()\n",
        "\n",
        "# Plot ROC curves for each model\n",
        "auc_plotting(logreg_model, \"Logistic Regression\", train_feat_combine, val_feat_combine, train, val)\n",
        "auc_plotting(gbm_model, \"Gradient Boosting Classifier\", train_feat_combine, val_feat_combine, train, val)\n",
        "auc_plotting(rf_model, \"Random Forest\", train_feat_combine, val_feat_combine, train, val)\n"
      ],
      "metadata": {
        "id": "NRak8JbvQT_V",
        "colab": {
          "base_uri": "https://localhost:8080/",
          "height": 1000
        },
        "outputId": "f4229167-75a8-4b62-cf95-9b2ec3bd8e3d"
      },
      "execution_count": null,
      "outputs": [
        {
          "output_type": "stream",
          "name": "stdout",
          "text": [
            "AUROC score for Logistic Regression:  0.6886427085454064\n"
          ]
        },
        {
          "output_type": "display_data",
          "data": {
            "text/plain": [
              "<Figure size 500x500 with 1 Axes>"
            ],
            "image/png": "[encoded data removed]"
          },
          "metadata": {}
        },
        {
          "output_type": "stream",
          "name": "stdout",
          "text": [
            "AUROC score for Logistic Regression:  0.8688481240449396\n"
          ]
        },
        {
          "output_type": "display_data",
          "data": {
            "text/plain": [
              "<Figure size 500x500 with 1 Axes>"
            ],
            "image/png": "[encoded data removed]"
          },
          "metadata": {}
        },
        {
          "output_type": "stream",
          "name": "stdout",
          "text": [
            "AUROC score for Logistic Regression:  0.8664073816661167\n"
          ]
        },
        {
          "output_type": "display_data",
          "data": {
            "text/plain": [
              "<Figure size 500x500 with 1 Axes>"
            ],
            "image/png": "[encoded data removed]"
          },
          "metadata": {}
        }
      ]
    },
    {
      "cell_type": "markdown",
      "source": [
        "**Question:** Based on the curves that you plotted above, which model is the best? How do you know?"
      ],
      "metadata": {
        "id": "odJmL428BPsA"
      }
    },
    {
      "cell_type": "markdown",
      "source": [
        "The best model can be determined based on the area under the ROC curve (AUC). The AUC provides a measure of the model's ability to distinguish between positive and negative instances.\n",
        "The highest is Gradient Boosting Classifier: 0.8688"
      ],
      "metadata": {
        "id": "jsh9a9BVBYPX"
      }
    }
  ],
  "metadata": {
    "colab": {
      "provenance": [],
      "include_colab_link": true
    },
    "kernelspec": {
      "display_name": "Python 3",
      "name": "python3"
    },
    "language_info": {
      "name": "python"
    }
  },
  "nbformat": 4,
  "nbformat_minor": 0
}